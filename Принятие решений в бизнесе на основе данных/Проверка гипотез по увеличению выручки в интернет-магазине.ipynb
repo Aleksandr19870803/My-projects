{
 "cells": [
  {
   "cell_type": "markdown",
   "metadata": {},
   "source": [
    "# Принятие решений в бизнесе на основе данных\n",
    "### Описание данных:\n",
    "\n",
    "- Данные для первой части:\n",
    "\n",
    "  - Файл /datasets/hypothesis.csv\n",
    "    - Hypothesis — краткое описание гипотезы;\n",
    "    - Reach — охват пользователей по 10-балльной шкале;\n",
    "    - Impact — влияние на пользователей по 10-балльной шкале;\n",
    "    - Confidence — уверенность в гипотезе по 10-балльной шкале;\n",
    "    - Efforts — затраты ресурсов на проверку гипотезы по 10-балльной шкале. Чем больше значение  - Efforts, тем дороже проверка гипотезы.\n",
    "\n",
    "- Данные для второй части:\n",
    "\n",
    "  - Файл /datasets/orders.csv\n",
    "    - transactionId — идентификатор заказа;\n",
    "    - visitorId — идентификатор пользователя, совершившего заказ;\n",
    "    - date — дата, когда был совершён заказ;\n",
    "    - revenue — выручка заказа;\n",
    "    - group — группа A/B-теста, в которую попал заказ.\n",
    "  \n",
    "  - Файл /datasets/visitors.csv\n",
    "    - date — дата;\n",
    "    - group — группа A/B-теста;\n",
    "    - visitors — количество пользователей в указанную дату в указанной группе A/B-теста"
   ]
  },
  {
   "cell_type": "markdown",
   "metadata": {},
   "source": [
    "### Описание проекта:\n",
    "#### Часть 1. Приоритизация гипотез.\n",
    "- В файле /datasets/hypothesis.csv 9 гипотез по увеличению выручки интернет-магазина с указанными параметрами Reach, Impact, Confidence, Effort.\n",
    "- Задача:\n",
    "  - Применить фреймворк ICE для приоритизации гипотез. Отсортируйте их по убыванию приоритета.\n",
    "  - Применить фреймворк RICE для приоритизации гипотез. Отсортируйте их по убыванию приоритета.\n",
    "  - Указать, как изменилась приоритизация гипотез при применении RICE вместо ICE"
   ]
  },
  {
   "cell_type": "markdown",
   "metadata": {},
   "source": [
    "#### Часть 2. Анализ A/B-теста . \n",
    "- Вы провели A/B-тест и получили результаты, которые описаны в файлах /datasets/orders.csv и /datasets/visitors.csv\n",
    "- Задача:\n",
    "  - Построить график кумулятивной выручки по группам. Сделайте выводы и предположения.\n",
    "  - Построить график кумулятивного среднего чека по группам. Сделайте выводы и предположения.\n",
    "  - Построить график относительного изменения кумулятивного среднего чека группы B к группе A. Сделайте выводы и предположения.\n",
    "  - Построить график кумулятивной конверсии по группам. Сделайте выводы и предположения.\n",
    "  - Построить график относительного изменения кумулятивной конверсии группы B к группе A. Сделайте выводы и предположения.\n",
    "  - Построить точечный график количества заказов по пользователям. Сделайте выводы и предположения.\n",
    "  - Посчитать 95-й и 99-й перцентили количества заказов на пользователя. Выберите границу для определения аномальных пользователей.\n",
    "  - Посчитать точечный график стоимостей заказов. Сделайте выводы и предположения.\n",
    "  - Посчитать 95-й и 99-й перцентили стоимости заказов. Выберите границу для определения аномальных заказов.\n",
    "  - Посчитать статистическую значимость различий в конверсии между группами по «сырым» данным. Сделайте выводы и предположения.\n",
    "  - Посчитать статистическую значимость различий в среднем чеке заказа между группами по «сырым» данным. Сделайте выводы и предположения.\n",
    "  - Посчитать статистическую значимость различий в конверсии между группами по «очищенным» данным. Сделайте выводы и предположения.\n",
    "  - Посчитать статистическую значимость различий в среднем чеке заказа между группами по «очищенным» данным. Сделайте выводы и предположения."
   ]
  },
  {
   "cell_type": "markdown",
   "metadata": {},
   "source": [
    "## Загрузить данные и подготовить их к анализу"
   ]
  },
  {
   "cell_type": "code",
   "execution_count": 1,
   "metadata": {},
   "outputs": [],
   "source": [
    "import pandas as pd\n",
    "import numpy as np\n",
    "import scipy.stats as stats\n",
    "import datetime as dt\n",
    "import matplotlib.pyplot as plt\n",
    "\n",
    "hypothesis = pd.read_csv('/datasets/hypothesis.csv')\n",
    "\n",
    "orders = pd.read_csv('/datasets/orders.csv')\n",
    "\n",
    "visitors = pd.read_csv('/datasets/visitors.csv')"
   ]
  },
  {
   "cell_type": "code",
   "execution_count": 2,
   "metadata": {},
   "outputs": [],
   "source": [
    "def df_info(data):\n",
    "    data\n",
    "    print('Общая информация')\n",
    "    print('-'*52)\n",
    "    print(data.info())\n",
    "    print('-'*52)\n",
    "    print('Статистика датафрейма')\n",
    "    print('-'*52)\n",
    "    print(data.describe())\n",
    "    print('-'*52)\n",
    "    print('Наличие дубликатов')\n",
    "    print(data.duplicated().sum())\n",
    "    print('-'*52)\n",
    "    print('Наличие пропусков')\n",
    "    print('-'*52)\n",
    "    print(data.isna().sum())"
   ]
  },
  {
   "cell_type": "code",
   "execution_count": 3,
   "metadata": {},
   "outputs": [
    {
     "data": {
      "text/html": [
       "<div>\n",
       "<style scoped>\n",
       "    .dataframe tbody tr th:only-of-type {\n",
       "        vertical-align: middle;\n",
       "    }\n",
       "\n",
       "    .dataframe tbody tr th {\n",
       "        vertical-align: top;\n",
       "    }\n",
       "\n",
       "    .dataframe thead th {\n",
       "        text-align: right;\n",
       "    }\n",
       "</style>\n",
       "<table border=\"1\" class=\"dataframe\">\n",
       "  <thead>\n",
       "    <tr style=\"text-align: right;\">\n",
       "      <th></th>\n",
       "      <th>Hypothesis</th>\n",
       "      <th>Reach</th>\n",
       "      <th>Impact</th>\n",
       "      <th>Confidence</th>\n",
       "      <th>Efforts</th>\n",
       "    </tr>\n",
       "  </thead>\n",
       "  <tbody>\n",
       "    <tr>\n",
       "      <td>0</td>\n",
       "      <td>Добавить два новых канала привлечения трафика,...</td>\n",
       "      <td>3</td>\n",
       "      <td>10</td>\n",
       "      <td>8</td>\n",
       "      <td>6</td>\n",
       "    </tr>\n",
       "    <tr>\n",
       "      <td>1</td>\n",
       "      <td>Запустить собственную службу доставки, что сок...</td>\n",
       "      <td>2</td>\n",
       "      <td>5</td>\n",
       "      <td>4</td>\n",
       "      <td>10</td>\n",
       "    </tr>\n",
       "    <tr>\n",
       "      <td>2</td>\n",
       "      <td>Добавить блоки рекомендаций товаров на сайт ин...</td>\n",
       "      <td>8</td>\n",
       "      <td>3</td>\n",
       "      <td>7</td>\n",
       "      <td>3</td>\n",
       "    </tr>\n",
       "    <tr>\n",
       "      <td>3</td>\n",
       "      <td>Изменить структура категорий, что увеличит кон...</td>\n",
       "      <td>8</td>\n",
       "      <td>3</td>\n",
       "      <td>3</td>\n",
       "      <td>8</td>\n",
       "    </tr>\n",
       "    <tr>\n",
       "      <td>4</td>\n",
       "      <td>Изменить цвет фона главной страницы, чтобы уве...</td>\n",
       "      <td>3</td>\n",
       "      <td>1</td>\n",
       "      <td>1</td>\n",
       "      <td>1</td>\n",
       "    </tr>\n",
       "    <tr>\n",
       "      <td>5</td>\n",
       "      <td>Добавить страницу отзывов клиентов о магазине,...</td>\n",
       "      <td>3</td>\n",
       "      <td>2</td>\n",
       "      <td>2</td>\n",
       "      <td>3</td>\n",
       "    </tr>\n",
       "    <tr>\n",
       "      <td>6</td>\n",
       "      <td>Показать на главной странице баннеры с актуаль...</td>\n",
       "      <td>5</td>\n",
       "      <td>3</td>\n",
       "      <td>8</td>\n",
       "      <td>3</td>\n",
       "    </tr>\n",
       "    <tr>\n",
       "      <td>7</td>\n",
       "      <td>Добавить форму подписки на все основные страни...</td>\n",
       "      <td>10</td>\n",
       "      <td>7</td>\n",
       "      <td>8</td>\n",
       "      <td>5</td>\n",
       "    </tr>\n",
       "    <tr>\n",
       "      <td>8</td>\n",
       "      <td>Запустить акцию, дающую скидку на товар в день...</td>\n",
       "      <td>1</td>\n",
       "      <td>9</td>\n",
       "      <td>9</td>\n",
       "      <td>5</td>\n",
       "    </tr>\n",
       "  </tbody>\n",
       "</table>\n",
       "</div>"
      ],
      "text/plain": [
       "                                          Hypothesis  Reach  Impact  \\\n",
       "0  Добавить два новых канала привлечения трафика,...      3      10   \n",
       "1  Запустить собственную службу доставки, что сок...      2       5   \n",
       "2  Добавить блоки рекомендаций товаров на сайт ин...      8       3   \n",
       "3  Изменить структура категорий, что увеличит кон...      8       3   \n",
       "4  Изменить цвет фона главной страницы, чтобы уве...      3       1   \n",
       "5  Добавить страницу отзывов клиентов о магазине,...      3       2   \n",
       "6  Показать на главной странице баннеры с актуаль...      5       3   \n",
       "7  Добавить форму подписки на все основные страни...     10       7   \n",
       "8  Запустить акцию, дающую скидку на товар в день...      1       9   \n",
       "\n",
       "   Confidence  Efforts  \n",
       "0           8        6  \n",
       "1           4       10  \n",
       "2           7        3  \n",
       "3           3        8  \n",
       "4           1        1  \n",
       "5           2        3  \n",
       "6           8        3  \n",
       "7           8        5  \n",
       "8           9        5  "
      ]
     },
     "execution_count": 3,
     "metadata": {},
     "output_type": "execute_result"
    }
   ],
   "source": [
    "hypothesis"
   ]
  },
  {
   "cell_type": "code",
   "execution_count": 4,
   "metadata": {
    "scrolled": false
   },
   "outputs": [
    {
     "name": "stdout",
     "output_type": "stream",
     "text": [
      "Общая информация\n",
      "----------------------------------------------------\n",
      "<class 'pandas.core.frame.DataFrame'>\n",
      "RangeIndex: 9 entries, 0 to 8\n",
      "Data columns (total 5 columns):\n",
      "Hypothesis    9 non-null object\n",
      "Reach         9 non-null int64\n",
      "Impact        9 non-null int64\n",
      "Confidence    9 non-null int64\n",
      "Efforts       9 non-null int64\n",
      "dtypes: int64(4), object(1)\n",
      "memory usage: 488.0+ bytes\n",
      "None\n",
      "----------------------------------------------------\n",
      "Статистика датафрейма\n",
      "----------------------------------------------------\n",
      "           Reach     Impact  Confidence    Efforts\n",
      "count   9.000000   9.000000    9.000000   9.000000\n",
      "mean    4.777778   4.777778    5.555556   4.888889\n",
      "std     3.153481   3.192874    3.045944   2.803767\n",
      "min     1.000000   1.000000    1.000000   1.000000\n",
      "25%     3.000000   3.000000    3.000000   3.000000\n",
      "50%     3.000000   3.000000    7.000000   5.000000\n",
      "75%     8.000000   7.000000    8.000000   6.000000\n",
      "max    10.000000  10.000000    9.000000  10.000000\n",
      "----------------------------------------------------\n",
      "Наличие дубликатов\n",
      "0\n",
      "----------------------------------------------------\n",
      "Наличие пропусков\n",
      "----------------------------------------------------\n",
      "Hypothesis    0\n",
      "Reach         0\n",
      "Impact        0\n",
      "Confidence    0\n",
      "Efforts       0\n",
      "dtype: int64\n"
     ]
    }
   ],
   "source": [
    "df_info(hypothesis)"
   ]
  },
  {
   "cell_type": "code",
   "execution_count": 5,
   "metadata": {},
   "outputs": [
    {
     "data": {
      "text/html": [
       "<div>\n",
       "<style scoped>\n",
       "    .dataframe tbody tr th:only-of-type {\n",
       "        vertical-align: middle;\n",
       "    }\n",
       "\n",
       "    .dataframe tbody tr th {\n",
       "        vertical-align: top;\n",
       "    }\n",
       "\n",
       "    .dataframe thead th {\n",
       "        text-align: right;\n",
       "    }\n",
       "</style>\n",
       "<table border=\"1\" class=\"dataframe\">\n",
       "  <thead>\n",
       "    <tr style=\"text-align: right;\">\n",
       "      <th></th>\n",
       "      <th>transactionId</th>\n",
       "      <th>visitorId</th>\n",
       "      <th>date</th>\n",
       "      <th>revenue</th>\n",
       "      <th>group</th>\n",
       "    </tr>\n",
       "  </thead>\n",
       "  <tbody>\n",
       "    <tr>\n",
       "      <td>0</td>\n",
       "      <td>3667963787</td>\n",
       "      <td>3312258926</td>\n",
       "      <td>2019-08-15</td>\n",
       "      <td>1650</td>\n",
       "      <td>B</td>\n",
       "    </tr>\n",
       "    <tr>\n",
       "      <td>1</td>\n",
       "      <td>2804400009</td>\n",
       "      <td>3642806036</td>\n",
       "      <td>2019-08-15</td>\n",
       "      <td>730</td>\n",
       "      <td>B</td>\n",
       "    </tr>\n",
       "    <tr>\n",
       "      <td>2</td>\n",
       "      <td>2961555356</td>\n",
       "      <td>4069496402</td>\n",
       "      <td>2019-08-15</td>\n",
       "      <td>400</td>\n",
       "      <td>A</td>\n",
       "    </tr>\n",
       "    <tr>\n",
       "      <td>3</td>\n",
       "      <td>3797467345</td>\n",
       "      <td>1196621759</td>\n",
       "      <td>2019-08-15</td>\n",
       "      <td>9759</td>\n",
       "      <td>B</td>\n",
       "    </tr>\n",
       "    <tr>\n",
       "      <td>4</td>\n",
       "      <td>2282983706</td>\n",
       "      <td>2322279887</td>\n",
       "      <td>2019-08-15</td>\n",
       "      <td>2308</td>\n",
       "      <td>B</td>\n",
       "    </tr>\n",
       "  </tbody>\n",
       "</table>\n",
       "</div>"
      ],
      "text/plain": [
       "   transactionId   visitorId        date  revenue group\n",
       "0     3667963787  3312258926  2019-08-15     1650     B\n",
       "1     2804400009  3642806036  2019-08-15      730     B\n",
       "2     2961555356  4069496402  2019-08-15      400     A\n",
       "3     3797467345  1196621759  2019-08-15     9759     B\n",
       "4     2282983706  2322279887  2019-08-15     2308     B"
      ]
     },
     "execution_count": 5,
     "metadata": {},
     "output_type": "execute_result"
    }
   ],
   "source": [
    "orders.head()"
   ]
  },
  {
   "cell_type": "code",
   "execution_count": 6,
   "metadata": {},
   "outputs": [
    {
     "name": "stdout",
     "output_type": "stream",
     "text": [
      "Общая информация\n",
      "----------------------------------------------------\n",
      "<class 'pandas.core.frame.DataFrame'>\n",
      "RangeIndex: 1197 entries, 0 to 1196\n",
      "Data columns (total 5 columns):\n",
      "transactionId    1197 non-null int64\n",
      "visitorId        1197 non-null int64\n",
      "date             1197 non-null object\n",
      "revenue          1197 non-null int64\n",
      "group            1197 non-null object\n",
      "dtypes: int64(3), object(2)\n",
      "memory usage: 46.9+ KB\n",
      "None\n",
      "----------------------------------------------------\n",
      "Статистика датафрейма\n",
      "----------------------------------------------------\n",
      "       transactionId     visitorId       revenue\n",
      "count   1.197000e+03  1.197000e+03  1.197000e+03\n",
      "mean    2.155621e+09  2.165960e+09  8.348006e+03\n",
      "std     1.229085e+09  1.236014e+09  3.919113e+04\n",
      "min     1.062393e+06  5.114589e+06  5.000000e+01\n",
      "25%     1.166776e+09  1.111826e+09  1.220000e+03\n",
      "50%     2.145194e+09  2.217985e+09  2.978000e+03\n",
      "75%     3.237740e+09  3.177606e+09  8.290000e+03\n",
      "max     4.293856e+09  4.283872e+09  1.294500e+06\n",
      "----------------------------------------------------\n",
      "Наличие дубликатов\n",
      "0\n",
      "----------------------------------------------------\n",
      "Наличие пропусков\n",
      "----------------------------------------------------\n",
      "transactionId    0\n",
      "visitorId        0\n",
      "date             0\n",
      "revenue          0\n",
      "group            0\n",
      "dtype: int64\n"
     ]
    }
   ],
   "source": [
    "df_info(orders)"
   ]
  },
  {
   "cell_type": "code",
   "execution_count": 7,
   "metadata": {},
   "outputs": [
    {
     "data": {
      "text/html": [
       "<div>\n",
       "<style scoped>\n",
       "    .dataframe tbody tr th:only-of-type {\n",
       "        vertical-align: middle;\n",
       "    }\n",
       "\n",
       "    .dataframe tbody tr th {\n",
       "        vertical-align: top;\n",
       "    }\n",
       "\n",
       "    .dataframe thead th {\n",
       "        text-align: right;\n",
       "    }\n",
       "</style>\n",
       "<table border=\"1\" class=\"dataframe\">\n",
       "  <thead>\n",
       "    <tr style=\"text-align: right;\">\n",
       "      <th></th>\n",
       "      <th>date</th>\n",
       "      <th>group</th>\n",
       "      <th>visitors</th>\n",
       "    </tr>\n",
       "  </thead>\n",
       "  <tbody>\n",
       "    <tr>\n",
       "      <td>0</td>\n",
       "      <td>2019-08-01</td>\n",
       "      <td>A</td>\n",
       "      <td>719</td>\n",
       "    </tr>\n",
       "    <tr>\n",
       "      <td>1</td>\n",
       "      <td>2019-08-02</td>\n",
       "      <td>A</td>\n",
       "      <td>619</td>\n",
       "    </tr>\n",
       "    <tr>\n",
       "      <td>2</td>\n",
       "      <td>2019-08-03</td>\n",
       "      <td>A</td>\n",
       "      <td>507</td>\n",
       "    </tr>\n",
       "    <tr>\n",
       "      <td>3</td>\n",
       "      <td>2019-08-04</td>\n",
       "      <td>A</td>\n",
       "      <td>717</td>\n",
       "    </tr>\n",
       "    <tr>\n",
       "      <td>4</td>\n",
       "      <td>2019-08-05</td>\n",
       "      <td>A</td>\n",
       "      <td>756</td>\n",
       "    </tr>\n",
       "  </tbody>\n",
       "</table>\n",
       "</div>"
      ],
      "text/plain": [
       "         date group  visitors\n",
       "0  2019-08-01     A       719\n",
       "1  2019-08-02     A       619\n",
       "2  2019-08-03     A       507\n",
       "3  2019-08-04     A       717\n",
       "4  2019-08-05     A       756"
      ]
     },
     "execution_count": 7,
     "metadata": {},
     "output_type": "execute_result"
    }
   ],
   "source": [
    "visitors.head()"
   ]
  },
  {
   "cell_type": "code",
   "execution_count": 8,
   "metadata": {},
   "outputs": [
    {
     "name": "stdout",
     "output_type": "stream",
     "text": [
      "Общая информация\n",
      "----------------------------------------------------\n",
      "<class 'pandas.core.frame.DataFrame'>\n",
      "RangeIndex: 62 entries, 0 to 61\n",
      "Data columns (total 3 columns):\n",
      "date        62 non-null object\n",
      "group       62 non-null object\n",
      "visitors    62 non-null int64\n",
      "dtypes: int64(1), object(2)\n",
      "memory usage: 1.6+ KB\n",
      "None\n",
      "----------------------------------------------------\n",
      "Статистика датафрейма\n",
      "----------------------------------------------------\n",
      "         visitors\n",
      "count   62.000000\n",
      "mean   607.290323\n",
      "std    114.400560\n",
      "min    361.000000\n",
      "25%    534.000000\n",
      "50%    624.500000\n",
      "75%    710.500000\n",
      "max    770.000000\n",
      "----------------------------------------------------\n",
      "Наличие дубликатов\n",
      "0\n",
      "----------------------------------------------------\n",
      "Наличие пропусков\n",
      "----------------------------------------------------\n",
      "date        0\n",
      "group       0\n",
      "visitors    0\n",
      "dtype: int64\n"
     ]
    }
   ],
   "source": [
    "df_info(visitors)"
   ]
  },
  {
   "cell_type": "code",
   "execution_count": 9,
   "metadata": {},
   "outputs": [],
   "source": [
    "orders['date'] = pd.to_datetime(orders['date'],format=\"%Y/%m/%d\")\n",
    "visitors['date'] = pd.to_datetime(visitors['date'],format=\"%Y/%m/%d\")"
   ]
  },
  {
   "cell_type": "markdown",
   "metadata": {},
   "source": [
    "### Комментарий\n",
    "- Во всех таблицах нет пропусков и дубликатов, но в таблицах orders и visitors форматы даты некорректны, исправим это методом pd.to_datetime()"
   ]
  },
  {
   "cell_type": "markdown",
   "metadata": {},
   "source": [
    "## Часть 1. Приоритизация гипотез."
   ]
  },
  {
   "cell_type": "code",
   "execution_count": 10,
   "metadata": {
    "scrolled": true
   },
   "outputs": [
    {
     "data": {
      "text/html": [
       "<div>\n",
       "<style scoped>\n",
       "    .dataframe tbody tr th:only-of-type {\n",
       "        vertical-align: middle;\n",
       "    }\n",
       "\n",
       "    .dataframe tbody tr th {\n",
       "        vertical-align: top;\n",
       "    }\n",
       "\n",
       "    .dataframe thead th {\n",
       "        text-align: right;\n",
       "    }\n",
       "</style>\n",
       "<table border=\"1\" class=\"dataframe\">\n",
       "  <thead>\n",
       "    <tr style=\"text-align: right;\">\n",
       "      <th></th>\n",
       "      <th>Hypothesis</th>\n",
       "      <th>Reach</th>\n",
       "      <th>Impact</th>\n",
       "      <th>Confidence</th>\n",
       "      <th>Efforts</th>\n",
       "      <th>ICE</th>\n",
       "      <th>RICE</th>\n",
       "    </tr>\n",
       "  </thead>\n",
       "  <tbody>\n",
       "    <tr>\n",
       "      <td>8</td>\n",
       "      <td>Запустить акцию, дающую скидку на товар в день рождения</td>\n",
       "      <td>1</td>\n",
       "      <td>9</td>\n",
       "      <td>9</td>\n",
       "      <td>5</td>\n",
       "      <td>16.200000</td>\n",
       "      <td>16.2</td>\n",
       "    </tr>\n",
       "    <tr>\n",
       "      <td>0</td>\n",
       "      <td>Добавить два новых канала привлечения трафика, что позволит привлекать на 30% больше пользователей</td>\n",
       "      <td>3</td>\n",
       "      <td>10</td>\n",
       "      <td>8</td>\n",
       "      <td>6</td>\n",
       "      <td>13.333333</td>\n",
       "      <td>40.0</td>\n",
       "    </tr>\n",
       "    <tr>\n",
       "      <td>7</td>\n",
       "      <td>Добавить форму подписки на все основные страницы, чтобы собрать базу клиентов для email-рассылок</td>\n",
       "      <td>10</td>\n",
       "      <td>7</td>\n",
       "      <td>8</td>\n",
       "      <td>5</td>\n",
       "      <td>11.200000</td>\n",
       "      <td>112.0</td>\n",
       "    </tr>\n",
       "    <tr>\n",
       "      <td>6</td>\n",
       "      <td>Показать на главной странице баннеры с актуальными акциями и распродажами, чтобы увеличить конверсию</td>\n",
       "      <td>5</td>\n",
       "      <td>3</td>\n",
       "      <td>8</td>\n",
       "      <td>3</td>\n",
       "      <td>8.000000</td>\n",
       "      <td>40.0</td>\n",
       "    </tr>\n",
       "    <tr>\n",
       "      <td>2</td>\n",
       "      <td>Добавить блоки рекомендаций товаров на сайт интернет магазина, чтобы повысить конверсию и средний чек заказа</td>\n",
       "      <td>8</td>\n",
       "      <td>3</td>\n",
       "      <td>7</td>\n",
       "      <td>3</td>\n",
       "      <td>7.000000</td>\n",
       "      <td>56.0</td>\n",
       "    </tr>\n",
       "    <tr>\n",
       "      <td>1</td>\n",
       "      <td>Запустить собственную службу доставки, что сократит срок доставки заказов</td>\n",
       "      <td>2</td>\n",
       "      <td>5</td>\n",
       "      <td>4</td>\n",
       "      <td>10</td>\n",
       "      <td>2.000000</td>\n",
       "      <td>4.0</td>\n",
       "    </tr>\n",
       "    <tr>\n",
       "      <td>5</td>\n",
       "      <td>Добавить страницу отзывов клиентов о магазине, что позволит увеличить количество заказов</td>\n",
       "      <td>3</td>\n",
       "      <td>2</td>\n",
       "      <td>2</td>\n",
       "      <td>3</td>\n",
       "      <td>1.333333</td>\n",
       "      <td>4.0</td>\n",
       "    </tr>\n",
       "    <tr>\n",
       "      <td>3</td>\n",
       "      <td>Изменить структура категорий, что увеличит конверсию, т.к. пользователи быстрее найдут нужный товар</td>\n",
       "      <td>8</td>\n",
       "      <td>3</td>\n",
       "      <td>3</td>\n",
       "      <td>8</td>\n",
       "      <td>1.125000</td>\n",
       "      <td>9.0</td>\n",
       "    </tr>\n",
       "    <tr>\n",
       "      <td>4</td>\n",
       "      <td>Изменить цвет фона главной страницы, чтобы увеличить вовлеченность пользователей</td>\n",
       "      <td>3</td>\n",
       "      <td>1</td>\n",
       "      <td>1</td>\n",
       "      <td>1</td>\n",
       "      <td>1.000000</td>\n",
       "      <td>3.0</td>\n",
       "    </tr>\n",
       "  </tbody>\n",
       "</table>\n",
       "</div>"
      ],
      "text/plain": [
       "                                                                                                     Hypothesis  \\\n",
       "8  Запустить акцию, дающую скидку на товар в день рождения                                                        \n",
       "0  Добавить два новых канала привлечения трафика, что позволит привлекать на 30% больше пользователей             \n",
       "7  Добавить форму подписки на все основные страницы, чтобы собрать базу клиентов для email-рассылок               \n",
       "6  Показать на главной странице баннеры с актуальными акциями и распродажами, чтобы увеличить конверсию           \n",
       "2  Добавить блоки рекомендаций товаров на сайт интернет магазина, чтобы повысить конверсию и средний чек заказа   \n",
       "1  Запустить собственную службу доставки, что сократит срок доставки заказов                                      \n",
       "5  Добавить страницу отзывов клиентов о магазине, что позволит увеличить количество заказов                       \n",
       "3  Изменить структура категорий, что увеличит конверсию, т.к. пользователи быстрее найдут нужный товар            \n",
       "4  Изменить цвет фона главной страницы, чтобы увеличить вовлеченность пользователей                               \n",
       "\n",
       "   Reach  Impact  Confidence  Efforts        ICE   RICE  \n",
       "8  1      9       9           5        16.200000  16.2   \n",
       "0  3      10      8           6        13.333333  40.0   \n",
       "7  10     7       8           5        11.200000  112.0  \n",
       "6  5      3       8           3        8.000000   40.0   \n",
       "2  8      3       7           3        7.000000   56.0   \n",
       "1  2      5       4           10       2.000000   4.0    \n",
       "5  3      2       2           3        1.333333   4.0    \n",
       "3  8      3       3           8        1.125000   9.0    \n",
       "4  3      1       1           1        1.000000   3.0    "
      ]
     },
     "execution_count": 10,
     "metadata": {},
     "output_type": "execute_result"
    }
   ],
   "source": [
    "pd.set_option('display.max_colwidth', -1)\n",
    "hypothesis['ICE'] = (hypothesis['Impact']*hypothesis['Confidence'])/hypothesis['Efforts']\n",
    "hypothesis['RICE'] = (hypothesis['Reach']*hypothesis['Impact']*hypothesis['Confidence'])/hypothesis['Efforts']\n",
    "hypothesis.sort_values(by='ICE',ascending=False)\n"
   ]
  },
  {
   "cell_type": "code",
   "execution_count": 11,
   "metadata": {},
   "outputs": [
    {
     "data": {
      "text/html": [
       "<div>\n",
       "<style scoped>\n",
       "    .dataframe tbody tr th:only-of-type {\n",
       "        vertical-align: middle;\n",
       "    }\n",
       "\n",
       "    .dataframe tbody tr th {\n",
       "        vertical-align: top;\n",
       "    }\n",
       "\n",
       "    .dataframe thead th {\n",
       "        text-align: right;\n",
       "    }\n",
       "</style>\n",
       "<table border=\"1\" class=\"dataframe\">\n",
       "  <thead>\n",
       "    <tr style=\"text-align: right;\">\n",
       "      <th></th>\n",
       "      <th>Hypothesis</th>\n",
       "      <th>Reach</th>\n",
       "      <th>Impact</th>\n",
       "      <th>Confidence</th>\n",
       "      <th>Efforts</th>\n",
       "      <th>ICE</th>\n",
       "      <th>RICE</th>\n",
       "    </tr>\n",
       "  </thead>\n",
       "  <tbody>\n",
       "    <tr>\n",
       "      <td>7</td>\n",
       "      <td>Добавить форму подписки на все основные страницы, чтобы собрать базу клиентов для email-рассылок</td>\n",
       "      <td>10</td>\n",
       "      <td>7</td>\n",
       "      <td>8</td>\n",
       "      <td>5</td>\n",
       "      <td>11.200000</td>\n",
       "      <td>112.0</td>\n",
       "    </tr>\n",
       "    <tr>\n",
       "      <td>2</td>\n",
       "      <td>Добавить блоки рекомендаций товаров на сайт интернет магазина, чтобы повысить конверсию и средний чек заказа</td>\n",
       "      <td>8</td>\n",
       "      <td>3</td>\n",
       "      <td>7</td>\n",
       "      <td>3</td>\n",
       "      <td>7.000000</td>\n",
       "      <td>56.0</td>\n",
       "    </tr>\n",
       "    <tr>\n",
       "      <td>0</td>\n",
       "      <td>Добавить два новых канала привлечения трафика, что позволит привлекать на 30% больше пользователей</td>\n",
       "      <td>3</td>\n",
       "      <td>10</td>\n",
       "      <td>8</td>\n",
       "      <td>6</td>\n",
       "      <td>13.333333</td>\n",
       "      <td>40.0</td>\n",
       "    </tr>\n",
       "    <tr>\n",
       "      <td>6</td>\n",
       "      <td>Показать на главной странице баннеры с актуальными акциями и распродажами, чтобы увеличить конверсию</td>\n",
       "      <td>5</td>\n",
       "      <td>3</td>\n",
       "      <td>8</td>\n",
       "      <td>3</td>\n",
       "      <td>8.000000</td>\n",
       "      <td>40.0</td>\n",
       "    </tr>\n",
       "    <tr>\n",
       "      <td>8</td>\n",
       "      <td>Запустить акцию, дающую скидку на товар в день рождения</td>\n",
       "      <td>1</td>\n",
       "      <td>9</td>\n",
       "      <td>9</td>\n",
       "      <td>5</td>\n",
       "      <td>16.200000</td>\n",
       "      <td>16.2</td>\n",
       "    </tr>\n",
       "    <tr>\n",
       "      <td>3</td>\n",
       "      <td>Изменить структура категорий, что увеличит конверсию, т.к. пользователи быстрее найдут нужный товар</td>\n",
       "      <td>8</td>\n",
       "      <td>3</td>\n",
       "      <td>3</td>\n",
       "      <td>8</td>\n",
       "      <td>1.125000</td>\n",
       "      <td>9.0</td>\n",
       "    </tr>\n",
       "    <tr>\n",
       "      <td>1</td>\n",
       "      <td>Запустить собственную службу доставки, что сократит срок доставки заказов</td>\n",
       "      <td>2</td>\n",
       "      <td>5</td>\n",
       "      <td>4</td>\n",
       "      <td>10</td>\n",
       "      <td>2.000000</td>\n",
       "      <td>4.0</td>\n",
       "    </tr>\n",
       "    <tr>\n",
       "      <td>5</td>\n",
       "      <td>Добавить страницу отзывов клиентов о магазине, что позволит увеличить количество заказов</td>\n",
       "      <td>3</td>\n",
       "      <td>2</td>\n",
       "      <td>2</td>\n",
       "      <td>3</td>\n",
       "      <td>1.333333</td>\n",
       "      <td>4.0</td>\n",
       "    </tr>\n",
       "    <tr>\n",
       "      <td>4</td>\n",
       "      <td>Изменить цвет фона главной страницы, чтобы увеличить вовлеченность пользователей</td>\n",
       "      <td>3</td>\n",
       "      <td>1</td>\n",
       "      <td>1</td>\n",
       "      <td>1</td>\n",
       "      <td>1.000000</td>\n",
       "      <td>3.0</td>\n",
       "    </tr>\n",
       "  </tbody>\n",
       "</table>\n",
       "</div>"
      ],
      "text/plain": [
       "                                                                                                     Hypothesis  \\\n",
       "7  Добавить форму подписки на все основные страницы, чтобы собрать базу клиентов для email-рассылок               \n",
       "2  Добавить блоки рекомендаций товаров на сайт интернет магазина, чтобы повысить конверсию и средний чек заказа   \n",
       "0  Добавить два новых канала привлечения трафика, что позволит привлекать на 30% больше пользователей             \n",
       "6  Показать на главной странице баннеры с актуальными акциями и распродажами, чтобы увеличить конверсию           \n",
       "8  Запустить акцию, дающую скидку на товар в день рождения                                                        \n",
       "3  Изменить структура категорий, что увеличит конверсию, т.к. пользователи быстрее найдут нужный товар            \n",
       "1  Запустить собственную службу доставки, что сократит срок доставки заказов                                      \n",
       "5  Добавить страницу отзывов клиентов о магазине, что позволит увеличить количество заказов                       \n",
       "4  Изменить цвет фона главной страницы, чтобы увеличить вовлеченность пользователей                               \n",
       "\n",
       "   Reach  Impact  Confidence  Efforts        ICE   RICE  \n",
       "7  10     7       8           5        11.200000  112.0  \n",
       "2  8      3       7           3        7.000000   56.0   \n",
       "0  3      10      8           6        13.333333  40.0   \n",
       "6  5      3       8           3        8.000000   40.0   \n",
       "8  1      9       9           5        16.200000  16.2   \n",
       "3  8      3       3           8        1.125000   9.0    \n",
       "1  2      5       4           10       2.000000   4.0    \n",
       "5  3      2       2           3        1.333333   4.0    \n",
       "4  3      1       1           1        1.000000   3.0    "
      ]
     },
     "execution_count": 11,
     "metadata": {},
     "output_type": "execute_result"
    }
   ],
   "source": [
    "hypothesis.sort_values(by='RICE',ascending=False)"
   ]
  },
  {
   "cell_type": "markdown",
   "metadata": {},
   "source": [
    "### Комментарий\n",
    "- При применении фреймворка ICE для приоритизации гипотез на первое место попала гипотеза 8\n",
    "- При применении фреймворка RICE для приоритизации гипотез на первое место попала гипотеза 7\n",
    "- Изменение приоритизации гипотез произошло из за того что в фреймворке RICE добавилась дополнительная переменная \"Reach — скольких пользователей затронет изменение, которое вы хотите внести\""
   ]
  },
  {
   "cell_type": "markdown",
   "metadata": {},
   "source": [
    "## Часть 2. Анализ A/B-теста"
   ]
  },
  {
   "cell_type": "code",
   "execution_count": 12,
   "metadata": {},
   "outputs": [],
   "source": [
    "datesGroups = orders[['date','group']].drop_duplicates()"
   ]
  },
  {
   "cell_type": "code",
   "execution_count": 13,
   "metadata": {},
   "outputs": [],
   "source": [
    "ordersAggregated = datesGroups.apply(lambda x: orders[np.logical_and(orders['date'] <= x['date'], orders['group'] == x['group'])]\\\n",
    ".agg({'date' : 'max', 'group' : 'max', 'transactionId' : pd.Series.nunique, 'visitorId' : pd.Series.nunique, 'revenue' : 'sum'}), axis=1).sort_values(by=['date','group']) "
   ]
  },
  {
   "cell_type": "code",
   "execution_count": 14,
   "metadata": {},
   "outputs": [],
   "source": [
    "visitorsAggregated = datesGroups.apply(lambda x: visitors[np.logical_and(visitors['date'] <= x['date'], visitors['group'] == x['group'])].agg({'date' : 'max', 'group' : 'max', 'visitors' : 'sum'}), axis=1).sort_values(by=['date','group']) "
   ]
  },
  {
   "cell_type": "code",
   "execution_count": 15,
   "metadata": {},
   "outputs": [],
   "source": [
    "cumulativeData = ordersAggregated.merge(visitorsAggregated, left_on=['date', 'group'], right_on=['date', 'group'])\n",
    "cumulativeData.columns = ['date', 'group', 'orders', 'buyers', 'revenue', 'visitors']"
   ]
  },
  {
   "cell_type": "code",
   "execution_count": 16,
   "metadata": {},
   "outputs": [],
   "source": [
    "cumulativeRevenueA = cumulativeData[cumulativeData['group']=='A'][['date','revenue', 'orders']]\n",
    "\n",
    "cumulativeRevenueB = cumulativeData[cumulativeData['group']=='B'][['date','revenue', 'orders']]"
   ]
  },
  {
   "cell_type": "code",
   "execution_count": 17,
   "metadata": {
    "scrolled": true
   },
   "outputs": [
    {
     "name": "stderr",
     "output_type": "stream",
     "text": [
      "/opt/conda/lib/python3.7/site-packages/pandas/plotting/_matplotlib/converter.py:103: FutureWarning: Using an implicitly registered datetime converter for a matplotlib plotting method. The converter was registered by pandas on import. Future versions of pandas will require you to explicitly register matplotlib converters.\n",
      "\n",
      "To register the converters:\n",
      "\t>>> from pandas.plotting import register_matplotlib_converters\n",
      "\t>>> register_matplotlib_converters()\n",
      "  warnings.warn(msg, FutureWarning)\n"
     ]
    },
    {
     "data": {
      "image/png": "[encoded data removed]",
      "text/plain": [
       "<Figure size 1080x360 with 1 Axes>"
      ]
     },
     "metadata": {
      "needs_background": "light"
     },
     "output_type": "display_data"
    }
   ],
   "source": [
    "plt.figure(figsize=(15,5))\n",
    "plt.plot(cumulativeRevenueA['date'], cumulativeRevenueA['revenue'], label='A')\n",
    "plt.plot(cumulativeRevenueB['date'], cumulativeRevenueB['revenue'], label='B')\n",
    "plt.title('График кумулятивной выручки по группам')\n",
    "plt.ylabel('Выручка')\n",
    "plt.xlabel('День')\n",
    "plt.legend() \n",
    "plt.show()"
   ]
  },
  {
   "cell_type": "markdown",
   "metadata": {},
   "source": [
    "### Комментарий\n",
    "- На графике мы видим, что Выручка почти равномерно увеличивается в течение всего теста. Но начиная с 2019-08-18 выручка в группе В резко выросла и на протяжении оставшегося времени теста сильно опрережает группу А это может сигнализировать о всплесках числа заказов, либо о появлении очень дорогих заказов в выборке "
   ]
  },
  {
   "cell_type": "code",
   "execution_count": 18,
   "metadata": {},
   "outputs": [
    {
     "data": {
      "image/png": "[encoded data removed]",
      "text/plain": [
       "<Figure size 1080x360 with 1 Axes>"
      ]
     },
     "metadata": {
      "needs_background": "light"
     },
     "output_type": "display_data"
    }
   ],
   "source": [
    "plt.figure(figsize=(15,5))\n",
    "plt.plot(cumulativeRevenueA['date'], cumulativeRevenueA['revenue']/cumulativeRevenueA['orders'], label='A')\n",
    "plt.plot(cumulativeRevenueB['date'], cumulativeRevenueB['revenue']/cumulativeRevenueB['orders'], label='B')\n",
    "plt.title('График кумулятивного среднего чека по группам')\n",
    "plt.ylabel('Средний чек')\n",
    "plt.xlabel('День')\n",
    "plt.legend() \n",
    "plt.show()"
   ]
  },
  {
   "cell_type": "markdown",
   "metadata": {},
   "source": [
    "### Комментарий\n",
    "- Средний чек в группе В сильно вырос начиная с того же преиода что и на прошлом графике и до конца теста сильно больше чем в группе А, что может говорить о том что в группу В попали самые дорогие заказы, либо их число резко возросло. В начале теста в группе В средний чек также был выше."
   ]
  },
  {
   "cell_type": "code",
   "execution_count": 19,
   "metadata": {},
   "outputs": [],
   "source": [
    "mergedCumulativeRevenue = cumulativeRevenueA.merge(cumulativeRevenueB, left_on='date', right_on='date', how='left', suffixes=['A', 'B'])"
   ]
  },
  {
   "cell_type": "code",
   "execution_count": 20,
   "metadata": {},
   "outputs": [
    {
     "data": {
      "image/png": "[encoded data removed]",
      "text/plain": [
       "<Figure size 1080x360 with 1 Axes>"
      ]
     },
     "metadata": {
      "needs_background": "light"
     },
     "output_type": "display_data"
    }
   ],
   "source": [
    "plt.figure(figsize=(15,5))\n",
    "plt.plot(mergedCumulativeRevenue['date'], (mergedCumulativeRevenue['revenueB']/mergedCumulativeRevenue['ordersB'])/(mergedCumulativeRevenue['revenueA']/mergedCumulativeRevenue['ordersA'])-1)\n",
    "plt.title('График относительного изменения кумулятивного среднего чека группы B к группе A')\n",
    "plt.xlabel('День')\n",
    "plt.axhline(y=0, color='black', linestyle='--') \n",
    "plt.show()"
   ]
  },
  {
   "cell_type": "markdown",
   "metadata": {},
   "source": [
    "### Комментарий\n",
    "- В нескольких точках график сильно скачет, это может говорить о большом количестве крупных заказов и выбросов"
   ]
  },
  {
   "cell_type": "code",
   "execution_count": 21,
   "metadata": {},
   "outputs": [],
   "source": [
    "cumulativeData['conversion'] = cumulativeData['orders']/cumulativeData['visitors']\n",
    "cumulativeDataA = cumulativeData[cumulativeData['group']=='A']\n",
    "cumulativeDataB = cumulativeData[cumulativeData['group']=='B']"
   ]
  },
  {
   "cell_type": "code",
   "execution_count": 22,
   "metadata": {},
   "outputs": [
    {
     "data": {
      "image/png": "[encoded data removed]",
      "text/plain": [
       "<Figure size 1080x360 with 1 Axes>"
      ]
     },
     "metadata": {
      "needs_background": "light"
     },
     "output_type": "display_data"
    }
   ],
   "source": [
    "plt.figure(figsize=(15,5))\n",
    "plt.plot(cumulativeDataA['date'], cumulativeDataA['conversion'], label='A')\n",
    "plt.plot(cumulativeDataB['date'], cumulativeDataB['conversion'], label='B')\n",
    "plt.title('График кумулятивной конверсии по группам')\n",
    "plt.ylabel('Конверсия')\n",
    "plt.xlabel('День')\n",
    "plt.grid()\n",
    "plt.legend() \n",
    "plt.show()"
   ]
  },
  {
   "cell_type": "markdown",
   "metadata": {},
   "source": [
    "### Комментарий\n",
    "- В начале теста у обоих групп резкий скачек конверсии, группа А опережает В, потом спад. Группа В колеблица на высоком уровне, постепенно снижаясь и фиксируется к концу теста, а группа А колеблится значительно ниже"
   ]
  },
  {
   "cell_type": "code",
   "execution_count": 23,
   "metadata": {},
   "outputs": [],
   "source": [
    "mergedCumulativeConversions = cumulativeDataA[['date','conversion']].merge(cumulativeDataB[['date','conversion']], left_on='date', right_on='date', how='left', suffixes=['A', 'B'])"
   ]
  },
  {
   "cell_type": "code",
   "execution_count": 24,
   "metadata": {
    "scrolled": true
   },
   "outputs": [
    {
     "data": {
      "image/png": "[encoded data removed]",
      "text/plain": [
       "<Figure size 1080x360 with 1 Axes>"
      ]
     },
     "metadata": {
      "needs_background": "light"
     },
     "output_type": "display_data"
    }
   ],
   "source": [
    "plt.figure(figsize=(15,5))\n",
    "plt.plot(mergedCumulativeConversions['date'], mergedCumulativeConversions['conversionB']/mergedCumulativeConversions['conversionA']-1, label=\"Относительный прирост конверсии группы B относительно группы A\")\n",
    "plt.axhline(y=0, color='black', linestyle='--')\n",
    "plt.axhline(y=0.15, color='grey', linestyle='--')\n",
    "plt.title('График относительного изменения кумулятивной конверсии группы B к группе A')\n",
    "plt.xlabel('День')\n",
    "plt.grid()\n",
    "plt.legend() \n",
    "plt.show()"
   ]
  },
  {
   "cell_type": "markdown",
   "metadata": {},
   "source": [
    "### Комментарий\n",
    "- Группа В почти с самого начала лидирует по конверсии становится лучше и лучше, и приближается к приросту 15% относительно группы А"
   ]
  },
  {
   "cell_type": "code",
   "execution_count": 25,
   "metadata": {},
   "outputs": [
    {
     "data": {
      "text/html": [
       "<div>\n",
       "<style scoped>\n",
       "    .dataframe tbody tr th:only-of-type {\n",
       "        vertical-align: middle;\n",
       "    }\n",
       "\n",
       "    .dataframe tbody tr th {\n",
       "        vertical-align: top;\n",
       "    }\n",
       "\n",
       "    .dataframe thead th {\n",
       "        text-align: right;\n",
       "    }\n",
       "</style>\n",
       "<table border=\"1\" class=\"dataframe\">\n",
       "  <thead>\n",
       "    <tr style=\"text-align: right;\">\n",
       "      <th></th>\n",
       "      <th>transactionId</th>\n",
       "    </tr>\n",
       "    <tr>\n",
       "      <th>visitorId</th>\n",
       "      <th></th>\n",
       "    </tr>\n",
       "  </thead>\n",
       "  <tbody>\n",
       "    <tr>\n",
       "      <td>5114589</td>\n",
       "      <td>1</td>\n",
       "    </tr>\n",
       "    <tr>\n",
       "      <td>6958315</td>\n",
       "      <td>1</td>\n",
       "    </tr>\n",
       "    <tr>\n",
       "      <td>8300375</td>\n",
       "      <td>2</td>\n",
       "    </tr>\n",
       "    <tr>\n",
       "      <td>11685486</td>\n",
       "      <td>1</td>\n",
       "    </tr>\n",
       "    <tr>\n",
       "      <td>39475350</td>\n",
       "      <td>1</td>\n",
       "    </tr>\n",
       "    <tr>\n",
       "      <td>...</td>\n",
       "      <td>...</td>\n",
       "    </tr>\n",
       "    <tr>\n",
       "      <td>4266935830</td>\n",
       "      <td>2</td>\n",
       "    </tr>\n",
       "    <tr>\n",
       "      <td>4278982564</td>\n",
       "      <td>1</td>\n",
       "    </tr>\n",
       "    <tr>\n",
       "      <td>4279090005</td>\n",
       "      <td>1</td>\n",
       "    </tr>\n",
       "    <tr>\n",
       "      <td>4281247801</td>\n",
       "      <td>1</td>\n",
       "    </tr>\n",
       "    <tr>\n",
       "      <td>4283872382</td>\n",
       "      <td>1</td>\n",
       "    </tr>\n",
       "  </tbody>\n",
       "</table>\n",
       "<p>1031 rows × 1 columns</p>\n",
       "</div>"
      ],
      "text/plain": [
       "            transactionId\n",
       "visitorId                \n",
       "5114589     1            \n",
       "6958315     1            \n",
       "8300375     2            \n",
       "11685486    1            \n",
       "39475350    1            \n",
       "...        ..            \n",
       "4266935830  2            \n",
       "4278982564  1            \n",
       "4279090005  1            \n",
       "4281247801  1            \n",
       "4283872382  1            \n",
       "\n",
       "[1031 rows x 1 columns]"
      ]
     },
     "execution_count": 25,
     "metadata": {},
     "output_type": "execute_result"
    }
   ],
   "source": [
    "orders_count = orders.groupby('visitorId').agg({'transactionId':'nunique'})\n",
    "orders_count"
   ]
  },
  {
   "cell_type": "code",
   "execution_count": 26,
   "metadata": {},
   "outputs": [
    {
     "data": {
      "image/png": "[encoded data removed]",
      "text/plain": [
       "<Figure size 720x360 with 1 Axes>"
      ]
     },
     "metadata": {
      "needs_background": "light"
     },
     "output_type": "display_data"
    }
   ],
   "source": [
    "x_values = pd.Series(range(0,len(orders_count['transactionId'])))\n",
    "plt.figure(figsize=(10,5))\n",
    "plt.scatter(x_values, orders_count['transactionId']) \n",
    "plt.title('Точечный график количества заказов по пользователям')\n",
    "plt.ylabel('Количество заказов')\n",
    "plt.xlabel('Количество пользователей')\n",
    "plt.grid()\n",
    "plt.show()"
   ]
  },
  {
   "cell_type": "markdown",
   "metadata": {},
   "source": [
    "### Комментарий\n",
    "- Основная часть пользователей делают 1-2 заказа, но есть выбросы, некоторые пользователи делают от 3 до 10 заказов но это единичные случаи, будем считать их аномальными пользователями"
   ]
  },
  {
   "cell_type": "code",
   "execution_count": 27,
   "metadata": {
    "scrolled": true
   },
   "outputs": [
    {
     "name": "stdout",
     "output_type": "stream",
     "text": [
      "[2. 4.]\n"
     ]
    }
   ],
   "source": [
    "print(np.percentile(orders_count['transactionId'], [95, 99]))"
   ]
  },
  {
   "cell_type": "markdown",
   "metadata": {},
   "source": [
    "### Комментарий\n",
    "- Не более 5% пользователей делают больше 2 заказов, все что больше примем за аномальные значения"
   ]
  },
  {
   "cell_type": "code",
   "execution_count": 28,
   "metadata": {},
   "outputs": [
    {
     "data": {
      "image/png": "[encoded data removed]",
      "text/plain": [
       "<Figure size 720x360 with 1 Axes>"
      ]
     },
     "metadata": {
      "needs_background": "light"
     },
     "output_type": "display_data"
    }
   ],
   "source": [
    "x_values = pd.Series(range(0,len(orders['revenue'])))\n",
    "plt.figure(figsize=(10,5))\n",
    "plt.scatter(x_values, orders['revenue']) \n",
    "plt.title('Точечный график стоимостей заказов')\n",
    "plt.ylabel('Стоимость заказов')\n",
    "plt.xlabel('Количество пользователей')\n",
    "plt.grid()\n",
    "plt.show()"
   ]
  },
  {
   "cell_type": "markdown",
   "metadata": {},
   "source": [
    "### Комментарий\n",
    "- По графику можно выбрать границу аномальных заказов между 20 000 и 40 000 рублей. Однако принято отсеивать от 1% до 5% наблюдений с крайними значениями."
   ]
  },
  {
   "cell_type": "code",
   "execution_count": 29,
   "metadata": {},
   "outputs": [
    {
     "name": "stdout",
     "output_type": "stream",
     "text": [
      "[28000.  58233.2]\n"
     ]
    }
   ],
   "source": [
    "print(np.percentile(orders['revenue'], [95, 99]))"
   ]
  },
  {
   "cell_type": "markdown",
   "metadata": {},
   "source": [
    "### Комментарий\n",
    "- Не более 5% заказов дороже 28000 рублей и не более 1% дороже  58233, все что более 5% примем за аномальные значения"
   ]
  },
  {
   "cell_type": "code",
   "execution_count": 30,
   "metadata": {
    "scrolled": false
   },
   "outputs": [
    {
     "data": {
      "text/html": [
       "<div>\n",
       "<style scoped>\n",
       "    .dataframe tbody tr th:only-of-type {\n",
       "        vertical-align: middle;\n",
       "    }\n",
       "\n",
       "    .dataframe tbody tr th {\n",
       "        vertical-align: top;\n",
       "    }\n",
       "\n",
       "    .dataframe thead th {\n",
       "        text-align: right;\n",
       "    }\n",
       "</style>\n",
       "<table border=\"1\" class=\"dataframe\">\n",
       "  <thead>\n",
       "    <tr style=\"text-align: right;\">\n",
       "      <th></th>\n",
       "      <th>date</th>\n",
       "      <th>ordersPerDateA</th>\n",
       "      <th>revenuePerDateA</th>\n",
       "      <th>ordersPerDateB</th>\n",
       "      <th>revenuePerDateB</th>\n",
       "      <th>ordersCummulativeA</th>\n",
       "      <th>revenueCummulativeA</th>\n",
       "      <th>ordersCummulativeB</th>\n",
       "      <th>revenueCummulativeB</th>\n",
       "      <th>visitorsPerDateA</th>\n",
       "      <th>visitorsPerDateB</th>\n",
       "      <th>visitorsCummulativeA</th>\n",
       "      <th>visitorsCummulativeB</th>\n",
       "    </tr>\n",
       "  </thead>\n",
       "  <tbody>\n",
       "    <tr>\n",
       "      <td>0</td>\n",
       "      <td>2019-08-01</td>\n",
       "      <td>24</td>\n",
       "      <td>148579</td>\n",
       "      <td>21</td>\n",
       "      <td>101217</td>\n",
       "      <td>24</td>\n",
       "      <td>148579</td>\n",
       "      <td>21</td>\n",
       "      <td>101217</td>\n",
       "      <td>719</td>\n",
       "      <td>713</td>\n",
       "      <td>719</td>\n",
       "      <td>713</td>\n",
       "    </tr>\n",
       "    <tr>\n",
       "      <td>1</td>\n",
       "      <td>2019-08-02</td>\n",
       "      <td>20</td>\n",
       "      <td>93822</td>\n",
       "      <td>24</td>\n",
       "      <td>165531</td>\n",
       "      <td>44</td>\n",
       "      <td>242401</td>\n",
       "      <td>45</td>\n",
       "      <td>266748</td>\n",
       "      <td>619</td>\n",
       "      <td>581</td>\n",
       "      <td>1338</td>\n",
       "      <td>1294</td>\n",
       "    </tr>\n",
       "    <tr>\n",
       "      <td>2</td>\n",
       "      <td>2019-08-03</td>\n",
       "      <td>24</td>\n",
       "      <td>112473</td>\n",
       "      <td>16</td>\n",
       "      <td>114248</td>\n",
       "      <td>68</td>\n",
       "      <td>354874</td>\n",
       "      <td>61</td>\n",
       "      <td>380996</td>\n",
       "      <td>507</td>\n",
       "      <td>509</td>\n",
       "      <td>1845</td>\n",
       "      <td>1803</td>\n",
       "    </tr>\n",
       "    <tr>\n",
       "      <td>3</td>\n",
       "      <td>2019-08-04</td>\n",
       "      <td>16</td>\n",
       "      <td>70825</td>\n",
       "      <td>17</td>\n",
       "      <td>108571</td>\n",
       "      <td>84</td>\n",
       "      <td>425699</td>\n",
       "      <td>78</td>\n",
       "      <td>489567</td>\n",
       "      <td>717</td>\n",
       "      <td>770</td>\n",
       "      <td>2562</td>\n",
       "      <td>2573</td>\n",
       "    </tr>\n",
       "    <tr>\n",
       "      <td>4</td>\n",
       "      <td>2019-08-05</td>\n",
       "      <td>25</td>\n",
       "      <td>124218</td>\n",
       "      <td>23</td>\n",
       "      <td>92428</td>\n",
       "      <td>109</td>\n",
       "      <td>549917</td>\n",
       "      <td>101</td>\n",
       "      <td>581995</td>\n",
       "      <td>756</td>\n",
       "      <td>707</td>\n",
       "      <td>3318</td>\n",
       "      <td>3280</td>\n",
       "    </tr>\n",
       "  </tbody>\n",
       "</table>\n",
       "</div>"
      ],
      "text/plain": [
       "        date  ordersPerDateA  revenuePerDateA  ordersPerDateB  \\\n",
       "0 2019-08-01  24              148579           21               \n",
       "1 2019-08-02  20              93822            24               \n",
       "2 2019-08-03  24              112473           16               \n",
       "3 2019-08-04  16              70825            17               \n",
       "4 2019-08-05  25              124218           23               \n",
       "\n",
       "   revenuePerDateB  ordersCummulativeA  revenueCummulativeA  \\\n",
       "0  101217           24                  148579                \n",
       "1  165531           44                  242401                \n",
       "2  114248           68                  354874                \n",
       "3  108571           84                  425699                \n",
       "4  92428            109                 549917                \n",
       "\n",
       "   ordersCummulativeB  revenueCummulativeB  visitorsPerDateA  \\\n",
       "0  21                  101217               719                \n",
       "1  45                  266748               619                \n",
       "2  61                  380996               507                \n",
       "3  78                  489567               717                \n",
       "4  101                 581995               756                \n",
       "\n",
       "   visitorsPerDateB  visitorsCummulativeA  visitorsCummulativeB  \n",
       "0  713               719                   713                   \n",
       "1  581               1338                  1294                  \n",
       "2  509               1845                  1803                  \n",
       "3  770               2562                  2573                  \n",
       "4  707               3318                  3280                  "
      ]
     },
     "execution_count": 30,
     "metadata": {},
     "output_type": "execute_result"
    }
   ],
   "source": [
    "visitorsADaily = visitors[visitors['group'] == 'A'][['date', 'visitors']]\n",
    "visitorsADaily.columns = ['date', 'visitorsPerDateA']\n",
    "\n",
    "visitorsACummulative = visitorsADaily.apply(\n",
    "    lambda x: visitorsADaily[visitorsADaily['date'] <= x['date']].agg(\n",
    "        {'date': 'max', 'visitorsPerDateA': 'sum'}\n",
    "    ),\n",
    "    axis=1,\n",
    ")\n",
    "visitorsACummulative.columns = ['date', 'visitorsCummulativeA']\n",
    "\n",
    "visitorsBDaily = visitors[visitors['group'] == 'B'][['date', 'visitors']]\n",
    "visitorsBDaily.columns = ['date', 'visitorsPerDateB']\n",
    "\n",
    "visitorsBCummulative = visitorsBDaily.apply(\n",
    "    lambda x: visitorsBDaily[visitorsBDaily['date'] <= x['date']].agg(\n",
    "        {'date': 'max', 'visitorsPerDateB': 'sum'}\n",
    "    ),\n",
    "    axis=1,\n",
    ")\n",
    "visitorsBCummulative.columns = ['date', 'visitorsCummulativeB']\n",
    "\n",
    "ordersADaily = (\n",
    "    orders[orders['group'] == 'A'][['date', 'transactionId', 'visitorId', 'revenue']]\n",
    "    .groupby('date', as_index=False)\n",
    "    .agg({'transactionId': pd.Series.nunique, 'revenue': 'sum'})\n",
    ")\n",
    "ordersADaily.columns = ['date', 'ordersPerDateA', 'revenuePerDateA']\n",
    "\n",
    "ordersACummulative = ordersADaily.apply(\n",
    "    lambda x: ordersADaily[ordersADaily['date'] <= x['date']].agg(\n",
    "        {'date': 'max', 'ordersPerDateA': 'sum', 'revenuePerDateA': 'sum'}\n",
    "    ),\n",
    "    axis=1,\n",
    ").sort_values(by=['date'])\n",
    "ordersACummulative.columns = [\n",
    "    'date',\n",
    "    'ordersCummulativeA',\n",
    "    'revenueCummulativeA',\n",
    "]\n",
    "\n",
    "ordersBDaily = (\n",
    "    orders[orders['group'] == 'B'][['date', 'transactionId', 'visitorId', 'revenue']]\n",
    "    .groupby('date', as_index=False)\n",
    "    .agg({'transactionId': pd.Series.nunique, 'revenue': 'sum'})\n",
    ")\n",
    "ordersBDaily.columns = ['date', 'ordersPerDateB', 'revenuePerDateB']\n",
    "\n",
    "ordersBCummulative = ordersBDaily.apply(\n",
    "    lambda x: ordersBDaily[ordersBDaily['date'] <= x['date']].agg(\n",
    "        {'date': 'max', 'ordersPerDateB': 'sum', 'revenuePerDateB': 'sum'}\n",
    "    ),\n",
    "    axis=1,\n",
    ").sort_values(by=['date'])\n",
    "ordersBCummulative.columns = [\n",
    "    'date',\n",
    "    'ordersCummulativeB',\n",
    "    'revenueCummulativeB',\n",
    "]\n",
    "\n",
    "data = (\n",
    "    ordersADaily.merge(\n",
    "        ordersBDaily, left_on='date', right_on='date', how='left'\n",
    "    )\n",
    "    .merge(ordersACummulative, left_on='date', right_on='date', how='left')\n",
    "    .merge(ordersBCummulative, left_on='date', right_on='date', how='left')\n",
    "    .merge(visitorsADaily, left_on='date', right_on='date', how='left')\n",
    "    .merge(visitorsBDaily, left_on='date', right_on='date', how='left')\n",
    "    .merge(visitorsACummulative, left_on='date', right_on='date', how='left')\n",
    "    .merge(visitorsBCummulative, left_on='date', right_on='date', how='left')\n",
    ")\n",
    "\n",
    "data.head() "
   ]
  },
  {
   "cell_type": "markdown",
   "metadata": {},
   "source": [
    "<div class = \"alert alert-info\" >\n",
    "### Описание нового объединенного датафрейма для дальнейшего анализа:\n",
    "  \n",
    "- date — дата;\n",
    "- ordersPerDateA — количество заказов в выбранную дату в группе A\n",
    "- revenuePerDateA — суммарная выручка в выбранную дату в группе A\n",
    "- ordersPerDateB — количество заказов в выбранную дату в группе B\n",
    "- revenuePerDateB — суммарная выручка в выбранную дату в группе B\n",
    "- ordersCummulativeA — суммарное число заказов до выбранной даты включительно в группе A\n",
    "- revenueCummulativeA — суммарная выручка до выбранной даты включительно в группе A\n",
    "- ordersCummulativeB — суммарное количество заказов до выбранной даты включительно в группе B\n",
    "- revenueCummulativeB — суммарная выручка до выбранной даты включительно в группе B\n",
    "- visitorsPerDateA — количество пользователей в выбранную дату в группе A\n",
    "- visitorsPerDateB — количество пользователей в выбранную дату в группе B\n",
    "- visitorsCummulativeA — количество пользователей до выбранной даты включительно в группе A\n",
    "- visitorsCummulativeB — количество пользователей до выбранной даты включительно в группе B"
   ]
  },
  {
   "cell_type": "markdown",
   "metadata": {},
   "source": [
    "Нужно проверить гипотизы:\n",
    "- Есть ли статистически значимые различия в конверсии между группами по «сырым» данным\n",
    "- Есть ли статистически значимые различия в среднем чеке заказа между группами по «сырым» данным    \n",
    "- Есть ли статистически значимые различия в конверсии между группами по «очищенным» данным\n",
    "- Есть ли статистически значимые различия в среднем чеке заказа между группами по «очищенным» данным      \n",
    "- Для проверки гипотизы выбираем непараметрический тест Уилкоксона-Манна-Уитни, так как он не так требователен к данным(не обязательно иметь нормальное распределение). Этот метод работает с рангами а не с самими значениями, поэтому к ниму прибегают когда работа с самими значениями невозможна из-за выбросов(как в нашем случае), сильно сдвигающих параметрические результаты.\n",
    "- пороговый уровень статистической значимости alpha выберем 0,05 или 5%, так как выборки не большие"
   ]
  },
  {
   "cell_type": "markdown",
   "metadata": {},
   "source": [
    "##### Проверим первую гипотизу.\n",
    "Сформулируем нулевую гипотезу,статистически значимые различия в конверсии между группами по «сырым» данным нет, тогда альтернативная гипотеза будет что статистически значимые различия в конверсии между группами по «сырым» данным есть."
   ]
  },
  {
   "cell_type": "code",
   "execution_count": 31,
   "metadata": {},
   "outputs": [
    {
     "name": "stdout",
     "output_type": "stream",
     "text": [
      "p-value: 0.017\n",
      "Относительный прирост конверсии группы B: 0.138\n"
     ]
    }
   ],
   "source": [
    "ordersByUsersA = (\n",
    "    orders[orders['group'] == 'A']\n",
    "    .groupby('visitorId', as_index=False)\n",
    "    .agg({'transactionId': pd.Series.nunique})\n",
    ")\n",
    "ordersByUsersA.columns = ['userId', 'orders']\n",
    "\n",
    "ordersByUsersB = (\n",
    "    orders[orders['group'] == 'B']\n",
    "    .groupby('visitorId', as_index=False)\n",
    "    .agg({'transactionId': pd.Series.nunique})\n",
    ")\n",
    "ordersByUsersB.columns = ['userId', 'orders']\n",
    "\n",
    "sampleA = pd.concat(\n",
    "    [\n",
    "        ordersByUsersA['orders'],\n",
    "        pd.Series(\n",
    "            0,\n",
    "            index=np.arange(\n",
    "                data['visitorsPerDateA'].sum() - len(ordersByUsersA['orders'])\n",
    "            ),\n",
    "            name='orders',\n",
    "        ),\n",
    "    ],\n",
    "    axis=0,\n",
    ")\n",
    "\n",
    "sampleB = pd.concat(\n",
    "    [\n",
    "        ordersByUsersB['orders'],\n",
    "        pd.Series(\n",
    "            0,\n",
    "            index=np.arange(\n",
    "                data['visitorsPerDateB'].sum() - len(ordersByUsersB['orders'])\n",
    "            ),\n",
    "            name='orders',\n",
    "        ),\n",
    "    ],\n",
    "    axis=0,\n",
    ")\n",
    "\n",
    "print(\"p-value: {0:.3f}\".format(stats.mannwhitneyu(sampleA, sampleB,alternative='two-sided')[1]))\n",
    "\n",
    "print(\"Относительный прирост конверсии группы B: {0:.3f}\".format(sampleB.mean() / sampleA.mean() - 1))\n",
    " "
   ]
  },
  {
   "cell_type": "markdown",
   "metadata": {},
   "source": [
    "### Комментарий\n",
    "- По сырым данным различий в конверсии групп A и B есть\n",
    "- Первое число — p-value = 0.017 меньше 0.05. Значит, нулевую гипотезу о том, что статистически значимые различия в конверсии между группами по «сырым» данным нет, отвергаем. Относительный прирост группы B к группе А равен 13.8% "
   ]
  },
  {
   "cell_type": "markdown",
   "metadata": {},
   "source": [
    "##### Проверим вторую гипотизу.\n",
    "Сформулируем нулевую гипотезу,статистически значимых различий в среднем чеке заказа между группами по «сырым» данным нет, тогда альтернативная гипотеза будет что статистически значимые различия в конверсии между группами по «сырым» данным есть."
   ]
  },
  {
   "cell_type": "code",
   "execution_count": 32,
   "metadata": {},
   "outputs": [
    {
     "name": "stdout",
     "output_type": "stream",
     "text": [
      "p-value: 0.729\n",
      "Относительное различие в среднем чеке между группами: 0.259\n"
     ]
    }
   ],
   "source": [
    "print('p-value: {0:.3f}'.format(stats.mannwhitneyu(orders[orders['group']=='A']['revenue'], orders[orders['group']=='B']['revenue'],alternative='two-sided')[1]))\n",
    "print('Относительное различие в среднем чеке между группами: {0:.3f}'.format(orders[orders['group']=='B']['revenue'].mean()/orders[orders['group']=='A']['revenue'].mean()-1)) "
   ]
  },
  {
   "cell_type": "markdown",
   "metadata": {},
   "source": [
    "### Комментарий\n",
    "- p-value значительно больше 0.05. Значит, причин отвергать нулевую гипотезу и считать, что статистически значимые различия в конверсии между группами по «сырым» данным есть, нет. Впрочем, средний чек группы B значительно выше среднего чека группы A - 25.9%"
   ]
  },
  {
   "cell_type": "code",
   "execution_count": 33,
   "metadata": {},
   "outputs": [
    {
     "name": "stdout",
     "output_type": "stream",
     "text": [
      "1099    148427295\n",
      "18      199603092\n",
      "928     204675465\n",
      "23      237748145\n",
      "37      249864742\n",
      "dtype: int64\n",
      "(111,)\n"
     ]
    }
   ],
   "source": [
    "usersWithManyOrders = pd.concat(\n",
    "    [\n",
    "        ordersByUsersA[ordersByUsersA['orders'] >= 2]['userId'],\n",
    "        ordersByUsersB[ordersByUsersB['orders'] >= 2]['userId'],\n",
    "    ],\n",
    "    axis=0,\n",
    ")\n",
    "usersWithExpensiveOrders = orders[orders['revenue'] > 28000]['visitorId']\n",
    "abnormalUsers = (\n",
    "    pd.concat([usersWithManyOrders, usersWithExpensiveOrders], axis=0)\n",
    "    .drop_duplicates()\n",
    "    .sort_values()\n",
    ")\n",
    "print(abnormalUsers.head(5))\n",
    "print(abnormalUsers.shape) "
   ]
  },
  {
   "cell_type": "markdown",
   "metadata": {},
   "source": [
    "### Комментарий\n",
    "- Примем за аномальных пользователей тех, кто совершил 2 и более заказов или совершил заказ дороже 28 000 рублей\n",
    "- Так мы уберём 5% пользователей с наибольшим числом заказов и 5% пользователей с дорогими заказами\n",
    "- Всего 63 аномальных пользователей"
   ]
  },
  {
   "cell_type": "markdown",
   "metadata": {},
   "source": [
    "##### Проверим третью гипотизу.\n",
    "Сформулируем нулевую гипотезу,статистически значимых различий в конверсии между группами по «очищенным» данным нет, тогда альтернативная гипотеза будет что статистически значимые различия в конверсии между группами по «очищенным» данным есть."
   ]
  },
  {
   "cell_type": "code",
   "execution_count": 34,
   "metadata": {},
   "outputs": [],
   "source": [
    "sampleAFiltered = pd.concat(\n",
    "    [\n",
    "        ordersByUsersA[\n",
    "            np.logical_not(ordersByUsersA['userId'].isin(abnormalUsers))\n",
    "        ]['orders'],\n",
    "        pd.Series(\n",
    "            0,\n",
    "            index=np.arange(\n",
    "                data['visitorsPerDateA'].sum() - len(ordersByUsersA['orders'])\n",
    "            ),\n",
    "            name='orders',\n",
    "        ),\n",
    "    ],\n",
    "    axis=0,\n",
    ")\n",
    "\n",
    "sampleBFiltered = pd.concat(\n",
    "    [\n",
    "        ordersByUsersB[\n",
    "            np.logical_not(ordersByUsersB['userId'].isin(abnormalUsers))\n",
    "        ]['orders'],\n",
    "        pd.Series(\n",
    "            0,\n",
    "            index=np.arange(\n",
    "                data['visitorsPerDateB'].sum() - len(ordersByUsersB['orders'])\n",
    "            ),\n",
    "            name='orders',\n",
    "        ),\n",
    "    ],\n",
    "    axis=0,\n",
    ") "
   ]
  },
  {
   "cell_type": "code",
   "execution_count": 35,
   "metadata": {},
   "outputs": [
    {
     "name": "stdout",
     "output_type": "stream",
     "text": [
      "p-value: 0.016\n",
      "Относительный прирост конверсии группы B: 0.168\n"
     ]
    }
   ],
   "source": [
    "print('p-value: {0:.3f}'.format(stats.mannwhitneyu(sampleAFiltered, sampleBFiltered,alternative='two-sided')[1]))\n",
    "print('Относительный прирост конверсии группы B: {0:.3f}'.format(sampleBFiltered.mean()/sampleAFiltered.mean()-1)) "
   ]
  },
  {
   "cell_type": "markdown",
   "metadata": {},
   "source": [
    "### Комментарий\n",
    "- Результаты по конверсии практически не изменились.p-value меньше 0.05. Значит, нулевую гипотезу о том, что статистически значимые различия в конверсии между группами по «очищеным» данным нет, отвергаем \n",
    "- Относительный прирост группы B к группе А увеличился до 16.8% "
   ]
  },
  {
   "cell_type": "markdown",
   "metadata": {},
   "source": [
    "##### Проверим четвертую гипотизу.\n",
    "Сформулируем нулевую гипотезу,статистически значимых различий в среднем чеке заказа между группами по «очищенным» данным нет, тогда альтернативная гипотеза будет что статистически значимые различия в конверсии между группами по «очищенным» данным есть."
   ]
  },
  {
   "cell_type": "code",
   "execution_count": 36,
   "metadata": {},
   "outputs": [
    {
     "name": "stdout",
     "output_type": "stream",
     "text": [
      "p-value: 0.835\n",
      "Относительное различие в среднем чеке между группами: -0.006\n"
     ]
    }
   ],
   "source": [
    "print(\n",
    "    'p-value: {0:.3f}'.format(\n",
    "        stats.mannwhitneyu(\n",
    "            orders[\n",
    "                np.logical_and(\n",
    "                    orders['group'] == 'A',\n",
    "                    np.logical_not(orders['visitorId'].isin(abnormalUsers)),\n",
    "                )\n",
    "            ]['revenue'],\n",
    "            orders[\n",
    "                np.logical_and(\n",
    "                    orders['group'] == 'B',\n",
    "                    np.logical_not(orders['visitorId'].isin(abnormalUsers)),\n",
    "                )\n",
    "            ]['revenue'],alternative='two-sided'\n",
    "        )[1]\n",
    "    )\n",
    ")\n",
    "\n",
    "print(\n",
    "    \"Относительное различие в среднем чеке между группами: {0:.3f}\".format(\n",
    "        orders[\n",
    "            np.logical_and(\n",
    "                orders['group'] == 'B',\n",
    "                np.logical_not(orders['visitorId'].isin(abnormalUsers)),\n",
    "            )\n",
    "        ]['revenue'].mean()\n",
    "        / orders[\n",
    "            np.logical_and(\n",
    "                orders['group'] == 'A',\n",
    "                np.logical_not(orders['visitorId'].isin(abnormalUsers)),\n",
    "            )\n",
    "        ]['revenue'].mean()\n",
    "        - 1\n",
    "    )\n",
    ") "
   ]
  },
  {
   "cell_type": "markdown",
   "metadata": {},
   "source": [
    "### Комментарий\n",
    "- - p-value значительно больше 0.05. Значит, причин отвергать нулевую гипотезу и считать, что статистически значимые различия в конверсии между группами по «очищеным» данным есть, нет. \n",
    "- После очистки данных разница в среднем чеке сократилась до 0.6% на этот раз в пользу группы А"
   ]
  },
  {
   "cell_type": "markdown",
   "metadata": {},
   "source": [
    "## Общий вывод\n",
    "- В первой части проекта мы приоритизировали гипотезы двумя фреймворками ICE и RICE, в первом случае на первое место попала гипотеза 8, во-втором гипотеза 7, изменение приоритизации гипотез произошло из за того что в фреймворке RICE добавилась дополнительная переменная \"Reach — скольких пользователей затронет изменение, которое вы хотите внести\"\n",
    "- Во-второй части проекта мы проанализировали A/B-тест. Вот результаты решённых в этом проекте задач:\n",
    "  - Кумулятивная выручка почти равномерно увеличивается в течение всего теста. Но начиная с 2019-08-18 выручка в группе В резко выросла и на протяжении оставшегося времени теста сильно опрережает группу А это может сигнализировать о всплесках числа заказов, либо о появлении очень дорогих заказов в выборке.\n",
    "  - Кумулятивный средний чек в группе В сильно вырос начиная с того же преиода что и на прошлом графике и до конца теста сильно больше чем в группе А, что может говорить о том что в группу В попали самые дорогие заказы, либо их число резко возросло. В начале теста в группе В средний чек также был выше.\n",
    "  - На графике относительного изменения кумулятивного среднего чека группы B к группе A наблюдаем значительные колебания относительного изменения кумулятивного среднего чека в группах, это может говорить о большом количестве крупных заказов и выбросов.\n",
    "  - На графике кумулятивной конверсии по группам мы видим,что в начале теста у обоих групп резкий скачек конверсии, группа А опережает В, потом спад. Группа В колеблица на высоком уровне, постепенно снижаясь и фиксируется к концу теста, а группа А колеблится значительно ниже.\n",
    "  - На графике относительного изменения кумулятивной конверсии группы B к группе A мы видим, что группа В почти с самого начала лидирует по конверсии становится лучше и лучше, и приближается к приросту 15% относительно группы А\n",
    "  - Основная часть пользователей делают 1-2 заказа, но есть выбросы, некоторые пользователи делают от 3 до 10 заказов но это единичные случаи, будем считать их аномальными пользователями\n",
    "  - Не более 5% заказов дороже 28000 рублей,все что более 5% примем за аномальные значения\n",
    "  - Мы проверили 4 гипотизы:\n",
    "    - Есть ли статистически значимые различия в конверсии между группами по «сырым» данным\n",
    "    - Есть ли статистически значимые различия в среднем чеке заказа между группами по «сырым» данным\n",
    "    - Есть ли статистически значимые различия в конверсии между группами по «очищенным» данным\n",
    "    - Есть ли статистически значимые различия в среднем чеке заказа между группами по «очищенным» данным\n",
    "  - И сделали вывод, что:\n",
    "    - Различия в конверсии между группами статистически значимы, конверсия в группе B больше на 16.8 % чем в группе A, как по сырым данным, так и после фильтрации аномалий\n",
    "    - Различия в среднем чеке между группами не являются статистически значимыми\n",
    "    - После очистки данных от дорогих заказов, искажающих картину показывает, что средний чек в группе B на 0,6 % меньше чем в группе А, а не больше на 25.9 % как было по сырым данным\n",
    "    - Остановить тест, зафиксировать победу группы В так как график различия конверсии между группами сообщает, что результаты группы B лучше группы A: имеют тенденцию к росту"
   ]
  }
 ],
 "metadata": {
  "ExecuteTimeLog": [
   {
    "duration": 1130,
    "start_time": "2021-08-21T19:44:24.775Z"
   },
   {
    "duration": 65,
    "start_time": "2021-08-21T19:44:38.455Z"
   },
   {
    "duration": 4,
    "start_time": "2021-08-21T19:44:49.365Z"
   },
   {
    "duration": 12,
    "start_time": "2021-08-21T19:45:05.985Z"
   },
   {
    "duration": 23,
    "start_time": "2021-08-21T19:45:18.165Z"
   },
   {
    "duration": 11,
    "start_time": "2021-08-21T19:45:34.115Z"
   },
   {
    "duration": 21,
    "start_time": "2021-08-21T19:45:44.925Z"
   },
   {
    "duration": 11,
    "start_time": "2021-08-21T19:45:57.045Z"
   },
   {
    "duration": 17,
    "start_time": "2021-08-21T19:46:07.465Z"
   },
   {
    "duration": 7,
    "start_time": "2021-08-21T19:46:19.246Z"
   },
   {
    "duration": 15,
    "start_time": "2021-08-21T19:47:13.455Z"
   },
   {
    "duration": 12,
    "start_time": "2021-08-21T19:47:23.295Z"
   },
   {
    "duration": 6,
    "start_time": "2021-08-21T19:48:12.885Z"
   },
   {
    "duration": 196,
    "start_time": "2021-08-21T19:48:29.455Z"
   },
   {
    "duration": 146,
    "start_time": "2021-08-21T19:48:39.295Z"
   },
   {
    "duration": 7,
    "start_time": "2021-08-21T19:48:49.755Z"
   },
   {
    "duration": 7,
    "start_time": "2021-08-21T19:48:59.195Z"
   },
   {
    "duration": 271,
    "start_time": "2021-08-21T19:49:08.325Z"
   },
   {
    "duration": 259,
    "start_time": "2021-08-21T19:50:26.815Z"
   },
   {
    "duration": 6,
    "start_time": "2021-08-21T19:52:02.206Z"
   },
   {
    "duration": 337,
    "start_time": "2021-08-21T19:52:11.225Z"
   },
   {
    "duration": 333,
    "start_time": "2021-08-21T19:52:15.046Z"
   },
   {
    "duration": 6,
    "start_time": "2021-08-21T19:52:59.046Z"
   },
   {
    "duration": 286,
    "start_time": "2021-08-21T19:53:08.565Z"
   },
   {
    "duration": 10,
    "start_time": "2021-08-21T19:53:46.795Z"
   },
   {
    "duration": 399,
    "start_time": "2021-08-21T19:53:55.596Z"
   },
   {
    "duration": 61,
    "start_time": "2021-08-21T19:54:17.646Z"
   },
   {
    "duration": 11,
    "start_time": "2021-08-21T19:54:36.465Z"
   },
   {
    "duration": 344,
    "start_time": "2021-08-21T19:54:47.805Z"
   },
   {
    "duration": 5,
    "start_time": "2021-08-21T19:55:22.145Z"
   },
   {
    "duration": 361,
    "start_time": "2021-08-21T19:55:45.765Z"
   },
   {
    "duration": 4,
    "start_time": "2021-08-21T19:56:17.676Z"
   },
   {
    "duration": 348,
    "start_time": "2021-08-21T19:56:49.006Z"
   },
   {
    "duration": 110,
    "start_time": "2021-08-21T19:57:13.316Z"
   },
   {
    "duration": 10,
    "start_time": "2021-08-21T19:58:13.596Z"
   },
   {
    "duration": 61,
    "start_time": "2021-08-21T19:58:51.056Z"
   },
   {
    "duration": 10,
    "start_time": "2021-08-21T19:59:09.926Z"
   },
   {
    "duration": 9,
    "start_time": "2021-08-21T19:59:40.316Z"
   },
   {
    "duration": 7,
    "start_time": "2021-08-21T19:59:53.066Z"
   },
   {
    "duration": 15,
    "start_time": "2021-08-21T20:00:24.436Z"
   },
   {
    "duration": 61,
    "start_time": "2021-08-21T20:00:54.936Z"
   },
   {
    "duration": 73,
    "start_time": "2021-08-21T20:01:03.946Z"
   },
   {
    "duration": 3,
    "start_time": "2021-08-21T20:01:04.021Z"
   },
   {
    "duration": 17,
    "start_time": "2021-08-21T20:01:04.026Z"
   },
   {
    "duration": 29,
    "start_time": "2021-08-21T20:01:04.045Z"
   },
   {
    "duration": 26,
    "start_time": "2021-08-21T20:01:04.076Z"
   },
   {
    "duration": 25,
    "start_time": "2021-08-21T20:01:04.104Z"
   },
   {
    "duration": 9,
    "start_time": "2021-08-21T20:01:04.130Z"
   },
   {
    "duration": 20,
    "start_time": "2021-08-21T20:01:04.140Z"
   },
   {
    "duration": 32,
    "start_time": "2021-08-21T20:01:04.163Z"
   },
   {
    "duration": 20,
    "start_time": "2021-08-21T20:01:04.203Z"
   },
   {
    "duration": 11,
    "start_time": "2021-08-21T20:01:04.225Z"
   },
   {
    "duration": 9,
    "start_time": "2021-08-21T20:01:04.238Z"
   },
   {
    "duration": 207,
    "start_time": "2021-08-21T20:01:04.249Z"
   },
   {
    "duration": 164,
    "start_time": "2021-08-21T20:01:04.457Z"
   },
   {
    "duration": 7,
    "start_time": "2021-08-21T20:01:04.622Z"
   },
   {
    "duration": 9,
    "start_time": "2021-08-21T20:01:04.630Z"
   },
   {
    "duration": 315,
    "start_time": "2021-08-21T20:01:04.641Z"
   },
   {
    "duration": 293,
    "start_time": "2021-08-21T20:01:04.958Z"
   },
   {
    "duration": 6,
    "start_time": "2021-08-21T20:01:05.252Z"
   },
   {
    "duration": 416,
    "start_time": "2021-08-21T20:01:05.260Z"
   },
   {
    "duration": 12,
    "start_time": "2021-08-21T20:01:05.679Z"
   },
   {
    "duration": 314,
    "start_time": "2021-08-21T20:01:05.693Z"
   },
   {
    "duration": 8,
    "start_time": "2021-08-21T20:01:06.009Z"
   },
   {
    "duration": 425,
    "start_time": "2021-08-21T20:01:06.020Z"
   },
   {
    "duration": 12,
    "start_time": "2021-08-21T20:01:06.447Z"
   },
   {
    "duration": 398,
    "start_time": "2021-08-21T20:01:06.461Z"
   },
   {
    "duration": 5,
    "start_time": "2021-08-21T20:01:06.862Z"
   },
   {
    "duration": 391,
    "start_time": "2021-08-21T20:01:06.869Z"
   },
   {
    "duration": 4,
    "start_time": "2021-08-21T20:01:07.262Z"
   },
   {
    "duration": 281,
    "start_time": "2021-08-21T20:01:07.268Z"
   },
   {
    "duration": 125,
    "start_time": "2021-08-21T20:01:07.551Z"
   },
   {
    "duration": 14,
    "start_time": "2021-08-21T20:01:07.678Z"
   },
   {
    "duration": 9,
    "start_time": "2021-08-21T20:01:07.694Z"
   },
   {
    "duration": 10,
    "start_time": "2021-08-21T20:01:07.705Z"
   },
   {
    "duration": 9,
    "start_time": "2021-08-21T20:01:07.717Z"
   },
   {
    "duration": 15,
    "start_time": "2021-08-21T20:01:07.727Z"
   },
   {
    "duration": 1468,
    "start_time": "2021-08-22T10:28:30.362Z"
   },
   {
    "duration": 5,
    "start_time": "2021-08-22T10:28:31.833Z"
   },
   {
    "duration": 40,
    "start_time": "2021-08-22T10:28:31.841Z"
   },
   {
    "duration": 52,
    "start_time": "2021-08-22T10:28:31.884Z"
   },
   {
    "duration": 18,
    "start_time": "2021-08-22T10:28:31.938Z"
   },
   {
    "duration": 44,
    "start_time": "2021-08-22T10:28:31.959Z"
   },
   {
    "duration": 13,
    "start_time": "2021-08-22T10:28:32.005Z"
   },
   {
    "duration": 50,
    "start_time": "2021-08-22T10:28:32.022Z"
   },
   {
    "duration": 10,
    "start_time": "2021-08-22T10:28:32.075Z"
   },
   {
    "duration": 28,
    "start_time": "2021-08-22T10:28:32.088Z"
   },
   {
    "duration": 37,
    "start_time": "2021-08-22T10:28:32.119Z"
   },
   {
    "duration": 14,
    "start_time": "2021-08-22T10:28:32.159Z"
   },
   {
    "duration": 371,
    "start_time": "2021-08-22T10:28:32.176Z"
   },
   {
    "duration": 280,
    "start_time": "2021-08-22T10:28:32.549Z"
   },
   {
    "duration": 10,
    "start_time": "2021-08-22T10:28:32.832Z"
   },
   {
    "duration": 15,
    "start_time": "2021-08-22T10:28:32.855Z"
   },
   {
    "duration": 551,
    "start_time": "2021-08-22T10:28:32.873Z"
   },
   {
    "duration": 595,
    "start_time": "2021-08-22T10:28:33.427Z"
   },
   {
    "duration": 13,
    "start_time": "2021-08-22T10:28:34.025Z"
   },
   {
    "duration": 581,
    "start_time": "2021-08-22T10:28:34.056Z"
   },
   {
    "duration": 23,
    "start_time": "2021-08-22T10:28:34.640Z"
   },
   {
    "duration": 459,
    "start_time": "2021-08-22T10:28:34.666Z"
   },
   {
    "duration": 23,
    "start_time": "2021-08-22T10:28:35.130Z"
   },
   {
    "duration": 555,
    "start_time": "2021-08-22T10:28:35.158Z"
   },
   {
    "duration": 19,
    "start_time": "2021-08-22T10:28:35.716Z"
   },
   {
    "duration": 477,
    "start_time": "2021-08-22T10:28:35.754Z"
   },
   {
    "duration": 5,
    "start_time": "2021-08-22T10:28:36.233Z"
   },
   {
    "duration": 509,
    "start_time": "2021-08-22T10:28:36.240Z"
   },
   {
    "duration": 7,
    "start_time": "2021-08-22T10:28:36.755Z"
   },
   {
    "duration": 489,
    "start_time": "2021-08-22T10:28:36.765Z"
   },
   {
    "duration": 256,
    "start_time": "2021-08-22T10:28:37.259Z"
   },
   {
    "duration": 14,
    "start_time": "2021-08-22T10:28:37.519Z"
   },
   {
    "duration": 39,
    "start_time": "2021-08-22T10:28:37.535Z"
   },
   {
    "duration": 12,
    "start_time": "2021-08-22T10:28:37.577Z"
   },
   {
    "duration": 27,
    "start_time": "2021-08-22T10:28:37.591Z"
   },
   {
    "duration": 49,
    "start_time": "2021-08-22T10:28:37.621Z"
   },
   {
    "duration": 1339,
    "start_time": "2021-08-22T11:16:27.516Z"
   },
   {
    "duration": 6,
    "start_time": "2021-08-22T11:16:28.858Z"
   },
   {
    "duration": 29,
    "start_time": "2021-08-22T11:16:28.867Z"
   },
   {
    "duration": 42,
    "start_time": "2021-08-22T11:16:28.899Z"
   },
   {
    "duration": 17,
    "start_time": "2021-08-22T11:16:28.944Z"
   },
   {
    "duration": 32,
    "start_time": "2021-08-22T11:16:28.982Z"
   },
   {
    "duration": 13,
    "start_time": "2021-08-22T11:16:29.017Z"
   },
   {
    "duration": 62,
    "start_time": "2021-08-22T11:16:29.033Z"
   },
   {
    "duration": 8,
    "start_time": "2021-08-22T11:16:29.101Z"
   },
   {
    "duration": 23,
    "start_time": "2021-08-22T11:16:29.114Z"
   },
   {
    "duration": 48,
    "start_time": "2021-08-22T11:16:29.140Z"
   },
   {
    "duration": 11,
    "start_time": "2021-08-22T11:16:29.191Z"
   },
   {
    "duration": 381,
    "start_time": "2021-08-22T11:16:29.205Z"
   },
   {
    "duration": 286,
    "start_time": "2021-08-22T11:16:29.588Z"
   },
   {
    "duration": 11,
    "start_time": "2021-08-22T11:16:29.883Z"
   },
   {
    "duration": 12,
    "start_time": "2021-08-22T11:16:29.896Z"
   },
   {
    "duration": 465,
    "start_time": "2021-08-22T11:16:29.911Z"
   },
   {
    "duration": 416,
    "start_time": "2021-08-22T11:16:30.382Z"
   },
   {
    "duration": 9,
    "start_time": "2021-08-22T11:16:30.800Z"
   },
   {
    "duration": 491,
    "start_time": "2021-08-22T11:16:30.811Z"
   },
   {
    "duration": 9,
    "start_time": "2021-08-22T11:16:31.304Z"
   },
   {
    "duration": 464,
    "start_time": "2021-08-22T11:16:31.315Z"
   },
   {
    "duration": 12,
    "start_time": "2021-08-22T11:16:31.783Z"
   },
   {
    "duration": 529,
    "start_time": "2021-08-22T11:16:31.798Z"
   },
   {
    "duration": 15,
    "start_time": "2021-08-22T11:16:32.330Z"
   },
   {
    "duration": 474,
    "start_time": "2021-08-22T11:16:32.348Z"
   },
   {
    "duration": 6,
    "start_time": "2021-08-22T11:16:32.827Z"
   },
   {
    "duration": 477,
    "start_time": "2021-08-22T11:16:32.835Z"
   },
   {
    "duration": 6,
    "start_time": "2021-08-22T11:16:33.314Z"
   },
   {
    "duration": 474,
    "start_time": "2021-08-22T11:16:33.322Z"
   },
   {
    "duration": 221,
    "start_time": "2021-08-22T11:16:33.798Z"
   },
   {
    "duration": 14,
    "start_time": "2021-08-22T11:16:34.022Z"
   },
   {
    "duration": 19,
    "start_time": "2021-08-22T11:16:34.039Z"
   },
   {
    "duration": 11,
    "start_time": "2021-08-22T11:16:34.083Z"
   },
   {
    "duration": 11,
    "start_time": "2021-08-22T11:16:34.096Z"
   },
   {
    "duration": 19,
    "start_time": "2021-08-22T11:16:34.109Z"
   },
   {
    "duration": 17,
    "start_time": "2021-08-22T11:21:27.206Z"
   },
   {
    "duration": 424,
    "start_time": "2021-08-22T11:27:41.756Z"
   },
   {
    "duration": 304,
    "start_time": "2021-08-22T11:29:14.246Z"
   },
   {
    "duration": 297,
    "start_time": "2021-08-22T11:29:29.317Z"
   },
   {
    "duration": 264,
    "start_time": "2021-08-22T11:29:54.136Z"
   },
   {
    "duration": 237,
    "start_time": "2021-08-22T11:30:08.826Z"
   },
   {
    "duration": 289,
    "start_time": "2021-08-22T11:30:45.446Z"
   },
   {
    "duration": 271,
    "start_time": "2021-08-22T11:30:51.797Z"
   },
   {
    "duration": 53,
    "start_time": "2021-08-22T11:30:54.868Z"
   },
   {
    "duration": 5,
    "start_time": "2021-08-22T11:30:54.924Z"
   },
   {
    "duration": 19,
    "start_time": "2021-08-22T11:30:54.932Z"
   },
   {
    "duration": 39,
    "start_time": "2021-08-22T11:30:54.954Z"
   },
   {
    "duration": 199,
    "start_time": "2021-08-22T11:30:54.995Z"
   },
   {
    "duration": 33,
    "start_time": "2021-08-22T11:30:55.197Z"
   },
   {
    "duration": 50,
    "start_time": "2021-08-22T11:30:55.232Z"
   },
   {
    "duration": 24,
    "start_time": "2021-08-22T11:30:55.285Z"
   },
   {
    "duration": 9,
    "start_time": "2021-08-22T11:30:55.313Z"
   },
   {
    "duration": 20,
    "start_time": "2021-08-22T11:30:55.325Z"
   },
   {
    "duration": 16,
    "start_time": "2021-08-22T11:30:55.382Z"
   },
   {
    "duration": 11,
    "start_time": "2021-08-22T11:30:55.400Z"
   },
   {
    "duration": 344,
    "start_time": "2021-08-22T11:30:55.414Z"
   },
   {
    "duration": 275,
    "start_time": "2021-08-22T11:30:55.760Z"
   },
   {
    "duration": 9,
    "start_time": "2021-08-22T11:30:56.037Z"
   },
   {
    "duration": 34,
    "start_time": "2021-08-22T11:30:56.049Z"
   },
   {
    "duration": 459,
    "start_time": "2021-08-22T11:30:56.086Z"
   },
   {
    "duration": 384,
    "start_time": "2021-08-22T11:30:56.548Z"
   },
   {
    "duration": 8,
    "start_time": "2021-08-22T11:30:56.934Z"
   },
   {
    "duration": 506,
    "start_time": "2021-08-22T11:30:56.945Z"
   },
   {
    "duration": 8,
    "start_time": "2021-08-22T11:30:57.453Z"
   },
   {
    "duration": 508,
    "start_time": "2021-08-22T11:30:57.464Z"
   },
   {
    "duration": 13,
    "start_time": "2021-08-22T11:30:57.975Z"
   },
   {
    "duration": 537,
    "start_time": "2021-08-22T11:30:57.990Z"
   },
   {
    "duration": 71,
    "start_time": "2021-08-22T11:30:58.530Z"
   },
   {
    "duration": 509,
    "start_time": "2021-08-22T11:30:58.603Z"
   },
   {
    "duration": 6,
    "start_time": "2021-08-22T11:30:59.117Z"
   },
   {
    "duration": 533,
    "start_time": "2021-08-22T11:30:59.126Z"
   },
   {
    "duration": 5,
    "start_time": "2021-08-22T11:30:59.662Z"
   },
   {
    "duration": 470,
    "start_time": "2021-08-22T11:30:59.670Z"
   },
   {
    "duration": 248,
    "start_time": "2021-08-22T11:31:00.143Z"
   },
   {
    "duration": 15,
    "start_time": "2021-08-22T11:31:00.393Z"
   },
   {
    "duration": 13,
    "start_time": "2021-08-22T11:31:00.411Z"
   },
   {
    "duration": 14,
    "start_time": "2021-08-22T11:31:00.427Z"
   },
   {
    "duration": 44,
    "start_time": "2021-08-22T11:31:00.443Z"
   },
   {
    "duration": 21,
    "start_time": "2021-08-22T11:31:00.489Z"
   },
   {
    "duration": 252,
    "start_time": "2021-08-22T11:32:21.707Z"
   },
   {
    "duration": 52,
    "start_time": "2021-08-22T11:32:34.896Z"
   },
   {
    "duration": 21,
    "start_time": "2021-08-22T11:35:23.586Z"
   },
   {
    "duration": 75,
    "start_time": "2021-08-22T11:35:33.187Z"
   },
   {
    "duration": 5,
    "start_time": "2021-08-22T11:35:33.265Z"
   },
   {
    "duration": 14,
    "start_time": "2021-08-22T11:35:33.273Z"
   },
   {
    "duration": 35,
    "start_time": "2021-08-22T11:35:33.289Z"
   },
   {
    "duration": 219,
    "start_time": "2021-08-22T11:35:33.326Z"
   },
   {
    "duration": 54,
    "start_time": "2021-08-22T11:35:33.547Z"
   },
   {
    "duration": 15,
    "start_time": "2021-08-22T11:35:33.603Z"
   },
   {
    "duration": 30,
    "start_time": "2021-08-22T11:35:33.622Z"
   },
   {
    "duration": 32,
    "start_time": "2021-08-22T11:35:33.654Z"
   },
   {
    "duration": 22,
    "start_time": "2021-08-22T11:35:33.688Z"
   },
   {
    "duration": 18,
    "start_time": "2021-08-22T11:35:33.712Z"
   },
   {
    "duration": 8,
    "start_time": "2021-08-22T11:35:33.732Z"
   },
   {
    "duration": 359,
    "start_time": "2021-08-22T11:35:33.743Z"
   },
   {
    "duration": 284,
    "start_time": "2021-08-22T11:35:34.105Z"
   },
   {
    "duration": 12,
    "start_time": "2021-08-22T11:35:34.392Z"
   },
   {
    "duration": 15,
    "start_time": "2021-08-22T11:35:34.407Z"
   },
   {
    "duration": 408,
    "start_time": "2021-08-22T11:35:34.424Z"
   },
   {
    "duration": 405,
    "start_time": "2021-08-22T11:35:34.835Z"
   },
   {
    "duration": 9,
    "start_time": "2021-08-22T11:35:35.242Z"
   },
   {
    "duration": 525,
    "start_time": "2021-08-22T11:35:35.253Z"
   },
   {
    "duration": 8,
    "start_time": "2021-08-22T11:35:35.780Z"
   },
   {
    "duration": 485,
    "start_time": "2021-08-22T11:35:35.790Z"
   },
   {
    "duration": 12,
    "start_time": "2021-08-22T11:35:36.283Z"
   },
   {
    "duration": 516,
    "start_time": "2021-08-22T11:35:36.298Z"
   },
   {
    "duration": 74,
    "start_time": "2021-08-22T11:35:36.817Z"
   },
   {
    "duration": 425,
    "start_time": "2021-08-22T11:35:36.894Z"
   },
   {
    "duration": 5,
    "start_time": "2021-08-22T11:35:37.322Z"
   },
   {
    "duration": 446,
    "start_time": "2021-08-22T11:35:37.330Z"
   },
   {
    "duration": 5,
    "start_time": "2021-08-22T11:35:37.782Z"
   },
   {
    "duration": 474,
    "start_time": "2021-08-22T11:35:37.790Z"
   },
   {
    "duration": 234,
    "start_time": "2021-08-22T11:35:38.267Z"
   },
   {
    "duration": 14,
    "start_time": "2021-08-22T11:35:38.503Z"
   },
   {
    "duration": 14,
    "start_time": "2021-08-22T11:35:38.520Z"
   },
   {
    "duration": 45,
    "start_time": "2021-08-22T11:35:38.537Z"
   },
   {
    "duration": 9,
    "start_time": "2021-08-22T11:35:38.585Z"
   },
   {
    "duration": 19,
    "start_time": "2021-08-22T11:35:38.596Z"
   },
   {
    "duration": 11,
    "start_time": "2021-08-22T11:38:33.077Z"
   },
   {
    "duration": 11,
    "start_time": "2021-08-22T11:38:48.517Z"
   },
   {
    "duration": 91,
    "start_time": "2021-08-22T11:53:34.978Z"
   },
   {
    "duration": 202,
    "start_time": "2021-08-22T11:55:39.038Z"
   },
   {
    "duration": 11,
    "start_time": "2021-08-22T11:56:20.118Z"
   },
   {
    "duration": 15,
    "start_time": "2021-08-22T11:57:07.588Z"
   },
   {
    "duration": 14,
    "start_time": "2021-08-22T11:57:33.938Z"
   },
   {
    "duration": 11,
    "start_time": "2021-08-22T11:57:37.148Z"
   },
   {
    "duration": 10,
    "start_time": "2021-08-22T11:57:38.938Z"
   },
   {
    "duration": 21,
    "start_time": "2021-08-22T11:57:41.038Z"
   },
   {
    "duration": 326,
    "start_time": "2021-08-22T11:58:31.038Z"
   },
   {
    "duration": 22,
    "start_time": "2021-08-22T11:59:06.648Z"
   },
   {
    "duration": 55,
    "start_time": "2021-08-22T13:14:01.773Z"
   },
   {
    "duration": 21,
    "start_time": "2021-08-22T13:14:01.831Z"
   },
   {
    "duration": 49,
    "start_time": "2021-08-22T13:14:01.856Z"
   },
   {
    "duration": 36,
    "start_time": "2021-08-22T13:14:01.909Z"
   },
   {
    "duration": 10,
    "start_time": "2021-08-22T13:14:01.948Z"
   },
   {
    "duration": 55,
    "start_time": "2021-08-22T13:14:01.960Z"
   },
   {
    "duration": 15,
    "start_time": "2021-08-22T13:14:02.017Z"
   },
   {
    "duration": 30,
    "start_time": "2021-08-22T13:14:02.034Z"
   },
   {
    "duration": 25,
    "start_time": "2021-08-22T13:14:02.068Z"
   },
   {
    "duration": 45,
    "start_time": "2021-08-22T13:14:02.096Z"
   },
   {
    "duration": 22,
    "start_time": "2021-08-22T13:14:02.143Z"
   },
   {
    "duration": 14,
    "start_time": "2021-08-22T13:14:02.168Z"
   },
   {
    "duration": 325,
    "start_time": "2021-08-22T13:14:02.185Z"
   },
   {
    "duration": 285,
    "start_time": "2021-08-22T13:14:02.513Z"
   },
   {
    "duration": 9,
    "start_time": "2021-08-22T13:14:02.801Z"
   },
   {
    "duration": 17,
    "start_time": "2021-08-22T13:14:02.812Z"
   },
   {
    "duration": 400,
    "start_time": "2021-08-22T13:14:02.831Z"
   },
   {
    "duration": 417,
    "start_time": "2021-08-22T13:14:03.233Z"
   },
   {
    "duration": 9,
    "start_time": "2021-08-22T13:14:03.652Z"
   },
   {
    "duration": 499,
    "start_time": "2021-08-22T13:14:03.663Z"
   },
   {
    "duration": 18,
    "start_time": "2021-08-22T13:14:04.164Z"
   },
   {
    "duration": 435,
    "start_time": "2021-08-22T13:14:04.185Z"
   },
   {
    "duration": 12,
    "start_time": "2021-08-22T13:14:04.622Z"
   },
   {
    "duration": 555,
    "start_time": "2021-08-22T13:14:04.636Z"
   },
   {
    "duration": 65,
    "start_time": "2021-08-22T13:14:05.194Z"
   },
   {
    "duration": 426,
    "start_time": "2021-08-22T13:14:05.281Z"
   },
   {
    "duration": 5,
    "start_time": "2021-08-22T13:14:05.713Z"
   },
   {
    "duration": 522,
    "start_time": "2021-08-22T13:14:05.721Z"
   },
   {
    "duration": 6,
    "start_time": "2021-08-22T13:14:06.245Z"
   },
   {
    "duration": 485,
    "start_time": "2021-08-22T13:14:06.254Z"
   },
   {
    "duration": 270,
    "start_time": "2021-08-22T13:14:06.742Z"
   },
   {
    "duration": 17,
    "start_time": "2021-08-22T13:14:07.015Z"
   },
   {
    "duration": 16,
    "start_time": "2021-08-22T13:14:07.035Z"
   },
   {
    "duration": 35,
    "start_time": "2021-08-22T13:14:07.054Z"
   },
   {
    "duration": 24,
    "start_time": "2021-08-22T13:14:07.092Z"
   },
   {
    "duration": 24,
    "start_time": "2021-08-22T13:14:07.118Z"
   },
   {
    "duration": 1283,
    "start_time": "2021-08-22T13:55:49.298Z"
   },
   {
    "duration": 5,
    "start_time": "2021-08-22T13:55:50.584Z"
   },
   {
    "duration": 33,
    "start_time": "2021-08-22T13:55:50.591Z"
   },
   {
    "duration": 53,
    "start_time": "2021-08-22T13:55:50.627Z"
   },
   {
    "duration": 10,
    "start_time": "2021-08-22T13:55:50.683Z"
   },
   {
    "duration": 44,
    "start_time": "2021-08-22T13:55:50.696Z"
   },
   {
    "duration": 10,
    "start_time": "2021-08-22T13:55:50.743Z"
   },
   {
    "duration": 38,
    "start_time": "2021-08-22T13:55:50.755Z"
   },
   {
    "duration": 11,
    "start_time": "2021-08-22T13:55:50.797Z"
   },
   {
    "duration": 44,
    "start_time": "2021-08-22T13:55:50.811Z"
   },
   {
    "duration": 17,
    "start_time": "2021-08-22T13:55:50.857Z"
   },
   {
    "duration": 16,
    "start_time": "2021-08-22T13:55:50.876Z"
   },
   {
    "duration": 329,
    "start_time": "2021-08-22T13:55:50.895Z"
   },
   {
    "duration": 277,
    "start_time": "2021-08-22T13:55:51.226Z"
   },
   {
    "duration": 20,
    "start_time": "2021-08-22T13:55:51.506Z"
   },
   {
    "duration": 20,
    "start_time": "2021-08-22T13:55:51.528Z"
   },
   {
    "duration": 401,
    "start_time": "2021-08-22T13:55:51.550Z"
   },
   {
    "duration": 379,
    "start_time": "2021-08-22T13:55:51.954Z"
   },
   {
    "duration": 8,
    "start_time": "2021-08-22T13:55:52.335Z"
   },
   {
    "duration": 513,
    "start_time": "2021-08-22T13:55:52.345Z"
   },
   {
    "duration": 8,
    "start_time": "2021-08-22T13:55:52.860Z"
   },
   {
    "duration": 420,
    "start_time": "2021-08-22T13:55:52.882Z"
   },
   {
    "duration": 11,
    "start_time": "2021-08-22T13:55:53.305Z"
   },
   {
    "duration": 492,
    "start_time": "2021-08-22T13:55:53.318Z"
   },
   {
    "duration": 14,
    "start_time": "2021-08-22T13:55:53.812Z"
   },
   {
    "duration": 422,
    "start_time": "2021-08-22T13:55:53.829Z"
   },
   {
    "duration": 5,
    "start_time": "2021-08-22T13:55:54.256Z"
   },
   {
    "duration": 454,
    "start_time": "2021-08-22T13:55:54.263Z"
   },
   {
    "duration": 6,
    "start_time": "2021-08-22T13:55:54.720Z"
   },
   {
    "duration": 471,
    "start_time": "2021-08-22T13:55:54.729Z"
   },
   {
    "duration": 238,
    "start_time": "2021-08-22T13:55:55.203Z"
   },
   {
    "duration": 30,
    "start_time": "2021-08-22T13:55:55.444Z"
   },
   {
    "duration": 28,
    "start_time": "2021-08-22T13:55:55.477Z"
   },
   {
    "duration": 41,
    "start_time": "2021-08-22T13:55:55.508Z"
   },
   {
    "duration": 24,
    "start_time": "2021-08-22T13:55:55.552Z"
   },
   {
    "duration": 109,
    "start_time": "2021-08-22T13:55:55.580Z"
   }
  ],
  "kernelspec": {
   "display_name": "Python 3",
   "language": "python",
   "name": "python3"
  },
  "language_info": {
   "codemirror_mode": {
    "name": "ipython",
    "version": 3
   },
   "file_extension": ".py",
   "mimetype": "text/x-python",
   "name": "python",
   "nbconvert_exporter": "python",
   "pygments_lexer": "ipython3",
   "version": "3.7.10"
  },
  "toc": {
   "base_numbering": 1,
   "nav_menu": {},
   "number_sections": true,
   "sideBar": true,
   "skip_h1_title": true,
   "title_cell": "Table of Contents",
   "title_sidebar": "Contents",
   "toc_cell": false,
   "toc_position": {},
   "toc_section_display": true,
   "toc_window_display": false
  }
 },
 "nbformat": 4,
 "nbformat_minor": 2
}
