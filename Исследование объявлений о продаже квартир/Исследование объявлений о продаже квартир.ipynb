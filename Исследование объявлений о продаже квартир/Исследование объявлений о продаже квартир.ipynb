{
 "cells": [
  {
   "cell_type": "markdown",
   "metadata": {},
   "source": [
    "# Исследование объявлений о продаже квартир\n",
    "\n",
    "В нашем распоряжении данные сервиса Яндекс.Недвижимость — архив объявлений о продаже квартир в Санкт-Петербурге и соседних населённых пунктах за несколько лет. Нужно научиться определять рыночную стоимость объектов недвижимости. Наша задача — установить параметры. Это позволит построить автоматизированную систему: она отследит аномалии и мошенническую деятельность. \n",
    "\n",
    "По каждой квартире на продажу доступны два вида данных. Первые вписаны пользователем, вторые получены автоматически на основе картографических данных. Например, расстояние до центра, аэропорта, ближайшего парка и водоёма. "
   ]
  },
  {
   "cell_type": "markdown",
   "metadata": {},
   "source": [
    "## Изучение данных из файла"
   ]
  },
  {
   "cell_type": "code",
   "execution_count": 1,
   "metadata": {},
   "outputs": [
    {
     "data": {
      "text/html": [
       "<div>\n",
       "<style scoped>\n",
       "    .dataframe tbody tr th:only-of-type {\n",
       "        vertical-align: middle;\n",
       "    }\n",
       "\n",
       "    .dataframe tbody tr th {\n",
       "        vertical-align: top;\n",
       "    }\n",
       "\n",
       "    .dataframe thead th {\n",
       "        text-align: right;\n",
       "    }\n",
       "</style>\n",
       "<table border=\"1\" class=\"dataframe\">\n",
       "  <thead>\n",
       "    <tr style=\"text-align: right;\">\n",
       "      <th></th>\n",
       "      <th>total_images</th>\n",
       "      <th>last_price</th>\n",
       "      <th>total_area</th>\n",
       "      <th>first_day_exposition</th>\n",
       "      <th>rooms</th>\n",
       "      <th>ceiling_height</th>\n",
       "      <th>floors_total</th>\n",
       "      <th>living_area</th>\n",
       "      <th>floor</th>\n",
       "      <th>is_apartment</th>\n",
       "      <th>...</th>\n",
       "      <th>kitchen_area</th>\n",
       "      <th>balcony</th>\n",
       "      <th>locality_name</th>\n",
       "      <th>airports_nearest</th>\n",
       "      <th>cityCenters_nearest</th>\n",
       "      <th>parks_around3000</th>\n",
       "      <th>parks_nearest</th>\n",
       "      <th>ponds_around3000</th>\n",
       "      <th>ponds_nearest</th>\n",
       "      <th>days_exposition</th>\n",
       "    </tr>\n",
       "  </thead>\n",
       "  <tbody>\n",
       "    <tr>\n",
       "      <td>0</td>\n",
       "      <td>20</td>\n",
       "      <td>13000000.0</td>\n",
       "      <td>108.00</td>\n",
       "      <td>2019-03-07T00:00:00</td>\n",
       "      <td>3</td>\n",
       "      <td>2.70</td>\n",
       "      <td>16.0</td>\n",
       "      <td>51.0</td>\n",
       "      <td>8</td>\n",
       "      <td>NaN</td>\n",
       "      <td>...</td>\n",
       "      <td>25.00</td>\n",
       "      <td>NaN</td>\n",
       "      <td>Санкт-Петербург</td>\n",
       "      <td>18863.0</td>\n",
       "      <td>16028.0</td>\n",
       "      <td>1.0</td>\n",
       "      <td>482.0</td>\n",
       "      <td>2.0</td>\n",
       "      <td>755.0</td>\n",
       "      <td>NaN</td>\n",
       "    </tr>\n",
       "    <tr>\n",
       "      <td>1</td>\n",
       "      <td>7</td>\n",
       "      <td>3350000.0</td>\n",
       "      <td>40.40</td>\n",
       "      <td>2018-12-04T00:00:00</td>\n",
       "      <td>1</td>\n",
       "      <td>NaN</td>\n",
       "      <td>11.0</td>\n",
       "      <td>18.6</td>\n",
       "      <td>1</td>\n",
       "      <td>NaN</td>\n",
       "      <td>...</td>\n",
       "      <td>11.00</td>\n",
       "      <td>2.0</td>\n",
       "      <td>посёлок Шушары</td>\n",
       "      <td>12817.0</td>\n",
       "      <td>18603.0</td>\n",
       "      <td>0.0</td>\n",
       "      <td>NaN</td>\n",
       "      <td>0.0</td>\n",
       "      <td>NaN</td>\n",
       "      <td>81.0</td>\n",
       "    </tr>\n",
       "    <tr>\n",
       "      <td>2</td>\n",
       "      <td>10</td>\n",
       "      <td>5196000.0</td>\n",
       "      <td>56.00</td>\n",
       "      <td>2015-08-20T00:00:00</td>\n",
       "      <td>2</td>\n",
       "      <td>NaN</td>\n",
       "      <td>5.0</td>\n",
       "      <td>34.3</td>\n",
       "      <td>4</td>\n",
       "      <td>NaN</td>\n",
       "      <td>...</td>\n",
       "      <td>8.30</td>\n",
       "      <td>0.0</td>\n",
       "      <td>Санкт-Петербург</td>\n",
       "      <td>21741.0</td>\n",
       "      <td>13933.0</td>\n",
       "      <td>1.0</td>\n",
       "      <td>90.0</td>\n",
       "      <td>2.0</td>\n",
       "      <td>574.0</td>\n",
       "      <td>558.0</td>\n",
       "    </tr>\n",
       "    <tr>\n",
       "      <td>3</td>\n",
       "      <td>0</td>\n",
       "      <td>64900000.0</td>\n",
       "      <td>159.00</td>\n",
       "      <td>2015-07-24T00:00:00</td>\n",
       "      <td>3</td>\n",
       "      <td>NaN</td>\n",
       "      <td>14.0</td>\n",
       "      <td>NaN</td>\n",
       "      <td>9</td>\n",
       "      <td>NaN</td>\n",
       "      <td>...</td>\n",
       "      <td>NaN</td>\n",
       "      <td>0.0</td>\n",
       "      <td>Санкт-Петербург</td>\n",
       "      <td>28098.0</td>\n",
       "      <td>6800.0</td>\n",
       "      <td>2.0</td>\n",
       "      <td>84.0</td>\n",
       "      <td>3.0</td>\n",
       "      <td>234.0</td>\n",
       "      <td>424.0</td>\n",
       "    </tr>\n",
       "    <tr>\n",
       "      <td>4</td>\n",
       "      <td>2</td>\n",
       "      <td>10000000.0</td>\n",
       "      <td>100.00</td>\n",
       "      <td>2018-06-19T00:00:00</td>\n",
       "      <td>2</td>\n",
       "      <td>3.03</td>\n",
       "      <td>14.0</td>\n",
       "      <td>32.0</td>\n",
       "      <td>13</td>\n",
       "      <td>NaN</td>\n",
       "      <td>...</td>\n",
       "      <td>41.00</td>\n",
       "      <td>NaN</td>\n",
       "      <td>Санкт-Петербург</td>\n",
       "      <td>31856.0</td>\n",
       "      <td>8098.0</td>\n",
       "      <td>2.0</td>\n",
       "      <td>112.0</td>\n",
       "      <td>1.0</td>\n",
       "      <td>48.0</td>\n",
       "      <td>121.0</td>\n",
       "    </tr>\n",
       "    <tr>\n",
       "      <td>...</td>\n",
       "      <td>...</td>\n",
       "      <td>...</td>\n",
       "      <td>...</td>\n",
       "      <td>...</td>\n",
       "      <td>...</td>\n",
       "      <td>...</td>\n",
       "      <td>...</td>\n",
       "      <td>...</td>\n",
       "      <td>...</td>\n",
       "      <td>...</td>\n",
       "      <td>...</td>\n",
       "      <td>...</td>\n",
       "      <td>...</td>\n",
       "      <td>...</td>\n",
       "      <td>...</td>\n",
       "      <td>...</td>\n",
       "      <td>...</td>\n",
       "      <td>...</td>\n",
       "      <td>...</td>\n",
       "      <td>...</td>\n",
       "      <td>...</td>\n",
       "    </tr>\n",
       "    <tr>\n",
       "      <td>23694</td>\n",
       "      <td>9</td>\n",
       "      <td>9700000.0</td>\n",
       "      <td>133.81</td>\n",
       "      <td>2017-03-21T00:00:00</td>\n",
       "      <td>3</td>\n",
       "      <td>3.70</td>\n",
       "      <td>5.0</td>\n",
       "      <td>73.3</td>\n",
       "      <td>3</td>\n",
       "      <td>NaN</td>\n",
       "      <td>...</td>\n",
       "      <td>13.83</td>\n",
       "      <td>NaN</td>\n",
       "      <td>Санкт-Петербург</td>\n",
       "      <td>24665.0</td>\n",
       "      <td>4232.0</td>\n",
       "      <td>1.0</td>\n",
       "      <td>796.0</td>\n",
       "      <td>3.0</td>\n",
       "      <td>381.0</td>\n",
       "      <td>NaN</td>\n",
       "    </tr>\n",
       "    <tr>\n",
       "      <td>23695</td>\n",
       "      <td>14</td>\n",
       "      <td>3100000.0</td>\n",
       "      <td>59.00</td>\n",
       "      <td>2018-01-15T00:00:00</td>\n",
       "      <td>3</td>\n",
       "      <td>NaN</td>\n",
       "      <td>5.0</td>\n",
       "      <td>38.0</td>\n",
       "      <td>4</td>\n",
       "      <td>NaN</td>\n",
       "      <td>...</td>\n",
       "      <td>8.50</td>\n",
       "      <td>NaN</td>\n",
       "      <td>Тосно</td>\n",
       "      <td>NaN</td>\n",
       "      <td>NaN</td>\n",
       "      <td>NaN</td>\n",
       "      <td>NaN</td>\n",
       "      <td>NaN</td>\n",
       "      <td>NaN</td>\n",
       "      <td>45.0</td>\n",
       "    </tr>\n",
       "    <tr>\n",
       "      <td>23696</td>\n",
       "      <td>18</td>\n",
       "      <td>2500000.0</td>\n",
       "      <td>56.70</td>\n",
       "      <td>2018-02-11T00:00:00</td>\n",
       "      <td>2</td>\n",
       "      <td>NaN</td>\n",
       "      <td>3.0</td>\n",
       "      <td>29.7</td>\n",
       "      <td>1</td>\n",
       "      <td>NaN</td>\n",
       "      <td>...</td>\n",
       "      <td>NaN</td>\n",
       "      <td>NaN</td>\n",
       "      <td>село Рождествено</td>\n",
       "      <td>NaN</td>\n",
       "      <td>NaN</td>\n",
       "      <td>NaN</td>\n",
       "      <td>NaN</td>\n",
       "      <td>NaN</td>\n",
       "      <td>NaN</td>\n",
       "      <td>NaN</td>\n",
       "    </tr>\n",
       "    <tr>\n",
       "      <td>23697</td>\n",
       "      <td>13</td>\n",
       "      <td>11475000.0</td>\n",
       "      <td>76.75</td>\n",
       "      <td>2017-03-28T00:00:00</td>\n",
       "      <td>2</td>\n",
       "      <td>3.00</td>\n",
       "      <td>17.0</td>\n",
       "      <td>NaN</td>\n",
       "      <td>12</td>\n",
       "      <td>NaN</td>\n",
       "      <td>...</td>\n",
       "      <td>23.30</td>\n",
       "      <td>2.0</td>\n",
       "      <td>Санкт-Петербург</td>\n",
       "      <td>39140.0</td>\n",
       "      <td>10364.0</td>\n",
       "      <td>2.0</td>\n",
       "      <td>173.0</td>\n",
       "      <td>3.0</td>\n",
       "      <td>196.0</td>\n",
       "      <td>602.0</td>\n",
       "    </tr>\n",
       "    <tr>\n",
       "      <td>23698</td>\n",
       "      <td>4</td>\n",
       "      <td>1350000.0</td>\n",
       "      <td>32.30</td>\n",
       "      <td>2017-07-21T00:00:00</td>\n",
       "      <td>1</td>\n",
       "      <td>2.50</td>\n",
       "      <td>5.0</td>\n",
       "      <td>12.3</td>\n",
       "      <td>1</td>\n",
       "      <td>NaN</td>\n",
       "      <td>...</td>\n",
       "      <td>9.00</td>\n",
       "      <td>NaN</td>\n",
       "      <td>поселок Новый Учхоз</td>\n",
       "      <td>NaN</td>\n",
       "      <td>NaN</td>\n",
       "      <td>NaN</td>\n",
       "      <td>NaN</td>\n",
       "      <td>NaN</td>\n",
       "      <td>NaN</td>\n",
       "      <td>NaN</td>\n",
       "    </tr>\n",
       "  </tbody>\n",
       "</table>\n",
       "<p>23699 rows × 22 columns</p>\n",
       "</div>"
      ],
      "text/plain": [
       "       total_images  last_price  total_area first_day_exposition  rooms  \\\n",
       "0                20  13000000.0      108.00  2019-03-07T00:00:00      3   \n",
       "1                 7   3350000.0       40.40  2018-12-04T00:00:00      1   \n",
       "2                10   5196000.0       56.00  2015-08-20T00:00:00      2   \n",
       "3                 0  64900000.0      159.00  2015-07-24T00:00:00      3   \n",
       "4                 2  10000000.0      100.00  2018-06-19T00:00:00      2   \n",
       "...             ...         ...         ...                  ...    ...   \n",
       "23694             9   9700000.0      133.81  2017-03-21T00:00:00      3   \n",
       "23695            14   3100000.0       59.00  2018-01-15T00:00:00      3   \n",
       "23696            18   2500000.0       56.70  2018-02-11T00:00:00      2   \n",
       "23697            13  11475000.0       76.75  2017-03-28T00:00:00      2   \n",
       "23698             4   1350000.0       32.30  2017-07-21T00:00:00      1   \n",
       "\n",
       "       ceiling_height  floors_total  living_area  floor is_apartment  ...  \\\n",
       "0                2.70          16.0         51.0      8          NaN  ...   \n",
       "1                 NaN          11.0         18.6      1          NaN  ...   \n",
       "2                 NaN           5.0         34.3      4          NaN  ...   \n",
       "3                 NaN          14.0          NaN      9          NaN  ...   \n",
       "4                3.03          14.0         32.0     13          NaN  ...   \n",
       "...               ...           ...          ...    ...          ...  ...   \n",
       "23694            3.70           5.0         73.3      3          NaN  ...   \n",
       "23695             NaN           5.0         38.0      4          NaN  ...   \n",
       "23696             NaN           3.0         29.7      1          NaN  ...   \n",
       "23697            3.00          17.0          NaN     12          NaN  ...   \n",
       "23698            2.50           5.0         12.3      1          NaN  ...   \n",
       "\n",
       "       kitchen_area  balcony        locality_name  airports_nearest  \\\n",
       "0             25.00      NaN      Санкт-Петербург           18863.0   \n",
       "1             11.00      2.0       посёлок Шушары           12817.0   \n",
       "2              8.30      0.0      Санкт-Петербург           21741.0   \n",
       "3               NaN      0.0      Санкт-Петербург           28098.0   \n",
       "4             41.00      NaN      Санкт-Петербург           31856.0   \n",
       "...             ...      ...                  ...               ...   \n",
       "23694         13.83      NaN      Санкт-Петербург           24665.0   \n",
       "23695          8.50      NaN                Тосно               NaN   \n",
       "23696           NaN      NaN     село Рождествено               NaN   \n",
       "23697         23.30      2.0      Санкт-Петербург           39140.0   \n",
       "23698          9.00      NaN  поселок Новый Учхоз               NaN   \n",
       "\n",
       "      cityCenters_nearest  parks_around3000  parks_nearest  ponds_around3000  \\\n",
       "0                 16028.0               1.0          482.0               2.0   \n",
       "1                 18603.0               0.0            NaN               0.0   \n",
       "2                 13933.0               1.0           90.0               2.0   \n",
       "3                  6800.0               2.0           84.0               3.0   \n",
       "4                  8098.0               2.0          112.0               1.0   \n",
       "...                   ...               ...            ...               ...   \n",
       "23694              4232.0               1.0          796.0               3.0   \n",
       "23695                 NaN               NaN            NaN               NaN   \n",
       "23696                 NaN               NaN            NaN               NaN   \n",
       "23697             10364.0               2.0          173.0               3.0   \n",
       "23698                 NaN               NaN            NaN               NaN   \n",
       "\n",
       "       ponds_nearest  days_exposition  \n",
       "0              755.0              NaN  \n",
       "1                NaN             81.0  \n",
       "2              574.0            558.0  \n",
       "3              234.0            424.0  \n",
       "4               48.0            121.0  \n",
       "...              ...              ...  \n",
       "23694          381.0              NaN  \n",
       "23695            NaN             45.0  \n",
       "23696            NaN              NaN  \n",
       "23697          196.0            602.0  \n",
       "23698            NaN              NaN  \n",
       "\n",
       "[23699 rows x 22 columns]"
      ]
     },
     "execution_count": 1,
     "metadata": {},
     "output_type": "execute_result"
    }
   ],
   "source": [
    "import pandas as pd\n",
    "import matplotlib.pyplot as plt\n",
    "pd.set_option('chained_assignment', None)\n",
    "data = pd.read_csv('/Users/sasha/Desktop/real_estate_data.csv',sep='\\t') \n",
    "data"
   ]
  },
  {
   "cell_type": "code",
   "execution_count": 2,
   "metadata": {},
   "outputs": [
    {
     "name": "stdout",
     "output_type": "stream",
     "text": [
      "<class 'pandas.core.frame.DataFrame'>\n",
      "RangeIndex: 23699 entries, 0 to 23698\n",
      "Data columns (total 22 columns):\n",
      "total_images            23699 non-null int64\n",
      "last_price              23699 non-null float64\n",
      "total_area              23699 non-null float64\n",
      "first_day_exposition    23699 non-null object\n",
      "rooms                   23699 non-null int64\n",
      "ceiling_height          14504 non-null float64\n",
      "floors_total            23613 non-null float64\n",
      "living_area             21796 non-null float64\n",
      "floor                   23699 non-null int64\n",
      "is_apartment            2775 non-null object\n",
      "studio                  23699 non-null bool\n",
      "open_plan               23699 non-null bool\n",
      "kitchen_area            21421 non-null float64\n",
      "balcony                 12180 non-null float64\n",
      "locality_name           23650 non-null object\n",
      "airports_nearest        18157 non-null float64\n",
      "cityCenters_nearest     18180 non-null float64\n",
      "parks_around3000        18181 non-null float64\n",
      "parks_nearest           8079 non-null float64\n",
      "ponds_around3000        18181 non-null float64\n",
      "ponds_nearest           9110 non-null float64\n",
      "days_exposition         20518 non-null float64\n",
      "dtypes: bool(2), float64(14), int64(3), object(3)\n",
      "memory usage: 3.7+ MB\n"
     ]
    }
   ],
   "source": [
    "data.info()"
   ]
  },
  {
   "cell_type": "code",
   "execution_count": 3,
   "metadata": {},
   "outputs": [
    {
     "data": {
      "text/html": [
       "<div>\n",
       "<style scoped>\n",
       "    .dataframe tbody tr th:only-of-type {\n",
       "        vertical-align: middle;\n",
       "    }\n",
       "\n",
       "    .dataframe tbody tr th {\n",
       "        vertical-align: top;\n",
       "    }\n",
       "\n",
       "    .dataframe thead th {\n",
       "        text-align: right;\n",
       "    }\n",
       "</style>\n",
       "<table border=\"1\" class=\"dataframe\">\n",
       "  <thead>\n",
       "    <tr style=\"text-align: right;\">\n",
       "      <th></th>\n",
       "      <th>total_images</th>\n",
       "      <th>last_price</th>\n",
       "      <th>total_area</th>\n",
       "      <th>rooms</th>\n",
       "      <th>ceiling_height</th>\n",
       "      <th>floors_total</th>\n",
       "      <th>living_area</th>\n",
       "      <th>floor</th>\n",
       "      <th>kitchen_area</th>\n",
       "      <th>balcony</th>\n",
       "      <th>airports_nearest</th>\n",
       "      <th>cityCenters_nearest</th>\n",
       "      <th>parks_around3000</th>\n",
       "      <th>parks_nearest</th>\n",
       "      <th>ponds_around3000</th>\n",
       "      <th>ponds_nearest</th>\n",
       "      <th>days_exposition</th>\n",
       "    </tr>\n",
       "  </thead>\n",
       "  <tbody>\n",
       "    <tr>\n",
       "      <td>count</td>\n",
       "      <td>23699.000000</td>\n",
       "      <td>2.369900e+04</td>\n",
       "      <td>23699.000000</td>\n",
       "      <td>23699.000000</td>\n",
       "      <td>14504.000000</td>\n",
       "      <td>23613.000000</td>\n",
       "      <td>21796.000000</td>\n",
       "      <td>23699.000000</td>\n",
       "      <td>21421.000000</td>\n",
       "      <td>12180.000000</td>\n",
       "      <td>18157.000000</td>\n",
       "      <td>18180.000000</td>\n",
       "      <td>18181.000000</td>\n",
       "      <td>8079.000000</td>\n",
       "      <td>18181.000000</td>\n",
       "      <td>9110.000000</td>\n",
       "      <td>20518.000000</td>\n",
       "    </tr>\n",
       "    <tr>\n",
       "      <td>mean</td>\n",
       "      <td>9.858475</td>\n",
       "      <td>6.541549e+06</td>\n",
       "      <td>60.348651</td>\n",
       "      <td>2.070636</td>\n",
       "      <td>2.771499</td>\n",
       "      <td>10.673824</td>\n",
       "      <td>34.457852</td>\n",
       "      <td>5.892358</td>\n",
       "      <td>10.569807</td>\n",
       "      <td>1.150082</td>\n",
       "      <td>28793.672193</td>\n",
       "      <td>14191.277833</td>\n",
       "      <td>0.611408</td>\n",
       "      <td>490.804555</td>\n",
       "      <td>0.770255</td>\n",
       "      <td>517.980900</td>\n",
       "      <td>180.888634</td>\n",
       "    </tr>\n",
       "    <tr>\n",
       "      <td>std</td>\n",
       "      <td>5.682529</td>\n",
       "      <td>1.088701e+07</td>\n",
       "      <td>35.654083</td>\n",
       "      <td>1.078405</td>\n",
       "      <td>1.261056</td>\n",
       "      <td>6.597173</td>\n",
       "      <td>22.030445</td>\n",
       "      <td>4.885249</td>\n",
       "      <td>5.905438</td>\n",
       "      <td>1.071300</td>\n",
       "      <td>12630.880622</td>\n",
       "      <td>8608.386210</td>\n",
       "      <td>0.802074</td>\n",
       "      <td>342.317995</td>\n",
       "      <td>0.938346</td>\n",
       "      <td>277.720643</td>\n",
       "      <td>219.727988</td>\n",
       "    </tr>\n",
       "    <tr>\n",
       "      <td>min</td>\n",
       "      <td>0.000000</td>\n",
       "      <td>1.219000e+04</td>\n",
       "      <td>12.000000</td>\n",
       "      <td>0.000000</td>\n",
       "      <td>1.000000</td>\n",
       "      <td>1.000000</td>\n",
       "      <td>2.000000</td>\n",
       "      <td>1.000000</td>\n",
       "      <td>1.300000</td>\n",
       "      <td>0.000000</td>\n",
       "      <td>0.000000</td>\n",
       "      <td>181.000000</td>\n",
       "      <td>0.000000</td>\n",
       "      <td>1.000000</td>\n",
       "      <td>0.000000</td>\n",
       "      <td>13.000000</td>\n",
       "      <td>1.000000</td>\n",
       "    </tr>\n",
       "    <tr>\n",
       "      <td>25%</td>\n",
       "      <td>6.000000</td>\n",
       "      <td>3.400000e+06</td>\n",
       "      <td>40.000000</td>\n",
       "      <td>1.000000</td>\n",
       "      <td>2.520000</td>\n",
       "      <td>5.000000</td>\n",
       "      <td>18.600000</td>\n",
       "      <td>2.000000</td>\n",
       "      <td>7.000000</td>\n",
       "      <td>0.000000</td>\n",
       "      <td>18585.000000</td>\n",
       "      <td>9238.000000</td>\n",
       "      <td>0.000000</td>\n",
       "      <td>288.000000</td>\n",
       "      <td>0.000000</td>\n",
       "      <td>294.000000</td>\n",
       "      <td>45.000000</td>\n",
       "    </tr>\n",
       "    <tr>\n",
       "      <td>50%</td>\n",
       "      <td>9.000000</td>\n",
       "      <td>4.650000e+06</td>\n",
       "      <td>52.000000</td>\n",
       "      <td>2.000000</td>\n",
       "      <td>2.650000</td>\n",
       "      <td>9.000000</td>\n",
       "      <td>30.000000</td>\n",
       "      <td>4.000000</td>\n",
       "      <td>9.100000</td>\n",
       "      <td>1.000000</td>\n",
       "      <td>26726.000000</td>\n",
       "      <td>13098.500000</td>\n",
       "      <td>0.000000</td>\n",
       "      <td>455.000000</td>\n",
       "      <td>1.000000</td>\n",
       "      <td>502.000000</td>\n",
       "      <td>95.000000</td>\n",
       "    </tr>\n",
       "    <tr>\n",
       "      <td>75%</td>\n",
       "      <td>14.000000</td>\n",
       "      <td>6.800000e+06</td>\n",
       "      <td>69.900000</td>\n",
       "      <td>3.000000</td>\n",
       "      <td>2.800000</td>\n",
       "      <td>16.000000</td>\n",
       "      <td>42.300000</td>\n",
       "      <td>8.000000</td>\n",
       "      <td>12.000000</td>\n",
       "      <td>2.000000</td>\n",
       "      <td>37273.000000</td>\n",
       "      <td>16293.000000</td>\n",
       "      <td>1.000000</td>\n",
       "      <td>612.000000</td>\n",
       "      <td>1.000000</td>\n",
       "      <td>729.000000</td>\n",
       "      <td>232.000000</td>\n",
       "    </tr>\n",
       "    <tr>\n",
       "      <td>max</td>\n",
       "      <td>50.000000</td>\n",
       "      <td>7.630000e+08</td>\n",
       "      <td>900.000000</td>\n",
       "      <td>19.000000</td>\n",
       "      <td>100.000000</td>\n",
       "      <td>60.000000</td>\n",
       "      <td>409.700000</td>\n",
       "      <td>33.000000</td>\n",
       "      <td>112.000000</td>\n",
       "      <td>5.000000</td>\n",
       "      <td>84869.000000</td>\n",
       "      <td>65968.000000</td>\n",
       "      <td>3.000000</td>\n",
       "      <td>3190.000000</td>\n",
       "      <td>3.000000</td>\n",
       "      <td>1344.000000</td>\n",
       "      <td>1580.000000</td>\n",
       "    </tr>\n",
       "  </tbody>\n",
       "</table>\n",
       "</div>"
      ],
      "text/plain": [
       "       total_images    last_price    total_area         rooms  ceiling_height  \\\n",
       "count  23699.000000  2.369900e+04  23699.000000  23699.000000    14504.000000   \n",
       "mean       9.858475  6.541549e+06     60.348651      2.070636        2.771499   \n",
       "std        5.682529  1.088701e+07     35.654083      1.078405        1.261056   \n",
       "min        0.000000  1.219000e+04     12.000000      0.000000        1.000000   \n",
       "25%        6.000000  3.400000e+06     40.000000      1.000000        2.520000   \n",
       "50%        9.000000  4.650000e+06     52.000000      2.000000        2.650000   \n",
       "75%       14.000000  6.800000e+06     69.900000      3.000000        2.800000   \n",
       "max       50.000000  7.630000e+08    900.000000     19.000000      100.000000   \n",
       "\n",
       "       floors_total   living_area         floor  kitchen_area       balcony  \\\n",
       "count  23613.000000  21796.000000  23699.000000  21421.000000  12180.000000   \n",
       "mean      10.673824     34.457852      5.892358     10.569807      1.150082   \n",
       "std        6.597173     22.030445      4.885249      5.905438      1.071300   \n",
       "min        1.000000      2.000000      1.000000      1.300000      0.000000   \n",
       "25%        5.000000     18.600000      2.000000      7.000000      0.000000   \n",
       "50%        9.000000     30.000000      4.000000      9.100000      1.000000   \n",
       "75%       16.000000     42.300000      8.000000     12.000000      2.000000   \n",
       "max       60.000000    409.700000     33.000000    112.000000      5.000000   \n",
       "\n",
       "       airports_nearest  cityCenters_nearest  parks_around3000  parks_nearest  \\\n",
       "count      18157.000000         18180.000000      18181.000000    8079.000000   \n",
       "mean       28793.672193         14191.277833          0.611408     490.804555   \n",
       "std        12630.880622          8608.386210          0.802074     342.317995   \n",
       "min            0.000000           181.000000          0.000000       1.000000   \n",
       "25%        18585.000000          9238.000000          0.000000     288.000000   \n",
       "50%        26726.000000         13098.500000          0.000000     455.000000   \n",
       "75%        37273.000000         16293.000000          1.000000     612.000000   \n",
       "max        84869.000000         65968.000000          3.000000    3190.000000   \n",
       "\n",
       "       ponds_around3000  ponds_nearest  days_exposition  \n",
       "count      18181.000000    9110.000000     20518.000000  \n",
       "mean           0.770255     517.980900       180.888634  \n",
       "std            0.938346     277.720643       219.727988  \n",
       "min            0.000000      13.000000         1.000000  \n",
       "25%            0.000000     294.000000        45.000000  \n",
       "50%            1.000000     502.000000        95.000000  \n",
       "75%            1.000000     729.000000       232.000000  \n",
       "max            3.000000    1344.000000      1580.000000  "
      ]
     },
     "execution_count": 3,
     "metadata": {},
     "output_type": "execute_result"
    }
   ],
   "source": [
    "data.describe()"
   ]
  },
  {
   "cell_type": "markdown",
   "metadata": {},
   "source": [
    "### Вывод"
   ]
  },
  {
   "cell_type": "markdown",
   "metadata": {},
   "source": [
    "При первом взгляде на данные, сразу видны пропуски во многих столбцах.Некорректные форматы данных в столбцах.Выведим информацию о данных методом info()и методом describe()посмотрим статистические данные.В столбце с названием населенного пункта слово поселок написано через 'ё' и 'е' что может привести к дубликатам в столбце, а следовательно и к ошибкам в анализе.В некоторых столбцах видим сильное отклонение от среднего, что говорит о большом количестве выбросов."
   ]
  },
  {
   "cell_type": "markdown",
   "metadata": {},
   "source": [
    "## Предобработка данных"
   ]
  },
  {
   "cell_type": "code",
   "execution_count": 4,
   "metadata": {},
   "outputs": [
    {
     "data": {
      "text/plain": [
       "total_images                0\n",
       "last_price                  0\n",
       "total_area                  0\n",
       "first_day_exposition        0\n",
       "rooms                       0\n",
       "ceiling_height           9195\n",
       "floors_total               86\n",
       "living_area              1903\n",
       "floor                       0\n",
       "is_apartment            20924\n",
       "studio                      0\n",
       "open_plan                   0\n",
       "kitchen_area             2278\n",
       "balcony                 11519\n",
       "locality_name              49\n",
       "airports_nearest         5542\n",
       "cityCenters_nearest      5519\n",
       "parks_around3000         5518\n",
       "parks_nearest           15620\n",
       "ponds_around3000         5518\n",
       "ponds_nearest           14589\n",
       "days_exposition          3181\n",
       "dtype: int64"
      ]
     },
     "execution_count": 4,
     "metadata": {},
     "output_type": "execute_result"
    }
   ],
   "source": [
    "data.isnull().sum()"
   ]
  },
  {
   "cell_type": "code",
   "execution_count": 5,
   "metadata": {},
   "outputs": [],
   "source": [
    "data['is_apartment']=data['is_apartment'].astype('bool')\n",
    "data['first_day_exposition'] = pd.to_datetime(data['first_day_exposition'],format='%Y-%m-%dT%H:%M:%S')\n",
    "data['ceiling_height'] = data['ceiling_height'].fillna(data['ceiling_height'].median())\n",
    "data['balcony'] = data['balcony'].fillna(0).astype('int')\n",
    "data['last_price'] = (data['last_price']/1000).astype('int')\n",
    "data['locality_name'] = data['locality_name'].str.replace('поселок','посёлок')\n",
    "data['days_exposition'] = data['days_exposition'].fillna(data['days_exposition'].median()).astype('int')\n",
    "def ceiling(x):\n",
    "    if x>20:\n",
    "        return x/10\n",
    "    return x\n",
    "data['ceiling_height'] = data['ceiling_height'].apply(ceiling)"
   ]
  },
  {
   "cell_type": "markdown",
   "metadata": {},
   "source": [
    "### Вывод:"
   ]
  },
  {
   "cell_type": "markdown",
   "metadata": {},
   "source": [
    "Методом isnull() определяем пропущенные значения.\n",
    "Заполняем пропущенные значения и меняем тип данных в столбцах:\n",
    "- В столбце апартаменты меняем тип данных на bool \n",
    "- В столбце дата публикации меняем тип данных на datetime для корректного отображения\n",
    "- В столбце высота потолков заменяем пропущенные значения на медианное(2,65), так как это стандартная высота потолков и встречается наиболее часто.Так же функцией ceiling изменим анамальные значения,возможно они появились из за ошибки с плавающей точкой.\n",
    "- В столбце число балконов меняем пропущенные значения на 0 так как в этом случае имеем ввиду что балкона нет и меняем тип данных на int\n",
    "- В столбце цена делим ее на 1000 руб. для удобства подсчетов и анализа графиков и будем считать в тыс.руб, так же изменим тип данных на int\n",
    "- В столбце название населенного пункта методом replace() заменим разное написание слова 'поселок' на одинаковое 'посёлок'\n",
    "- Пропущенные значения в столбце сколько дней было размещено объявление (от публикации до снятия) заменим на медианное так как оно менее подвержено выбросам.Изменим тип данных на int так как число дней целое."
   ]
  },
  {
   "cell_type": "markdown",
   "metadata": {},
   "source": [
    "## Расчёты и добавление результатов в таблицу"
   ]
  },
  {
   "cell_type": "code",
   "execution_count": 6,
   "metadata": {},
   "outputs": [],
   "source": [
    "data['price_m2'] = data['last_price'] / data['total_area']\n",
    "data['price_m2'] = data['price_m2'].astype(int)\n",
    "data['day'] = data['first_day_exposition'].dt.weekday\n",
    "data['month'] = data['first_day_exposition'].dt.month\n",
    "data['year'] = data['first_day_exposition'].dt.year\n",
    "\n",
    "def floor(data):\n",
    "    if data['floor'] == 1:\n",
    "        return 'Первый'\n",
    "    if data['floor'] == data['floors_total']:\n",
    "        return 'Последний'\n",
    "    return 'Другой'\n",
    "data['flat_floor'] = data.apply(floor,axis=1)\n",
    "data['living_total_area'] = data['living_area']/data['total_area']\n",
    "data['kitchen_total_area'] = data['kitchen_area']/data['total_area']"
   ]
  },
  {
   "cell_type": "markdown",
   "metadata": {},
   "source": [
    "### Вывод"
   ]
  },
  {
   "cell_type": "markdown",
   "metadata": {},
   "source": [
    "Считаем и добавляем в таблицу:\n",
    "- цену квадратного метра price_m2\n",
    "- день недели, месяц и год публикации объявления\n",
    "- этаж квартиры варианты — первый, последний, другой flat_floor\n",
    "- соотношение жилой и общей площади living_total_area, а также отношение площади кухни к общей kitchen_total_area"
   ]
  },
  {
   "cell_type": "markdown",
   "metadata": {},
   "source": [
    "## Исследовательский анализ данных"
   ]
  },
  {
   "cell_type": "code",
   "execution_count": 7,
   "metadata": {},
   "outputs": [
    {
     "data": {
      "text/plain": [
       "<matplotlib.axes._subplots.AxesSubplot at 0x7fc75c4fda90>"
      ]
     },
     "execution_count": 7,
     "metadata": {},
     "output_type": "execute_result"
    },
    {
     "data": {
      "image/png": "[encoded data removed]",
      "text/plain": [
       "<Figure size 432x288 with 1 Axes>"
      ]
     },
     "metadata": {
      "needs_background": "light"
     },
     "output_type": "display_data"
    }
   ],
   "source": [
    "data.plot(y='total_area',bins=100,kind='hist',label='Площадь',title='Площадь',grid=True)"
   ]
  },
  {
   "cell_type": "code",
   "execution_count": 8,
   "metadata": {},
   "outputs": [
    {
     "data": {
      "text/plain": [
       "<matplotlib.axes._subplots.AxesSubplot at 0x7fc75e6781d0>"
      ]
     },
     "execution_count": 8,
     "metadata": {},
     "output_type": "execute_result"
    },
    {
     "data": {
      "image/png": "[encoded data removed]",
      "text/plain": [
       "<Figure size 432x288 with 1 Axes>"
      ]
     },
     "metadata": {
      "needs_background": "light"
     },
     "output_type": "display_data"
    }
   ],
   "source": [
    "data.plot(y='last_price',bins=100,kind='hist',label='Цена,тыс.руб',title='Цена',grid=True)"
   ]
  },
  {
   "cell_type": "code",
   "execution_count": 9,
   "metadata": {},
   "outputs": [
    {
     "data": {
      "text/plain": [
       "<matplotlib.axes._subplots.AxesSubplot at 0x7fc759b275d0>"
      ]
     },
     "execution_count": 9,
     "metadata": {},
     "output_type": "execute_result"
    },
    {
     "data": {
      "image/png": "[encoded data removed]",
      "text/plain": [
       "<Figure size 432x288 with 1 Axes>"
      ]
     },
     "metadata": {
      "needs_background": "light"
     },
     "output_type": "display_data"
    }
   ],
   "source": [
    "data.plot(y='rooms',kind='hist',label='Число комнат',title='Число комнат',grid=True, bins=17)"
   ]
  },
  {
   "cell_type": "code",
   "execution_count": 10,
   "metadata": {},
   "outputs": [
    {
     "data": {
      "text/plain": [
       "(2.5, 3)"
      ]
     },
     "execution_count": 10,
     "metadata": {},
     "output_type": "execute_result"
    },
    {
     "data": {
      "image/png": "[encoded data removed]",
      "text/plain": [
       "<Figure size 432x288 with 1 Axes>"
      ]
     },
     "metadata": {
      "needs_background": "light"
     },
     "output_type": "display_data"
    }
   ],
   "source": [
    "data.plot(y='ceiling_height', kind='hist',label='Высота потолков',title='Высота потолков',grid=True, bins = 10)\n",
    "plt.xlim(2.5, 3)"
   ]
  },
  {
   "cell_type": "code",
   "execution_count": null,
   "metadata": {},
   "outputs": [],
   "source": []
  },
  {
   "cell_type": "code",
   "execution_count": 11,
   "metadata": {},
   "outputs": [
    {
     "data": {
      "text/html": [
       "<div>\n",
       "<style scoped>\n",
       "    .dataframe tbody tr th:only-of-type {\n",
       "        vertical-align: middle;\n",
       "    }\n",
       "\n",
       "    .dataframe tbody tr th {\n",
       "        vertical-align: top;\n",
       "    }\n",
       "\n",
       "    .dataframe thead th {\n",
       "        text-align: right;\n",
       "    }\n",
       "</style>\n",
       "<table border=\"1\" class=\"dataframe\">\n",
       "  <thead>\n",
       "    <tr style=\"text-align: right;\">\n",
       "      <th></th>\n",
       "      <th>total_area</th>\n",
       "      <th>ceiling_height</th>\n",
       "      <th>rooms</th>\n",
       "      <th>last_price</th>\n",
       "    </tr>\n",
       "  </thead>\n",
       "  <tbody>\n",
       "    <tr>\n",
       "      <td>count</td>\n",
       "      <td>23699.000000</td>\n",
       "      <td>23699.000000</td>\n",
       "      <td>23699.000000</td>\n",
       "      <td>23699.000000</td>\n",
       "    </tr>\n",
       "    <tr>\n",
       "      <td>mean</td>\n",
       "      <td>60.348651</td>\n",
       "      <td>2.699480</td>\n",
       "      <td>2.070636</td>\n",
       "      <td>6541.532723</td>\n",
       "    </tr>\n",
       "    <tr>\n",
       "      <td>std</td>\n",
       "      <td>35.654083</td>\n",
       "      <td>0.276991</td>\n",
       "      <td>1.078405</td>\n",
       "      <td>10887.008378</td>\n",
       "    </tr>\n",
       "    <tr>\n",
       "      <td>min</td>\n",
       "      <td>12.000000</td>\n",
       "      <td>1.000000</td>\n",
       "      <td>0.000000</td>\n",
       "      <td>12.000000</td>\n",
       "    </tr>\n",
       "    <tr>\n",
       "      <td>25%</td>\n",
       "      <td>40.000000</td>\n",
       "      <td>2.600000</td>\n",
       "      <td>1.000000</td>\n",
       "      <td>3400.000000</td>\n",
       "    </tr>\n",
       "    <tr>\n",
       "      <td>50%</td>\n",
       "      <td>52.000000</td>\n",
       "      <td>2.650000</td>\n",
       "      <td>2.000000</td>\n",
       "      <td>4650.000000</td>\n",
       "    </tr>\n",
       "    <tr>\n",
       "      <td>75%</td>\n",
       "      <td>69.900000</td>\n",
       "      <td>2.700000</td>\n",
       "      <td>3.000000</td>\n",
       "      <td>6800.000000</td>\n",
       "    </tr>\n",
       "    <tr>\n",
       "      <td>max</td>\n",
       "      <td>900.000000</td>\n",
       "      <td>20.000000</td>\n",
       "      <td>19.000000</td>\n",
       "      <td>763000.000000</td>\n",
       "    </tr>\n",
       "  </tbody>\n",
       "</table>\n",
       "</div>"
      ],
      "text/plain": [
       "         total_area  ceiling_height         rooms     last_price\n",
       "count  23699.000000    23699.000000  23699.000000   23699.000000\n",
       "mean      60.348651        2.699480      2.070636    6541.532723\n",
       "std       35.654083        0.276991      1.078405   10887.008378\n",
       "min       12.000000        1.000000      0.000000      12.000000\n",
       "25%       40.000000        2.600000      1.000000    3400.000000\n",
       "50%       52.000000        2.650000      2.000000    4650.000000\n",
       "75%       69.900000        2.700000      3.000000    6800.000000\n",
       "max      900.000000       20.000000     19.000000  763000.000000"
      ]
     },
     "execution_count": 11,
     "metadata": {},
     "output_type": "execute_result"
    }
   ],
   "source": [
    "data[['total_area','ceiling_height','rooms','last_price']].describe()"
   ]
  },
  {
   "cell_type": "code",
   "execution_count": 12,
   "metadata": {},
   "outputs": [
    {
     "name": "stdout",
     "output_type": "stream",
     "text": [
      "Среднее время продажи: 169\n",
      "Медиана времени продажи: 95\n"
     ]
    },
    {
     "data": {
      "image/png": "[encoded data removed]",
      "text/plain": [
       "<Figure size 432x288 with 1 Axes>"
      ]
     },
     "metadata": {
      "needs_background": "light"
     },
     "output_type": "display_data"
    }
   ],
   "source": [
    "data.plot(y='days_exposition',kind='hist',label='Время продажи',title='Время продажи',grid=True)\n",
    "print('Среднее время продажи: {:.0f}'.format(data['days_exposition'].mean()))\n",
    "print('Медиана времени продажи: {:.0f}'.format(data['days_exposition'].median()))"
   ]
  },
  {
   "cell_type": "markdown",
   "metadata": {},
   "source": [
    "### Вывод"
   ]
  },
  {
   "cell_type": "markdown",
   "metadata": {},
   "source": [
    "Построим гистограммы для площади,цены,числа комнат и высоты потолков. Видим большие выбросы в каждом из параметров, которы сильно сдвигают среднее значение.Выведим информацию по этим четырем параметрам функцией describe().Видим что максимальные значения очень сильно отклоняюся от среднего и медианы, особенно в столбцах цена и общая площадь.Квартиры метраж которых больше 200 м2 встречаются очень редко, как и ценой более 20000 тыс.руб,квартиры с более чем тремя комнатами тоже редкость, как и потолки выше 3 м.Так наибольшее число обявлений приходится на интерал по площади от 12 до 200 м2, по цене от 2000 до 20000 тыс.руб, по числу комнат от 1 до 3, по высоте потолков от 2.6 до 3 м.С этими интервалами и будем дальше работать.На графике Время продажи тоже видим выбросы в виде очень большого количества дней продажи квартиры, из за чего среднее время продажи равно 169 дням, а медиана 95.В данном случае лучше пользоваться медианным значением,так как оно менее подвержено влиянию выбросов.Таким образом обычно продажа квартиры занимает чуть больше трех месяцев.Можно считать что продажи от 1 дня до 3 месяцев прошли очень быстро, а начиная с года очень медленно."
   ]
  },
  {
   "cell_type": "code",
   "execution_count": 13,
   "metadata": {},
   "outputs": [],
   "source": [
    "data = data.query('20000>last_price>2000 and 12<=total_area<=200 and 1<=rooms<=3 and 2.6<=ceiling_height<=3')"
   ]
  },
  {
   "cell_type": "markdown",
   "metadata": {},
   "source": [
    "<font color='blue'>Удаляем выбросы! </font>"
   ]
  },
  {
   "cell_type": "code",
   "execution_count": 14,
   "metadata": {},
   "outputs": [
    {
     "name": "stdout",
     "output_type": "stream",
     "text": [
      "Коэффицент корреляции Пирсона: 0.749091402442161\n"
     ]
    },
    {
     "data": {
      "image/png": "[encoded data removed]",
      "text/plain": [
       "<Figure size 432x288 with 1 Axes>"
      ]
     },
     "metadata": {
      "needs_background": "light"
     },
     "output_type": "display_data"
    }
   ],
   "source": [
    "data.plot(x='last_price',y='total_area',kind='scatter',title='Цена/Площадь')\n",
    "print('Коэффицент корреляции Пирсона:',data['last_price'].corr(data['total_area']))"
   ]
  },
  {
   "cell_type": "markdown",
   "metadata": {},
   "source": [
    "Из графика и расчета коэффицента корреляции Пирсона видим что есть заметная положительная связь между ценой и площадью кваритры, цена возрастает с ростом площади."
   ]
  },
  {
   "cell_type": "code",
   "execution_count": 15,
   "metadata": {},
   "outputs": [
    {
     "name": "stdout",
     "output_type": "stream",
     "text": [
      "Коэффицент корреляции Пирсона: 0.4646201758065892\n"
     ]
    },
    {
     "data": {
      "image/png": "[encoded data removed]",
      "text/plain": [
       "<Figure size 432x288 with 1 Axes>"
      ]
     },
     "metadata": {
      "needs_background": "light"
     },
     "output_type": "display_data"
    }
   ],
   "source": [
    "data.pivot_table(index='rooms',values='last_price').plot(kind='bar',title='Цена/Количество комнат',grid=True)\n",
    "print('Коэффицент корреляции Пирсона:',data['last_price'].corr(data['rooms']))"
   ]
  },
  {
   "cell_type": "markdown",
   "metadata": {},
   "source": [
    "Из графика и расчета коэффицента корреляции Пирсона видим что есть умеренная положительная связь между ценой и количеством комнат.Цена на трехкомнатные квартиры выше чем на однушки и двушки."
   ]
  },
  {
   "cell_type": "code",
   "execution_count": 16,
   "metadata": {},
   "outputs": [
    {
     "name": "stdout",
     "output_type": "stream",
     "text": [
      "Коэффицент корреляции Пирсона: -0.31219517750556386\n"
     ]
    },
    {
     "data": {
      "image/png": "[encoded data removed]",
      "text/plain": [
       "<Figure size 432x288 with 1 Axes>"
      ]
     },
     "metadata": {
      "needs_background": "light"
     },
     "output_type": "display_data"
    }
   ],
   "source": [
    "data.plot(x='cityCenters_nearest',y='last_price',kind='scatter',title='Цена/Удаленность от центра')\n",
    "print('Коэффицент корреляции Пирсона:',data['last_price'].corr(data['cityCenters_nearest']))"
   ]
  },
  {
   "cell_type": "markdown",
   "metadata": {},
   "source": [
    "Из графика и расчета коэффицента корреляции Пирсона видим что, связь слабо отрицательная между ценой квартиры и удаленностью от центра.Чем ближе к центру, тем стоимость и предложения квартир выше."
   ]
  },
  {
   "cell_type": "code",
   "execution_count": 17,
   "metadata": {},
   "outputs": [
    {
     "data": {
      "text/plain": [
       "<matplotlib.axes._subplots.AxesSubplot at 0x7fc75e2029d0>"
      ]
     },
     "execution_count": 17,
     "metadata": {},
     "output_type": "execute_result"
    },
    {
     "data": {
      "image/png": "[encoded data removed]",
      "text/plain": [
       "<Figure size 432x288 with 1 Axes>"
      ]
     },
     "metadata": {
      "needs_background": "light"
     },
     "output_type": "display_data"
    }
   ],
   "source": [
    "data.pivot_table(index='flat_floor',values='last_price').plot(kind='line',title='Цена/Этаж',grid=True)"
   ]
  },
  {
   "cell_type": "markdown",
   "metadata": {},
   "source": [
    "Из графика видно что самые низкие цены за квартиры на первом этаже, выше на последнем и самые высокие за другие этажи."
   ]
  },
  {
   "cell_type": "code",
   "execution_count": 18,
   "metadata": {
    "scrolled": true
   },
   "outputs": [
    {
     "data": {
      "text/plain": [
       "<matplotlib.axes._subplots.AxesSubplot at 0x7fc75e0572d0>"
      ]
     },
     "execution_count": 18,
     "metadata": {},
     "output_type": "execute_result"
    },
    {
     "data": {
      "image/png": "[encoded data removed]",
      "text/plain": [
       "<Figure size 432x288 with 1 Axes>"
      ]
     },
     "metadata": {
      "needs_background": "light"
     },
     "output_type": "display_data"
    },
    {
     "data": {
      "image/png": "[encoded data removed]",
      "text/plain": [
       "<Figure size 432x288 with 1 Axes>"
      ]
     },
     "metadata": {
      "needs_background": "light"
     },
     "output_type": "display_data"
    },
    {
     "data": {
      "image/png": "[encoded data removed]",
      "text/plain": [
       "<Figure size 432x288 with 1 Axes>"
      ]
     },
     "metadata": {
      "needs_background": "light"
     },
     "output_type": "display_data"
    }
   ],
   "source": [
    "data.pivot_table(index='day',values='last_price').plot(kind='line',title='Цена/День недели',grid=True)\n",
    "data.pivot_table(index='month',values='last_price').plot(kind='line',title='Цена/Месяц',grid=True)\n",
    "data.pivot_table(index='year',values='last_price').plot(kind='line',title='Цена/Год',grid=True)"
   ]
  },
  {
   "cell_type": "markdown",
   "metadata": {},
   "source": [
    "### Вывод"
   ]
  },
  {
   "cell_type": "markdown",
   "metadata": {},
   "source": [
    "Размещение объявлений с самой высокой ценой было в четверг и понедельник, по месяцам лидируют апрель и август. В 2014 году цена в объявлении за квартиру была выше чем в последующих годах."
   ]
  },
  {
   "cell_type": "code",
   "execution_count": 19,
   "metadata": {
    "scrolled": true
   },
   "outputs": [
    {
     "data": {
      "text/html": [
       "<div>\n",
       "<style scoped>\n",
       "    .dataframe tbody tr th:only-of-type {\n",
       "        vertical-align: middle;\n",
       "    }\n",
       "\n",
       "    .dataframe tbody tr th {\n",
       "        vertical-align: top;\n",
       "    }\n",
       "\n",
       "    .dataframe thead th {\n",
       "        text-align: right;\n",
       "    }\n",
       "</style>\n",
       "<table border=\"1\" class=\"dataframe\">\n",
       "  <thead>\n",
       "    <tr style=\"text-align: right;\">\n",
       "      <th></th>\n",
       "      <th>count</th>\n",
       "      <th>mean</th>\n",
       "    </tr>\n",
       "    <tr>\n",
       "      <th>locality_name</th>\n",
       "      <th></th>\n",
       "      <th></th>\n",
       "    </tr>\n",
       "  </thead>\n",
       "  <tbody>\n",
       "    <tr>\n",
       "      <td>Санкт-Петербург</td>\n",
       "      <td>9991</td>\n",
       "      <td>110.766890</td>\n",
       "    </tr>\n",
       "    <tr>\n",
       "      <td>посёлок Мурино</td>\n",
       "      <td>493</td>\n",
       "      <td>84.904665</td>\n",
       "    </tr>\n",
       "    <tr>\n",
       "      <td>посёлок Шушары</td>\n",
       "      <td>364</td>\n",
       "      <td>77.969780</td>\n",
       "    </tr>\n",
       "    <tr>\n",
       "      <td>Всеволожск</td>\n",
       "      <td>311</td>\n",
       "      <td>68.414791</td>\n",
       "    </tr>\n",
       "    <tr>\n",
       "      <td>посёлок Парголово</td>\n",
       "      <td>283</td>\n",
       "      <td>90.042403</td>\n",
       "    </tr>\n",
       "    <tr>\n",
       "      <td>деревня Кудрово</td>\n",
       "      <td>278</td>\n",
       "      <td>91.838129</td>\n",
       "    </tr>\n",
       "    <tr>\n",
       "      <td>Пушкин</td>\n",
       "      <td>236</td>\n",
       "      <td>103.326271</td>\n",
       "    </tr>\n",
       "    <tr>\n",
       "      <td>Гатчина</td>\n",
       "      <td>201</td>\n",
       "      <td>69.845771</td>\n",
       "    </tr>\n",
       "    <tr>\n",
       "      <td>Колпино</td>\n",
       "      <td>184</td>\n",
       "      <td>75.369565</td>\n",
       "    </tr>\n",
       "    <tr>\n",
       "      <td>Кудрово</td>\n",
       "      <td>162</td>\n",
       "      <td>99.222222</td>\n",
       "    </tr>\n",
       "  </tbody>\n",
       "</table>\n",
       "</div>"
      ],
      "text/plain": [
       "                   count        mean\n",
       "locality_name                       \n",
       "Санкт-Петербург     9991  110.766890\n",
       "посёлок Мурино       493   84.904665\n",
       "посёлок Шушары       364   77.969780\n",
       "Всеволожск           311   68.414791\n",
       "посёлок Парголово    283   90.042403\n",
       "деревня Кудрово      278   91.838129\n",
       "Пушкин               236  103.326271\n",
       "Гатчина              201   69.845771\n",
       "Колпино              184   75.369565\n",
       "Кудрово              162   99.222222"
      ]
     },
     "execution_count": 19,
     "metadata": {},
     "output_type": "execute_result"
    }
   ],
   "source": [
    "data_top = data.pivot_table(index='locality_name',values='price_m2',aggfunc=(['count','mean']))\n",
    "data_top.columns = ['count','mean']\n",
    "data_top.sort_values('count',ascending=False).head(10)"
   ]
  },
  {
   "cell_type": "markdown",
   "metadata": {},
   "source": [
    "### Вывод"
   ]
  },
  {
   "cell_type": "markdown",
   "metadata": {},
   "source": [
    "В таблице представлены топ 10 населенных пунктов по количеству объявлений со средней стоимостью квадратного метра в тыс.руб.Как и ожидалось самая высокая цена за м2 в Санкт-Петербурге, за ним идут ближайшие населенные пункты в которых есть метро(Мурино и Шушары),затем благоустроенные пригороды с хорошей экологией."
   ]
  },
  {
   "cell_type": "code",
   "execution_count": 20,
   "metadata": {
    "scrolled": true
   },
   "outputs": [
    {
     "data": {
      "text/plain": [
       "<matplotlib.axes._subplots.AxesSubplot at 0x7fc75e0d6e50>"
      ]
     },
     "execution_count": 20,
     "metadata": {},
     "output_type": "execute_result"
    },
    {
     "data": {
      "image/png": "[encoded data removed]",
      "text/plain": [
       "<Figure size 432x288 with 1 Axes>"
      ]
     },
     "metadata": {
      "needs_background": "light"
     },
     "output_type": "display_data"
    }
   ],
   "source": [
    "data['cityCenters_nearest_km'] = data['cityCenters_nearest']//1000\n",
    "data.query('locality_name == \"Санкт-Петербург\"').pivot_table(index='cityCenters_nearest_km',values='last_price',aggfunc='mean').plot(kind='line',title='Цена/Удаленность от центра',grid=True)"
   ]
  },
  {
   "cell_type": "markdown",
   "metadata": {},
   "source": [
    "### Вывод"
   ]
  },
  {
   "cell_type": "markdown",
   "metadata": {},
   "source": [
    "Цена за квартиры в Санкт-Петербурге не равномерно, но снижается по мере удаления от центра города.График сильно меняется от 0 до 10 км,это и будет наша центральная зона."
   ]
  },
  {
   "cell_type": "code",
   "execution_count": 21,
   "metadata": {},
   "outputs": [
    {
     "data": {
      "text/plain": [
       "<matplotlib.axes._subplots.AxesSubplot at 0x7fc75e486950>"
      ]
     },
     "execution_count": 21,
     "metadata": {},
     "output_type": "execute_result"
    },
    {
     "data": {
      "image/png": "[encoded data removed]",
      "text/plain": [
       "<Figure size 432x288 with 1 Axes>"
      ]
     },
     "metadata": {
      "needs_background": "light"
     },
     "output_type": "display_data"
    }
   ],
   "source": [
    "data_spb_center = data.query('locality_name == \"Санкт-Петербург\" and cityCenters_nearest_km<=10')\n",
    "data_spb_center.plot(y='total_area',bins=100,kind='hist',label='Площадь',title='Площадь',grid=True)"
   ]
  },
  {
   "cell_type": "code",
   "execution_count": 22,
   "metadata": {},
   "outputs": [
    {
     "data": {
      "text/plain": [
       "<matplotlib.axes._subplots.AxesSubplot at 0x7fc75dcf4690>"
      ]
     },
     "execution_count": 22,
     "metadata": {},
     "output_type": "execute_result"
    },
    {
     "data": {
      "image/png": "[encoded data removed]",
      "text/plain": [
       "<Figure size 432x288 with 1 Axes>"
      ]
     },
     "metadata": {
      "needs_background": "light"
     },
     "output_type": "display_data"
    }
   ],
   "source": [
    "data_spb_center.plot(y='rooms',kind='hist',label='Число комнат',title='Число комнат',grid=True)"
   ]
  },
  {
   "cell_type": "code",
   "execution_count": 23,
   "metadata": {},
   "outputs": [
    {
     "data": {
      "text/plain": [
       "<matplotlib.axes._subplots.AxesSubplot at 0x7fc759b5ac10>"
      ]
     },
     "execution_count": 23,
     "metadata": {},
     "output_type": "execute_result"
    },
    {
     "data": {
      "image/png": "[encoded data removed]",
      "text/plain": [
       "<Figure size 432x288 with 1 Axes>"
      ]
     },
     "metadata": {
      "needs_background": "light"
     },
     "output_type": "display_data"
    }
   ],
   "source": [
    "data_spb_center.plot(y='ceiling_height',kind='hist',label='Высота потолков',title='Высота потолков',grid=True)"
   ]
  },
  {
   "cell_type": "code",
   "execution_count": 24,
   "metadata": {},
   "outputs": [
    {
     "name": "stdout",
     "output_type": "stream",
     "text": [
      "Коэффицент корреляции Пирсона: 0.749091402442161\n"
     ]
    },
    {
     "data": {
      "image/png": "[encoded data removed]",
      "text/plain": [
       "<Figure size 432x288 with 1 Axes>"
      ]
     },
     "metadata": {
      "needs_background": "light"
     },
     "output_type": "display_data"
    }
   ],
   "source": [
    "data_spb_center.plot(x='last_price',y='total_area',kind='scatter',title='Цена/Площадь')\n",
    "print('Коэффицент корреляции Пирсона:',data['last_price'].corr(data['total_area']))"
   ]
  },
  {
   "cell_type": "code",
   "execution_count": 25,
   "metadata": {},
   "outputs": [
    {
     "name": "stdout",
     "output_type": "stream",
     "text": [
      "Коэффицент корреляции Пирсона: 0.4646201758065892\n"
     ]
    },
    {
     "data": {
      "image/png": "[encoded data removed]",
      "text/plain": [
       "<Figure size 432x288 with 1 Axes>"
      ]
     },
     "metadata": {
      "needs_background": "light"
     },
     "output_type": "display_data"
    }
   ],
   "source": [
    "data_spb_center.pivot_table(index='rooms',values='last_price').plot(kind='bar',title='Цена/Количество комнат',grid=True)\n",
    "print('Коэффицент корреляции Пирсона:',data['last_price'].corr(data['rooms']))"
   ]
  },
  {
   "cell_type": "code",
   "execution_count": 26,
   "metadata": {},
   "outputs": [
    {
     "name": "stdout",
     "output_type": "stream",
     "text": [
      "Коэффицент корреляции Пирсона: -0.31219517750556386\n"
     ]
    },
    {
     "data": {
      "image/png": "[encoded data removed]",
      "text/plain": [
       "<Figure size 432x288 with 1 Axes>"
      ]
     },
     "metadata": {
      "needs_background": "light"
     },
     "output_type": "display_data"
    }
   ],
   "source": [
    "data_spb_center.pivot_table(index='cityCenters_nearest_km',values='last_price').plot(kind='line',title='Цена/Удаленность от центра',grid=True)\n",
    "print('Коэффицент корреляции Пирсона:',data['last_price'].corr(data['cityCenters_nearest']))"
   ]
  },
  {
   "cell_type": "code",
   "execution_count": 27,
   "metadata": {},
   "outputs": [
    {
     "data": {
      "text/plain": [
       "<matplotlib.axes._subplots.AxesSubplot at 0x7fc75ef42350>"
      ]
     },
     "execution_count": 27,
     "metadata": {},
     "output_type": "execute_result"
    },
    {
     "data": {
      "image/png": "[encoded data removed]",
      "text/plain": [
       "<Figure size 432x288 with 1 Axes>"
      ]
     },
     "metadata": {
      "needs_background": "light"
     },
     "output_type": "display_data"
    },
    {
     "data": {
      "image/png": "[encoded data removed]",
      "text/plain": [
       "<Figure size 432x288 with 1 Axes>"
      ]
     },
     "metadata": {
      "needs_background": "light"
     },
     "output_type": "display_data"
    },
    {
     "data": {
      "image/png": "[encoded data removed]",
      "text/plain": [
       "<Figure size 432x288 with 1 Axes>"
      ]
     },
     "metadata": {
      "needs_background": "light"
     },
     "output_type": "display_data"
    }
   ],
   "source": [
    "data_spb_center.pivot_table(index='day',values='last_price').plot(kind='line',title='Цена/День недели',grid=True)\n",
    "data_spb_center.pivot_table(index='month',values='last_price').plot(kind='line',title='Цена/Месяц',grid=True)\n",
    "data_spb_center.pivot_table(index='year',values='last_price').plot(kind='line',title='Цена/Год',grid=True)"
   ]
  },
  {
   "cell_type": "markdown",
   "metadata": {},
   "source": [
    "### Вывод"
   ]
  },
  {
   "cell_type": "markdown",
   "metadata": {},
   "source": [
    "Факторы влияющие на цену кваритры в центре Санкт-Петербурга, такие как площадь,число комнат,удаленность от центра не изменились по сравнению с общими данными,однако день размещения объявления с самой высокой ценой стал понедельник вместо четверга в общих данных, а лидирующим месяцем остался только август, год не изменился(по прежнему в 2014 году были объявления с самой высокой ценой)"
   ]
  },
  {
   "cell_type": "markdown",
   "metadata": {},
   "source": [
    "## Общий вывод"
   ]
  },
  {
   "cell_type": "markdown",
   "metadata": {},
   "source": [
    "На основе анализа данных сервиса Яндекс.Недвижимость мы можем сделать вывод что основными факторами влияющими на стоимость жилья являются:\n",
    "- Метраж квартиры, чем он больше тем дороже цена.\n",
    "- Число комнат, чем их больше тем цена как правило выше.\n",
    "- Удаленность от центра и населенный пункт так же сильно влияют на цену квартиры.В Санкт-Петербурге и ближайших пригородах она выше.\n",
    "- Этаж квартиры так же ожидаемо влияет на стоимость, первые этажи дешевле, чем другие и последние.\n",
    "- Так же на цену влиияет и день размещения, оказалось, объявления размещенные в середине недели по цене дороже тех что размещались в другие дни, а так же в апреле и сентябре цена объявлений была выше.В 2014 году выставлялись самы дорогоие квартиры."
   ]
  }
 ],
 "metadata": {
  "ExecuteTimeLog": [
   {
    "duration": 951,
    "start_time": "2021-06-09T19:58:04.431Z"
   },
   {
    "duration": 114,
    "start_time": "2021-06-09T19:58:44.821Z"
   },
   {
    "duration": 129,
    "start_time": "2021-06-09T19:59:06.182Z"
   },
   {
    "duration": 119,
    "start_time": "2021-06-09T20:00:20.351Z"
   },
   {
    "duration": 468,
    "start_time": "2021-06-10T20:21:46.712Z"
   },
   {
    "duration": 896,
    "start_time": "2021-06-10T20:22:09.822Z"
   },
   {
    "duration": 2455,
    "start_time": "2021-06-10T20:22:10.720Z"
   },
   {
    "duration": 122,
    "start_time": "2021-06-10T20:24:07.091Z"
   },
   {
    "duration": 3963,
    "start_time": "2021-06-10T20:24:13.502Z"
   },
   {
    "duration": 120,
    "start_time": "2021-06-10T20:24:24.142Z"
   },
   {
    "duration": 3884,
    "start_time": "2021-06-10T20:24:24.266Z"
   },
   {
    "duration": 120,
    "start_time": "2021-06-10T20:25:59.432Z"
   },
   {
    "duration": 4229,
    "start_time": "2021-06-10T20:25:59.554Z"
   },
   {
    "duration": 38,
    "start_time": "2021-06-10T20:26:25.672Z"
   },
   {
    "duration": 7604,
    "start_time": "2021-06-10T20:27:04.642Z"
   },
   {
    "duration": 7801,
    "start_time": "2021-06-10T20:27:50.172Z"
   },
   {
    "duration": 5112,
    "start_time": "2021-06-10T20:28:21.383Z"
   },
   {
    "duration": 5931,
    "start_time": "2021-06-10T20:31:14.536Z"
   },
   {
    "duration": 6615,
    "start_time": "2021-06-10T20:32:04.153Z"
   },
   {
    "duration": 7577,
    "start_time": "2021-06-10T20:50:13.044Z"
   },
   {
    "duration": 8101,
    "start_time": "2021-06-10T20:59:50.044Z"
   },
   {
    "duration": 108,
    "start_time": "2021-06-10T21:00:01.195Z"
   },
   {
    "duration": 4218,
    "start_time": "2021-06-10T21:00:01.309Z"
   },
   {
    "duration": 41,
    "start_time": "2021-06-10T21:00:05.530Z"
   },
   {
    "duration": 159,
    "start_time": "2021-06-10T21:04:55.884Z"
   },
   {
    "duration": 3901,
    "start_time": "2021-06-10T21:04:56.046Z"
   },
   {
    "duration": 37,
    "start_time": "2021-06-10T21:04:59.951Z"
   },
   {
    "duration": 2750,
    "start_time": "2021-06-10T21:05:59.604Z"
   },
   {
    "duration": 2807,
    "start_time": "2021-06-10T21:06:13.144Z"
   },
   {
    "duration": 122,
    "start_time": "2021-06-10T21:08:33.874Z"
   },
   {
    "duration": 8127,
    "start_time": "2021-06-10T21:08:33.999Z"
   },
   {
    "duration": 42,
    "start_time": "2021-06-10T21:08:42.129Z"
   },
   {
    "duration": 119,
    "start_time": "2021-06-10T21:11:55.216Z"
   },
   {
    "duration": 4422,
    "start_time": "2021-06-10T21:11:55.338Z"
   },
   {
    "duration": 47,
    "start_time": "2021-06-10T21:11:59.763Z"
   },
   {
    "duration": 65,
    "start_time": "2021-06-10T21:15:51.605Z"
   },
   {
    "duration": 6817,
    "start_time": "2021-06-10T21:16:40.214Z"
   },
   {
    "duration": 994,
    "start_time": "2021-06-15T18:06:09.954Z"
   },
   {
    "duration": 136,
    "start_time": "2021-06-15T18:06:36.543Z"
   },
   {
    "duration": 253,
    "start_time": "2021-06-15T18:37:32.926Z"
   },
   {
    "duration": 17,
    "start_time": "2021-06-15T18:37:33.998Z"
   },
   {
    "duration": 111,
    "start_time": "2021-06-15T18:37:34.017Z"
   },
   {
    "duration": 13,
    "start_time": "2021-06-15T18:37:34.131Z"
   },
   {
    "duration": 85,
    "start_time": "2021-06-15T18:37:34.147Z"
   },
   {
    "duration": 141,
    "start_time": "2021-06-15T18:49:21.607Z"
   },
   {
    "duration": 18,
    "start_time": "2021-06-15T18:49:21.751Z"
   },
   {
    "duration": 114,
    "start_time": "2021-06-15T18:49:21.786Z"
   },
   {
    "duration": 12,
    "start_time": "2021-06-15T18:49:21.902Z"
   },
   {
    "duration": 74,
    "start_time": "2021-06-15T18:49:21.916Z"
   },
   {
    "duration": 1023,
    "start_time": "2021-06-15T18:49:21.993Z"
   },
   {
    "duration": 613,
    "start_time": "2021-06-15T18:49:23.018Z"
   },
   {
    "duration": 636,
    "start_time": "2021-06-15T18:49:23.634Z"
   },
   {
    "duration": 350,
    "start_time": "2021-06-15T18:49:24.272Z"
   },
   {
    "duration": 364,
    "start_time": "2021-06-15T18:49:24.624Z"
   },
   {
    "duration": 33,
    "start_time": "2021-06-15T18:49:24.991Z"
   },
   {
    "duration": 395,
    "start_time": "2021-06-15T18:49:25.027Z"
   },
   {
    "duration": 145,
    "start_time": "2021-06-15T18:57:39.096Z"
   },
   {
    "duration": 16,
    "start_time": "2021-06-15T18:57:39.244Z"
   },
   {
    "duration": 130,
    "start_time": "2021-06-15T18:57:39.263Z"
   },
   {
    "duration": 12,
    "start_time": "2021-06-15T18:57:39.395Z"
   },
   {
    "duration": 48,
    "start_time": "2021-06-15T18:57:39.410Z"
   },
   {
    "duration": 1040,
    "start_time": "2021-06-15T18:57:39.460Z"
   },
   {
    "duration": 665,
    "start_time": "2021-06-15T18:57:40.503Z"
   },
   {
    "duration": 738,
    "start_time": "2021-06-15T18:57:41.174Z"
   },
   {
    "duration": 346,
    "start_time": "2021-06-15T18:57:41.917Z"
   },
   {
    "duration": 365,
    "start_time": "2021-06-15T18:57:42.265Z"
   },
   {
    "duration": 34,
    "start_time": "2021-06-15T18:57:42.633Z"
   },
   {
    "duration": 377,
    "start_time": "2021-06-15T18:57:42.669Z"
   },
   {
    "duration": 738,
    "start_time": "2021-06-15T18:57:43.049Z"
   },
   {
    "duration": 683,
    "start_time": "2021-06-15T18:57:43.789Z"
   },
   {
    "duration": 54,
    "start_time": "2021-06-15T18:57:44.421Z"
   },
   {
    "duration": 44,
    "start_time": "2021-06-15T18:57:44.441Z"
   },
   {
    "duration": 43,
    "start_time": "2021-06-15T18:57:44.444Z"
   },
   {
    "duration": 38,
    "start_time": "2021-06-15T18:57:44.451Z"
   },
   {
    "duration": 35,
    "start_time": "2021-06-15T18:57:44.456Z"
   },
   {
    "duration": 25,
    "start_time": "2021-06-15T18:57:44.467Z"
   },
   {
    "duration": 22,
    "start_time": "2021-06-15T18:57:44.471Z"
   },
   {
    "duration": 21,
    "start_time": "2021-06-15T18:57:44.474Z"
   },
   {
    "duration": -11,
    "start_time": "2021-06-15T18:57:44.508Z"
   },
   {
    "duration": -14,
    "start_time": "2021-06-15T18:57:44.512Z"
   },
   {
    "duration": -15,
    "start_time": "2021-06-15T18:57:44.515Z"
   },
   {
    "duration": -18,
    "start_time": "2021-06-15T18:57:44.519Z"
   },
   {
    "duration": 557,
    "start_time": "2021-06-15T19:00:23.777Z"
   },
   {
    "duration": 670,
    "start_time": "2021-06-15T19:00:31.347Z"
   },
   {
    "duration": 131,
    "start_time": "2021-06-15T19:00:37.518Z"
   },
   {
    "duration": 15,
    "start_time": "2021-06-15T19:00:37.652Z"
   },
   {
    "duration": 120,
    "start_time": "2021-06-15T19:00:37.671Z"
   },
   {
    "duration": 12,
    "start_time": "2021-06-15T19:00:37.794Z"
   },
   {
    "duration": 78,
    "start_time": "2021-06-15T19:00:37.808Z"
   },
   {
    "duration": 1035,
    "start_time": "2021-06-15T19:00:37.888Z"
   },
   {
    "duration": 584,
    "start_time": "2021-06-15T19:00:38.926Z"
   },
   {
    "duration": 649,
    "start_time": "2021-06-15T19:00:39.512Z"
   },
   {
    "duration": 340,
    "start_time": "2021-06-15T19:00:40.165Z"
   },
   {
    "duration": 384,
    "start_time": "2021-06-15T19:00:40.508Z"
   },
   {
    "duration": 33,
    "start_time": "2021-06-15T19:00:40.895Z"
   },
   {
    "duration": 372,
    "start_time": "2021-06-15T19:00:40.930Z"
   },
   {
    "duration": 707,
    "start_time": "2021-06-15T19:00:41.304Z"
   },
   {
    "duration": 564,
    "start_time": "2021-06-15T19:00:42.014Z"
   },
   {
    "duration": 40,
    "start_time": "2021-06-15T19:00:42.541Z"
   },
   {
    "duration": 39,
    "start_time": "2021-06-15T19:00:42.543Z"
   },
   {
    "duration": 35,
    "start_time": "2021-06-15T19:00:42.548Z"
   },
   {
    "duration": 27,
    "start_time": "2021-06-15T19:00:42.557Z"
   },
   {
    "duration": 26,
    "start_time": "2021-06-15T19:00:42.560Z"
   },
   {
    "duration": -35,
    "start_time": "2021-06-15T19:00:42.622Z"
   },
   {
    "duration": -35,
    "start_time": "2021-06-15T19:00:42.624Z"
   },
   {
    "duration": -37,
    "start_time": "2021-06-15T19:00:42.627Z"
   },
   {
    "duration": -39,
    "start_time": "2021-06-15T19:00:42.631Z"
   },
   {
    "duration": -47,
    "start_time": "2021-06-15T19:00:42.640Z"
   },
   {
    "duration": -49,
    "start_time": "2021-06-15T19:00:42.644Z"
   },
   {
    "duration": -54,
    "start_time": "2021-06-15T19:00:42.650Z"
   },
   {
    "duration": 809,
    "start_time": "2021-06-15T19:00:55.623Z"
   },
   {
    "duration": 665,
    "start_time": "2021-06-15T19:01:19.027Z"
   },
   {
    "duration": 585,
    "start_time": "2021-06-15T19:01:40.537Z"
   },
   {
    "duration": 38,
    "start_time": "2021-06-15T19:02:12.868Z"
   },
   {
    "duration": 589,
    "start_time": "2021-06-15T19:02:15.947Z"
   },
   {
    "duration": 265,
    "start_time": "2021-06-15T19:02:52.787Z"
   },
   {
    "duration": 272,
    "start_time": "2021-06-15T19:03:22.228Z"
   },
   {
    "duration": 911,
    "start_time": "2021-06-15T19:04:06.177Z"
   },
   {
    "duration": 329,
    "start_time": "2021-06-15T19:04:27.978Z"
   },
   {
    "duration": 683,
    "start_time": "2021-06-15T19:04:35.397Z"
   },
   {
    "duration": 330,
    "start_time": "2021-06-15T19:04:52.727Z"
   },
   {
    "duration": 352,
    "start_time": "2021-06-15T19:04:56.738Z"
   },
   {
    "duration": 695,
    "start_time": "2021-06-15T19:04:57.897Z"
   },
   {
    "duration": 590,
    "start_time": "2021-06-15T19:05:00.678Z"
   },
   {
    "duration": 252,
    "start_time": "2021-06-15T19:05:24.908Z"
   },
   {
    "duration": 574,
    "start_time": "2021-06-15T19:05:30.027Z"
   },
   {
    "duration": 296,
    "start_time": "2021-06-15T19:05:48.417Z"
   },
   {
    "duration": 867,
    "start_time": "2021-06-15T19:06:21.318Z"
   },
   {
    "duration": 963,
    "start_time": "2021-06-15T19:06:46.982Z"
   },
   {
    "duration": 16,
    "start_time": "2021-06-15T19:06:47.948Z"
   },
   {
    "duration": 120,
    "start_time": "2021-06-15T19:06:47.967Z"
   },
   {
    "duration": 11,
    "start_time": "2021-06-15T19:06:48.089Z"
   },
   {
    "duration": 55,
    "start_time": "2021-06-15T19:06:48.103Z"
   },
   {
    "duration": 1008,
    "start_time": "2021-06-15T19:06:48.184Z"
   },
   {
    "duration": 623,
    "start_time": "2021-06-15T19:06:49.194Z"
   },
   {
    "duration": 636,
    "start_time": "2021-06-15T19:06:49.820Z"
   },
   {
    "duration": 359,
    "start_time": "2021-06-15T19:06:50.461Z"
   },
   {
    "duration": 357,
    "start_time": "2021-06-15T19:06:50.823Z"
   },
   {
    "duration": 34,
    "start_time": "2021-06-15T19:06:51.185Z"
   },
   {
    "duration": 369,
    "start_time": "2021-06-15T19:06:51.221Z"
   },
   {
    "duration": 718,
    "start_time": "2021-06-15T19:06:51.593Z"
   },
   {
    "duration": 271,
    "start_time": "2021-06-15T19:06:52.314Z"
   },
   {
    "duration": 706,
    "start_time": "2021-06-15T19:06:52.588Z"
   },
   {
    "duration": 282,
    "start_time": "2021-06-15T19:06:53.297Z"
   },
   {
    "duration": 998,
    "start_time": "2021-06-15T19:06:53.586Z"
   },
   {
    "duration": 36,
    "start_time": "2021-06-15T19:06:54.586Z"
   },
   {
    "duration": 344,
    "start_time": "2021-06-15T19:06:54.624Z"
   },
   {
    "duration": 622,
    "start_time": "2021-06-15T19:06:54.971Z"
   },
   {
    "duration": 374,
    "start_time": "2021-06-15T19:06:55.596Z"
   },
   {
    "duration": 366,
    "start_time": "2021-06-15T19:06:55.972Z"
   },
   {
    "duration": 512,
    "start_time": "2021-06-15T19:06:56.340Z"
   },
   {
    "duration": 251,
    "start_time": "2021-06-15T19:06:56.854Z"
   },
   {
    "duration": 304,
    "start_time": "2021-06-15T19:06:57.108Z"
   },
   {
    "duration": 875,
    "start_time": "2021-06-15T19:06:57.415Z"
   },
   {
    "duration": 997,
    "start_time": "2021-06-15T19:10:40.877Z"
   },
   {
    "duration": 21,
    "start_time": "2021-06-15T19:10:41.877Z"
   },
   {
    "duration": 121,
    "start_time": "2021-06-15T19:10:41.901Z"
   },
   {
    "duration": 11,
    "start_time": "2021-06-15T19:10:42.025Z"
   },
   {
    "duration": 73,
    "start_time": "2021-06-15T19:10:42.038Z"
   },
   {
    "duration": 944,
    "start_time": "2021-06-15T19:10:42.113Z"
   },
   {
    "duration": 631,
    "start_time": "2021-06-15T19:10:43.059Z"
   },
   {
    "duration": 628,
    "start_time": "2021-06-15T19:10:43.693Z"
   },
   {
    "duration": 349,
    "start_time": "2021-06-15T19:10:44.326Z"
   },
   {
    "duration": 350,
    "start_time": "2021-06-15T19:10:44.685Z"
   },
   {
    "duration": 49,
    "start_time": "2021-06-15T19:10:45.038Z"
   },
   {
    "duration": 371,
    "start_time": "2021-06-15T19:10:45.090Z"
   },
   {
    "duration": 735,
    "start_time": "2021-06-15T19:10:45.463Z"
   },
   {
    "duration": 275,
    "start_time": "2021-06-15T19:10:46.200Z"
   },
   {
    "duration": 710,
    "start_time": "2021-06-15T19:10:46.478Z"
   },
   {
    "duration": 279,
    "start_time": "2021-06-15T19:10:47.191Z"
   },
   {
    "duration": 953,
    "start_time": "2021-06-15T19:10:47.472Z"
   },
   {
    "duration": 35,
    "start_time": "2021-06-15T19:10:48.428Z"
   },
   {
    "duration": 329,
    "start_time": "2021-06-15T19:10:48.465Z"
   },
   {
    "duration": 602,
    "start_time": "2021-06-15T19:10:48.797Z"
   },
   {
    "duration": 337,
    "start_time": "2021-06-15T19:10:49.402Z"
   },
   {
    "duration": 469,
    "start_time": "2021-06-15T19:10:49.742Z"
   },
   {
    "duration": 510,
    "start_time": "2021-06-15T19:10:50.214Z"
   },
   {
    "duration": 251,
    "start_time": "2021-06-15T19:10:50.727Z"
   },
   {
    "duration": 299,
    "start_time": "2021-06-15T19:10:50.986Z"
   },
   {
    "duration": 855,
    "start_time": "2021-06-15T19:10:51.288Z"
   },
   {
    "duration": 1122,
    "start_time": "2021-06-15T22:11:21.977Z"
   },
   {
    "duration": 17,
    "start_time": "2021-06-15T22:11:23.102Z"
   },
   {
    "duration": 150,
    "start_time": "2021-06-15T22:11:23.122Z"
   },
   {
    "duration": 16,
    "start_time": "2021-06-15T22:11:23.277Z"
   },
   {
    "duration": 56,
    "start_time": "2021-06-15T22:11:23.295Z"
   },
   {
    "duration": 990,
    "start_time": "2021-06-15T22:11:23.353Z"
   },
   {
    "duration": 647,
    "start_time": "2021-06-15T22:11:24.345Z"
   },
   {
    "duration": 641,
    "start_time": "2021-06-15T22:11:24.996Z"
   },
   {
    "duration": 448,
    "start_time": "2021-06-15T22:11:25.640Z"
   },
   {
    "duration": 368,
    "start_time": "2021-06-15T22:11:26.091Z"
   },
   {
    "duration": 52,
    "start_time": "2021-06-15T22:11:26.461Z"
   },
   {
    "duration": 567,
    "start_time": "2021-06-15T22:11:26.517Z"
   },
   {
    "duration": 806,
    "start_time": "2021-06-15T22:11:27.087Z"
   },
   {
    "duration": 426,
    "start_time": "2021-06-15T22:11:27.897Z"
   },
   {
    "duration": 719,
    "start_time": "2021-06-15T22:11:28.325Z"
   },
   {
    "duration": 300,
    "start_time": "2021-06-15T22:11:29.048Z"
   },
   {
    "duration": 1265,
    "start_time": "2021-06-15T22:11:29.352Z"
   },
   {
    "duration": 62,
    "start_time": "2021-06-15T22:11:30.619Z"
   },
   {
    "duration": 353,
    "start_time": "2021-06-15T22:11:30.684Z"
   },
   {
    "duration": 659,
    "start_time": "2021-06-15T22:11:31.039Z"
   },
   {
    "duration": 377,
    "start_time": "2021-06-15T22:11:31.701Z"
   },
   {
    "duration": 502,
    "start_time": "2021-06-15T22:11:32.081Z"
   },
   {
    "duration": 485,
    "start_time": "2021-06-15T22:11:32.587Z"
   },
   {
    "duration": 250,
    "start_time": "2021-06-15T22:11:33.074Z"
   },
   {
    "duration": 299,
    "start_time": "2021-06-15T22:11:33.327Z"
   },
   {
    "duration": 1146,
    "start_time": "2021-06-15T22:11:33.629Z"
   },
   {
    "duration": 21,
    "start_time": "2021-06-15T22:12:10.979Z"
   },
   {
    "duration": 117,
    "start_time": "2021-06-15T22:18:56.499Z"
   },
   {
    "duration": 91,
    "start_time": "2021-06-15T22:23:32.065Z"
   },
   {
    "duration": 1058,
    "start_time": "2021-06-16T19:55:40.361Z"
   },
   {
    "duration": 16,
    "start_time": "2021-06-16T19:55:41.422Z"
   },
   {
    "duration": 130,
    "start_time": "2021-06-16T19:55:41.441Z"
   },
   {
    "duration": 11,
    "start_time": "2021-06-16T19:55:41.574Z"
   },
   {
    "duration": 80,
    "start_time": "2021-06-16T19:55:41.587Z"
   },
   {
    "duration": 999,
    "start_time": "2021-06-16T19:55:41.669Z"
   },
   {
    "duration": 701,
    "start_time": "2021-06-16T19:55:42.670Z"
   },
   {
    "duration": 669,
    "start_time": "2021-06-16T19:55:43.374Z"
   },
   {
    "duration": 361,
    "start_time": "2021-06-16T19:55:44.047Z"
   },
   {
    "duration": 378,
    "start_time": "2021-06-16T19:55:44.411Z"
   },
   {
    "duration": 35,
    "start_time": "2021-06-16T19:55:44.791Z"
   },
   {
    "duration": 392,
    "start_time": "2021-06-16T19:55:44.829Z"
   },
   {
    "duration": 643,
    "start_time": "2021-06-16T19:55:45.224Z"
   },
   {
    "duration": 273,
    "start_time": "2021-06-16T19:55:45.870Z"
   },
   {
    "duration": 606,
    "start_time": "2021-06-16T19:55:46.146Z"
   },
   {
    "duration": 272,
    "start_time": "2021-06-16T19:55:46.762Z"
   },
   {
    "duration": 1010,
    "start_time": "2021-06-16T19:55:47.036Z"
   },
   {
    "duration": 35,
    "start_time": "2021-06-16T19:55:48.061Z"
   },
   {
    "duration": 348,
    "start_time": "2021-06-16T19:55:48.098Z"
   },
   {
    "duration": 664,
    "start_time": "2021-06-16T19:55:48.449Z"
   },
   {
    "duration": 372,
    "start_time": "2021-06-16T19:55:49.115Z"
   },
   {
    "duration": 365,
    "start_time": "2021-06-16T19:55:49.490Z"
   },
   {
    "duration": 463,
    "start_time": "2021-06-16T19:55:49.857Z"
   },
   {
    "duration": 268,
    "start_time": "2021-06-16T19:55:50.322Z"
   },
   {
    "duration": 322,
    "start_time": "2021-06-16T19:55:50.593Z"
   },
   {
    "duration": 936,
    "start_time": "2021-06-16T19:55:50.917Z"
   },
   {
    "duration": 1005,
    "start_time": "2021-06-16T20:01:22.711Z"
   },
   {
    "duration": 16,
    "start_time": "2021-06-16T20:01:23.718Z"
   },
   {
    "duration": 126,
    "start_time": "2021-06-16T20:01:23.737Z"
   },
   {
    "duration": 11,
    "start_time": "2021-06-16T20:01:23.866Z"
   },
   {
    "duration": 57,
    "start_time": "2021-06-16T20:01:23.880Z"
   },
   {
    "duration": 1025,
    "start_time": "2021-06-16T20:01:23.939Z"
   },
   {
    "duration": 669,
    "start_time": "2021-06-16T20:01:24.966Z"
   },
   {
    "duration": 643,
    "start_time": "2021-06-16T20:01:25.638Z"
   },
   {
    "duration": 357,
    "start_time": "2021-06-16T20:01:26.285Z"
   },
   {
    "duration": 378,
    "start_time": "2021-06-16T20:01:26.645Z"
   },
   {
    "duration": 52,
    "start_time": "2021-06-16T20:01:27.026Z"
   },
   {
    "duration": 402,
    "start_time": "2021-06-16T20:01:27.081Z"
   },
   {
    "duration": 964,
    "start_time": "2021-06-16T20:01:27.486Z"
   },
   {
    "duration": 395,
    "start_time": "2021-06-16T20:01:28.453Z"
   },
   {
    "duration": 906,
    "start_time": "2021-06-16T20:01:28.851Z"
   },
   {
    "duration": 407,
    "start_time": "2021-06-16T20:01:29.763Z"
   },
   {
    "duration": 1045,
    "start_time": "2021-06-16T20:01:30.172Z"
   },
   {
    "duration": 51,
    "start_time": "2021-06-16T20:01:31.220Z"
   },
   {
    "duration": 355,
    "start_time": "2021-06-16T20:01:31.274Z"
   },
   {
    "duration": 775,
    "start_time": "2021-06-16T20:01:31.631Z"
   },
   {
    "duration": 356,
    "start_time": "2021-06-16T20:01:32.409Z"
   },
   {
    "duration": 364,
    "start_time": "2021-06-16T20:01:32.767Z"
   },
   {
    "duration": 483,
    "start_time": "2021-06-16T20:01:33.133Z"
   },
   {
    "duration": 274,
    "start_time": "2021-06-16T20:01:33.619Z"
   },
   {
    "duration": 318,
    "start_time": "2021-06-16T20:01:33.895Z"
   },
   {
    "duration": 939,
    "start_time": "2021-06-16T20:01:34.216Z"
   },
   {
    "duration": 824,
    "start_time": "2021-06-16T20:04:41.052Z"
   },
   {
    "duration": 332,
    "start_time": "2021-06-16T20:05:19.783Z"
   },
   {
    "duration": 552,
    "start_time": "2021-06-16T20:09:17.113Z"
   },
   {
    "duration": 482,
    "start_time": "2021-06-16T20:09:25.863Z"
   },
   {
    "duration": 147,
    "start_time": "2021-06-16T20:11:45.475Z"
   },
   {
    "duration": 15,
    "start_time": "2021-06-16T20:11:45.625Z"
   },
   {
    "duration": 133,
    "start_time": "2021-06-16T20:11:45.643Z"
   },
   {
    "duration": 14,
    "start_time": "2021-06-16T20:11:45.781Z"
   },
   {
    "duration": 87,
    "start_time": "2021-06-16T20:11:45.798Z"
   },
   {
    "duration": 1030,
    "start_time": "2021-06-16T20:11:45.888Z"
   },
   {
    "duration": 624,
    "start_time": "2021-06-16T20:11:46.920Z"
   },
   {
    "duration": 678,
    "start_time": "2021-06-16T20:11:47.547Z"
   },
   {
    "duration": 463,
    "start_time": "2021-06-16T20:11:48.229Z"
   },
   {
    "duration": 399,
    "start_time": "2021-06-16T20:11:48.696Z"
   },
   {
    "duration": 34,
    "start_time": "2021-06-16T20:11:49.098Z"
   },
   {
    "duration": 396,
    "start_time": "2021-06-16T20:11:49.134Z"
   },
   {
    "duration": 32,
    "start_time": "2021-06-16T20:11:49.532Z"
   },
   {
    "duration": 666,
    "start_time": "2021-06-16T20:11:49.567Z"
   },
   {
    "duration": 275,
    "start_time": "2021-06-16T20:11:50.235Z"
   },
   {
    "duration": 615,
    "start_time": "2021-06-16T20:11:50.512Z"
   },
   {
    "duration": 304,
    "start_time": "2021-06-16T20:11:51.129Z"
   },
   {
    "duration": 955,
    "start_time": "2021-06-16T20:11:51.436Z"
   },
   {
    "duration": 36,
    "start_time": "2021-06-16T20:11:52.394Z"
   },
   {
    "duration": 359,
    "start_time": "2021-06-16T20:11:52.433Z"
   },
   {
    "duration": 678,
    "start_time": "2021-06-16T20:11:52.795Z"
   },
   {
    "duration": 485,
    "start_time": "2021-06-16T20:11:53.476Z"
   },
   {
    "duration": 364,
    "start_time": "2021-06-16T20:11:53.964Z"
   },
   {
    "duration": 480,
    "start_time": "2021-06-16T20:11:54.330Z"
   },
   {
    "duration": 272,
    "start_time": "2021-06-16T20:11:54.813Z"
   },
   {
    "duration": 326,
    "start_time": "2021-06-16T20:11:55.088Z"
   },
   {
    "duration": 972,
    "start_time": "2021-06-16T20:11:55.421Z"
   },
   {
    "duration": 110,
    "start_time": "2021-06-16T20:12:28.403Z"
   },
   {
    "duration": 482,
    "start_time": "2021-06-16T20:12:34.612Z"
   },
   {
    "duration": 345,
    "start_time": "2021-06-16T20:12:50.493Z"
   },
   {
    "duration": 1489,
    "start_time": "2021-06-16T20:24:09.159Z"
   },
   {
    "duration": 22,
    "start_time": "2021-06-16T20:24:10.651Z"
   },
   {
    "duration": 159,
    "start_time": "2021-06-16T20:24:10.678Z"
   },
   {
    "duration": 22,
    "start_time": "2021-06-16T20:24:10.841Z"
   },
   {
    "duration": 91,
    "start_time": "2021-06-16T20:24:10.866Z"
   },
   {
    "duration": 1766,
    "start_time": "2021-06-16T20:24:10.960Z"
   },
   {
    "duration": 1057,
    "start_time": "2021-06-16T20:24:12.729Z"
   },
   {
    "duration": 1050,
    "start_time": "2021-06-16T20:24:13.789Z"
   },
   {
    "duration": 547,
    "start_time": "2021-06-16T20:24:14.846Z"
   },
   {
    "duration": 564,
    "start_time": "2021-06-16T20:24:15.398Z"
   },
   {
    "duration": 37,
    "start_time": "2021-06-16T20:24:15.964Z"
   },
   {
    "duration": 408,
    "start_time": "2021-06-16T20:24:16.004Z"
   },
   {
    "duration": 23,
    "start_time": "2021-06-16T20:24:16.415Z"
   },
   {
    "duration": 657,
    "start_time": "2021-06-16T20:24:16.441Z"
   },
   {
    "duration": 282,
    "start_time": "2021-06-16T20:24:17.101Z"
   },
   {
    "duration": 647,
    "start_time": "2021-06-16T20:24:17.386Z"
   },
   {
    "duration": 282,
    "start_time": "2021-06-16T20:24:18.036Z"
   },
   {
    "duration": 1002,
    "start_time": "2021-06-16T20:24:18.321Z"
   },
   {
    "duration": 47,
    "start_time": "2021-06-16T20:24:19.326Z"
   },
   {
    "duration": 357,
    "start_time": "2021-06-16T20:24:19.376Z"
   },
   {
    "duration": 684,
    "start_time": "2021-06-16T20:24:19.735Z"
   },
   {
    "duration": 366,
    "start_time": "2021-06-16T20:24:20.421Z"
   },
   {
    "duration": 376,
    "start_time": "2021-06-16T20:24:20.789Z"
   },
   {
    "duration": 470,
    "start_time": "2021-06-16T20:24:21.167Z"
   },
   {
    "duration": 281,
    "start_time": "2021-06-16T20:24:21.640Z"
   },
   {
    "duration": 338,
    "start_time": "2021-06-16T20:24:21.924Z"
   },
   {
    "duration": 996,
    "start_time": "2021-06-16T20:24:22.266Z"
   },
   {
    "duration": 87,
    "start_time": "2021-06-16T21:22:05.369Z"
   },
   {
    "duration": 653,
    "start_time": "2021-06-16T21:24:26.041Z"
   },
   {
    "duration": 9,
    "start_time": "2021-06-16T21:24:26.696Z"
   },
   {
    "duration": 79,
    "start_time": "2021-06-16T21:24:26.707Z"
   },
   {
    "duration": 8,
    "start_time": "2021-06-16T21:24:26.788Z"
   },
   {
    "duration": 34,
    "start_time": "2021-06-16T21:24:26.797Z"
   },
   {
    "duration": 561,
    "start_time": "2021-06-16T21:24:26.832Z"
   },
   {
    "duration": 410,
    "start_time": "2021-06-16T21:24:27.394Z"
   },
   {
    "duration": 387,
    "start_time": "2021-06-16T21:24:27.806Z"
   },
   {
    "duration": 216,
    "start_time": "2021-06-16T21:24:28.195Z"
   },
   {
    "duration": 218,
    "start_time": "2021-06-16T21:24:28.413Z"
   },
   {
    "duration": 22,
    "start_time": "2021-06-16T21:24:28.633Z"
   },
   {
    "duration": 369,
    "start_time": "2021-06-16T21:24:28.657Z"
   },
   {
    "duration": 59,
    "start_time": "2021-06-16T21:24:29.028Z"
   },
   {
    "duration": 498,
    "start_time": "2021-06-16T21:24:29.089Z"
   },
   {
    "duration": 162,
    "start_time": "2021-06-16T21:24:29.588Z"
   },
   {
    "duration": 449,
    "start_time": "2021-06-16T21:24:29.751Z"
   },
   {
    "duration": 168,
    "start_time": "2021-06-16T21:24:30.202Z"
   },
   {
    "duration": 641,
    "start_time": "2021-06-16T21:24:30.371Z"
   },
   {
    "duration": 23,
    "start_time": "2021-06-16T21:24:31.014Z"
   },
   {
    "duration": 225,
    "start_time": "2021-06-16T21:24:31.039Z"
   },
   {
    "duration": 399,
    "start_time": "2021-06-16T21:24:31.265Z"
   },
   {
    "duration": 226,
    "start_time": "2021-06-16T21:24:31.666Z"
   },
   {
    "duration": 223,
    "start_time": "2021-06-16T21:24:31.893Z"
   },
   {
    "duration": 317,
    "start_time": "2021-06-16T21:24:32.118Z"
   },
   {
    "duration": 156,
    "start_time": "2021-06-16T21:24:32.436Z"
   },
   {
    "duration": 191,
    "start_time": "2021-06-16T21:24:32.593Z"
   },
   {
    "duration": 556,
    "start_time": "2021-06-16T21:24:32.787Z"
   },
   {
    "duration": 56,
    "start_time": "2021-06-16T21:24:33.345Z"
   },
   {
    "duration": 458,
    "start_time": "2021-06-16T21:24:50.187Z"
   },
   {
    "duration": 234,
    "start_time": "2021-06-16T21:25:00.663Z"
   },
   {
    "duration": 97,
    "start_time": "2021-06-16T21:25:10.065Z"
   },
   {
    "duration": 22,
    "start_time": "2021-06-16T21:25:10.164Z"
   },
   {
    "duration": 68,
    "start_time": "2021-06-16T21:25:10.189Z"
   },
   {
    "duration": 26,
    "start_time": "2021-06-16T21:25:10.259Z"
   },
   {
    "duration": 30,
    "start_time": "2021-06-16T21:25:10.286Z"
   },
   {
    "duration": 543,
    "start_time": "2021-06-16T21:25:10.318Z"
   },
   {
    "duration": 378,
    "start_time": "2021-06-16T21:25:10.863Z"
   },
   {
    "duration": 386,
    "start_time": "2021-06-16T21:25:11.243Z"
   },
   {
    "duration": 230,
    "start_time": "2021-06-16T21:25:11.632Z"
   },
   {
    "duration": 323,
    "start_time": "2021-06-16T21:25:11.864Z"
   },
   {
    "duration": 23,
    "start_time": "2021-06-16T21:25:12.189Z"
   },
   {
    "duration": 225,
    "start_time": "2021-06-16T21:25:12.213Z"
   },
   {
    "duration": 12,
    "start_time": "2021-06-16T21:25:12.440Z"
   },
   {
    "duration": 432,
    "start_time": "2021-06-16T21:25:12.454Z"
   },
   {
    "duration": 159,
    "start_time": "2021-06-16T21:25:12.888Z"
   },
   {
    "duration": 432,
    "start_time": "2021-06-16T21:25:13.049Z"
   },
   {
    "duration": 164,
    "start_time": "2021-06-16T21:25:13.484Z"
   },
   {
    "duration": 551,
    "start_time": "2021-06-16T21:25:13.650Z"
   },
   {
    "duration": 22,
    "start_time": "2021-06-16T21:25:14.202Z"
   },
   {
    "duration": 216,
    "start_time": "2021-06-16T21:25:14.226Z"
   },
   {
    "duration": 398,
    "start_time": "2021-06-16T21:25:14.444Z"
   },
   {
    "duration": 210,
    "start_time": "2021-06-16T21:25:14.844Z"
   },
   {
    "duration": 330,
    "start_time": "2021-06-16T21:25:15.056Z"
   },
   {
    "duration": 349,
    "start_time": "2021-06-16T21:25:15.388Z"
   },
   {
    "duration": 162,
    "start_time": "2021-06-16T21:25:15.739Z"
   },
   {
    "duration": 199,
    "start_time": "2021-06-16T21:25:15.903Z"
   },
   {
    "duration": 563,
    "start_time": "2021-06-16T21:25:16.105Z"
   },
   {
    "duration": 55,
    "start_time": "2021-06-16T21:25:16.669Z"
   },
   {
    "duration": 239,
    "start_time": "2021-06-16T21:27:15.556Z"
   },
   {
    "duration": 106,
    "start_time": "2021-06-16T21:27:20.782Z"
   },
   {
    "duration": 10,
    "start_time": "2021-06-16T21:27:20.890Z"
   },
   {
    "duration": 84,
    "start_time": "2021-06-16T21:27:20.902Z"
   },
   {
    "duration": 8,
    "start_time": "2021-06-16T21:27:20.988Z"
   },
   {
    "duration": 35,
    "start_time": "2021-06-16T21:27:20.998Z"
   },
   {
    "duration": 560,
    "start_time": "2021-06-16T21:27:21.034Z"
   },
   {
    "duration": 373,
    "start_time": "2021-06-16T21:27:21.596Z"
   },
   {
    "duration": 509,
    "start_time": "2021-06-16T21:27:21.971Z"
   },
   {
    "duration": 224,
    "start_time": "2021-06-16T21:27:22.486Z"
   },
   {
    "duration": 248,
    "start_time": "2021-06-16T21:27:22.712Z"
   },
   {
    "duration": 30,
    "start_time": "2021-06-16T21:27:22.962Z"
   },
   {
    "duration": 221,
    "start_time": "2021-06-16T21:27:22.993Z"
   },
   {
    "duration": 12,
    "start_time": "2021-06-16T21:27:23.215Z"
   },
   {
    "duration": 452,
    "start_time": "2021-06-16T21:27:23.228Z"
   },
   {
    "duration": 171,
    "start_time": "2021-06-16T21:27:23.682Z"
   },
   {
    "duration": 452,
    "start_time": "2021-06-16T21:27:23.855Z"
   },
   {
    "duration": 168,
    "start_time": "2021-06-16T21:27:24.309Z"
   },
   {
    "duration": 548,
    "start_time": "2021-06-16T21:27:24.479Z"
   },
   {
    "duration": 22,
    "start_time": "2021-06-16T21:27:25.029Z"
   },
   {
    "duration": 219,
    "start_time": "2021-06-16T21:27:25.052Z"
   },
   {
    "duration": 389,
    "start_time": "2021-06-16T21:27:25.273Z"
   },
   {
    "duration": 214,
    "start_time": "2021-06-16T21:27:25.663Z"
   },
   {
    "duration": 228,
    "start_time": "2021-06-16T21:27:25.878Z"
   },
   {
    "duration": 443,
    "start_time": "2021-06-16T21:27:26.108Z"
   },
   {
    "duration": 168,
    "start_time": "2021-06-16T21:27:26.553Z"
   },
   {
    "duration": 197,
    "start_time": "2021-06-16T21:27:26.723Z"
   },
   {
    "duration": 581,
    "start_time": "2021-06-16T21:27:26.923Z"
   },
   {
    "duration": 57,
    "start_time": "2021-06-16T21:27:27.506Z"
   },
   {
    "duration": 241,
    "start_time": "2021-06-16T21:28:13.298Z"
   },
   {
    "duration": 243,
    "start_time": "2021-06-16T21:28:18.181Z"
   },
   {
    "duration": 230,
    "start_time": "2021-06-16T21:28:42.548Z"
   },
   {
    "duration": 241,
    "start_time": "2021-06-16T21:28:47.993Z"
   },
   {
    "duration": 102,
    "start_time": "2021-06-16T21:29:05.116Z"
   },
   {
    "duration": 10,
    "start_time": "2021-06-16T21:29:05.220Z"
   },
   {
    "duration": 81,
    "start_time": "2021-06-16T21:29:05.232Z"
   },
   {
    "duration": 8,
    "start_time": "2021-06-16T21:29:05.315Z"
   },
   {
    "duration": 32,
    "start_time": "2021-06-16T21:29:05.324Z"
   },
   {
    "duration": 589,
    "start_time": "2021-06-16T21:29:05.358Z"
   },
   {
    "duration": 390,
    "start_time": "2021-06-16T21:29:05.949Z"
   },
   {
    "duration": 544,
    "start_time": "2021-06-16T21:29:06.341Z"
   },
   {
    "duration": 217,
    "start_time": "2021-06-16T21:29:06.889Z"
   },
   {
    "duration": 237,
    "start_time": "2021-06-16T21:29:07.109Z"
   },
   {
    "duration": 24,
    "start_time": "2021-06-16T21:29:07.348Z"
   },
   {
    "duration": 221,
    "start_time": "2021-06-16T21:29:07.385Z"
   },
   {
    "duration": 12,
    "start_time": "2021-06-16T21:29:07.608Z"
   },
   {
    "duration": 462,
    "start_time": "2021-06-16T21:29:07.622Z"
   },
   {
    "duration": 166,
    "start_time": "2021-06-16T21:29:08.085Z"
   },
   {
    "duration": 440,
    "start_time": "2021-06-16T21:29:08.253Z"
   },
   {
    "duration": 168,
    "start_time": "2021-06-16T21:29:08.695Z"
   },
   {
    "duration": 589,
    "start_time": "2021-06-16T21:29:08.865Z"
   },
   {
    "duration": 37,
    "start_time": "2021-06-16T21:29:09.455Z"
   },
   {
    "duration": 208,
    "start_time": "2021-06-16T21:29:09.493Z"
   },
   {
    "duration": 431,
    "start_time": "2021-06-16T21:29:09.703Z"
   },
   {
    "duration": 217,
    "start_time": "2021-06-16T21:29:10.136Z"
   },
   {
    "duration": 218,
    "start_time": "2021-06-16T21:29:10.355Z"
   },
   {
    "duration": 351,
    "start_time": "2021-06-16T21:29:10.574Z"
   },
   {
    "duration": 171,
    "start_time": "2021-06-16T21:29:10.927Z"
   },
   {
    "duration": 217,
    "start_time": "2021-06-16T21:29:11.100Z"
   },
   {
    "duration": 765,
    "start_time": "2021-06-16T21:29:11.320Z"
   },
   {
    "duration": 59,
    "start_time": "2021-06-16T21:29:12.088Z"
   },
   {
    "duration": 256,
    "start_time": "2021-06-16T21:29:43.728Z"
   },
   {
    "duration": 241,
    "start_time": "2021-06-16T21:29:50.385Z"
   },
   {
    "duration": 226,
    "start_time": "2021-06-16T21:29:57.311Z"
   },
   {
    "duration": 249,
    "start_time": "2021-06-16T21:30:04.367Z"
   },
   {
    "duration": 254,
    "start_time": "2021-06-16T21:30:08.405Z"
   },
   {
    "duration": 242,
    "start_time": "2021-06-16T21:30:12.348Z"
   },
   {
    "duration": 125,
    "start_time": "2021-06-16T21:30:16.167Z"
   },
   {
    "duration": 12,
    "start_time": "2021-06-16T21:30:16.294Z"
   },
   {
    "duration": 84,
    "start_time": "2021-06-16T21:30:16.308Z"
   },
   {
    "duration": 8,
    "start_time": "2021-06-16T21:30:16.394Z"
   },
   {
    "duration": 31,
    "start_time": "2021-06-16T21:30:16.404Z"
   },
   {
    "duration": 557,
    "start_time": "2021-06-16T21:30:16.436Z"
   },
   {
    "duration": 364,
    "start_time": "2021-06-16T21:30:16.995Z"
   },
   {
    "duration": 388,
    "start_time": "2021-06-16T21:30:17.361Z"
   },
   {
    "duration": 218,
    "start_time": "2021-06-16T21:30:17.751Z"
   },
   {
    "duration": 243,
    "start_time": "2021-06-16T21:30:17.971Z"
   },
   {
    "duration": 22,
    "start_time": "2021-06-16T21:30:18.216Z"
   },
   {
    "duration": 226,
    "start_time": "2021-06-16T21:30:18.239Z"
   },
   {
    "duration": 20,
    "start_time": "2021-06-16T21:30:18.467Z"
   },
   {
    "duration": 612,
    "start_time": "2021-06-16T21:30:18.489Z"
   },
   {
    "duration": 163,
    "start_time": "2021-06-16T21:30:19.102Z"
   },
   {
    "duration": 428,
    "start_time": "2021-06-16T21:30:19.267Z"
   },
   {
    "duration": 177,
    "start_time": "2021-06-16T21:30:19.697Z"
   },
   {
    "duration": 569,
    "start_time": "2021-06-16T21:30:19.876Z"
   },
   {
    "duration": 24,
    "start_time": "2021-06-16T21:30:20.448Z"
   },
   {
    "duration": 206,
    "start_time": "2021-06-16T21:30:20.485Z"
   },
   {
    "duration": 391,
    "start_time": "2021-06-16T21:30:20.694Z"
   },
   {
    "duration": 220,
    "start_time": "2021-06-16T21:30:21.086Z"
   },
   {
    "duration": 235,
    "start_time": "2021-06-16T21:30:21.310Z"
   },
   {
    "duration": 360,
    "start_time": "2021-06-16T21:30:21.547Z"
   },
   {
    "duration": 166,
    "start_time": "2021-06-16T21:30:21.908Z"
   },
   {
    "duration": 192,
    "start_time": "2021-06-16T21:30:22.076Z"
   },
   {
    "duration": 559,
    "start_time": "2021-06-16T21:30:22.270Z"
   },
   {
    "duration": 65,
    "start_time": "2021-06-16T21:30:22.831Z"
   },
   {
    "duration": 233,
    "start_time": "2021-06-16T21:30:46.630Z"
   },
   {
    "duration": 240,
    "start_time": "2021-06-16T21:30:51.181Z"
   },
   {
    "duration": 247,
    "start_time": "2021-06-16T21:30:52.958Z"
   },
   {
    "duration": 240,
    "start_time": "2021-06-16T21:30:54.319Z"
   },
   {
    "duration": 215,
    "start_time": "2021-06-16T21:31:05.227Z"
   },
   {
    "duration": 111,
    "start_time": "2021-06-16T21:31:09.835Z"
   },
   {
    "duration": 10,
    "start_time": "2021-06-16T21:31:09.948Z"
   },
   {
    "duration": 89,
    "start_time": "2021-06-16T21:31:09.960Z"
   },
   {
    "duration": 8,
    "start_time": "2021-06-16T21:31:10.051Z"
   },
   {
    "duration": 46,
    "start_time": "2021-06-16T21:31:10.060Z"
   },
   {
    "duration": 737,
    "start_time": "2021-06-16T21:31:10.107Z"
   },
   {
    "duration": 391,
    "start_time": "2021-06-16T21:31:10.846Z"
   },
   {
    "duration": 398,
    "start_time": "2021-06-16T21:31:11.239Z"
   },
   {
    "duration": 217,
    "start_time": "2021-06-16T21:31:11.639Z"
   },
   {
    "duration": 229,
    "start_time": "2021-06-16T21:31:11.858Z"
   },
   {
    "duration": 23,
    "start_time": "2021-06-16T21:31:12.088Z"
   },
   {
    "duration": 234,
    "start_time": "2021-06-16T21:31:12.113Z"
   },
   {
    "duration": 11,
    "start_time": "2021-06-16T21:31:12.349Z"
   },
   {
    "duration": 427,
    "start_time": "2021-06-16T21:31:12.362Z"
   },
   {
    "duration": 157,
    "start_time": "2021-06-16T21:31:12.791Z"
   },
   {
    "duration": 434,
    "start_time": "2021-06-16T21:31:12.950Z"
   },
   {
    "duration": 169,
    "start_time": "2021-06-16T21:31:13.386Z"
   },
   {
    "duration": 550,
    "start_time": "2021-06-16T21:31:13.557Z"
   },
   {
    "duration": 23,
    "start_time": "2021-06-16T21:31:14.108Z"
   },
   {
    "duration": 213,
    "start_time": "2021-06-16T21:31:14.133Z"
   },
   {
    "duration": 402,
    "start_time": "2021-06-16T21:31:14.348Z"
   },
   {
    "duration": 221,
    "start_time": "2021-06-16T21:31:14.752Z"
   },
   {
    "duration": 239,
    "start_time": "2021-06-16T21:31:14.975Z"
   },
   {
    "duration": 311,
    "start_time": "2021-06-16T21:31:15.215Z"
   },
   {
    "duration": 162,
    "start_time": "2021-06-16T21:31:15.528Z"
   },
   {
    "duration": 187,
    "start_time": "2021-06-16T21:31:15.692Z"
   },
   {
    "duration": 766,
    "start_time": "2021-06-16T21:31:15.882Z"
   },
   {
    "duration": 57,
    "start_time": "2021-06-16T21:31:16.650Z"
   },
   {
    "duration": 235,
    "start_time": "2021-06-16T21:32:03.074Z"
   },
   {
    "duration": 97,
    "start_time": "2021-06-16T21:32:06.691Z"
   },
   {
    "duration": 13,
    "start_time": "2021-06-16T21:32:06.790Z"
   },
   {
    "duration": 90,
    "start_time": "2021-06-16T21:32:06.805Z"
   },
   {
    "duration": 9,
    "start_time": "2021-06-16T21:32:06.897Z"
   },
   {
    "duration": 36,
    "start_time": "2021-06-16T21:32:06.908Z"
   },
   {
    "duration": 572,
    "start_time": "2021-06-16T21:32:06.946Z"
   },
   {
    "duration": 384,
    "start_time": "2021-06-16T21:32:07.520Z"
   },
   {
    "duration": 401,
    "start_time": "2021-06-16T21:32:07.906Z"
   },
   {
    "duration": 247,
    "start_time": "2021-06-16T21:32:08.311Z"
   },
   {
    "duration": 262,
    "start_time": "2021-06-16T21:32:08.560Z"
   },
   {
    "duration": 26,
    "start_time": "2021-06-16T21:32:08.824Z"
   },
   {
    "duration": 273,
    "start_time": "2021-06-16T21:32:08.852Z"
   },
   {
    "duration": 13,
    "start_time": "2021-06-16T21:32:09.126Z"
   },
   {
    "duration": 469,
    "start_time": "2021-06-16T21:32:09.141Z"
   },
   {
    "duration": 173,
    "start_time": "2021-06-16T21:32:09.612Z"
   },
   {
    "duration": 437,
    "start_time": "2021-06-16T21:32:09.788Z"
   },
   {
    "duration": 165,
    "start_time": "2021-06-16T21:32:10.227Z"
   },
   {
    "duration": 567,
    "start_time": "2021-06-16T21:32:10.394Z"
   },
   {
    "duration": 32,
    "start_time": "2021-06-16T21:32:10.962Z"
   },
   {
    "duration": 211,
    "start_time": "2021-06-16T21:32:10.996Z"
   },
   {
    "duration": 381,
    "start_time": "2021-06-16T21:32:11.209Z"
   },
   {
    "duration": 216,
    "start_time": "2021-06-16T21:32:11.592Z"
   },
   {
    "duration": 451,
    "start_time": "2021-06-16T21:32:11.810Z"
   },
   {
    "duration": 353,
    "start_time": "2021-06-16T21:32:12.262Z"
   },
   {
    "duration": 157,
    "start_time": "2021-06-16T21:32:12.617Z"
   },
   {
    "duration": 214,
    "start_time": "2021-06-16T21:32:12.785Z"
   },
   {
    "duration": 566,
    "start_time": "2021-06-16T21:32:13.003Z"
   },
   {
    "duration": 61,
    "start_time": "2021-06-16T21:32:13.570Z"
   },
   {
    "duration": 233,
    "start_time": "2021-06-16T21:32:34.168Z"
   },
   {
    "duration": 99,
    "start_time": "2021-06-16T21:32:41.917Z"
   },
   {
    "duration": 10,
    "start_time": "2021-06-16T21:32:42.018Z"
   },
   {
    "duration": 81,
    "start_time": "2021-06-16T21:32:42.030Z"
   },
   {
    "duration": 9,
    "start_time": "2021-06-16T21:32:42.113Z"
   },
   {
    "duration": 35,
    "start_time": "2021-06-16T21:32:42.123Z"
   },
   {
    "duration": 590,
    "start_time": "2021-06-16T21:32:42.159Z"
   },
   {
    "duration": 380,
    "start_time": "2021-06-16T21:32:42.751Z"
   },
   {
    "duration": 399,
    "start_time": "2021-06-16T21:32:43.133Z"
   },
   {
    "duration": 233,
    "start_time": "2021-06-16T21:32:43.535Z"
   },
   {
    "duration": 232,
    "start_time": "2021-06-16T21:32:43.771Z"
   },
   {
    "duration": 24,
    "start_time": "2021-06-16T21:32:44.005Z"
   },
   {
    "duration": 241,
    "start_time": "2021-06-16T21:32:44.031Z"
   },
   {
    "duration": 17,
    "start_time": "2021-06-16T21:32:44.274Z"
   },
   {
    "duration": 426,
    "start_time": "2021-06-16T21:32:44.293Z"
   },
   {
    "duration": 168,
    "start_time": "2021-06-16T21:32:44.720Z"
   },
   {
    "duration": 404,
    "start_time": "2021-06-16T21:32:44.890Z"
   },
   {
    "duration": 169,
    "start_time": "2021-06-16T21:32:45.296Z"
   },
   {
    "duration": 554,
    "start_time": "2021-06-16T21:32:45.466Z"
   },
   {
    "duration": 33,
    "start_time": "2021-06-16T21:32:46.022Z"
   },
   {
    "duration": 221,
    "start_time": "2021-06-16T21:32:46.056Z"
   },
   {
    "duration": 395,
    "start_time": "2021-06-16T21:32:46.279Z"
   },
   {
    "duration": 218,
    "start_time": "2021-06-16T21:32:46.676Z"
   },
   {
    "duration": 467,
    "start_time": "2021-06-16T21:32:46.895Z"
   },
   {
    "duration": 357,
    "start_time": "2021-06-16T21:32:47.363Z"
   },
   {
    "duration": 156,
    "start_time": "2021-06-16T21:32:47.722Z"
   },
   {
    "duration": 200,
    "start_time": "2021-06-16T21:32:47.880Z"
   },
   {
    "duration": 554,
    "start_time": "2021-06-16T21:32:48.087Z"
   },
   {
    "duration": 63,
    "start_time": "2021-06-16T21:32:48.642Z"
   },
   {
    "duration": 228,
    "start_time": "2021-06-16T21:34:06.787Z"
   },
   {
    "duration": 214,
    "start_time": "2021-06-16T21:34:11.138Z"
   },
   {
    "duration": 219,
    "start_time": "2021-06-16T21:34:18.972Z"
   },
   {
    "duration": 214,
    "start_time": "2021-06-16T21:34:33.551Z"
   },
   {
    "duration": 203,
    "start_time": "2021-06-16T21:34:40.695Z"
   },
   {
    "duration": 216,
    "start_time": "2021-06-16T21:34:43.192Z"
   }
  ],
  "kernelspec": {
   "display_name": "Python 3",
   "language": "python",
   "name": "python3"
  },
  "language_info": {
   "codemirror_mode": {
    "name": "ipython",
    "version": 3
   },
   "file_extension": ".py",
   "mimetype": "text/x-python",
   "name": "python",
   "nbconvert_exporter": "python",
   "pygments_lexer": "ipython3",
   "version": "3.7.10"
  },
  "toc": {
   "base_numbering": 1,
   "nav_menu": {},
   "number_sections": true,
   "sideBar": true,
   "skip_h1_title": true,
   "title_cell": "Содержание",
   "title_sidebar": "Contents",
   "toc_cell": true,
   "toc_position": {},
   "toc_section_display": true,
   "toc_window_display": true
  }
 },
 "nbformat": 4,
 "nbformat_minor": 2
}
