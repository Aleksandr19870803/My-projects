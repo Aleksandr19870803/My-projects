{
 "cells": [
  {
   "cell_type": "markdown",
   "metadata": {},
   "source": [
    "# Описание проекта\n",
    "\n",
    " - Я аналитик в провайдере виртуальной телефонии «Нупозвони». Ко мне обратился менеджер продуктового отдела с задачей, определить неэффективных операторов для продуктового отдела.\n",
    "\n",
    " - В моем распоряжении данные от продуктового отдела по распределению входящих и исходящих вызовов по операторам колл-центров.\n",
    "\n",
    "## Описание данных \n",
    "  Датасеты описывают использование услуг «Нупозвони» — провайдера виртуальный телефонии.     Его клиенты — колл-центры, которые: \n",
    "\n",
    "- распределяют входящие вызовы на операторов,\n",
    "- совершают исходящие вызовы силами операторов.\n",
    "\n",
    "Также операторы могут делать внутренние вызовы —  вызовы друг между другом внутри сети виртуальной телефонии.\n",
    "\n",
    "Колонки в `telecom_dataset.csv.zip`:\n",
    "\n",
    "- `user_id` — Идентификатор клиентского аккаунта в сервисе\n",
    "- `date` — Дата статистики\n",
    "- `direction` — Направление вызовов (out - исходящий вызов, in — входящий вызов)\n",
    "- `internal` — Является ли звонок внутренним звонком между операторами клиента\n",
    "- `operator_id` — Идентификатор оператора\n",
    "- `is_missed_call` — Является ли звонок пропущенным\n",
    "- `calls_count` — Количество звонков\n",
    "- `call_duration` — Длительность звонка (без учета времени ожидания)\n",
    "- `total_call_duration` — Длительность звонка (с учетом времени ожидания)\n",
    "\n",
    "Колонки в `telecom_clients.csv`:\n",
    "\n",
    "- `user_id` — Идентификатор клиентского аккаунта в сервисе\n",
    "- `tariff_plan` — Текущий тарифный план клиента\n",
    "\n",
    "## План выполнения проекта\n",
    "\n",
    "  - ### Открыть файлы с данными и изучить общую информацию\n",
    "     - telecom_dataset.csv.zip\n",
    "     - telecom_clients.csv\n",
    "  - ### Подготовить данные \n",
    "     - Привести данные к нужным типам\n",
    "     - Проверить на наличие пропусков и дубликатов\n",
    "     - Проверить есть ли аномальные значения или ошибки в данных\n",
    "  - ### Провести исследовательский анализ данных\n",
    "     - Посмотреть долю пропущенных вызовов по операторам\n",
    "     - Посмотреть время ожидания ответа от оператора\n",
    "     - Посмотреть на количество исходящих вызовов на операторах, которые специализируются на обзвонах\n",
    "     - Посмотреть какому количеству клиентов будет интересна эта услуга\n",
    "     - Сделать анализ цикличной нагрузки на операторов(посмотрим на пиковые дни работы операторов)\n",
    "  - ### Определить неэффективных операторов\n",
    "     - Признаки низкой эффективности:\n",
    "       - много пропущенных входящих вызовов,\n",
    "       - долгое ожидания ответа при входящих внешних вызовах,\n",
    "       - мало исходящих вывозов — в случае тех колл-центров, что специализируются на обзвонах, а не обработке входящих звонков.\n",
    "     - Посчитать неэффективных операторов у каждого клиента \n",
    "  - ### Проверить статистические гипотезы:   \n",
    "     -  Зависит ли время ожидания клиента от тарифного плана\n",
    "     -  Зависит ли длительность звонка (без учета времени ожидания) от того входящий он или нет\n",
    "  - ### Общий вывод и рекомендации для заказчика \n",
    "  \n",
    "  \n",
    "**Рекомендации:**\n",
    "\n",
    " - Услугу стоит внедрять, так как доля заинтерисованных клиентов довольно большая 38,8%  "
   ]
  },
  {
   "cell_type": "markdown",
   "metadata": {},
   "source": [
    "## Загрузим необходимые библиотеки и посмторим на датасэты"
   ]
  },
  {
   "cell_type": "code",
   "execution_count": 1,
   "metadata": {},
   "outputs": [],
   "source": [
    "import pandas as pd\n",
    "import numpy as np\n",
    "from matplotlib import pyplot as plt\n",
    "import plotly.express as px\n",
    "from scipy import stats as st"
   ]
  },
  {
   "cell_type": "code",
   "execution_count": 2,
   "metadata": {},
   "outputs": [],
   "source": [
    "data_1 = pd.read_csv('/datasets/telecom_dataset.csv')\n",
    "data_2 = pd.read_csv('/datasets/telecom_clients.csv')"
   ]
  },
  {
   "cell_type": "markdown",
   "metadata": {},
   "source": [
    "**Создадим функцию для анализа общей информации по датасетам**"
   ]
  },
  {
   "cell_type": "code",
   "execution_count": 3,
   "metadata": {},
   "outputs": [],
   "source": [
    "def df_info(data):\n",
    "    data\n",
    "    print('Общая информация')\n",
    "    print('-'*40)\n",
    "    print(data.info())\n",
    "    print('-'*40)\n",
    "    print('Статистика датафрейма')\n",
    "    print('-'*40)\n",
    "    print(data.describe())\n",
    "    print('-'*40)\n",
    "    print('Наличие дубликатов')\n",
    "    print(data.duplicated().sum())\n",
    "    print('-'*40)\n",
    "    print('Наличие пропусков')\n",
    "    print('-'*40)\n",
    "    print(data.isna().sum())"
   ]
  },
  {
   "cell_type": "code",
   "execution_count": 4,
   "metadata": {},
   "outputs": [
    {
     "data": {
      "text/html": [
       "<div>\n",
       "<style scoped>\n",
       "    .dataframe tbody tr th:only-of-type {\n",
       "        vertical-align: middle;\n",
       "    }\n",
       "\n",
       "    .dataframe tbody tr th {\n",
       "        vertical-align: top;\n",
       "    }\n",
       "\n",
       "    .dataframe thead th {\n",
       "        text-align: right;\n",
       "    }\n",
       "</style>\n",
       "<table border=\"1\" class=\"dataframe\">\n",
       "  <thead>\n",
       "    <tr style=\"text-align: right;\">\n",
       "      <th></th>\n",
       "      <th>user_id</th>\n",
       "      <th>date</th>\n",
       "      <th>direction</th>\n",
       "      <th>internal</th>\n",
       "      <th>operator_id</th>\n",
       "      <th>is_missed_call</th>\n",
       "      <th>calls_count</th>\n",
       "      <th>call_duration</th>\n",
       "      <th>total_call_duration</th>\n",
       "    </tr>\n",
       "  </thead>\n",
       "  <tbody>\n",
       "    <tr>\n",
       "      <td>0</td>\n",
       "      <td>166377</td>\n",
       "      <td>2019-08-04 00:00:00+03:00</td>\n",
       "      <td>in</td>\n",
       "      <td>False</td>\n",
       "      <td>NaN</td>\n",
       "      <td>True</td>\n",
       "      <td>2</td>\n",
       "      <td>0</td>\n",
       "      <td>4</td>\n",
       "    </tr>\n",
       "    <tr>\n",
       "      <td>1</td>\n",
       "      <td>166377</td>\n",
       "      <td>2019-08-05 00:00:00+03:00</td>\n",
       "      <td>out</td>\n",
       "      <td>True</td>\n",
       "      <td>880022.0</td>\n",
       "      <td>True</td>\n",
       "      <td>3</td>\n",
       "      <td>0</td>\n",
       "      <td>5</td>\n",
       "    </tr>\n",
       "    <tr>\n",
       "      <td>2</td>\n",
       "      <td>166377</td>\n",
       "      <td>2019-08-05 00:00:00+03:00</td>\n",
       "      <td>out</td>\n",
       "      <td>True</td>\n",
       "      <td>880020.0</td>\n",
       "      <td>True</td>\n",
       "      <td>1</td>\n",
       "      <td>0</td>\n",
       "      <td>1</td>\n",
       "    </tr>\n",
       "    <tr>\n",
       "      <td>3</td>\n",
       "      <td>166377</td>\n",
       "      <td>2019-08-05 00:00:00+03:00</td>\n",
       "      <td>out</td>\n",
       "      <td>True</td>\n",
       "      <td>880020.0</td>\n",
       "      <td>False</td>\n",
       "      <td>1</td>\n",
       "      <td>10</td>\n",
       "      <td>18</td>\n",
       "    </tr>\n",
       "    <tr>\n",
       "      <td>4</td>\n",
       "      <td>166377</td>\n",
       "      <td>2019-08-05 00:00:00+03:00</td>\n",
       "      <td>out</td>\n",
       "      <td>False</td>\n",
       "      <td>880022.0</td>\n",
       "      <td>True</td>\n",
       "      <td>3</td>\n",
       "      <td>0</td>\n",
       "      <td>25</td>\n",
       "    </tr>\n",
       "  </tbody>\n",
       "</table>\n",
       "</div>"
      ],
      "text/plain": [
       "   user_id                       date direction internal  operator_id  \\\n",
       "0   166377  2019-08-04 00:00:00+03:00        in    False          NaN   \n",
       "1   166377  2019-08-05 00:00:00+03:00       out     True     880022.0   \n",
       "2   166377  2019-08-05 00:00:00+03:00       out     True     880020.0   \n",
       "3   166377  2019-08-05 00:00:00+03:00       out     True     880020.0   \n",
       "4   166377  2019-08-05 00:00:00+03:00       out    False     880022.0   \n",
       "\n",
       "   is_missed_call  calls_count  call_duration  total_call_duration  \n",
       "0            True            2              0                    4  \n",
       "1            True            3              0                    5  \n",
       "2            True            1              0                    1  \n",
       "3           False            1             10                   18  \n",
       "4            True            3              0                   25  "
      ]
     },
     "execution_count": 4,
     "metadata": {},
     "output_type": "execute_result"
    }
   ],
   "source": [
    "data_1.head(5)"
   ]
  },
  {
   "cell_type": "code",
   "execution_count": 5,
   "metadata": {},
   "outputs": [
    {
     "name": "stdout",
     "output_type": "stream",
     "text": [
      "Общая информация\n",
      "----------------------------------------\n",
      "<class 'pandas.core.frame.DataFrame'>\n",
      "RangeIndex: 53902 entries, 0 to 53901\n",
      "Data columns (total 9 columns):\n",
      "user_id                53902 non-null int64\n",
      "date                   53902 non-null object\n",
      "direction              53902 non-null object\n",
      "internal               53785 non-null object\n",
      "operator_id            45730 non-null float64\n",
      "is_missed_call         53902 non-null bool\n",
      "calls_count            53902 non-null int64\n",
      "call_duration          53902 non-null int64\n",
      "total_call_duration    53902 non-null int64\n",
      "dtypes: bool(1), float64(1), int64(4), object(3)\n",
      "memory usage: 3.3+ MB\n",
      "None\n",
      "----------------------------------------\n",
      "Статистика датафрейма\n",
      "----------------------------------------\n",
      "             user_id    operator_id   calls_count  call_duration  \\\n",
      "count   53902.000000   45730.000000  53902.000000   53902.000000   \n",
      "mean   167295.344477  916535.993002     16.451245     866.684427   \n",
      "std       598.883775   21254.123136     62.917170    3731.791202   \n",
      "min    166377.000000  879896.000000      1.000000       0.000000   \n",
      "25%    166782.000000  900788.000000      1.000000       0.000000   \n",
      "50%    167162.000000  913938.000000      4.000000      38.000000   \n",
      "75%    167819.000000  937708.000000     12.000000     572.000000   \n",
      "max    168606.000000  973286.000000   4817.000000  144395.000000   \n",
      "\n",
      "       total_call_duration  \n",
      "count         53902.000000  \n",
      "mean           1157.133297  \n",
      "std            4403.468763  \n",
      "min               0.000000  \n",
      "25%              47.000000  \n",
      "50%             210.000000  \n",
      "75%             902.000000  \n",
      "max          166155.000000  \n",
      "----------------------------------------\n",
      "Наличие дубликатов\n",
      "4900\n",
      "----------------------------------------\n",
      "Наличие пропусков\n",
      "----------------------------------------\n",
      "user_id                   0\n",
      "date                      0\n",
      "direction                 0\n",
      "internal                117\n",
      "operator_id            8172\n",
      "is_missed_call            0\n",
      "calls_count               0\n",
      "call_duration             0\n",
      "total_call_duration       0\n",
      "dtype: int64\n"
     ]
    }
   ],
   "source": [
    "df_info(data_1)"
   ]
  },
  {
   "cell_type": "code",
   "execution_count": 6,
   "metadata": {},
   "outputs": [
    {
     "data": {
      "text/html": [
       "<div>\n",
       "<style scoped>\n",
       "    .dataframe tbody tr th:only-of-type {\n",
       "        vertical-align: middle;\n",
       "    }\n",
       "\n",
       "    .dataframe tbody tr th {\n",
       "        vertical-align: top;\n",
       "    }\n",
       "\n",
       "    .dataframe thead th {\n",
       "        text-align: right;\n",
       "    }\n",
       "</style>\n",
       "<table border=\"1\" class=\"dataframe\">\n",
       "  <thead>\n",
       "    <tr style=\"text-align: right;\">\n",
       "      <th></th>\n",
       "      <th>user_id</th>\n",
       "      <th>tariff_plan</th>\n",
       "      <th>date_start</th>\n",
       "    </tr>\n",
       "  </thead>\n",
       "  <tbody>\n",
       "    <tr>\n",
       "      <td>0</td>\n",
       "      <td>166713</td>\n",
       "      <td>A</td>\n",
       "      <td>2019-08-15</td>\n",
       "    </tr>\n",
       "    <tr>\n",
       "      <td>1</td>\n",
       "      <td>166901</td>\n",
       "      <td>A</td>\n",
       "      <td>2019-08-23</td>\n",
       "    </tr>\n",
       "    <tr>\n",
       "      <td>2</td>\n",
       "      <td>168527</td>\n",
       "      <td>A</td>\n",
       "      <td>2019-10-29</td>\n",
       "    </tr>\n",
       "    <tr>\n",
       "      <td>3</td>\n",
       "      <td>167097</td>\n",
       "      <td>A</td>\n",
       "      <td>2019-09-01</td>\n",
       "    </tr>\n",
       "    <tr>\n",
       "      <td>4</td>\n",
       "      <td>168193</td>\n",
       "      <td>A</td>\n",
       "      <td>2019-10-16</td>\n",
       "    </tr>\n",
       "  </tbody>\n",
       "</table>\n",
       "</div>"
      ],
      "text/plain": [
       "   user_id tariff_plan  date_start\n",
       "0   166713           A  2019-08-15\n",
       "1   166901           A  2019-08-23\n",
       "2   168527           A  2019-10-29\n",
       "3   167097           A  2019-09-01\n",
       "4   168193           A  2019-10-16"
      ]
     },
     "execution_count": 6,
     "metadata": {},
     "output_type": "execute_result"
    }
   ],
   "source": [
    "data_2.head(5)"
   ]
  },
  {
   "cell_type": "code",
   "execution_count": 7,
   "metadata": {},
   "outputs": [
    {
     "name": "stdout",
     "output_type": "stream",
     "text": [
      "Общая информация\n",
      "----------------------------------------\n",
      "<class 'pandas.core.frame.DataFrame'>\n",
      "RangeIndex: 732 entries, 0 to 731\n",
      "Data columns (total 3 columns):\n",
      "user_id        732 non-null int64\n",
      "tariff_plan    732 non-null object\n",
      "date_start     732 non-null object\n",
      "dtypes: int64(1), object(2)\n",
      "memory usage: 17.3+ KB\n",
      "None\n",
      "----------------------------------------\n",
      "Статистика датафрейма\n",
      "----------------------------------------\n",
      "             user_id\n",
      "count     732.000000\n",
      "mean   167431.927596\n",
      "std       633.810383\n",
      "min    166373.000000\n",
      "25%    166900.750000\n",
      "50%    167432.000000\n",
      "75%    167973.000000\n",
      "max    168606.000000\n",
      "----------------------------------------\n",
      "Наличие дубликатов\n",
      "0\n",
      "----------------------------------------\n",
      "Наличие пропусков\n",
      "----------------------------------------\n",
      "user_id        0\n",
      "tariff_plan    0\n",
      "date_start     0\n",
      "dtype: int64\n"
     ]
    }
   ],
   "source": [
    "df_info(data_2)"
   ]
  },
  {
   "cell_type": "markdown",
   "metadata": {},
   "source": [
    "### Комментарий\n",
    "- В датасете data 4900 дубликатов, есть пропущенные значения в столбцах internal и operator_id\n",
    "- В датафрейме data обнаружились аномально большие значения в столбцах calls_count, call_duration, total_call_duration, далее отфильтруем их с помощью quantile, зададим значения 95%\n",
    "- В датасете data_2 все хорошо"
   ]
  },
  {
   "cell_type": "markdown",
   "metadata": {},
   "source": [
    "## Подготовить данные"
   ]
  },
  {
   "cell_type": "markdown",
   "metadata": {},
   "source": [
    "**Отфильтруем данные в датасэте data с помощью quantile, зададим значения 99%,что бы не потерять значительную часть данных**"
   ]
  },
  {
   "cell_type": "code",
   "execution_count": 8,
   "metadata": {},
   "outputs": [],
   "source": [
    "data = data_1[(data_1[\"calls_count\"]<data_1[\"calls_count\"].quantile(0.99)) & \n",
    "            (data_1[\"call_duration\"]<data_1[\"call_duration\"].quantile(0.99)) &\n",
    "            (data_1[\"total_call_duration\"]<data_1[\"total_call_duration\"].quantile(0.99))]"
   ]
  },
  {
   "cell_type": "code",
   "execution_count": 9,
   "metadata": {},
   "outputs": [
    {
     "name": "stdout",
     "output_type": "stream",
     "text": [
      "Процент потерянных значений 1.6\n"
     ]
    }
   ],
   "source": [
    "print('Процент потерянных значений',round((len(data_1)-len(data))/len(data_1)*100,2))"
   ]
  },
  {
   "cell_type": "code",
   "execution_count": 10,
   "metadata": {},
   "outputs": [],
   "source": [
    "data = data.copy()"
   ]
  },
  {
   "cell_type": "markdown",
   "metadata": {},
   "source": [
    "**Избавимся от дубликатов**"
   ]
  },
  {
   "cell_type": "code",
   "execution_count": 11,
   "metadata": {},
   "outputs": [],
   "source": [
    "data = data.drop_duplicates()"
   ]
  },
  {
   "cell_type": "markdown",
   "metadata": {},
   "source": [
    "**Заменим, для удобства дальнейших расчетов, пропущенные значения в колонке operator_id на 9999999**"
   ]
  },
  {
   "cell_type": "code",
   "execution_count": 12,
   "metadata": {},
   "outputs": [],
   "source": [
    "data['operator_id'] = data['operator_id'].fillna(9999999).astype(int)"
   ]
  },
  {
   "cell_type": "markdown",
   "metadata": {},
   "source": [
    "**Переведем время в столбце date в формат даты**"
   ]
  },
  {
   "cell_type": "code",
   "execution_count": 13,
   "metadata": {},
   "outputs": [],
   "source": [
    "data['date'] = pd.to_datetime(data['date'])\n",
    "data['date'] = data['date'].apply(lambda x:x.strftime('%Y-%m-%d'))"
   ]
  },
  {
   "cell_type": "code",
   "execution_count": 14,
   "metadata": {},
   "outputs": [
    {
     "data": {
      "text/plain": [
       "0        2019-08-04\n",
       "1        2019-08-05\n",
       "2        2019-08-05\n",
       "3        2019-08-05\n",
       "4        2019-08-05\n",
       "            ...    \n",
       "53896    2019-11-10\n",
       "53897    2019-11-10\n",
       "53898    2019-11-11\n",
       "53899    2019-11-15\n",
       "53901    2019-11-19\n",
       "Name: date, Length: 48223, dtype: object"
      ]
     },
     "execution_count": 14,
     "metadata": {},
     "output_type": "execute_result"
    }
   ],
   "source": [
    "pd.to_datetime(data['date']).dt.date"
   ]
  },
  {
   "cell_type": "markdown",
   "metadata": {},
   "source": [
    "**Заментим булевые значения на 0 и 1 и заполним пропущенные значения в колонке internal на 0**"
   ]
  },
  {
   "cell_type": "code",
   "execution_count": 15,
   "metadata": {},
   "outputs": [],
   "source": [
    "data[['internal','is_missed_call']] = data[['internal','is_missed_call']].fillna(0).astype(int)"
   ]
  },
  {
   "cell_type": "code",
   "execution_count": 16,
   "metadata": {},
   "outputs": [
    {
     "data": {
      "text/html": [
       "<div>\n",
       "<style scoped>\n",
       "    .dataframe tbody tr th:only-of-type {\n",
       "        vertical-align: middle;\n",
       "    }\n",
       "\n",
       "    .dataframe tbody tr th {\n",
       "        vertical-align: top;\n",
       "    }\n",
       "\n",
       "    .dataframe thead th {\n",
       "        text-align: right;\n",
       "    }\n",
       "</style>\n",
       "<table border=\"1\" class=\"dataframe\">\n",
       "  <thead>\n",
       "    <tr style=\"text-align: right;\">\n",
       "      <th></th>\n",
       "      <th>user_id</th>\n",
       "      <th>date</th>\n",
       "      <th>direction</th>\n",
       "      <th>internal</th>\n",
       "      <th>operator_id</th>\n",
       "      <th>is_missed_call</th>\n",
       "      <th>calls_count</th>\n",
       "      <th>call_duration</th>\n",
       "      <th>total_call_duration</th>\n",
       "    </tr>\n",
       "  </thead>\n",
       "  <tbody>\n",
       "    <tr>\n",
       "      <td>0</td>\n",
       "      <td>166377</td>\n",
       "      <td>2019-08-04</td>\n",
       "      <td>in</td>\n",
       "      <td>0</td>\n",
       "      <td>9999999</td>\n",
       "      <td>1</td>\n",
       "      <td>2</td>\n",
       "      <td>0</td>\n",
       "      <td>4</td>\n",
       "    </tr>\n",
       "    <tr>\n",
       "      <td>1</td>\n",
       "      <td>166377</td>\n",
       "      <td>2019-08-05</td>\n",
       "      <td>out</td>\n",
       "      <td>1</td>\n",
       "      <td>880022</td>\n",
       "      <td>1</td>\n",
       "      <td>3</td>\n",
       "      <td>0</td>\n",
       "      <td>5</td>\n",
       "    </tr>\n",
       "    <tr>\n",
       "      <td>2</td>\n",
       "      <td>166377</td>\n",
       "      <td>2019-08-05</td>\n",
       "      <td>out</td>\n",
       "      <td>1</td>\n",
       "      <td>880020</td>\n",
       "      <td>1</td>\n",
       "      <td>1</td>\n",
       "      <td>0</td>\n",
       "      <td>1</td>\n",
       "    </tr>\n",
       "  </tbody>\n",
       "</table>\n",
       "</div>"
      ],
      "text/plain": [
       "   user_id        date direction  internal  operator_id  is_missed_call  \\\n",
       "0   166377  2019-08-04        in         0      9999999               1   \n",
       "1   166377  2019-08-05       out         1       880022               1   \n",
       "2   166377  2019-08-05       out         1       880020               1   \n",
       "\n",
       "   calls_count  call_duration  total_call_duration  \n",
       "0            2              0                    4  \n",
       "1            3              0                    5  \n",
       "2            1              0                    1  "
      ]
     },
     "execution_count": 16,
     "metadata": {},
     "output_type": "execute_result"
    }
   ],
   "source": [
    "data.head(3)"
   ]
  },
  {
   "cell_type": "markdown",
   "metadata": {},
   "source": [
    "## Провести исследовательский анализ данных"
   ]
  },
  {
   "cell_type": "markdown",
   "metadata": {},
   "source": [
    "**Посмотрим на распределение наших данных**"
   ]
  },
  {
   "cell_type": "code",
   "execution_count": 17,
   "metadata": {},
   "outputs": [
    {
     "data": {
      "image/png": "[encoded data removed]",
      "text/plain": [
       "<Figure size 1080x1080 with 4 Axes>"
      ]
     },
     "metadata": {
      "needs_background": "light"
     },
     "output_type": "display_data"
    }
   ],
   "source": [
    "data[['call_duration','calls_count','total_call_duration']].hist(figsize=(15,15))\n",
    "plt.show()"
   ]
  },
  {
   "cell_type": "markdown",
   "metadata": {},
   "source": [
    "### Комментарий\n",
    "- Данные сильно скошены в право\n",
    "- Количество звонков в основном не превышает 40\n",
    "- Длительность звонка в основном не превышает 2000 сек\n",
    "- В дальнейшем для определения неэффективных операторов в качестве меры средней тенденции будем применять медиану, на нее не так сильно влияют выбросы"
   ]
  },
  {
   "cell_type": "markdown",
   "metadata": {},
   "source": [
    "**Посмотрим долю пропущенных вызовов по операторам**"
   ]
  },
  {
   "cell_type": "code",
   "execution_count": 18,
   "metadata": {},
   "outputs": [
    {
     "data": {
      "text/plain": [
       "0    0.528206\n",
       "1    0.471794\n",
       "Name: is_missed_call, dtype: float64"
      ]
     },
     "execution_count": 18,
     "metadata": {},
     "output_type": "execute_result"
    }
   ],
   "source": [
    "data.query('direction == \"out\"')['is_missed_call'].value_counts(normalize = True)"
   ]
  },
  {
   "cell_type": "code",
   "execution_count": 19,
   "metadata": {},
   "outputs": [
    {
     "data": {
      "image/png": "[encoded data removed]",
      "text/plain": [
       "<Figure size 432x288 with 1 Axes>"
      ]
     },
     "metadata": {
      "needs_background": "light"
     },
     "output_type": "display_data"
    }
   ],
   "source": [
    "(data.query('direction == \"out\"')['is_missed_call'].\n",
    " value_counts(normalize = True).\n",
    " plot(kind='bar',title='Распределение долей пропущен ли вызов')\n",
    ")\n",
    "plt.show()"
   ]
  },
  {
   "cell_type": "markdown",
   "metadata": {},
   "source": [
    "### Комментарий\n",
    "- Доля пропущенных вызовов довольно большая, почти 47%"
   ]
  },
  {
   "cell_type": "markdown",
   "metadata": {},
   "source": [
    "**Посмотрим на пиковые дни работы операторов**"
   ]
  },
  {
   "cell_type": "code",
   "execution_count": 47,
   "metadata": {},
   "outputs": [
    {
     "data": {
      "application/vnd.plotly.v1+json": {
       "config": {
        "plotlyServerURL": "https://plot.ly"
       },
       "data": [
        {
         "hoverlabel": {
          "namelength": 0
         },
         "hovertemplate": "Дата=%{x}<br>Количество звонков=%{y}",
         "legendgroup": "",
         "line": {
          "color": "#636efa",
          "dash": "solid"
         },
         "mode": "lines",
         "name": "",
         "showlegend": false,
         "type": "scatter",
         "x": [
          "2019-08-02",
          "2019-08-03",
          "2019-08-04",
          "2019-08-05",
          "2019-08-06",
          "2019-08-07",
          "2019-08-08",
          "2019-08-09",
          "2019-08-10",
          "2019-08-11",
          "2019-08-12",
          "2019-08-13",
          "2019-08-14",
          "2019-08-15",
          "2019-08-16",
          "2019-08-17",
          "2019-08-18",
          "2019-08-19",
          "2019-08-20",
          "2019-08-21",
          "2019-08-22",
          "2019-08-23",
          "2019-08-24",
          "2019-08-25",
          "2019-08-26",
          "2019-08-27",
          "2019-08-28",
          "2019-08-29",
          "2019-08-30",
          "2019-08-31",
          "2019-09-01",
          "2019-09-02",
          "2019-09-03",
          "2019-09-04",
          "2019-09-05",
          "2019-09-06",
          "2019-09-07",
          "2019-09-08",
          "2019-09-09",
          "2019-09-10",
          "2019-09-11",
          "2019-09-12",
          "2019-09-13",
          "2019-09-14",
          "2019-09-15",
          "2019-09-16",
          "2019-09-17",
          "2019-09-18",
          "2019-09-19",
          "2019-09-20",
          "2019-09-21",
          "2019-09-22",
          "2019-09-23",
          "2019-09-24",
          "2019-09-25",
          "2019-09-26",
          "2019-09-27",
          "2019-09-28",
          "2019-09-29",
          "2019-09-30",
          "2019-10-01",
          "2019-10-02",
          "2019-10-03",
          "2019-10-04",
          "2019-10-05",
          "2019-10-06",
          "2019-10-07",
          "2019-10-08",
          "2019-10-09",
          "2019-10-10",
          "2019-10-11",
          "2019-10-12",
          "2019-10-13",
          "2019-10-14",
          "2019-10-15",
          "2019-10-16",
          "2019-10-17",
          "2019-10-18",
          "2019-10-19",
          "2019-10-20",
          "2019-10-21",
          "2019-10-22",
          "2019-10-23",
          "2019-10-24",
          "2019-10-25",
          "2019-10-26",
          "2019-10-27",
          "2019-10-28",
          "2019-10-29",
          "2019-10-30",
          "2019-10-31",
          "2019-11-01",
          "2019-11-02",
          "2019-11-03",
          "2019-11-04",
          "2019-11-05",
          "2019-11-06",
          "2019-11-07",
          "2019-11-08",
          "2019-11-09",
          "2019-11-10",
          "2019-11-11",
          "2019-11-12",
          "2019-11-13",
          "2019-11-14",
          "2019-11-15",
          "2019-11-16",
          "2019-11-17",
          "2019-11-18",
          "2019-11-19",
          "2019-11-20",
          "2019-11-21",
          "2019-11-22",
          "2019-11-23",
          "2019-11-24",
          "2019-11-25",
          "2019-11-26",
          "2019-11-27",
          "2019-11-28"
         ],
         "xaxis": "x",
         "y": [
          21,
          29,
          6,
          192,
          229,
          181,
          354,
          388,
          12,
          2,
          605,
          499,
          632,
          591,
          399,
          220,
          301,
          854,
          836,
          801,
          824,
          836,
          546,
          297,
          1117,
          1223,
          1650,
          1475,
          1637,
          734,
          358,
          1823,
          2236,
          2060,
          2193,
          2205,
          538,
          342,
          2420,
          2823,
          2573,
          2510,
          2853,
          625,
          547,
          2995,
          3071,
          3066,
          2880,
          2928,
          829,
          787,
          3501,
          3487,
          6635,
          6759,
          6817,
          4667,
          3590,
          6612,
          7791,
          7731,
          8903,
          8148,
          4450,
          3013,
          7793,
          7915,
          8205,
          8585,
          8186,
          4196,
          3265,
          7548,
          7257,
          5690,
          6442,
          6160,
          2686,
          1275,
          6289,
          6480,
          6514,
          6500,
          7933,
          3057,
          2380,
          7607,
          7860,
          7588,
          8424,
          8234,
          3222,
          2042,
          3862,
          9924,
          10208,
          9808,
          9682,
          3798,
          3557,
          12180,
          12125,
          11030,
          10732,
          10491,
          3599,
          2744,
          12270,
          12610,
          12681,
          12456,
          11541,
          5066,
          3480,
          12976,
          12807,
          12273,
          12293
         ],
         "yaxis": "y"
        }
       ],
       "layout": {
        "height": 600,
        "legend": {
         "tracegroupgap": 0
        },
        "template": {
         "data": {
          "bar": [
           {
            "error_x": {
             "color": "#2a3f5f"
            },
            "error_y": {
             "color": "#2a3f5f"
            },
            "marker": {
             "line": {
              "color": "#E5ECF6",
              "width": 0.5
             }
            },
            "type": "bar"
           }
          ],
          "barpolar": [
           {
            "marker": {
             "line": {
              "color": "#E5ECF6",
              "width": 0.5
             }
            },
            "type": "barpolar"
           }
          ],
          "carpet": [
           {
            "aaxis": {
             "endlinecolor": "#2a3f5f",
             "gridcolor": "white",
             "linecolor": "white",
             "minorgridcolor": "white",
             "startlinecolor": "#2a3f5f"
            },
            "baxis": {
             "endlinecolor": "#2a3f5f",
             "gridcolor": "white",
             "linecolor": "white",
             "minorgridcolor": "white",
             "startlinecolor": "#2a3f5f"
            },
            "type": "carpet"
           }
          ],
          "choropleth": [
           {
            "colorbar": {
             "outlinewidth": 0,
             "ticks": ""
            },
            "type": "choropleth"
           }
          ],
          "contour": [
           {
            "colorbar": {
             "outlinewidth": 0,
             "ticks": ""
            },
            "colorscale": [
             [
              0,
              "#0d0887"
             ],
             [
              0.1111111111,
              "#46039f"
             ],
             [
              0.2222222222,
              "#7201a8"
             ],
             [
              0.3333333333,
              "#9c179e"
             ],
             [
              0.4444444444,
              "#bd3786"
             ],
             [
              0.5555555556,
              "#d8576b"
             ],
             [
              0.6666666667,
              "#ed7953"
             ],
             [
              0.7777777778,
              "#fb9f3a"
             ],
             [
              0.8888888889,
              "#fdca26"
             ],
             [
              1,
              "#f0f921"
             ]
            ],
            "type": "contour"
           }
          ],
          "contourcarpet": [
           {
            "colorbar": {
             "outlinewidth": 0,
             "ticks": ""
            },
            "type": "contourcarpet"
           }
          ],
          "heatmap": [
           {
            "colorbar": {
             "outlinewidth": 0,
             "ticks": ""
            },
            "colorscale": [
             [
              0,
              "#0d0887"
             ],
             [
              0.1111111111,
              "#46039f"
             ],
             [
              0.2222222222,
              "#7201a8"
             ],
             [
              0.3333333333,
              "#9c179e"
             ],
             [
              0.4444444444,
              "#bd3786"
             ],
             [
              0.5555555556,
              "#d8576b"
             ],
             [
              0.6666666667,
              "#ed7953"
             ],
             [
              0.7777777778,
              "#fb9f3a"
             ],
             [
              0.8888888889,
              "#fdca26"
             ],
             [
              1,
              "#f0f921"
             ]
            ],
            "type": "heatmap"
           }
          ],
          "heatmapgl": [
           {
            "colorbar": {
             "outlinewidth": 0,
             "ticks": ""
            },
            "colorscale": [
             [
              0,
              "#0d0887"
             ],
             [
              0.1111111111,
              "#46039f"
             ],
             [
              0.2222222222,
              "#7201a8"
             ],
             [
              0.3333333333,
              "#9c179e"
             ],
             [
              0.4444444444,
              "#bd3786"
             ],
             [
              0.5555555556,
              "#d8576b"
             ],
             [
              0.6666666667,
              "#ed7953"
             ],
             [
              0.7777777778,
              "#fb9f3a"
             ],
             [
              0.8888888889,
              "#fdca26"
             ],
             [
              1,
              "#f0f921"
             ]
            ],
            "type": "heatmapgl"
           }
          ],
          "histogram": [
           {
            "marker": {
             "colorbar": {
              "outlinewidth": 0,
              "ticks": ""
             }
            },
            "type": "histogram"
           }
          ],
          "histogram2d": [
           {
            "colorbar": {
             "outlinewidth": 0,
             "ticks": ""
            },
            "colorscale": [
             [
              0,
              "#0d0887"
             ],
             [
              0.1111111111,
              "#46039f"
             ],
             [
              0.2222222222,
              "#7201a8"
             ],
             [
              0.3333333333,
              "#9c179e"
             ],
             [
              0.4444444444,
              "#bd3786"
             ],
             [
              0.5555555556,
              "#d8576b"
             ],
             [
              0.6666666667,
              "#ed7953"
             ],
             [
              0.7777777778,
              "#fb9f3a"
             ],
             [
              0.8888888889,
              "#fdca26"
             ],
             [
              1,
              "#f0f921"
             ]
            ],
            "type": "histogram2d"
           }
          ],
          "histogram2dcontour": [
           {
            "colorbar": {
             "outlinewidth": 0,
             "ticks": ""
            },
            "colorscale": [
             [
              0,
              "#0d0887"
             ],
             [
              0.1111111111,
              "#46039f"
             ],
             [
              0.2222222222,
              "#7201a8"
             ],
             [
              0.3333333333,
              "#9c179e"
             ],
             [
              0.4444444444,
              "#bd3786"
             ],
             [
              0.5555555556,
              "#d8576b"
             ],
             [
              0.6666666667,
              "#ed7953"
             ],
             [
              0.7777777778,
              "#fb9f3a"
             ],
             [
              0.8888888889,
              "#fdca26"
             ],
             [
              1,
              "#f0f921"
             ]
            ],
            "type": "histogram2dcontour"
           }
          ],
          "mesh3d": [
           {
            "colorbar": {
             "outlinewidth": 0,
             "ticks": ""
            },
            "type": "mesh3d"
           }
          ],
          "parcoords": [
           {
            "line": {
             "colorbar": {
              "outlinewidth": 0,
              "ticks": ""
             }
            },
            "type": "parcoords"
           }
          ],
          "scatter": [
           {
            "marker": {
             "colorbar": {
              "outlinewidth": 0,
              "ticks": ""
             }
            },
            "type": "scatter"
           }
          ],
          "scatter3d": [
           {
            "line": {
             "colorbar": {
              "outlinewidth": 0,
              "ticks": ""
             }
            },
            "marker": {
             "colorbar": {
              "outlinewidth": 0,
              "ticks": ""
             }
            },
            "type": "scatter3d"
           }
          ],
          "scattercarpet": [
           {
            "marker": {
             "colorbar": {
              "outlinewidth": 0,
              "ticks": ""
             }
            },
            "type": "scattercarpet"
           }
          ],
          "scattergeo": [
           {
            "marker": {
             "colorbar": {
              "outlinewidth": 0,
              "ticks": ""
             }
            },
            "type": "scattergeo"
           }
          ],
          "scattergl": [
           {
            "marker": {
             "colorbar": {
              "outlinewidth": 0,
              "ticks": ""
             }
            },
            "type": "scattergl"
           }
          ],
          "scattermapbox": [
           {
            "marker": {
             "colorbar": {
              "outlinewidth": 0,
              "ticks": ""
             }
            },
            "type": "scattermapbox"
           }
          ],
          "scatterpolar": [
           {
            "marker": {
             "colorbar": {
              "outlinewidth": 0,
              "ticks": ""
             }
            },
            "type": "scatterpolar"
           }
          ],
          "scatterpolargl": [
           {
            "marker": {
             "colorbar": {
              "outlinewidth": 0,
              "ticks": ""
             }
            },
            "type": "scatterpolargl"
           }
          ],
          "scatterternary": [
           {
            "marker": {
             "colorbar": {
              "outlinewidth": 0,
              "ticks": ""
             }
            },
            "type": "scatterternary"
           }
          ],
          "surface": [
           {
            "colorbar": {
             "outlinewidth": 0,
             "ticks": ""
            },
            "colorscale": [
             [
              0,
              "#0d0887"
             ],
             [
              0.1111111111,
              "#46039f"
             ],
             [
              0.2222222222,
              "#7201a8"
             ],
             [
              0.3333333333,
              "#9c179e"
             ],
             [
              0.4444444444,
              "#bd3786"
             ],
             [
              0.5555555556,
              "#d8576b"
             ],
             [
              0.6666666667,
              "#ed7953"
             ],
             [
              0.7777777778,
              "#fb9f3a"
             ],
             [
              0.8888888889,
              "#fdca26"
             ],
             [
              1,
              "#f0f921"
             ]
            ],
            "type": "surface"
           }
          ],
          "table": [
           {
            "cells": {
             "fill": {
              "color": "#EBF0F8"
             },
             "line": {
              "color": "white"
             }
            },
            "header": {
             "fill": {
              "color": "#C8D4E3"
             },
             "line": {
              "color": "white"
             }
            },
            "type": "table"
           }
          ]
         },
         "layout": {
          "annotationdefaults": {
           "arrowcolor": "#2a3f5f",
           "arrowhead": 0,
           "arrowwidth": 1
          },
          "colorscale": {
           "diverging": [
            [
             0,
             "#8e0152"
            ],
            [
             0.1,
             "#c51b7d"
            ],
            [
             0.2,
             "#de77ae"
            ],
            [
             0.3,
             "#f1b6da"
            ],
            [
             0.4,
             "#fde0ef"
            ],
            [
             0.5,
             "#f7f7f7"
            ],
            [
             0.6,
             "#e6f5d0"
            ],
            [
             0.7,
             "#b8e186"
            ],
            [
             0.8,
             "#7fbc41"
            ],
            [
             0.9,
             "#4d9221"
            ],
            [
             1,
             "#276419"
            ]
           ],
           "sequential": [
            [
             0,
             "#0d0887"
            ],
            [
             0.1111111111,
             "#46039f"
            ],
            [
             0.2222222222,
             "#7201a8"
            ],
            [
             0.3333333333,
             "#9c179e"
            ],
            [
             0.4444444444,
             "#bd3786"
            ],
            [
             0.5555555556,
             "#d8576b"
            ],
            [
             0.6666666667,
             "#ed7953"
            ],
            [
             0.7777777778,
             "#fb9f3a"
            ],
            [
             0.8888888889,
             "#fdca26"
            ],
            [
             1,
             "#f0f921"
            ]
           ],
           "sequentialminus": [
            [
             0,
             "#0d0887"
            ],
            [
             0.1111111111,
             "#46039f"
            ],
            [
             0.2222222222,
             "#7201a8"
            ],
            [
             0.3333333333,
             "#9c179e"
            ],
            [
             0.4444444444,
             "#bd3786"
            ],
            [
             0.5555555556,
             "#d8576b"
            ],
            [
             0.6666666667,
             "#ed7953"
            ],
            [
             0.7777777778,
             "#fb9f3a"
            ],
            [
             0.8888888889,
             "#fdca26"
            ],
            [
             1,
             "#f0f921"
            ]
           ]
          },
          "colorway": [
           "#636efa",
           "#EF553B",
           "#00cc96",
           "#ab63fa",
           "#FFA15A",
           "#19d3f3",
           "#FF6692",
           "#B6E880",
           "#FF97FF",
           "#FECB52"
          ],
          "font": {
           "color": "#2a3f5f"
          },
          "geo": {
           "bgcolor": "white",
           "lakecolor": "white",
           "landcolor": "#E5ECF6",
           "showlakes": true,
           "showland": true,
           "subunitcolor": "white"
          },
          "hoverlabel": {
           "align": "left"
          },
          "hovermode": "closest",
          "mapbox": {
           "style": "light"
          },
          "paper_bgcolor": "white",
          "plot_bgcolor": "#E5ECF6",
          "polar": {
           "angularaxis": {
            "gridcolor": "white",
            "linecolor": "white",
            "ticks": ""
           },
           "bgcolor": "#E5ECF6",
           "radialaxis": {
            "gridcolor": "white",
            "linecolor": "white",
            "ticks": ""
           }
          },
          "scene": {
           "xaxis": {
            "backgroundcolor": "#E5ECF6",
            "gridcolor": "white",
            "gridwidth": 2,
            "linecolor": "white",
            "showbackground": true,
            "ticks": "",
            "zerolinecolor": "white"
           },
           "yaxis": {
            "backgroundcolor": "#E5ECF6",
            "gridcolor": "white",
            "gridwidth": 2,
            "linecolor": "white",
            "showbackground": true,
            "ticks": "",
            "zerolinecolor": "white"
           },
           "zaxis": {
            "backgroundcolor": "#E5ECF6",
            "gridcolor": "white",
            "gridwidth": 2,
            "linecolor": "white",
            "showbackground": true,
            "ticks": "",
            "zerolinecolor": "white"
           }
          },
          "shapedefaults": {
           "line": {
            "color": "#2a3f5f"
           }
          },
          "ternary": {
           "aaxis": {
            "gridcolor": "white",
            "linecolor": "white",
            "ticks": ""
           },
           "baxis": {
            "gridcolor": "white",
            "linecolor": "white",
            "ticks": ""
           },
           "bgcolor": "#E5ECF6",
           "caxis": {
            "gridcolor": "white",
            "linecolor": "white",
            "ticks": ""
           }
          },
          "title": {
           "x": 0.05
          },
          "xaxis": {
           "automargin": true,
           "gridcolor": "white",
           "linecolor": "white",
           "ticks": "",
           "zerolinecolor": "white",
           "zerolinewidth": 2
          },
          "yaxis": {
           "automargin": true,
           "gridcolor": "white",
           "linecolor": "white",
           "ticks": "",
           "zerolinecolor": "white",
           "zerolinewidth": 2
          }
         }
        },
        "title": {
         "text": "Пиковые дни работы операторов"
        },
        "xaxis": {
         "anchor": "y",
         "domain": [
          0,
          0.98
         ],
         "title": {
          "text": "Дата"
         }
        },
        "yaxis": {
         "anchor": "x",
         "domain": [
          0,
          1
         ],
         "title": {
          "text": "Количество звонков"
         }
        }
       }
      },
      "text/html": [
       "<div>\n",
       "        \n",
       "        \n",
       "            <div id=\"833a92d9-a2b0-440c-9588-edf1b84d29cf\" class=\"plotly-graph-div\" style=\"height:600px; width:100%;\"></div>\n",
       "            <script type=\"text/javascript\">\n",
       "                require([\"plotly\"], function(Plotly) {\n",
       "                    window.PLOTLYENV=window.PLOTLYENV || {};\n",
       "                    \n",
       "                if (document.getElementById(\"833a92d9-a2b0-440c-9588-edf1b84d29cf\")) {\n",
       "                    Plotly.newPlot(\n",
       "                        '833a92d9-a2b0-440c-9588-edf1b84d29cf',\n",
       "                        [{\"hoverlabel\": {\"namelength\": 0}, \"hovertemplate\": \"\\u0414\\u0430\\u0442\\u0430=%{x}<br>\\u041a\\u043e\\u043b\\u0438\\u0447\\u0435\\u0441\\u0442\\u0432\\u043e \\u0437\\u0432\\u043e\\u043d\\u043a\\u043e\\u0432=%{y}\", \"legendgroup\": \"\", \"line\": {\"color\": \"#636efa\", \"dash\": \"solid\"}, \"mode\": \"lines\", \"name\": \"\", \"showlegend\": false, \"type\": \"scatter\", \"x\": [\"2019-08-02\", \"2019-08-03\", \"2019-08-04\", \"2019-08-05\", \"2019-08-06\", \"2019-08-07\", \"2019-08-08\", \"2019-08-09\", \"2019-08-10\", \"2019-08-11\", \"2019-08-12\", \"2019-08-13\", \"2019-08-14\", \"2019-08-15\", \"2019-08-16\", \"2019-08-17\", \"2019-08-18\", \"2019-08-19\", \"2019-08-20\", \"2019-08-21\", \"2019-08-22\", \"2019-08-23\", \"2019-08-24\", \"2019-08-25\", \"2019-08-26\", \"2019-08-27\", \"2019-08-28\", \"2019-08-29\", \"2019-08-30\", \"2019-08-31\", \"2019-09-01\", \"2019-09-02\", \"2019-09-03\", \"2019-09-04\", \"2019-09-05\", \"2019-09-06\", \"2019-09-07\", \"2019-09-08\", \"2019-09-09\", \"2019-09-10\", \"2019-09-11\", \"2019-09-12\", \"2019-09-13\", \"2019-09-14\", \"2019-09-15\", \"2019-09-16\", \"2019-09-17\", \"2019-09-18\", \"2019-09-19\", \"2019-09-20\", \"2019-09-21\", \"2019-09-22\", \"2019-09-23\", \"2019-09-24\", \"2019-09-25\", \"2019-09-26\", \"2019-09-27\", \"2019-09-28\", \"2019-09-29\", \"2019-09-30\", \"2019-10-01\", \"2019-10-02\", \"2019-10-03\", \"2019-10-04\", \"2019-10-05\", \"2019-10-06\", \"2019-10-07\", \"2019-10-08\", \"2019-10-09\", \"2019-10-10\", \"2019-10-11\", \"2019-10-12\", \"2019-10-13\", \"2019-10-14\", \"2019-10-15\", \"2019-10-16\", \"2019-10-17\", \"2019-10-18\", \"2019-10-19\", \"2019-10-20\", \"2019-10-21\", \"2019-10-22\", \"2019-10-23\", \"2019-10-24\", \"2019-10-25\", \"2019-10-26\", \"2019-10-27\", \"2019-10-28\", \"2019-10-29\", \"2019-10-30\", \"2019-10-31\", \"2019-11-01\", \"2019-11-02\", \"2019-11-03\", \"2019-11-04\", \"2019-11-05\", \"2019-11-06\", \"2019-11-07\", \"2019-11-08\", \"2019-11-09\", \"2019-11-10\", \"2019-11-11\", \"2019-11-12\", \"2019-11-13\", \"2019-11-14\", \"2019-11-15\", \"2019-11-16\", \"2019-11-17\", \"2019-11-18\", \"2019-11-19\", \"2019-11-20\", \"2019-11-21\", \"2019-11-22\", \"2019-11-23\", \"2019-11-24\", \"2019-11-25\", \"2019-11-26\", \"2019-11-27\", \"2019-11-28\"], \"xaxis\": \"x\", \"y\": [21, 29, 6, 192, 229, 181, 354, 388, 12, 2, 605, 499, 632, 591, 399, 220, 301, 854, 836, 801, 824, 836, 546, 297, 1117, 1223, 1650, 1475, 1637, 734, 358, 1823, 2236, 2060, 2193, 2205, 538, 342, 2420, 2823, 2573, 2510, 2853, 625, 547, 2995, 3071, 3066, 2880, 2928, 829, 787, 3501, 3487, 6635, 6759, 6817, 4667, 3590, 6612, 7791, 7731, 8903, 8148, 4450, 3013, 7793, 7915, 8205, 8585, 8186, 4196, 3265, 7548, 7257, 5690, 6442, 6160, 2686, 1275, 6289, 6480, 6514, 6500, 7933, 3057, 2380, 7607, 7860, 7588, 8424, 8234, 3222, 2042, 3862, 9924, 10208, 9808, 9682, 3798, 3557, 12180, 12125, 11030, 10732, 10491, 3599, 2744, 12270, 12610, 12681, 12456, 11541, 5066, 3480, 12976, 12807, 12273, 12293], \"yaxis\": \"y\"}],\n",
       "                        {\"height\": 600, \"legend\": {\"tracegroupgap\": 0}, \"template\": {\"data\": {\"bar\": [{\"error_x\": {\"color\": \"#2a3f5f\"}, \"error_y\": {\"color\": \"#2a3f5f\"}, \"marker\": {\"line\": {\"color\": \"#E5ECF6\", \"width\": 0.5}}, \"type\": \"bar\"}], \"barpolar\": [{\"marker\": {\"line\": {\"color\": \"#E5ECF6\", \"width\": 0.5}}, \"type\": \"barpolar\"}], \"carpet\": [{\"aaxis\": {\"endlinecolor\": \"#2a3f5f\", \"gridcolor\": \"white\", \"linecolor\": \"white\", \"minorgridcolor\": \"white\", \"startlinecolor\": \"#2a3f5f\"}, \"baxis\": {\"endlinecolor\": \"#2a3f5f\", \"gridcolor\": \"white\", \"linecolor\": \"white\", \"minorgridcolor\": \"white\", \"startlinecolor\": \"#2a3f5f\"}, \"type\": \"carpet\"}], \"choropleth\": [{\"colorbar\": {\"outlinewidth\": 0, \"ticks\": \"\"}, \"type\": \"choropleth\"}], \"contour\": [{\"colorbar\": {\"outlinewidth\": 0, \"ticks\": \"\"}, \"colorscale\": [[0.0, \"#0d0887\"], [0.1111111111111111, \"#46039f\"], [0.2222222222222222, \"#7201a8\"], [0.3333333333333333, \"#9c179e\"], [0.4444444444444444, \"#bd3786\"], [0.5555555555555556, \"#d8576b\"], [0.6666666666666666, \"#ed7953\"], [0.7777777777777778, \"#fb9f3a\"], [0.8888888888888888, \"#fdca26\"], [1.0, \"#f0f921\"]], \"type\": \"contour\"}], \"contourcarpet\": [{\"colorbar\": {\"outlinewidth\": 0, \"ticks\": \"\"}, \"type\": \"contourcarpet\"}], \"heatmap\": [{\"colorbar\": {\"outlinewidth\": 0, \"ticks\": \"\"}, \"colorscale\": [[0.0, \"#0d0887\"], [0.1111111111111111, \"#46039f\"], [0.2222222222222222, \"#7201a8\"], [0.3333333333333333, \"#9c179e\"], [0.4444444444444444, \"#bd3786\"], [0.5555555555555556, \"#d8576b\"], [0.6666666666666666, \"#ed7953\"], [0.7777777777777778, \"#fb9f3a\"], [0.8888888888888888, \"#fdca26\"], [1.0, \"#f0f921\"]], \"type\": \"heatmap\"}], \"heatmapgl\": [{\"colorbar\": {\"outlinewidth\": 0, \"ticks\": \"\"}, \"colorscale\": [[0.0, \"#0d0887\"], [0.1111111111111111, \"#46039f\"], [0.2222222222222222, \"#7201a8\"], [0.3333333333333333, \"#9c179e\"], [0.4444444444444444, \"#bd3786\"], [0.5555555555555556, \"#d8576b\"], [0.6666666666666666, \"#ed7953\"], [0.7777777777777778, \"#fb9f3a\"], [0.8888888888888888, \"#fdca26\"], [1.0, \"#f0f921\"]], \"type\": \"heatmapgl\"}], \"histogram\": [{\"marker\": {\"colorbar\": {\"outlinewidth\": 0, \"ticks\": \"\"}}, \"type\": \"histogram\"}], \"histogram2d\": [{\"colorbar\": {\"outlinewidth\": 0, \"ticks\": \"\"}, \"colorscale\": [[0.0, \"#0d0887\"], [0.1111111111111111, \"#46039f\"], [0.2222222222222222, \"#7201a8\"], [0.3333333333333333, \"#9c179e\"], [0.4444444444444444, \"#bd3786\"], [0.5555555555555556, \"#d8576b\"], [0.6666666666666666, \"#ed7953\"], [0.7777777777777778, \"#fb9f3a\"], [0.8888888888888888, \"#fdca26\"], [1.0, \"#f0f921\"]], \"type\": \"histogram2d\"}], \"histogram2dcontour\": [{\"colorbar\": {\"outlinewidth\": 0, \"ticks\": \"\"}, \"colorscale\": [[0.0, \"#0d0887\"], [0.1111111111111111, \"#46039f\"], [0.2222222222222222, \"#7201a8\"], [0.3333333333333333, \"#9c179e\"], [0.4444444444444444, \"#bd3786\"], [0.5555555555555556, \"#d8576b\"], [0.6666666666666666, \"#ed7953\"], [0.7777777777777778, \"#fb9f3a\"], [0.8888888888888888, \"#fdca26\"], [1.0, \"#f0f921\"]], \"type\": \"histogram2dcontour\"}], \"mesh3d\": [{\"colorbar\": {\"outlinewidth\": 0, \"ticks\": \"\"}, \"type\": \"mesh3d\"}], \"parcoords\": [{\"line\": {\"colorbar\": {\"outlinewidth\": 0, \"ticks\": \"\"}}, \"type\": \"parcoords\"}], \"scatter\": [{\"marker\": {\"colorbar\": {\"outlinewidth\": 0, \"ticks\": \"\"}}, \"type\": \"scatter\"}], \"scatter3d\": [{\"line\": {\"colorbar\": {\"outlinewidth\": 0, \"ticks\": \"\"}}, \"marker\": {\"colorbar\": {\"outlinewidth\": 0, \"ticks\": \"\"}}, \"type\": \"scatter3d\"}], \"scattercarpet\": [{\"marker\": {\"colorbar\": {\"outlinewidth\": 0, \"ticks\": \"\"}}, \"type\": \"scattercarpet\"}], \"scattergeo\": [{\"marker\": {\"colorbar\": {\"outlinewidth\": 0, \"ticks\": \"\"}}, \"type\": \"scattergeo\"}], \"scattergl\": [{\"marker\": {\"colorbar\": {\"outlinewidth\": 0, \"ticks\": \"\"}}, \"type\": \"scattergl\"}], \"scattermapbox\": [{\"marker\": {\"colorbar\": {\"outlinewidth\": 0, \"ticks\": \"\"}}, \"type\": \"scattermapbox\"}], \"scatterpolar\": [{\"marker\": {\"colorbar\": {\"outlinewidth\": 0, \"ticks\": \"\"}}, \"type\": \"scatterpolar\"}], \"scatterpolargl\": [{\"marker\": {\"colorbar\": {\"outlinewidth\": 0, \"ticks\": \"\"}}, \"type\": \"scatterpolargl\"}], \"scatterternary\": [{\"marker\": {\"colorbar\": {\"outlinewidth\": 0, \"ticks\": \"\"}}, \"type\": \"scatterternary\"}], \"surface\": [{\"colorbar\": {\"outlinewidth\": 0, \"ticks\": \"\"}, \"colorscale\": [[0.0, \"#0d0887\"], [0.1111111111111111, \"#46039f\"], [0.2222222222222222, \"#7201a8\"], [0.3333333333333333, \"#9c179e\"], [0.4444444444444444, \"#bd3786\"], [0.5555555555555556, \"#d8576b\"], [0.6666666666666666, \"#ed7953\"], [0.7777777777777778, \"#fb9f3a\"], [0.8888888888888888, \"#fdca26\"], [1.0, \"#f0f921\"]], \"type\": \"surface\"}], \"table\": [{\"cells\": {\"fill\": {\"color\": \"#EBF0F8\"}, \"line\": {\"color\": \"white\"}}, \"header\": {\"fill\": {\"color\": \"#C8D4E3\"}, \"line\": {\"color\": \"white\"}}, \"type\": \"table\"}]}, \"layout\": {\"annotationdefaults\": {\"arrowcolor\": \"#2a3f5f\", \"arrowhead\": 0, \"arrowwidth\": 1}, \"colorscale\": {\"diverging\": [[0, \"#8e0152\"], [0.1, \"#c51b7d\"], [0.2, \"#de77ae\"], [0.3, \"#f1b6da\"], [0.4, \"#fde0ef\"], [0.5, \"#f7f7f7\"], [0.6, \"#e6f5d0\"], [0.7, \"#b8e186\"], [0.8, \"#7fbc41\"], [0.9, \"#4d9221\"], [1, \"#276419\"]], \"sequential\": [[0.0, \"#0d0887\"], [0.1111111111111111, \"#46039f\"], [0.2222222222222222, \"#7201a8\"], [0.3333333333333333, \"#9c179e\"], [0.4444444444444444, \"#bd3786\"], [0.5555555555555556, \"#d8576b\"], [0.6666666666666666, \"#ed7953\"], [0.7777777777777778, \"#fb9f3a\"], [0.8888888888888888, \"#fdca26\"], [1.0, \"#f0f921\"]], \"sequentialminus\": [[0.0, \"#0d0887\"], [0.1111111111111111, \"#46039f\"], [0.2222222222222222, \"#7201a8\"], [0.3333333333333333, \"#9c179e\"], [0.4444444444444444, \"#bd3786\"], [0.5555555555555556, \"#d8576b\"], [0.6666666666666666, \"#ed7953\"], [0.7777777777777778, \"#fb9f3a\"], [0.8888888888888888, \"#fdca26\"], [1.0, \"#f0f921\"]]}, \"colorway\": [\"#636efa\", \"#EF553B\", \"#00cc96\", \"#ab63fa\", \"#FFA15A\", \"#19d3f3\", \"#FF6692\", \"#B6E880\", \"#FF97FF\", \"#FECB52\"], \"font\": {\"color\": \"#2a3f5f\"}, \"geo\": {\"bgcolor\": \"white\", \"lakecolor\": \"white\", \"landcolor\": \"#E5ECF6\", \"showlakes\": true, \"showland\": true, \"subunitcolor\": \"white\"}, \"hoverlabel\": {\"align\": \"left\"}, \"hovermode\": \"closest\", \"mapbox\": {\"style\": \"light\"}, \"paper_bgcolor\": \"white\", \"plot_bgcolor\": \"#E5ECF6\", \"polar\": {\"angularaxis\": {\"gridcolor\": \"white\", \"linecolor\": \"white\", \"ticks\": \"\"}, \"bgcolor\": \"#E5ECF6\", \"radialaxis\": {\"gridcolor\": \"white\", \"linecolor\": \"white\", \"ticks\": \"\"}}, \"scene\": {\"xaxis\": {\"backgroundcolor\": \"#E5ECF6\", \"gridcolor\": \"white\", \"gridwidth\": 2, \"linecolor\": \"white\", \"showbackground\": true, \"ticks\": \"\", \"zerolinecolor\": \"white\"}, \"yaxis\": {\"backgroundcolor\": \"#E5ECF6\", \"gridcolor\": \"white\", \"gridwidth\": 2, \"linecolor\": \"white\", \"showbackground\": true, \"ticks\": \"\", \"zerolinecolor\": \"white\"}, \"zaxis\": {\"backgroundcolor\": \"#E5ECF6\", \"gridcolor\": \"white\", \"gridwidth\": 2, \"linecolor\": \"white\", \"showbackground\": true, \"ticks\": \"\", \"zerolinecolor\": \"white\"}}, \"shapedefaults\": {\"line\": {\"color\": \"#2a3f5f\"}}, \"ternary\": {\"aaxis\": {\"gridcolor\": \"white\", \"linecolor\": \"white\", \"ticks\": \"\"}, \"baxis\": {\"gridcolor\": \"white\", \"linecolor\": \"white\", \"ticks\": \"\"}, \"bgcolor\": \"#E5ECF6\", \"caxis\": {\"gridcolor\": \"white\", \"linecolor\": \"white\", \"ticks\": \"\"}}, \"title\": {\"x\": 0.05}, \"xaxis\": {\"automargin\": true, \"gridcolor\": \"white\", \"linecolor\": \"white\", \"ticks\": \"\", \"zerolinecolor\": \"white\", \"zerolinewidth\": 2}, \"yaxis\": {\"automargin\": true, \"gridcolor\": \"white\", \"linecolor\": \"white\", \"ticks\": \"\", \"zerolinecolor\": \"white\", \"zerolinewidth\": 2}}}, \"title\": {\"text\": \"\\u041f\\u0438\\u043a\\u043e\\u0432\\u044b\\u0435 \\u0434\\u043d\\u0438 \\u0440\\u0430\\u0431\\u043e\\u0442\\u044b \\u043e\\u043f\\u0435\\u0440\\u0430\\u0442\\u043e\\u0440\\u043e\\u0432\"}, \"xaxis\": {\"anchor\": \"y\", \"domain\": [0.0, 0.98], \"title\": {\"text\": \"\\u0414\\u0430\\u0442\\u0430\"}}, \"yaxis\": {\"anchor\": \"x\", \"domain\": [0.0, 1.0], \"title\": {\"text\": \"\\u041a\\u043e\\u043b\\u0438\\u0447\\u0435\\u0441\\u0442\\u0432\\u043e \\u0437\\u0432\\u043e\\u043d\\u043a\\u043e\\u0432\"}}},\n",
       "                        {\"responsive\": true}\n",
       "                    ).then(function(){\n",
       "                            \n",
       "var gd = document.getElementById('833a92d9-a2b0-440c-9588-edf1b84d29cf');\n",
       "var x = new MutationObserver(function (mutations, observer) {{\n",
       "        var display = window.getComputedStyle(gd).display;\n",
       "        if (!display || display === 'none') {{\n",
       "            console.log([gd, 'removed!']);\n",
       "            Plotly.purge(gd);\n",
       "            observer.disconnect();\n",
       "        }}\n",
       "}});\n",
       "\n",
       "// Listen for the removal of the full notebook cells\n",
       "var notebookContainer = gd.closest('#notebook-container');\n",
       "if (notebookContainer) {{\n",
       "    x.observe(notebookContainer, {childList: true});\n",
       "}}\n",
       "\n",
       "// Listen for the clearing of the current output cell\n",
       "var outputEl = gd.closest('.output');\n",
       "if (outputEl) {{\n",
       "    x.observe(outputEl, {childList: true});\n",
       "}}\n",
       "\n",
       "                        })\n",
       "                };\n",
       "                });\n",
       "            </script>\n",
       "        </div>"
      ]
     },
     "metadata": {},
     "output_type": "display_data"
    }
   ],
   "source": [
    "data_group = data.groupby('date')['calls_count'].sum().reset_index()\n",
    "fig = px.line(data_group, x=\"date\", y=\"calls_count\",title=\"Пиковые дни работы операторов\",\n",
    "              labels=dict(date=\"Дата\", calls_count=\"Количество звонков\"))\n",
    "fig.show()"
   ]
  },
  {
   "cell_type": "markdown",
   "metadata": {},
   "source": [
    "### Комментарий\n",
    "- Цикличность загруженности опрераторов связана с днями недели, то есть с Пн по Сб больше всего звонков, в Вс резкий спад, а увеличение числа звонков в течение всего приода связано с притоком новых клиентов в Нупозвони"
   ]
  },
  {
   "cell_type": "markdown",
   "metadata": {},
   "source": [
    "**Добавим столбец со временем ожидания ответа**"
   ]
  },
  {
   "cell_type": "code",
   "execution_count": 21,
   "metadata": {},
   "outputs": [
    {
     "data": {
      "text/html": [
       "<div>\n",
       "<style scoped>\n",
       "    .dataframe tbody tr th:only-of-type {\n",
       "        vertical-align: middle;\n",
       "    }\n",
       "\n",
       "    .dataframe tbody tr th {\n",
       "        vertical-align: top;\n",
       "    }\n",
       "\n",
       "    .dataframe thead th {\n",
       "        text-align: right;\n",
       "    }\n",
       "</style>\n",
       "<table border=\"1\" class=\"dataframe\">\n",
       "  <thead>\n",
       "    <tr style=\"text-align: right;\">\n",
       "      <th></th>\n",
       "      <th>user_id</th>\n",
       "      <th>date</th>\n",
       "      <th>direction</th>\n",
       "      <th>internal</th>\n",
       "      <th>operator_id</th>\n",
       "      <th>is_missed_call</th>\n",
       "      <th>calls_count</th>\n",
       "      <th>call_duration</th>\n",
       "      <th>total_call_duration</th>\n",
       "      <th>waiting_time</th>\n",
       "    </tr>\n",
       "  </thead>\n",
       "  <tbody>\n",
       "    <tr>\n",
       "      <td>0</td>\n",
       "      <td>166377</td>\n",
       "      <td>2019-08-04</td>\n",
       "      <td>in</td>\n",
       "      <td>0</td>\n",
       "      <td>9999999</td>\n",
       "      <td>1</td>\n",
       "      <td>2</td>\n",
       "      <td>0</td>\n",
       "      <td>4</td>\n",
       "      <td>4</td>\n",
       "    </tr>\n",
       "    <tr>\n",
       "      <td>1</td>\n",
       "      <td>166377</td>\n",
       "      <td>2019-08-05</td>\n",
       "      <td>out</td>\n",
       "      <td>1</td>\n",
       "      <td>880022</td>\n",
       "      <td>1</td>\n",
       "      <td>3</td>\n",
       "      <td>0</td>\n",
       "      <td>5</td>\n",
       "      <td>5</td>\n",
       "    </tr>\n",
       "    <tr>\n",
       "      <td>2</td>\n",
       "      <td>166377</td>\n",
       "      <td>2019-08-05</td>\n",
       "      <td>out</td>\n",
       "      <td>1</td>\n",
       "      <td>880020</td>\n",
       "      <td>1</td>\n",
       "      <td>1</td>\n",
       "      <td>0</td>\n",
       "      <td>1</td>\n",
       "      <td>1</td>\n",
       "    </tr>\n",
       "  </tbody>\n",
       "</table>\n",
       "</div>"
      ],
      "text/plain": [
       "   user_id        date direction  internal  operator_id  is_missed_call  \\\n",
       "0   166377  2019-08-04        in         0      9999999               1   \n",
       "1   166377  2019-08-05       out         1       880022               1   \n",
       "2   166377  2019-08-05       out         1       880020               1   \n",
       "\n",
       "   calls_count  call_duration  total_call_duration  waiting_time  \n",
       "0            2              0                    4             4  \n",
       "1            3              0                    5             5  \n",
       "2            1              0                    1             1  "
      ]
     },
     "execution_count": 21,
     "metadata": {},
     "output_type": "execute_result"
    }
   ],
   "source": [
    "data['waiting_time'] = data['total_call_duration'] - data['call_duration']\n",
    "data.head(3)"
   ]
  },
  {
   "cell_type": "markdown",
   "metadata": {},
   "source": [
    "**Посмотрим на распределение времени ожидания**"
   ]
  },
  {
   "cell_type": "code",
   "execution_count": 22,
   "metadata": {},
   "outputs": [
    {
     "data": {
      "image/png": "[encoded data removed]",
      "text/plain": [
       "<Figure size 720x432 with 1 Axes>"
      ]
     },
     "metadata": {
      "needs_background": "light"
     },
     "output_type": "display_data"
    }
   ],
   "source": [
    "data['waiting_time'].hist(figsize=(10,6))\n",
    "plt.title('Растпределение времени ожидания ответа')\n",
    "plt.show()"
   ]
  },
  {
   "cell_type": "markdown",
   "metadata": {},
   "source": [
    "### Комментарий\n",
    "- В основном время ожидания не превышает 700 сек"
   ]
  },
  {
   "cell_type": "markdown",
   "metadata": {},
   "source": [
    "**Категоризируем наших клиентов на тех кто специализируется на обзвонах и тех кто специализируется на входящих звонках.Для этого посмортрим доли входящих и исходящих звонков по клиентам**"
   ]
  },
  {
   "cell_type": "code",
   "execution_count": 23,
   "metadata": {},
   "outputs": [
    {
     "data": {
      "text/html": [
       "<div>\n",
       "<style scoped>\n",
       "    .dataframe tbody tr th:only-of-type {\n",
       "        vertical-align: middle;\n",
       "    }\n",
       "\n",
       "    .dataframe tbody tr th {\n",
       "        vertical-align: top;\n",
       "    }\n",
       "\n",
       "    .dataframe thead th {\n",
       "        text-align: right;\n",
       "    }\n",
       "</style>\n",
       "<table border=\"1\" class=\"dataframe\">\n",
       "  <thead>\n",
       "    <tr style=\"text-align: right;\">\n",
       "      <th>direction</th>\n",
       "      <th>user_id</th>\n",
       "      <th>in</th>\n",
       "      <th>out</th>\n",
       "    </tr>\n",
       "  </thead>\n",
       "  <tbody>\n",
       "    <tr>\n",
       "      <td>0</td>\n",
       "      <td>166377</td>\n",
       "      <td>21.19</td>\n",
       "      <td>78.81</td>\n",
       "    </tr>\n",
       "    <tr>\n",
       "      <td>1</td>\n",
       "      <td>166391</td>\n",
       "      <td>95.00</td>\n",
       "      <td>5.00</td>\n",
       "    </tr>\n",
       "    <tr>\n",
       "      <td>2</td>\n",
       "      <td>166392</td>\n",
       "      <td>100.00</td>\n",
       "      <td>NaN</td>\n",
       "    </tr>\n",
       "    <tr>\n",
       "      <td>3</td>\n",
       "      <td>166399</td>\n",
       "      <td>100.00</td>\n",
       "      <td>NaN</td>\n",
       "    </tr>\n",
       "    <tr>\n",
       "      <td>4</td>\n",
       "      <td>166405</td>\n",
       "      <td>37.04</td>\n",
       "      <td>62.96</td>\n",
       "    </tr>\n",
       "    <tr>\n",
       "      <td>...</td>\n",
       "      <td>...</td>\n",
       "      <td>...</td>\n",
       "      <td>...</td>\n",
       "    </tr>\n",
       "    <tr>\n",
       "      <td>302</td>\n",
       "      <td>168583</td>\n",
       "      <td>100.00</td>\n",
       "      <td>NaN</td>\n",
       "    </tr>\n",
       "    <tr>\n",
       "      <td>303</td>\n",
       "      <td>168598</td>\n",
       "      <td>100.00</td>\n",
       "      <td>NaN</td>\n",
       "    </tr>\n",
       "    <tr>\n",
       "      <td>304</td>\n",
       "      <td>168601</td>\n",
       "      <td>44.93</td>\n",
       "      <td>55.07</td>\n",
       "    </tr>\n",
       "    <tr>\n",
       "      <td>305</td>\n",
       "      <td>168603</td>\n",
       "      <td>14.29</td>\n",
       "      <td>85.71</td>\n",
       "    </tr>\n",
       "    <tr>\n",
       "      <td>306</td>\n",
       "      <td>168606</td>\n",
       "      <td>36.36</td>\n",
       "      <td>63.64</td>\n",
       "    </tr>\n",
       "  </tbody>\n",
       "</table>\n",
       "<p>307 rows × 3 columns</p>\n",
       "</div>"
      ],
      "text/plain": [
       "direction  user_id      in    out\n",
       "0           166377   21.19  78.81\n",
       "1           166391   95.00   5.00\n",
       "2           166392  100.00    NaN\n",
       "3           166399  100.00    NaN\n",
       "4           166405   37.04  62.96\n",
       "..             ...     ...    ...\n",
       "302         168583  100.00    NaN\n",
       "303         168598  100.00    NaN\n",
       "304         168601   44.93  55.07\n",
       "305         168603   14.29  85.71\n",
       "306         168606   36.36  63.64\n",
       "\n",
       "[307 rows x 3 columns]"
      ]
     },
     "execution_count": 23,
     "metadata": {},
     "output_type": "execute_result"
    }
   ],
   "source": [
    "data_specialization = data.groupby(['user_id','direction']).agg(count_direction=('direction','count'))\n",
    "data_specialization['percent'] = (data_specialization.count_direction/data_specialization.\n",
    "                                  groupby(level=0).count_direction.transform(sum)*100).round(2)\n",
    "data_specialization = data_specialization.reset_index()\n",
    "data_specialization_pivot = data_specialization.pivot_table(index='user_id',columns = 'direction',values='percent').reset_index()\n",
    "data_specialization_pivot"
   ]
  },
  {
   "cell_type": "markdown",
   "metadata": {},
   "source": [
    "**Напишем функцию для категоризации, если входящих больше 80% то клиент специализирется на входящих, если исходящих больше 80% то на обзвоне**"
   ]
  },
  {
   "cell_type": "code",
   "execution_count": 24,
   "metadata": {},
   "outputs": [],
   "source": [
    "def specialization(x):\n",
    "    if x['out'] > 80:\n",
    "        return \"specialization_out\"\n",
    "    if x['in'] > 80:\n",
    "        return \"specialization_in\"\n",
    "    return \"multi_specialization\""
   ]
  },
  {
   "cell_type": "code",
   "execution_count": 25,
   "metadata": {},
   "outputs": [
    {
     "data": {
      "text/html": [
       "<div>\n",
       "<style scoped>\n",
       "    .dataframe tbody tr th:only-of-type {\n",
       "        vertical-align: middle;\n",
       "    }\n",
       "\n",
       "    .dataframe tbody tr th {\n",
       "        vertical-align: top;\n",
       "    }\n",
       "\n",
       "    .dataframe thead th {\n",
       "        text-align: right;\n",
       "    }\n",
       "</style>\n",
       "<table border=\"1\" class=\"dataframe\">\n",
       "  <thead>\n",
       "    <tr style=\"text-align: right;\">\n",
       "      <th>direction</th>\n",
       "      <th>user_id</th>\n",
       "      <th>specialization</th>\n",
       "    </tr>\n",
       "  </thead>\n",
       "  <tbody>\n",
       "    <tr>\n",
       "      <td>0</td>\n",
       "      <td>166377</td>\n",
       "      <td>multi_specialization</td>\n",
       "    </tr>\n",
       "    <tr>\n",
       "      <td>1</td>\n",
       "      <td>166391</td>\n",
       "      <td>specialization_in</td>\n",
       "    </tr>\n",
       "    <tr>\n",
       "      <td>2</td>\n",
       "      <td>166392</td>\n",
       "      <td>specialization_in</td>\n",
       "    </tr>\n",
       "    <tr>\n",
       "      <td>3</td>\n",
       "      <td>166399</td>\n",
       "      <td>specialization_in</td>\n",
       "    </tr>\n",
       "    <tr>\n",
       "      <td>4</td>\n",
       "      <td>166405</td>\n",
       "      <td>multi_specialization</td>\n",
       "    </tr>\n",
       "    <tr>\n",
       "      <td>...</td>\n",
       "      <td>...</td>\n",
       "      <td>...</td>\n",
       "    </tr>\n",
       "    <tr>\n",
       "      <td>302</td>\n",
       "      <td>168583</td>\n",
       "      <td>specialization_in</td>\n",
       "    </tr>\n",
       "    <tr>\n",
       "      <td>303</td>\n",
       "      <td>168598</td>\n",
       "      <td>specialization_in</td>\n",
       "    </tr>\n",
       "    <tr>\n",
       "      <td>304</td>\n",
       "      <td>168601</td>\n",
       "      <td>multi_specialization</td>\n",
       "    </tr>\n",
       "    <tr>\n",
       "      <td>305</td>\n",
       "      <td>168603</td>\n",
       "      <td>specialization_out</td>\n",
       "    </tr>\n",
       "    <tr>\n",
       "      <td>306</td>\n",
       "      <td>168606</td>\n",
       "      <td>multi_specialization</td>\n",
       "    </tr>\n",
       "  </tbody>\n",
       "</table>\n",
       "<p>307 rows × 2 columns</p>\n",
       "</div>"
      ],
      "text/plain": [
       "direction  user_id        specialization\n",
       "0           166377  multi_specialization\n",
       "1           166391     specialization_in\n",
       "2           166392     specialization_in\n",
       "3           166399     specialization_in\n",
       "4           166405  multi_specialization\n",
       "..             ...                   ...\n",
       "302         168583     specialization_in\n",
       "303         168598     specialization_in\n",
       "304         168601  multi_specialization\n",
       "305         168603    specialization_out\n",
       "306         168606  multi_specialization\n",
       "\n",
       "[307 rows x 2 columns]"
      ]
     },
     "execution_count": 25,
     "metadata": {},
     "output_type": "execute_result"
    }
   ],
   "source": [
    "data_specialization_pivot['specialization'] = data_specialization_pivot.apply(specialization,axis=1)\n",
    "data_specialization_pivot = data_specialization_pivot[['user_id','specialization']]\n",
    "data_specialization_pivot"
   ]
  },
  {
   "cell_type": "markdown",
   "metadata": {},
   "source": [
    "**Объеденим основную таблицу с таблицей с категориями**"
   ]
  },
  {
   "cell_type": "code",
   "execution_count": 26,
   "metadata": {
    "scrolled": true
   },
   "outputs": [
    {
     "data": {
      "text/html": [
       "<div>\n",
       "<style scoped>\n",
       "    .dataframe tbody tr th:only-of-type {\n",
       "        vertical-align: middle;\n",
       "    }\n",
       "\n",
       "    .dataframe tbody tr th {\n",
       "        vertical-align: top;\n",
       "    }\n",
       "\n",
       "    .dataframe thead th {\n",
       "        text-align: right;\n",
       "    }\n",
       "</style>\n",
       "<table border=\"1\" class=\"dataframe\">\n",
       "  <thead>\n",
       "    <tr style=\"text-align: right;\">\n",
       "      <th></th>\n",
       "      <th>user_id</th>\n",
       "      <th>date</th>\n",
       "      <th>direction</th>\n",
       "      <th>internal</th>\n",
       "      <th>operator_id</th>\n",
       "      <th>is_missed_call</th>\n",
       "      <th>calls_count</th>\n",
       "      <th>call_duration</th>\n",
       "      <th>total_call_duration</th>\n",
       "      <th>waiting_time</th>\n",
       "      <th>specialization</th>\n",
       "    </tr>\n",
       "  </thead>\n",
       "  <tbody>\n",
       "    <tr>\n",
       "      <td>0</td>\n",
       "      <td>166377</td>\n",
       "      <td>2019-08-04</td>\n",
       "      <td>in</td>\n",
       "      <td>0</td>\n",
       "      <td>9999999</td>\n",
       "      <td>1</td>\n",
       "      <td>2</td>\n",
       "      <td>0</td>\n",
       "      <td>4</td>\n",
       "      <td>4</td>\n",
       "      <td>multi_specialization</td>\n",
       "    </tr>\n",
       "    <tr>\n",
       "      <td>1</td>\n",
       "      <td>166377</td>\n",
       "      <td>2019-08-05</td>\n",
       "      <td>out</td>\n",
       "      <td>1</td>\n",
       "      <td>880022</td>\n",
       "      <td>1</td>\n",
       "      <td>3</td>\n",
       "      <td>0</td>\n",
       "      <td>5</td>\n",
       "      <td>5</td>\n",
       "      <td>multi_specialization</td>\n",
       "    </tr>\n",
       "    <tr>\n",
       "      <td>2</td>\n",
       "      <td>166377</td>\n",
       "      <td>2019-08-05</td>\n",
       "      <td>out</td>\n",
       "      <td>1</td>\n",
       "      <td>880020</td>\n",
       "      <td>1</td>\n",
       "      <td>1</td>\n",
       "      <td>0</td>\n",
       "      <td>1</td>\n",
       "      <td>1</td>\n",
       "      <td>multi_specialization</td>\n",
       "    </tr>\n",
       "  </tbody>\n",
       "</table>\n",
       "</div>"
      ],
      "text/plain": [
       "   user_id        date direction  internal  operator_id  is_missed_call  \\\n",
       "0   166377  2019-08-04        in         0      9999999               1   \n",
       "1   166377  2019-08-05       out         1       880022               1   \n",
       "2   166377  2019-08-05       out         1       880020               1   \n",
       "\n",
       "   calls_count  call_duration  total_call_duration  waiting_time  \\\n",
       "0            2              0                    4             4   \n",
       "1            3              0                    5             5   \n",
       "2            1              0                    1             1   \n",
       "\n",
       "         specialization  \n",
       "0  multi_specialization  \n",
       "1  multi_specialization  \n",
       "2  multi_specialization  "
      ]
     },
     "execution_count": 26,
     "metadata": {},
     "output_type": "execute_result"
    }
   ],
   "source": [
    "data = data.merge(data_specialization_pivot)\n",
    "data.head(3)"
   ]
  },
  {
   "cell_type": "markdown",
   "metadata": {},
   "source": [
    "## Определим неэффективных операторов"
   ]
  },
  {
   "cell_type": "markdown",
   "metadata": {},
   "source": [
    "**Напишем уловия при которых будем считать оператора не эффективным**"
   ]
  },
  {
   "cell_type": "markdown",
   "metadata": {},
   "source": [
    "**Сделаем 2 вспомогательные сводные таблицы:**\n",
    "- В первой посчитаем общее медианное время ожидания и количество звонков по клиентам(data_user_median)\n",
    "- Во второй посчитаем медианное время ожидания и количество опреаторов внутри каждого клиента"
   ]
  },
  {
   "cell_type": "code",
   "execution_count": 27,
   "metadata": {},
   "outputs": [],
   "source": [
    "data_user_median = (data.groupby(['user_id']).\n",
    " agg(median_waiting_total=('waiting_time','median'),\n",
    "     median_call_count_total=('calls_count','median')).\n",
    "reset_index()\n",
    "    )"
   ]
  },
  {
   "cell_type": "code",
   "execution_count": 28,
   "metadata": {},
   "outputs": [
    {
     "data": {
      "text/html": [
       "<div>\n",
       "<style scoped>\n",
       "    .dataframe tbody tr th:only-of-type {\n",
       "        vertical-align: middle;\n",
       "    }\n",
       "\n",
       "    .dataframe tbody tr th {\n",
       "        vertical-align: top;\n",
       "    }\n",
       "\n",
       "    .dataframe thead th {\n",
       "        text-align: right;\n",
       "    }\n",
       "</style>\n",
       "<table border=\"1\" class=\"dataframe\">\n",
       "  <thead>\n",
       "    <tr style=\"text-align: right;\">\n",
       "      <th></th>\n",
       "      <th>user_id</th>\n",
       "      <th>median_waiting_total</th>\n",
       "      <th>median_call_count_total</th>\n",
       "    </tr>\n",
       "  </thead>\n",
       "  <tbody>\n",
       "    <tr>\n",
       "      <td>0</td>\n",
       "      <td>166377</td>\n",
       "      <td>92.0</td>\n",
       "      <td>7.0</td>\n",
       "    </tr>\n",
       "    <tr>\n",
       "      <td>1</td>\n",
       "      <td>166391</td>\n",
       "      <td>16.5</td>\n",
       "      <td>1.0</td>\n",
       "    </tr>\n",
       "    <tr>\n",
       "      <td>2</td>\n",
       "      <td>166392</td>\n",
       "      <td>26.0</td>\n",
       "      <td>2.0</td>\n",
       "    </tr>\n",
       "  </tbody>\n",
       "</table>\n",
       "</div>"
      ],
      "text/plain": [
       "   user_id  median_waiting_total  median_call_count_total\n",
       "0   166377                  92.0                      7.0\n",
       "1   166391                  16.5                      1.0\n",
       "2   166392                  26.0                      2.0"
      ]
     },
     "execution_count": 28,
     "metadata": {},
     "output_type": "execute_result"
    }
   ],
   "source": [
    "data_user_median.head(3)"
   ]
  },
  {
   "cell_type": "code",
   "execution_count": 29,
   "metadata": {},
   "outputs": [],
   "source": [
    "data_user_operator_median = (data.groupby(['user_id','operator_id']).\n",
    " agg(median_waiting=('waiting_time','median'),\n",
    "     median_call_count=('calls_count','median')).\n",
    "reset_index()\n",
    "    )"
   ]
  },
  {
   "cell_type": "code",
   "execution_count": 30,
   "metadata": {
    "scrolled": true
   },
   "outputs": [
    {
     "data": {
      "text/html": [
       "<div>\n",
       "<style scoped>\n",
       "    .dataframe tbody tr th:only-of-type {\n",
       "        vertical-align: middle;\n",
       "    }\n",
       "\n",
       "    .dataframe tbody tr th {\n",
       "        vertical-align: top;\n",
       "    }\n",
       "\n",
       "    .dataframe thead th {\n",
       "        text-align: right;\n",
       "    }\n",
       "</style>\n",
       "<table border=\"1\" class=\"dataframe\">\n",
       "  <thead>\n",
       "    <tr style=\"text-align: right;\">\n",
       "      <th></th>\n",
       "      <th>user_id</th>\n",
       "      <th>operator_id</th>\n",
       "      <th>median_waiting</th>\n",
       "      <th>median_call_count</th>\n",
       "    </tr>\n",
       "  </thead>\n",
       "  <tbody>\n",
       "    <tr>\n",
       "      <td>0</td>\n",
       "      <td>166377</td>\n",
       "      <td>880020</td>\n",
       "      <td>8.0</td>\n",
       "      <td>1.0</td>\n",
       "    </tr>\n",
       "    <tr>\n",
       "      <td>1</td>\n",
       "      <td>166377</td>\n",
       "      <td>880022</td>\n",
       "      <td>13.0</td>\n",
       "      <td>2.0</td>\n",
       "    </tr>\n",
       "    <tr>\n",
       "      <td>2</td>\n",
       "      <td>166377</td>\n",
       "      <td>880026</td>\n",
       "      <td>112.0</td>\n",
       "      <td>11.0</td>\n",
       "    </tr>\n",
       "  </tbody>\n",
       "</table>\n",
       "</div>"
      ],
      "text/plain": [
       "   user_id  operator_id  median_waiting  median_call_count\n",
       "0   166377       880020             8.0                1.0\n",
       "1   166377       880022            13.0                2.0\n",
       "2   166377       880026           112.0               11.0"
      ]
     },
     "execution_count": 30,
     "metadata": {},
     "output_type": "execute_result"
    }
   ],
   "source": [
    "data_user_operator_median.head(3)"
   ]
  },
  {
   "cell_type": "markdown",
   "metadata": {},
   "source": [
    "**Объеденим таблицы с основным датафреймом**"
   ]
  },
  {
   "cell_type": "code",
   "execution_count": 31,
   "metadata": {},
   "outputs": [],
   "source": [
    "data_total = data.merge(data_user_median).merge(data_user_operator_median)"
   ]
  },
  {
   "cell_type": "code",
   "execution_count": 32,
   "metadata": {},
   "outputs": [
    {
     "data": {
      "text/html": [
       "<div>\n",
       "<style scoped>\n",
       "    .dataframe tbody tr th:only-of-type {\n",
       "        vertical-align: middle;\n",
       "    }\n",
       "\n",
       "    .dataframe tbody tr th {\n",
       "        vertical-align: top;\n",
       "    }\n",
       "\n",
       "    .dataframe thead th {\n",
       "        text-align: right;\n",
       "    }\n",
       "</style>\n",
       "<table border=\"1\" class=\"dataframe\">\n",
       "  <thead>\n",
       "    <tr style=\"text-align: right;\">\n",
       "      <th></th>\n",
       "      <th>user_id</th>\n",
       "      <th>date</th>\n",
       "      <th>direction</th>\n",
       "      <th>internal</th>\n",
       "      <th>operator_id</th>\n",
       "      <th>is_missed_call</th>\n",
       "      <th>calls_count</th>\n",
       "      <th>call_duration</th>\n",
       "      <th>total_call_duration</th>\n",
       "      <th>waiting_time</th>\n",
       "      <th>specialization</th>\n",
       "      <th>median_waiting_total</th>\n",
       "      <th>median_call_count_total</th>\n",
       "      <th>median_waiting</th>\n",
       "      <th>median_call_count</th>\n",
       "    </tr>\n",
       "  </thead>\n",
       "  <tbody>\n",
       "    <tr>\n",
       "      <td>0</td>\n",
       "      <td>166377</td>\n",
       "      <td>2019-08-04</td>\n",
       "      <td>in</td>\n",
       "      <td>0</td>\n",
       "      <td>9999999</td>\n",
       "      <td>1</td>\n",
       "      <td>2</td>\n",
       "      <td>0</td>\n",
       "      <td>4</td>\n",
       "      <td>4</td>\n",
       "      <td>multi_specialization</td>\n",
       "      <td>92.0</td>\n",
       "      <td>7.0</td>\n",
       "      <td>29.0</td>\n",
       "      <td>2.0</td>\n",
       "    </tr>\n",
       "    <tr>\n",
       "      <td>1</td>\n",
       "      <td>166377</td>\n",
       "      <td>2019-08-05</td>\n",
       "      <td>in</td>\n",
       "      <td>0</td>\n",
       "      <td>9999999</td>\n",
       "      <td>1</td>\n",
       "      <td>6</td>\n",
       "      <td>0</td>\n",
       "      <td>35</td>\n",
       "      <td>35</td>\n",
       "      <td>multi_specialization</td>\n",
       "      <td>92.0</td>\n",
       "      <td>7.0</td>\n",
       "      <td>29.0</td>\n",
       "      <td>2.0</td>\n",
       "    </tr>\n",
       "    <tr>\n",
       "      <td>2</td>\n",
       "      <td>166377</td>\n",
       "      <td>2019-08-06</td>\n",
       "      <td>in</td>\n",
       "      <td>0</td>\n",
       "      <td>9999999</td>\n",
       "      <td>1</td>\n",
       "      <td>4</td>\n",
       "      <td>0</td>\n",
       "      <td>62</td>\n",
       "      <td>62</td>\n",
       "      <td>multi_specialization</td>\n",
       "      <td>92.0</td>\n",
       "      <td>7.0</td>\n",
       "      <td>29.0</td>\n",
       "      <td>2.0</td>\n",
       "    </tr>\n",
       "  </tbody>\n",
       "</table>\n",
       "</div>"
      ],
      "text/plain": [
       "   user_id        date direction  internal  operator_id  is_missed_call  \\\n",
       "0   166377  2019-08-04        in         0      9999999               1   \n",
       "1   166377  2019-08-05        in         0      9999999               1   \n",
       "2   166377  2019-08-06        in         0      9999999               1   \n",
       "\n",
       "   calls_count  call_duration  total_call_duration  waiting_time  \\\n",
       "0            2              0                    4             4   \n",
       "1            6              0                   35            35   \n",
       "2            4              0                   62            62   \n",
       "\n",
       "         specialization  median_waiting_total  median_call_count_total  \\\n",
       "0  multi_specialization                  92.0                      7.0   \n",
       "1  multi_specialization                  92.0                      7.0   \n",
       "2  multi_specialization                  92.0                      7.0   \n",
       "\n",
       "   median_waiting  median_call_count  \n",
       "0            29.0                2.0  \n",
       "1            29.0                2.0  \n",
       "2            29.0                2.0  "
      ]
     },
     "execution_count": 32,
     "metadata": {},
     "output_type": "execute_result"
    }
   ],
   "source": [
    "data_total.head(3)"
   ]
  },
  {
   "cell_type": "markdown",
   "metadata": {},
   "source": [
    "**Напишем функцию для алгоритма определения неэффективных операторов**\n",
    "- Сравним медианное значение времени ожидания и количество звонков у каждого оператора с медианным значением вообщем по клиенту"
   ]
  },
  {
   "cell_type": "code",
   "execution_count": 33,
   "metadata": {},
   "outputs": [],
   "source": [
    "def status_operator(row):\n",
    "    if row['direction'] == \"in\" and row['internal'] == 0 and row['median_waiting'] >= row['median_waiting_total']:\n",
    "        return \"inefficient\"\n",
    "    if row['direction'] == \"in\" and row['is_missed_call'] == 1 and row['median_call_count'] >= row['median_call_count_total']:\n",
    "        return \"inefficient\"\n",
    "    if row['specialization'] == \"specialization_out\" and row['direction'] == \"out\" and row['median_call_count'] <= row['median_call_count_total']:\n",
    "        return \"inefficient\"\n",
    "    return \"efficient\"\n",
    "    "
   ]
  },
  {
   "cell_type": "code",
   "execution_count": 34,
   "metadata": {},
   "outputs": [],
   "source": [
    "data_total['status_operator'] = data_total.apply(status_operator,axis=1)"
   ]
  },
  {
   "cell_type": "code",
   "execution_count": 35,
   "metadata": {},
   "outputs": [
    {
     "data": {
      "text/html": [
       "<div>\n",
       "<style scoped>\n",
       "    .dataframe tbody tr th:only-of-type {\n",
       "        vertical-align: middle;\n",
       "    }\n",
       "\n",
       "    .dataframe tbody tr th {\n",
       "        vertical-align: top;\n",
       "    }\n",
       "\n",
       "    .dataframe thead th {\n",
       "        text-align: right;\n",
       "    }\n",
       "</style>\n",
       "<table border=\"1\" class=\"dataframe\">\n",
       "  <thead>\n",
       "    <tr style=\"text-align: right;\">\n",
       "      <th></th>\n",
       "      <th>user_id</th>\n",
       "      <th>date</th>\n",
       "      <th>direction</th>\n",
       "      <th>internal</th>\n",
       "      <th>operator_id</th>\n",
       "      <th>is_missed_call</th>\n",
       "      <th>calls_count</th>\n",
       "      <th>call_duration</th>\n",
       "      <th>total_call_duration</th>\n",
       "      <th>waiting_time</th>\n",
       "      <th>specialization</th>\n",
       "      <th>median_waiting_total</th>\n",
       "      <th>median_call_count_total</th>\n",
       "      <th>median_waiting</th>\n",
       "      <th>median_call_count</th>\n",
       "      <th>status_operator</th>\n",
       "    </tr>\n",
       "  </thead>\n",
       "  <tbody>\n",
       "    <tr>\n",
       "      <td>0</td>\n",
       "      <td>166377</td>\n",
       "      <td>2019-08-04</td>\n",
       "      <td>in</td>\n",
       "      <td>0</td>\n",
       "      <td>9999999</td>\n",
       "      <td>1</td>\n",
       "      <td>2</td>\n",
       "      <td>0</td>\n",
       "      <td>4</td>\n",
       "      <td>4</td>\n",
       "      <td>multi_specialization</td>\n",
       "      <td>92.0</td>\n",
       "      <td>7.0</td>\n",
       "      <td>29.0</td>\n",
       "      <td>2.0</td>\n",
       "      <td>efficient</td>\n",
       "    </tr>\n",
       "    <tr>\n",
       "      <td>1</td>\n",
       "      <td>166377</td>\n",
       "      <td>2019-08-05</td>\n",
       "      <td>in</td>\n",
       "      <td>0</td>\n",
       "      <td>9999999</td>\n",
       "      <td>1</td>\n",
       "      <td>6</td>\n",
       "      <td>0</td>\n",
       "      <td>35</td>\n",
       "      <td>35</td>\n",
       "      <td>multi_specialization</td>\n",
       "      <td>92.0</td>\n",
       "      <td>7.0</td>\n",
       "      <td>29.0</td>\n",
       "      <td>2.0</td>\n",
       "      <td>efficient</td>\n",
       "    </tr>\n",
       "    <tr>\n",
       "      <td>2</td>\n",
       "      <td>166377</td>\n",
       "      <td>2019-08-06</td>\n",
       "      <td>in</td>\n",
       "      <td>0</td>\n",
       "      <td>9999999</td>\n",
       "      <td>1</td>\n",
       "      <td>4</td>\n",
       "      <td>0</td>\n",
       "      <td>62</td>\n",
       "      <td>62</td>\n",
       "      <td>multi_specialization</td>\n",
       "      <td>92.0</td>\n",
       "      <td>7.0</td>\n",
       "      <td>29.0</td>\n",
       "      <td>2.0</td>\n",
       "      <td>efficient</td>\n",
       "    </tr>\n",
       "  </tbody>\n",
       "</table>\n",
       "</div>"
      ],
      "text/plain": [
       "   user_id        date direction  internal  operator_id  is_missed_call  \\\n",
       "0   166377  2019-08-04        in         0      9999999               1   \n",
       "1   166377  2019-08-05        in         0      9999999               1   \n",
       "2   166377  2019-08-06        in         0      9999999               1   \n",
       "\n",
       "   calls_count  call_duration  total_call_duration  waiting_time  \\\n",
       "0            2              0                    4             4   \n",
       "1            6              0                   35            35   \n",
       "2            4              0                   62            62   \n",
       "\n",
       "         specialization  median_waiting_total  median_call_count_total  \\\n",
       "0  multi_specialization                  92.0                      7.0   \n",
       "1  multi_specialization                  92.0                      7.0   \n",
       "2  multi_specialization                  92.0                      7.0   \n",
       "\n",
       "   median_waiting  median_call_count status_operator  \n",
       "0            29.0                2.0       efficient  \n",
       "1            29.0                2.0       efficient  \n",
       "2            29.0                2.0       efficient  "
      ]
     },
     "execution_count": 35,
     "metadata": {},
     "output_type": "execute_result"
    }
   ],
   "source": [
    "data_total.head(3)"
   ]
  },
  {
   "cell_type": "markdown",
   "metadata": {},
   "source": [
    "**Посмотрим долю неэффетивных операторов**"
   ]
  },
  {
   "cell_type": "code",
   "execution_count": 36,
   "metadata": {},
   "outputs": [
    {
     "data": {
      "text/plain": [
       "efficient      0.69865\n",
       "inefficient    0.30135\n",
       "Name: status_operator, dtype: float64"
      ]
     },
     "execution_count": 36,
     "metadata": {},
     "output_type": "execute_result"
    }
   ],
   "source": [
    "data_total['status_operator'].value_counts(normalize=True)"
   ]
  },
  {
   "cell_type": "code",
   "execution_count": 37,
   "metadata": {
    "scrolled": true
   },
   "outputs": [
    {
     "data": {
      "image/png": "[encoded data removed]",
      "text/plain": [
       "<Figure size 432x288 with 1 Axes>"
      ]
     },
     "metadata": {
      "needs_background": "light"
     },
     "output_type": "display_data"
    }
   ],
   "source": [
    "(data_total['status_operator'].value_counts(normalize=True).\n",
    "plot(kind='bar',title='Распределение долей эффективных и неэффективных операторов')\n",
    ")\n",
    "plt.show()"
   ]
  },
  {
   "cell_type": "markdown",
   "metadata": {},
   "source": [
    "### Комментарий\n",
    "- Доля неэффективных операторов 30%"
   ]
  },
  {
   "cell_type": "markdown",
   "metadata": {},
   "source": [
    "**Посмотрим долю неэфеективных операторов для каждого клиента**"
   ]
  },
  {
   "cell_type": "code",
   "execution_count": 38,
   "metadata": {},
   "outputs": [
    {
     "data": {
      "text/html": [
       "<div>\n",
       "<style scoped>\n",
       "    .dataframe tbody tr th:only-of-type {\n",
       "        vertical-align: middle;\n",
       "    }\n",
       "\n",
       "    .dataframe tbody tr th {\n",
       "        vertical-align: top;\n",
       "    }\n",
       "\n",
       "    .dataframe thead th {\n",
       "        text-align: right;\n",
       "    }\n",
       "</style>\n",
       "<table border=\"1\" class=\"dataframe\">\n",
       "  <thead>\n",
       "    <tr style=\"text-align: right;\">\n",
       "      <th></th>\n",
       "      <th>user_id</th>\n",
       "      <th>precent</th>\n",
       "    </tr>\n",
       "  </thead>\n",
       "  <tbody>\n",
       "    <tr>\n",
       "      <td>243</td>\n",
       "      <td>167242</td>\n",
       "      <td>100.00</td>\n",
       "    </tr>\n",
       "    <tr>\n",
       "      <td>513</td>\n",
       "      <td>168329</td>\n",
       "      <td>100.00</td>\n",
       "    </tr>\n",
       "    <tr>\n",
       "      <td>55</td>\n",
       "      <td>166666</td>\n",
       "      <td>100.00</td>\n",
       "    </tr>\n",
       "    <tr>\n",
       "      <td>58</td>\n",
       "      <td>166671</td>\n",
       "      <td>100.00</td>\n",
       "    </tr>\n",
       "    <tr>\n",
       "      <td>367</td>\n",
       "      <td>167792</td>\n",
       "      <td>100.00</td>\n",
       "    </tr>\n",
       "    <tr>\n",
       "      <td>...</td>\n",
       "      <td>...</td>\n",
       "      <td>...</td>\n",
       "    </tr>\n",
       "    <tr>\n",
       "      <td>18</td>\n",
       "      <td>166485</td>\n",
       "      <td>3.97</td>\n",
       "    </tr>\n",
       "    <tr>\n",
       "      <td>75</td>\n",
       "      <td>166711</td>\n",
       "      <td>2.86</td>\n",
       "    </tr>\n",
       "    <tr>\n",
       "      <td>531</td>\n",
       "      <td>168466</td>\n",
       "      <td>2.44</td>\n",
       "    </tr>\n",
       "    <tr>\n",
       "      <td>46</td>\n",
       "      <td>166609</td>\n",
       "      <td>1.92</td>\n",
       "    </tr>\n",
       "    <tr>\n",
       "      <td>30</td>\n",
       "      <td>166520</td>\n",
       "      <td>1.80</td>\n",
       "    </tr>\n",
       "  </tbody>\n",
       "</table>\n",
       "<p>299 rows × 2 columns</p>\n",
       "</div>"
      ],
      "text/plain": [
       "     user_id  precent\n",
       "243   167242   100.00\n",
       "513   168329   100.00\n",
       "55    166666   100.00\n",
       "58    166671   100.00\n",
       "367   167792   100.00\n",
       "..       ...      ...\n",
       "18    166485     3.97\n",
       "75    166711     2.86\n",
       "531   168466     2.44\n",
       "46    166609     1.92\n",
       "30    166520     1.80\n",
       "\n",
       "[299 rows x 2 columns]"
      ]
     },
     "execution_count": 38,
     "metadata": {},
     "output_type": "execute_result"
    }
   ],
   "source": [
    "data_status_operator = data_total.groupby(['user_id','status_operator']).agg(count_status=('status_operator','count'))\n",
    "\n",
    "data_status_operator['precent'] = (data_status_operator.count_status/data_status_operator.\n",
    "                                   groupby(level=0).count_status.transform(sum)*100).round(2)\n",
    "data_status_operator = data_status_operator.reset_index()\n",
    "data_status_operator = data_status_operator[data_status_operator['status_operator'] == \"inefficient\"]\n",
    "data_status_operator[['user_id','precent']].sort_values(by='precent',ascending = False)"
   ]
  },
  {
   "cell_type": "markdown",
   "metadata": {},
   "source": [
    "**Посчитаем количество клиентов с долей неэффективных операторов больше 50%**"
   ]
  },
  {
   "cell_type": "code",
   "execution_count": 39,
   "metadata": {},
   "outputs": [
    {
     "data": {
      "text/plain": [
       "116"
      ]
     },
     "execution_count": 39,
     "metadata": {},
     "output_type": "execute_result"
    }
   ],
   "source": [
    "len(data_status_operator[data_status_operator['precent'] > 50].index)"
   ]
  },
  {
   "cell_type": "markdown",
   "metadata": {},
   "source": [
    "**Посчитаем процент клиентов с долей неэффективных операторов больше 50% им скорее всего будет интересна данная услуга**"
   ]
  },
  {
   "cell_type": "code",
   "execution_count": 40,
   "metadata": {},
   "outputs": [
    {
     "data": {
      "text/plain": [
       "38.8"
      ]
     },
     "execution_count": 40,
     "metadata": {},
     "output_type": "execute_result"
    }
   ],
   "source": [
    "percent_user_id = len(data_status_operator[data_status_operator['precent'] > 50].index)/len(data_status_operator.index)*100\n",
    "round(percent_user_id,1)"
   ]
  },
  {
   "cell_type": "markdown",
   "metadata": {},
   "source": [
    "### Комментарий\n",
    "- 116 клиента имеют больше половины неэффективных операторов\n",
    "- Доля таких клиентов 38,8%, соответственно им будет интересна эта услуга"
   ]
  },
  {
   "cell_type": "markdown",
   "metadata": {},
   "source": [
    "## Проверим статистические гипотезы"
   ]
  },
  {
   "cell_type": "markdown",
   "metadata": {},
   "source": [
    "**Проверим гипотизу зависит ли время ожидания клиента от тарифного плана. Для этого посмотрим есть ли статистические различия во времени ожидания между тарифами А и В.Для проверки гипотизы выбираем непараметрический тест Уилкоксона-Манна-Уитни, так как он не так требователен к данным(не обязательно иметь нормальное распределение). Этот метод работает с рангами а не с самими значениями, поэтому к ниму прибегают когда работа с самими значениями невозможна из-за выбросов(как в нашем случае), сильно сдвигающих параметрические результаты. Сформулируем нулевую гипотизу Н0,статистических различий нет, тогда альтернативная гипотеза будет статистические различия есть**"
   ]
  },
  {
   "cell_type": "code",
   "execution_count": 41,
   "metadata": {},
   "outputs": [
    {
     "data": {
      "text/html": [
       "<div>\n",
       "<style scoped>\n",
       "    .dataframe tbody tr th:only-of-type {\n",
       "        vertical-align: middle;\n",
       "    }\n",
       "\n",
       "    .dataframe tbody tr th {\n",
       "        vertical-align: top;\n",
       "    }\n",
       "\n",
       "    .dataframe thead th {\n",
       "        text-align: right;\n",
       "    }\n",
       "</style>\n",
       "<table border=\"1\" class=\"dataframe\">\n",
       "  <thead>\n",
       "    <tr style=\"text-align: right;\">\n",
       "      <th></th>\n",
       "      <th>user_id</th>\n",
       "      <th>date</th>\n",
       "      <th>direction</th>\n",
       "      <th>internal</th>\n",
       "      <th>operator_id</th>\n",
       "      <th>is_missed_call</th>\n",
       "      <th>calls_count</th>\n",
       "      <th>call_duration</th>\n",
       "      <th>total_call_duration</th>\n",
       "      <th>waiting_time</th>\n",
       "      <th>specialization</th>\n",
       "      <th>tariff_plan</th>\n",
       "      <th>date_start</th>\n",
       "    </tr>\n",
       "  </thead>\n",
       "  <tbody>\n",
       "    <tr>\n",
       "      <td>0</td>\n",
       "      <td>166377</td>\n",
       "      <td>2019-08-04</td>\n",
       "      <td>in</td>\n",
       "      <td>0</td>\n",
       "      <td>9999999</td>\n",
       "      <td>1</td>\n",
       "      <td>2</td>\n",
       "      <td>0</td>\n",
       "      <td>4</td>\n",
       "      <td>4</td>\n",
       "      <td>multi_specialization</td>\n",
       "      <td>B</td>\n",
       "      <td>2019-08-01</td>\n",
       "    </tr>\n",
       "    <tr>\n",
       "      <td>1</td>\n",
       "      <td>166377</td>\n",
       "      <td>2019-08-05</td>\n",
       "      <td>out</td>\n",
       "      <td>1</td>\n",
       "      <td>880022</td>\n",
       "      <td>1</td>\n",
       "      <td>3</td>\n",
       "      <td>0</td>\n",
       "      <td>5</td>\n",
       "      <td>5</td>\n",
       "      <td>multi_specialization</td>\n",
       "      <td>B</td>\n",
       "      <td>2019-08-01</td>\n",
       "    </tr>\n",
       "    <tr>\n",
       "      <td>2</td>\n",
       "      <td>166377</td>\n",
       "      <td>2019-08-05</td>\n",
       "      <td>out</td>\n",
       "      <td>1</td>\n",
       "      <td>880020</td>\n",
       "      <td>1</td>\n",
       "      <td>1</td>\n",
       "      <td>0</td>\n",
       "      <td>1</td>\n",
       "      <td>1</td>\n",
       "      <td>multi_specialization</td>\n",
       "      <td>B</td>\n",
       "      <td>2019-08-01</td>\n",
       "    </tr>\n",
       "  </tbody>\n",
       "</table>\n",
       "</div>"
      ],
      "text/plain": [
       "   user_id        date direction  internal  operator_id  is_missed_call  \\\n",
       "0   166377  2019-08-04        in         0      9999999               1   \n",
       "1   166377  2019-08-05       out         1       880022               1   \n",
       "2   166377  2019-08-05       out         1       880020               1   \n",
       "\n",
       "   calls_count  call_duration  total_call_duration  waiting_time  \\\n",
       "0            2              0                    4             4   \n",
       "1            3              0                    5             5   \n",
       "2            1              0                    1             1   \n",
       "\n",
       "         specialization tariff_plan  date_start  \n",
       "0  multi_specialization           B  2019-08-01  \n",
       "1  multi_specialization           B  2019-08-01  \n",
       "2  multi_specialization           B  2019-08-01  "
      ]
     },
     "execution_count": 41,
     "metadata": {},
     "output_type": "execute_result"
    }
   ],
   "source": [
    "data_tariff = data.merge(data_2)\n",
    "data_tariff.head(3)"
   ]
  },
  {
   "cell_type": "code",
   "execution_count": 42,
   "metadata": {
    "scrolled": true
   },
   "outputs": [
    {
     "data": {
      "text/plain": [
       "C    18120\n",
       "B    17194\n",
       "A    12909\n",
       "Name: tariff_plan, dtype: int64"
      ]
     },
     "execution_count": 42,
     "metadata": {},
     "output_type": "execute_result"
    }
   ],
   "source": [
    "data_tariff['tariff_plan'].value_counts()"
   ]
  },
  {
   "cell_type": "code",
   "execution_count": 43,
   "metadata": {},
   "outputs": [
    {
     "name": "stdout",
     "output_type": "stream",
     "text": [
      "p-значение:  2.851887475528618e-64\n",
      "Отвергаем нулевую гипотезу: разница статистически значима\n"
     ]
    }
   ],
   "source": [
    "tariff_A = data_tariff.query('tariff_plan == \"A\"')['waiting_time']\n",
    "tariff_B = data_tariff.query('tariff_plan == \"B\"')['waiting_time']\n",
    "\n",
    "alpha = 0.05  # критический уровень статистической значимости\n",
    "\n",
    "results = st.mannwhitneyu(tariff_A, tariff_B,alternative='two-sided')\n",
    "\n",
    "print('p-значение: ', results.pvalue)\n",
    "\n",
    "if results.pvalue < alpha:\n",
    "    print('Отвергаем нулевую гипотезу: разница статистически значима')\n",
    "else:\n",
    "    print(\n",
    "        'Не получилось отвергнуть нулевую гипотезу, вывод о различии сделать нельзя'\n",
    "    ) "
   ]
  },
  {
   "cell_type": "markdown",
   "metadata": {},
   "source": [
    "**Посмотрим есть ли статистические различия во времени ожидания между тарифами А и C**"
   ]
  },
  {
   "cell_type": "code",
   "execution_count": 44,
   "metadata": {},
   "outputs": [
    {
     "name": "stdout",
     "output_type": "stream",
     "text": [
      "p-значение:  5.148301456948066e-92\n",
      "Отвергаем нулевую гипотезу: разница статистически значима\n"
     ]
    }
   ],
   "source": [
    "tariff_A = data_tariff.query('tariff_plan == \"A\"')['waiting_time']\n",
    "tariff_C = data_tariff.query('tariff_plan == \"C\"')['waiting_time']\n",
    "\n",
    "alpha = 0.05  # критический уровень статистической значимости\n",
    "\n",
    "results = st.mannwhitneyu(tariff_A, tariff_C,alternative='two-sided')\n",
    "\n",
    "print('p-значение: ', results.pvalue)\n",
    "\n",
    "if results.pvalue < alpha:\n",
    "    print('Отвергаем нулевую гипотезу: разница статистически значима')\n",
    "else:\n",
    "    print(\n",
    "        'Не получилось отвергнуть нулевую гипотезу, вывод о различии сделать нельзя'\n",
    "    ) "
   ]
  },
  {
   "cell_type": "markdown",
   "metadata": {},
   "source": [
    "**Посмотрим есть ли статистические различия во времени ожидания между тарифами B и C**"
   ]
  },
  {
   "cell_type": "code",
   "execution_count": 45,
   "metadata": {},
   "outputs": [
    {
     "name": "stdout",
     "output_type": "stream",
     "text": [
      "p-значение:  0.00012404361334519652\n",
      "Отвергаем нулевую гипотезу: разница статистически значима\n"
     ]
    }
   ],
   "source": [
    "tariff_B = data_tariff.query('tariff_plan == \"B\"')['waiting_time']\n",
    "tariff_C = data_tariff.query('tariff_plan == \"C\"')['waiting_time']\n",
    "\n",
    "alpha = 0.05  # критический уровень статистической значимости\n",
    "\n",
    "results = st.mannwhitneyu(tariff_B, tariff_C,alternative='two-sided')\n",
    "\n",
    "print('p-значение: ', results.pvalue)\n",
    "\n",
    "if results.pvalue < alpha:\n",
    "    print('Отвергаем нулевую гипотезу: разница статистически значима')\n",
    "else:\n",
    "    print(\n",
    "        'Не получилось отвергнуть нулевую гипотезу, вывод о различии сделать нельзя'\n",
    "    ) "
   ]
  },
  {
   "cell_type": "markdown",
   "metadata": {},
   "source": [
    "### Комментарий\n",
    "- Значение p-value говорит нам о том что статистические различия в выборках есть, значит время ожидания на разных тарифах отличается"
   ]
  },
  {
   "cell_type": "markdown",
   "metadata": {},
   "source": [
    "**Проверим гипотезу, зависит ли длительность звонков от того, входящие они или исходящие.Сформулируем нулевую гипотизу Н0,статистических различий нет, тогда альтернативная гипотеза будет статистические различия есть**"
   ]
  },
  {
   "cell_type": "code",
   "execution_count": 46,
   "metadata": {},
   "outputs": [
    {
     "name": "stdout",
     "output_type": "stream",
     "text": [
      "p-значение:  0.00011822325249529907\n",
      "Отвергаем нулевую гипотезу: разница статистически значима\n"
     ]
    }
   ],
   "source": [
    "direction_in = data_tariff.query('direction == \"in\"')['call_duration']\n",
    "direction_out = data_tariff.query('direction == \"out\"')['call_duration']\n",
    "\n",
    "alpha = 0.05  # критический уровень статистической значимости\n",
    "\n",
    "results = st.mannwhitneyu(direction_in, direction_out,alternative='two-sided')\n",
    "\n",
    "print('p-значение: ', results.pvalue)\n",
    "\n",
    "if results.pvalue < alpha:\n",
    "    print('Отвергаем нулевую гипотезу: разница статистически значима')\n",
    "else:\n",
    "    print(\n",
    "        'Не получилось отвергнуть нулевую гипотезу, вывод о различии сделать нельзя'\n",
    "    ) "
   ]
  },
  {
   "cell_type": "markdown",
   "metadata": {},
   "source": [
    "### Комментарий\n",
    "- Длительность звонков входящих и исходящих отличаются"
   ]
  },
  {
   "cell_type": "markdown",
   "metadata": {},
   "source": [
    "## Вывод\n",
    "- **После первого взгляда на датасеты мы обнаружили, что:**\n",
    "  - В датасете data 4900 дубликатов, есть пропущенные значения в столбцах internal и operator_id\n",
    "  - В датафрейме data обнаружились аномально большие значения в столбцах calls_count, call_duration, total_call_duration, далее отфильтруем их с помощью quantile, зададим значения 95%\n",
    "  - В датасете data_2 все хорошо\n",
    "- Отфильтровали данные в датасэте data с помощью quantile, зададим значения 99%,что бы не потерять значительную часть данных  \n",
    "- Избавились от дубликатов\n",
    "- Заменили, для удобства дальнейших расчетов, пропущенные значения в колонке operator_id на 9999999\n",
    "- Заменили булевые значения на 0 и 1 и заполним пропущенные значения в колонке internal на 0\n",
    "\n",
    "\n",
    "- **Посмотрели на распределения значений в столбцах и выяснили, что:**\n",
    "   - Данные сильно скошены в право\n",
    "   - Количество звонков в основном не превышает 40\n",
    "   - Длительность звонка в основном не превышает 2000 сек\n",
    "   - В дальнейшем для определения неэффективных операторов в качестве меры средней тенденции будем применять медиану, на нее не так сильно влияют выбросы\n",
    "   \n",
    "- Доля пропущенных вызовов довольно большая, почти 47%\n",
    "- Цикличность загруженности опрераторов связана с днями недели, то есть с Пн по Сб больше всего звонков, в Вс резкий спад, а увеличение числа звонков в течение всего приода связано с притоком новых клиентов в Нупозвони\n",
    "- В основном время ожидания не превышает 700 сек\n",
    "- Доля неэффективных операторов 30%\n",
    "- 116 клиента имеют больше половины неэффективных операторов\n",
    "- Доля таких клиентов 38,8%, соответственно им будет интересна эта услуга\n",
    "\n",
    "- **Проверили статистические гипотизы**\n",
    "  - зависит ли время ожидания клиента от тарифного плана\n",
    "  - зависит ли длительность звонков от того, входящие они или исходящие\n",
    "  - В обоих гипотизах разница статистически значима, значит и время ожидания зависит от тарифного плана и длительность звонков отличается\n",
    "\n",
    "**Рекомендации:**\n",
    "\n",
    " - Услугу стоит внедрять, так как доля заинтерисованных клиентов довольно большая 38,8%"
   ]
  },
  {
   "cell_type": "markdown",
   "metadata": {},
   "source": [
    "**Презентация**\n",
    "https://drive.google.com/file/d/1gG9FtMslrn_5QBG2cHiWv0JvXiloNvvB/view?usp=sharing"
   ]
  },
  {
   "cell_type": "markdown",
   "metadata": {},
   "source": [
    "**Дашборд**\n",
    "https://public.tableau.com/app/profile/alexandr7846/viz/Book1_16335433707390/Dashboard1?publish=yes"
   ]
  }
 ],
 "metadata": {
  "ExecuteTimeLog": [
   {
    "duration": 1872,
    "start_time": "2021-11-06T11:16:38.192Z"
   },
   {
    "duration": 2244,
    "start_time": "2021-11-06T11:18:25.254Z"
   },
   {
    "duration": 120,
    "start_time": "2021-11-06T11:19:17.384Z"
   },
   {
    "duration": 6,
    "start_time": "2021-11-06T11:19:55.204Z"
   },
   {
    "duration": 22,
    "start_time": "2021-11-06T11:20:09.205Z"
   },
   {
    "duration": 83,
    "start_time": "2021-11-06T11:20:27.544Z"
   },
   {
    "duration": 9,
    "start_time": "2021-11-06T11:20:56.135Z"
   },
   {
    "duration": 24,
    "start_time": "2021-11-06T11:21:06.734Z"
   },
   {
    "duration": 18,
    "start_time": "2021-11-06T11:21:53.125Z"
   },
   {
    "duration": 6,
    "start_time": "2021-11-06T11:22:01.475Z"
   },
   {
    "duration": 30,
    "start_time": "2021-11-06T11:22:24.175Z"
   },
   {
    "duration": 6,
    "start_time": "2021-11-06T11:22:47.135Z"
   },
   {
    "duration": 1257,
    "start_time": "2021-11-06T11:23:07.704Z"
   },
   {
    "duration": 23,
    "start_time": "2021-11-06T11:23:29.649Z"
   },
   {
    "duration": 14,
    "start_time": "2021-11-06T11:23:45.615Z"
   },
   {
    "duration": 1142,
    "start_time": "2021-11-06T11:24:21.045Z"
   },
   {
    "duration": 23,
    "start_time": "2021-11-06T11:24:59.235Z"
   },
   {
    "duration": 210,
    "start_time": "2021-11-06T11:25:10.115Z"
   },
   {
    "duration": 122,
    "start_time": "2021-11-06T11:25:22.675Z"
   },
   {
    "duration": 1057,
    "start_time": "2021-11-06T11:25:49.105Z"
   },
   {
    "duration": 16,
    "start_time": "2021-11-06T11:26:31.685Z"
   },
   {
    "duration": 347,
    "start_time": "2021-11-06T11:26:56.794Z"
   },
   {
    "duration": 98,
    "start_time": "2021-11-06T11:27:10.635Z"
   },
   {
    "duration": 59,
    "start_time": "2021-11-06T11:27:38.846Z"
   },
   {
    "duration": 5,
    "start_time": "2021-11-06T11:28:07.135Z"
   },
   {
    "duration": 26,
    "start_time": "2021-11-06T11:28:16.485Z"
   },
   {
    "duration": 32,
    "start_time": "2021-11-06T11:28:45.525Z"
   },
   {
    "duration": 30,
    "start_time": "2021-11-06T11:29:40.385Z"
   },
   {
    "duration": 2395,
    "start_time": "2021-11-06T11:29:50.015Z"
   },
   {
    "duration": 17,
    "start_time": "2021-11-06T11:29:59.875Z"
   },
   {
    "duration": 12,
    "start_time": "2021-11-06T11:30:21.965Z"
   },
   {
    "duration": 257,
    "start_time": "2021-11-06T11:30:32.235Z"
   },
   {
    "duration": 47,
    "start_time": "2021-11-06T11:31:08.705Z"
   },
   {
    "duration": 7,
    "start_time": "2021-11-06T11:31:38.105Z"
   },
   {
    "duration": 7,
    "start_time": "2021-11-06T11:32:04.655Z"
   },
   {
    "duration": 38,
    "start_time": "2021-11-06T11:32:50.205Z"
   },
   {
    "duration": 35,
    "start_time": "2021-11-06T11:33:02.085Z"
   },
   {
    "duration": 32,
    "start_time": "2021-11-06T11:33:37.935Z"
   },
   {
    "duration": 2016,
    "start_time": "2021-11-06T11:34:15.258Z"
   },
   {
    "duration": 99,
    "start_time": "2021-11-06T11:34:17.277Z"
   },
   {
    "duration": 6,
    "start_time": "2021-11-06T11:34:17.379Z"
   },
   {
    "duration": 27,
    "start_time": "2021-11-06T11:34:17.388Z"
   },
   {
    "duration": 94,
    "start_time": "2021-11-06T11:34:17.418Z"
   },
   {
    "duration": 10,
    "start_time": "2021-11-06T11:34:17.515Z"
   },
   {
    "duration": 24,
    "start_time": "2021-11-06T11:34:17.528Z"
   },
   {
    "duration": 18,
    "start_time": "2021-11-06T11:34:17.583Z"
   },
   {
    "duration": 7,
    "start_time": "2021-11-06T11:34:17.605Z"
   },
   {
    "duration": 33,
    "start_time": "2021-11-06T11:34:17.616Z"
   },
   {
    "duration": 6,
    "start_time": "2021-11-06T11:34:17.682Z"
   },
   {
    "duration": 1020,
    "start_time": "2021-11-06T11:34:17.690Z"
   },
   {
    "duration": 21,
    "start_time": "2021-11-06T11:34:18.713Z"
   },
   {
    "duration": 13,
    "start_time": "2021-11-06T11:34:18.736Z"
   },
   {
    "duration": 1134,
    "start_time": "2021-11-06T11:34:18.751Z"
   },
   {
    "duration": 23,
    "start_time": "2021-11-06T11:34:19.887Z"
   },
   {
    "duration": 226,
    "start_time": "2021-11-06T11:34:19.912Z"
   },
   {
    "duration": 1028,
    "start_time": "2021-11-06T11:34:20.140Z"
   },
   {
    "duration": 17,
    "start_time": "2021-11-06T11:34:21.182Z"
   },
   {
    "duration": 472,
    "start_time": "2021-11-06T11:34:21.201Z"
   },
   {
    "duration": 63,
    "start_time": "2021-11-06T11:34:21.675Z"
   },
   {
    "duration": 4,
    "start_time": "2021-11-06T11:34:21.740Z"
   },
   {
    "duration": 47,
    "start_time": "2021-11-06T11:34:21.746Z"
   },
   {
    "duration": 30,
    "start_time": "2021-11-06T11:34:21.795Z"
   },
   {
    "duration": 29,
    "start_time": "2021-11-06T11:34:21.827Z"
   },
   {
    "duration": 2325,
    "start_time": "2021-11-06T11:34:21.883Z"
   },
   {
    "duration": 14,
    "start_time": "2021-11-06T11:34:24.212Z"
   },
   {
    "duration": 16,
    "start_time": "2021-11-06T11:34:24.229Z"
   },
   {
    "duration": 243,
    "start_time": "2021-11-06T11:34:24.248Z"
   },
   {
    "duration": 46,
    "start_time": "2021-11-06T11:34:24.494Z"
   },
   {
    "duration": 8,
    "start_time": "2021-11-06T11:34:24.542Z"
   },
   {
    "duration": 32,
    "start_time": "2021-11-06T11:34:24.552Z"
   },
   {
    "duration": 39,
    "start_time": "2021-11-06T11:34:24.586Z"
   },
   {
    "duration": 67,
    "start_time": "2021-11-06T11:34:24.628Z"
   },
   {
    "duration": 31,
    "start_time": "2021-11-06T11:34:24.698Z"
   },
   {
    "duration": 55762,
    "start_time": "2021-11-07T08:30:20.128Z"
   },
   {
    "duration": 103,
    "start_time": "2021-11-07T08:31:15.893Z"
   },
   {
    "duration": 5,
    "start_time": "2021-11-07T08:31:15.999Z"
   },
   {
    "duration": 26,
    "start_time": "2021-11-07T08:31:16.007Z"
   },
   {
    "duration": 88,
    "start_time": "2021-11-07T08:31:16.036Z"
   },
   {
    "duration": 9,
    "start_time": "2021-11-07T08:31:16.126Z"
   },
   {
    "duration": 24,
    "start_time": "2021-11-07T08:31:16.137Z"
   },
   {
    "duration": 24,
    "start_time": "2021-11-07T08:31:16.163Z"
   },
   {
    "duration": 5,
    "start_time": "2021-11-07T08:31:16.191Z"
   },
   {
    "duration": 27,
    "start_time": "2021-11-07T08:31:16.199Z"
   },
   {
    "duration": 6,
    "start_time": "2021-11-07T08:31:16.228Z"
   },
   {
    "duration": 1005,
    "start_time": "2021-11-07T08:31:16.236Z"
   },
   {
    "duration": 22,
    "start_time": "2021-11-07T08:31:17.243Z"
   },
   {
    "duration": 21,
    "start_time": "2021-11-07T08:31:17.267Z"
   },
   {
    "duration": 1163,
    "start_time": "2021-11-07T08:31:17.290Z"
   },
   {
    "duration": 22,
    "start_time": "2021-11-07T08:31:18.456Z"
   },
   {
    "duration": 210,
    "start_time": "2021-11-07T08:31:18.482Z"
   },
   {
    "duration": 1358,
    "start_time": "2021-11-07T08:31:18.695Z"
   },
   {
    "duration": 43,
    "start_time": "2021-11-07T08:31:20.056Z"
   },
   {
    "duration": 586,
    "start_time": "2021-11-07T08:31:20.102Z"
   },
   {
    "duration": 60,
    "start_time": "2021-11-07T08:31:20.690Z"
   },
   {
    "duration": 5,
    "start_time": "2021-11-07T08:31:20.753Z"
   },
   {
    "duration": 29,
    "start_time": "2021-11-07T08:31:20.783Z"
   },
   {
    "duration": 29,
    "start_time": "2021-11-07T08:31:20.815Z"
   },
   {
    "duration": 58,
    "start_time": "2021-11-07T08:31:20.847Z"
   },
   {
    "duration": 2186,
    "start_time": "2021-11-07T08:31:20.907Z"
   },
   {
    "duration": 15,
    "start_time": "2021-11-07T08:31:23.098Z"
   },
   {
    "duration": 14,
    "start_time": "2021-11-07T08:31:23.115Z"
   },
   {
    "duration": 257,
    "start_time": "2021-11-07T08:31:23.132Z"
   },
   {
    "duration": 47,
    "start_time": "2021-11-07T08:31:23.391Z"
   },
   {
    "duration": 7,
    "start_time": "2021-11-07T08:31:23.441Z"
   },
   {
    "duration": 37,
    "start_time": "2021-11-07T08:31:23.451Z"
   },
   {
    "duration": 40,
    "start_time": "2021-11-07T08:31:23.491Z"
   },
   {
    "duration": 63,
    "start_time": "2021-11-07T08:31:23.534Z"
   },
   {
    "duration": 32,
    "start_time": "2021-11-07T08:31:23.601Z"
   },
   {
    "duration": 41,
    "start_time": "2021-11-07T08:35:41.056Z"
   },
   {
    "duration": 26,
    "start_time": "2021-11-07T09:15:37.090Z"
   },
   {
    "duration": 11,
    "start_time": "2021-11-07T09:15:50.332Z"
   },
   {
    "duration": 2219,
    "start_time": "2021-11-07T18:39:34.081Z"
   },
   {
    "duration": 101,
    "start_time": "2021-11-07T18:39:36.302Z"
   },
   {
    "duration": 7,
    "start_time": "2021-11-07T18:39:36.406Z"
   },
   {
    "duration": 23,
    "start_time": "2021-11-07T18:39:36.415Z"
   },
   {
    "duration": 88,
    "start_time": "2021-11-07T18:39:36.440Z"
   },
   {
    "duration": 12,
    "start_time": "2021-11-07T18:39:36.531Z"
   },
   {
    "duration": 45,
    "start_time": "2021-11-07T18:39:36.546Z"
   },
   {
    "duration": 23,
    "start_time": "2021-11-07T18:39:36.594Z"
   },
   {
    "duration": 6,
    "start_time": "2021-11-07T18:39:36.622Z"
   },
   {
    "duration": 7,
    "start_time": "2021-11-07T18:39:36.667Z"
   },
   {
    "duration": 30,
    "start_time": "2021-11-07T18:39:36.679Z"
   },
   {
    "duration": 8,
    "start_time": "2021-11-07T18:39:36.711Z"
   },
   {
    "duration": 1107,
    "start_time": "2021-11-07T18:39:36.721Z"
   },
   {
    "duration": 53,
    "start_time": "2021-11-07T18:39:37.830Z"
   },
   {
    "duration": 23,
    "start_time": "2021-11-07T18:39:37.886Z"
   },
   {
    "duration": 14,
    "start_time": "2021-11-07T18:39:37.911Z"
   },
   {
    "duration": 1203,
    "start_time": "2021-11-07T18:39:37.928Z"
   },
   {
    "duration": 37,
    "start_time": "2021-11-07T18:39:39.134Z"
   },
   {
    "duration": 233,
    "start_time": "2021-11-07T18:39:39.174Z"
   },
   {
    "duration": 1087,
    "start_time": "2021-11-07T18:39:39.409Z"
   },
   {
    "duration": 17,
    "start_time": "2021-11-07T18:39:40.498Z"
   },
   {
    "duration": 490,
    "start_time": "2021-11-07T18:39:40.518Z"
   },
   {
    "duration": 77,
    "start_time": "2021-11-07T18:39:41.010Z"
   },
   {
    "duration": 5,
    "start_time": "2021-11-07T18:39:41.090Z"
   },
   {
    "duration": 32,
    "start_time": "2021-11-07T18:39:41.098Z"
   },
   {
    "duration": 50,
    "start_time": "2021-11-07T18:39:41.132Z"
   },
   {
    "duration": 28,
    "start_time": "2021-11-07T18:39:41.187Z"
   },
   {
    "duration": 2548,
    "start_time": "2021-11-07T18:39:41.218Z"
   },
   {
    "duration": 18,
    "start_time": "2021-11-07T18:39:43.770Z"
   },
   {
    "duration": 20,
    "start_time": "2021-11-07T18:39:43.791Z"
   },
   {
    "duration": 274,
    "start_time": "2021-11-07T18:39:43.814Z"
   },
   {
    "duration": 82,
    "start_time": "2021-11-07T18:39:44.091Z"
   },
   {
    "duration": 8,
    "start_time": "2021-11-07T18:39:44.176Z"
   },
   {
    "duration": 13,
    "start_time": "2021-11-07T18:39:44.187Z"
   },
   {
    "duration": 66,
    "start_time": "2021-11-07T18:39:44.203Z"
   },
   {
    "duration": 12,
    "start_time": "2021-11-07T18:39:44.272Z"
   },
   {
    "duration": 37,
    "start_time": "2021-11-07T18:39:44.286Z"
   },
   {
    "duration": 65,
    "start_time": "2021-11-07T18:39:44.325Z"
   },
   {
    "duration": 118,
    "start_time": "2021-11-07T18:40:43.382Z"
   },
   {
    "duration": 106,
    "start_time": "2021-11-07T18:40:54.221Z"
   },
   {
    "duration": 24,
    "start_time": "2021-11-07T21:25:51.544Z"
   },
   {
    "duration": 21,
    "start_time": "2021-11-07T21:26:02.964Z"
   },
   {
    "duration": 11,
    "start_time": "2021-11-07T21:26:11.174Z"
   },
   {
    "duration": 11,
    "start_time": "2021-11-07T21:28:10.684Z"
   },
   {
    "duration": 28,
    "start_time": "2021-11-07T21:28:11.805Z"
   },
   {
    "duration": 11,
    "start_time": "2021-11-07T21:28:13.344Z"
   },
   {
    "duration": 42,
    "start_time": "2021-11-07T21:30:17.745Z"
   },
   {
    "duration": 21,
    "start_time": "2021-11-07T21:30:39.105Z"
   },
   {
    "duration": 6,
    "start_time": "2021-11-07T21:32:15.985Z"
   },
   {
    "duration": 8957,
    "start_time": "2021-11-07T21:32:24.295Z"
   },
   {
    "duration": -89,
    "start_time": "2021-11-07T21:32:33.344Z"
   },
   {
    "duration": 9355,
    "start_time": "2021-11-07T21:33:51.295Z"
   },
   {
    "duration": 4,
    "start_time": "2021-11-07T21:35:29.556Z"
   },
   {
    "duration": 100,
    "start_time": "2021-11-07T21:35:29.562Z"
   },
   {
    "duration": 7,
    "start_time": "2021-11-07T21:35:29.666Z"
   },
   {
    "duration": 18,
    "start_time": "2021-11-07T21:35:29.677Z"
   },
   {
    "duration": 107,
    "start_time": "2021-11-07T21:35:29.698Z"
   },
   {
    "duration": 10,
    "start_time": "2021-11-07T21:35:30.640Z"
   },
   {
    "duration": 44,
    "start_time": "2021-11-07T21:35:30.652Z"
   },
   {
    "duration": 27,
    "start_time": "2021-11-07T21:35:30.699Z"
   },
   {
    "duration": 9,
    "start_time": "2021-11-07T21:35:30.729Z"
   },
   {
    "duration": 27,
    "start_time": "2021-11-07T21:35:30.740Z"
   },
   {
    "duration": 37,
    "start_time": "2021-11-07T21:35:30.769Z"
   },
   {
    "duration": 6,
    "start_time": "2021-11-07T21:35:30.809Z"
   },
   {
    "duration": 1138,
    "start_time": "2021-11-07T21:35:30.818Z"
   },
   {
    "duration": 43,
    "start_time": "2021-11-07T21:35:31.960Z"
   },
   {
    "duration": 22,
    "start_time": "2021-11-07T21:35:32.007Z"
   },
   {
    "duration": 36,
    "start_time": "2021-11-07T21:35:32.031Z"
   },
   {
    "duration": 1152,
    "start_time": "2021-11-07T21:35:32.070Z"
   },
   {
    "duration": 15,
    "start_time": "2021-11-07T21:35:33.225Z"
   },
   {
    "duration": 253,
    "start_time": "2021-11-07T21:35:33.242Z"
   },
   {
    "duration": 577,
    "start_time": "2021-11-07T21:35:33.498Z"
   },
   {
    "duration": 17,
    "start_time": "2021-11-07T21:35:34.077Z"
   },
   {
    "duration": 376,
    "start_time": "2021-11-07T21:35:34.096Z"
   },
   {
    "duration": 56,
    "start_time": "2021-11-07T21:35:34.475Z"
   },
   {
    "duration": 4,
    "start_time": "2021-11-07T21:35:34.533Z"
   },
   {
    "duration": 53,
    "start_time": "2021-11-07T21:35:34.539Z"
   },
   {
    "duration": 27,
    "start_time": "2021-11-07T21:35:34.595Z"
   },
   {
    "duration": 52,
    "start_time": "2021-11-07T21:35:34.624Z"
   },
   {
    "duration": 11,
    "start_time": "2021-11-07T21:35:34.679Z"
   },
   {
    "duration": 28,
    "start_time": "2021-11-07T21:35:34.693Z"
   },
   {
    "duration": 45,
    "start_time": "2021-11-07T21:35:34.724Z"
   },
   {
    "duration": 45,
    "start_time": "2021-11-07T21:35:34.772Z"
   },
   {
    "duration": 20,
    "start_time": "2021-11-07T21:35:34.824Z"
   },
   {
    "duration": 6,
    "start_time": "2021-11-07T21:35:34.867Z"
   },
   {
    "duration": 8181,
    "start_time": "2021-11-07T21:35:34.876Z"
   },
   {
    "duration": -64,
    "start_time": "2021-11-07T21:35:43.123Z"
   },
   {
    "duration": -66,
    "start_time": "2021-11-07T21:35:43.127Z"
   },
   {
    "duration": -69,
    "start_time": "2021-11-07T21:35:43.131Z"
   },
   {
    "duration": -71,
    "start_time": "2021-11-07T21:35:43.134Z"
   },
   {
    "duration": -108,
    "start_time": "2021-11-07T21:35:43.173Z"
   },
   {
    "duration": -110,
    "start_time": "2021-11-07T21:35:43.176Z"
   },
   {
    "duration": -112,
    "start_time": "2021-11-07T21:35:43.180Z"
   },
   {
    "duration": -116,
    "start_time": "2021-11-07T21:35:43.185Z"
   },
   {
    "duration": -123,
    "start_time": "2021-11-07T21:35:43.194Z"
   },
   {
    "duration": -125,
    "start_time": "2021-11-07T21:35:43.197Z"
   },
   {
    "duration": 8655,
    "start_time": "2021-11-07T21:36:35.476Z"
   },
   {
    "duration": 2696,
    "start_time": "2021-11-07T21:37:44.285Z"
   },
   {
    "duration": 21,
    "start_time": "2021-11-07T21:37:54.625Z"
   },
   {
    "duration": 2697,
    "start_time": "2021-11-07T21:38:12.065Z"
   },
   {
    "duration": 21,
    "start_time": "2021-11-07T21:38:15.915Z"
   },
   {
    "duration": 14,
    "start_time": "2021-11-07T21:38:24.265Z"
   },
   {
    "duration": 249,
    "start_time": "2021-11-07T21:42:01.026Z"
   },
   {
    "duration": 47,
    "start_time": "2021-11-07T21:42:28.486Z"
   },
   {
    "duration": 8,
    "start_time": "2021-11-07T21:42:40.695Z"
   },
   {
    "duration": 8,
    "start_time": "2021-11-07T21:42:44.525Z"
   },
   {
    "duration": 10,
    "start_time": "2021-11-07T21:43:43.815Z"
   },
   {
    "duration": 8,
    "start_time": "2021-11-07T21:43:49.615Z"
   },
   {
    "duration": 37,
    "start_time": "2021-11-07T21:44:34.805Z"
   },
   {
    "duration": 12,
    "start_time": "2021-11-07T21:44:55.025Z"
   },
   {
    "duration": 32,
    "start_time": "2021-11-07T21:45:06.175Z"
   },
   {
    "duration": 24,
    "start_time": "2021-11-07T21:47:00.855Z"
   },
   {
    "duration": 27,
    "start_time": "2021-11-07T21:48:01.924Z"
   },
   {
    "duration": 26,
    "start_time": "2021-11-07T21:48:28.195Z"
   },
   {
    "duration": 1980,
    "start_time": "2021-11-07T21:50:46.080Z"
   },
   {
    "duration": 109,
    "start_time": "2021-11-07T21:50:48.062Z"
   },
   {
    "duration": 8,
    "start_time": "2021-11-07T21:50:48.175Z"
   },
   {
    "duration": 23,
    "start_time": "2021-11-07T21:50:48.186Z"
   },
   {
    "duration": 128,
    "start_time": "2021-11-07T21:50:48.211Z"
   },
   {
    "duration": 27,
    "start_time": "2021-11-07T21:50:48.341Z"
   },
   {
    "duration": 26,
    "start_time": "2021-11-07T21:50:48.371Z"
   },
   {
    "duration": 24,
    "start_time": "2021-11-07T21:50:48.400Z"
   },
   {
    "duration": 5,
    "start_time": "2021-11-07T21:50:48.427Z"
   },
   {
    "duration": 37,
    "start_time": "2021-11-07T21:50:48.435Z"
   },
   {
    "duration": 31,
    "start_time": "2021-11-07T21:50:48.475Z"
   },
   {
    "duration": 6,
    "start_time": "2021-11-07T21:50:48.508Z"
   },
   {
    "duration": 1151,
    "start_time": "2021-11-07T21:50:48.516Z"
   },
   {
    "duration": 40,
    "start_time": "2021-11-07T21:50:49.669Z"
   },
   {
    "duration": 22,
    "start_time": "2021-11-07T21:50:49.712Z"
   },
   {
    "duration": 43,
    "start_time": "2021-11-07T21:50:49.736Z"
   },
   {
    "duration": 1191,
    "start_time": "2021-11-07T21:50:49.782Z"
   },
   {
    "duration": 24,
    "start_time": "2021-11-07T21:50:50.975Z"
   },
   {
    "duration": 244,
    "start_time": "2021-11-07T21:50:51.001Z"
   },
   {
    "duration": 1081,
    "start_time": "2021-11-07T21:50:51.248Z"
   },
   {
    "duration": 37,
    "start_time": "2021-11-07T21:50:52.331Z"
   },
   {
    "duration": 482,
    "start_time": "2021-11-07T21:50:52.371Z"
   },
   {
    "duration": 70,
    "start_time": "2021-11-07T21:50:52.855Z"
   },
   {
    "duration": 5,
    "start_time": "2021-11-07T21:50:52.927Z"
   },
   {
    "duration": 45,
    "start_time": "2021-11-07T21:50:52.934Z"
   },
   {
    "duration": 28,
    "start_time": "2021-11-07T21:50:52.981Z"
   },
   {
    "duration": 56,
    "start_time": "2021-11-07T21:50:53.014Z"
   },
   {
    "duration": 11,
    "start_time": "2021-11-07T21:50:53.073Z"
   },
   {
    "duration": 31,
    "start_time": "2021-11-07T21:50:53.086Z"
   },
   {
    "duration": 11,
    "start_time": "2021-11-07T21:50:53.119Z"
   },
   {
    "duration": 66,
    "start_time": "2021-11-07T21:50:53.132Z"
   },
   {
    "duration": 20,
    "start_time": "2021-11-07T21:50:53.200Z"
   },
   {
    "duration": 6,
    "start_time": "2021-11-07T21:50:53.223Z"
   },
   {
    "duration": 2771,
    "start_time": "2021-11-07T21:50:53.231Z"
   },
   {
    "duration": 21,
    "start_time": "2021-11-07T21:50:56.005Z"
   },
   {
    "duration": 13,
    "start_time": "2021-11-07T21:50:56.030Z"
   },
   {
    "duration": 278,
    "start_time": "2021-11-07T21:50:56.068Z"
   },
   {
    "duration": 58,
    "start_time": "2021-11-07T21:50:56.348Z"
   },
   {
    "duration": 7,
    "start_time": "2021-11-07T21:50:56.409Z"
   },
   {
    "duration": 9,
    "start_time": "2021-11-07T21:50:56.418Z"
   },
   {
    "duration": 64,
    "start_time": "2021-11-07T21:50:56.429Z"
   },
   {
    "duration": 12,
    "start_time": "2021-11-07T21:50:56.495Z"
   },
   {
    "duration": 38,
    "start_time": "2021-11-07T21:50:56.509Z"
   },
   {
    "duration": 25,
    "start_time": "2021-11-07T21:50:56.568Z"
   },
   {
    "duration": 27,
    "start_time": "2021-11-07T21:50:56.595Z"
   },
   {
    "duration": 63,
    "start_time": "2021-11-07T21:50:56.625Z"
   },
   {
    "duration": 1909,
    "start_time": "2021-11-07T21:58:40.048Z"
   },
   {
    "duration": 104,
    "start_time": "2021-11-07T21:58:41.961Z"
   },
   {
    "duration": 5,
    "start_time": "2021-11-07T21:58:42.069Z"
   },
   {
    "duration": 27,
    "start_time": "2021-11-07T21:58:42.077Z"
   },
   {
    "duration": 100,
    "start_time": "2021-11-07T21:58:42.107Z"
   },
   {
    "duration": 10,
    "start_time": "2021-11-07T21:58:42.209Z"
   },
   {
    "duration": 49,
    "start_time": "2021-11-07T21:58:42.221Z"
   },
   {
    "duration": 20,
    "start_time": "2021-11-07T21:58:42.272Z"
   },
   {
    "duration": 5,
    "start_time": "2021-11-07T21:58:42.296Z"
   },
   {
    "duration": 13,
    "start_time": "2021-11-07T21:58:42.304Z"
   },
   {
    "duration": 58,
    "start_time": "2021-11-07T21:58:42.319Z"
   },
   {
    "duration": 6,
    "start_time": "2021-11-07T21:58:42.379Z"
   },
   {
    "duration": 1081,
    "start_time": "2021-11-07T21:58:42.387Z"
   },
   {
    "duration": 42,
    "start_time": "2021-11-07T21:58:43.471Z"
   },
   {
    "duration": 25,
    "start_time": "2021-11-07T21:58:43.516Z"
   },
   {
    "duration": 36,
    "start_time": "2021-11-07T21:58:43.543Z"
   },
   {
    "duration": 1177,
    "start_time": "2021-11-07T21:58:43.581Z"
   },
   {
    "duration": 23,
    "start_time": "2021-11-07T21:58:44.767Z"
   },
   {
    "duration": 231,
    "start_time": "2021-11-07T21:58:44.792Z"
   },
   {
    "duration": 1076,
    "start_time": "2021-11-07T21:58:45.025Z"
   },
   {
    "duration": 16,
    "start_time": "2021-11-07T21:58:46.103Z"
   },
   {
    "duration": 497,
    "start_time": "2021-11-07T21:58:46.122Z"
   },
   {
    "duration": 80,
    "start_time": "2021-11-07T21:58:46.622Z"
   },
   {
    "duration": 4,
    "start_time": "2021-11-07T21:58:46.705Z"
   },
   {
    "duration": 30,
    "start_time": "2021-11-07T21:58:46.712Z"
   },
   {
    "duration": 32,
    "start_time": "2021-11-07T21:58:46.768Z"
   },
   {
    "duration": 60,
    "start_time": "2021-11-07T21:58:46.807Z"
   },
   {
    "duration": 12,
    "start_time": "2021-11-07T21:58:46.871Z"
   },
   {
    "duration": 28,
    "start_time": "2021-11-07T21:58:46.886Z"
   },
   {
    "duration": 12,
    "start_time": "2021-11-07T21:58:46.917Z"
   },
   {
    "duration": 41,
    "start_time": "2021-11-07T21:58:46.968Z"
   },
   {
    "duration": 22,
    "start_time": "2021-11-07T21:58:47.012Z"
   },
   {
    "duration": 35,
    "start_time": "2021-11-07T21:58:47.037Z"
   },
   {
    "duration": 2664,
    "start_time": "2021-11-07T21:58:47.075Z"
   },
   {
    "duration": 29,
    "start_time": "2021-11-07T21:58:49.742Z"
   },
   {
    "duration": 16,
    "start_time": "2021-11-07T21:58:49.774Z"
   },
   {
    "duration": 278,
    "start_time": "2021-11-07T21:58:49.793Z"
   },
   {
    "duration": 50,
    "start_time": "2021-11-07T21:58:50.074Z"
   },
   {
    "duration": 40,
    "start_time": "2021-11-07T21:58:50.127Z"
   },
   {
    "duration": 10,
    "start_time": "2021-11-07T21:58:50.170Z"
   },
   {
    "duration": 36,
    "start_time": "2021-11-07T21:58:50.183Z"
   },
   {
    "duration": 11,
    "start_time": "2021-11-07T21:58:50.221Z"
   },
   {
    "duration": 63,
    "start_time": "2021-11-07T21:58:50.234Z"
   },
   {
    "duration": 24,
    "start_time": "2021-11-07T21:58:50.300Z"
   },
   {
    "duration": 55,
    "start_time": "2021-11-07T21:58:50.326Z"
   },
   {
    "duration": 32,
    "start_time": "2021-11-07T21:58:50.383Z"
   },
   {
    "duration": 1998,
    "start_time": "2021-11-08T08:07:04.997Z"
   },
   {
    "duration": 104,
    "start_time": "2021-11-08T08:07:06.997Z"
   },
   {
    "duration": 6,
    "start_time": "2021-11-08T08:07:07.104Z"
   },
   {
    "duration": 24,
    "start_time": "2021-11-08T08:07:07.112Z"
   },
   {
    "duration": 108,
    "start_time": "2021-11-08T08:07:07.139Z"
   },
   {
    "duration": 10,
    "start_time": "2021-11-08T08:07:07.249Z"
   },
   {
    "duration": 49,
    "start_time": "2021-11-08T08:07:07.261Z"
   },
   {
    "duration": 17,
    "start_time": "2021-11-08T08:07:07.313Z"
   },
   {
    "duration": 5,
    "start_time": "2021-11-08T08:07:07.336Z"
   },
   {
    "duration": 9,
    "start_time": "2021-11-08T08:07:07.345Z"
   },
   {
    "duration": 70,
    "start_time": "2021-11-08T08:07:07.357Z"
   },
   {
    "duration": 6,
    "start_time": "2021-11-08T08:07:07.429Z"
   },
   {
    "duration": 1098,
    "start_time": "2021-11-08T08:07:07.437Z"
   },
   {
    "duration": 38,
    "start_time": "2021-11-08T08:07:08.538Z"
   },
   {
    "duration": 39,
    "start_time": "2021-11-08T08:07:08.578Z"
   },
   {
    "duration": 13,
    "start_time": "2021-11-08T08:07:08.619Z"
   },
   {
    "duration": 1154,
    "start_time": "2021-11-08T08:07:08.634Z"
   },
   {
    "duration": 28,
    "start_time": "2021-11-08T08:07:09.791Z"
   },
   {
    "duration": 219,
    "start_time": "2021-11-08T08:07:09.821Z"
   },
   {
    "duration": 1069,
    "start_time": "2021-11-08T08:07:10.043Z"
   },
   {
    "duration": 16,
    "start_time": "2021-11-08T08:07:11.114Z"
   },
   {
    "duration": 712,
    "start_time": "2021-11-08T08:07:11.134Z"
   },
   {
    "duration": 120,
    "start_time": "2021-11-08T08:07:11.850Z"
   },
   {
    "duration": 6,
    "start_time": "2021-11-08T08:07:11.974Z"
   },
   {
    "duration": 62,
    "start_time": "2021-11-08T08:07:11.983Z"
   },
   {
    "duration": 64,
    "start_time": "2021-11-08T08:07:12.049Z"
   },
   {
    "duration": 45,
    "start_time": "2021-11-08T08:07:12.123Z"
   },
   {
    "duration": 33,
    "start_time": "2021-11-08T08:07:12.172Z"
   },
   {
    "duration": 46,
    "start_time": "2021-11-08T08:07:12.209Z"
   },
   {
    "duration": 18,
    "start_time": "2021-11-08T08:07:12.258Z"
   },
   {
    "duration": 65,
    "start_time": "2021-11-08T08:07:12.302Z"
   },
   {
    "duration": 50,
    "start_time": "2021-11-08T08:07:12.371Z"
   },
   {
    "duration": 8,
    "start_time": "2021-11-08T08:07:12.425Z"
   },
   {
    "duration": 5636,
    "start_time": "2021-11-08T08:07:12.436Z"
   },
   {
    "duration": 42,
    "start_time": "2021-11-08T08:07:18.076Z"
   },
   {
    "duration": 20,
    "start_time": "2021-11-08T08:07:18.122Z"
   },
   {
    "duration": 439,
    "start_time": "2021-11-08T08:07:18.146Z"
   },
   {
    "duration": 86,
    "start_time": "2021-11-08T08:07:18.589Z"
   },
   {
    "duration": 23,
    "start_time": "2021-11-08T08:07:18.679Z"
   },
   {
    "duration": 13,
    "start_time": "2021-11-08T08:07:18.706Z"
   },
   {
    "duration": 80,
    "start_time": "2021-11-08T08:07:18.722Z"
   },
   {
    "duration": 18,
    "start_time": "2021-11-08T08:07:18.806Z"
   },
   {
    "duration": 77,
    "start_time": "2021-11-08T08:07:18.828Z"
   },
   {
    "duration": 31,
    "start_time": "2021-11-08T08:07:18.908Z"
   },
   {
    "duration": 25,
    "start_time": "2021-11-08T08:07:18.941Z"
   },
   {
    "duration": 60,
    "start_time": "2021-11-08T08:07:18.968Z"
   },
   {
    "duration": 389,
    "start_time": "2021-11-08T08:08:03.307Z"
   }
  ],
  "kernelspec": {
   "display_name": "Python 3",
   "language": "python",
   "name": "python3"
  },
  "language_info": {
   "codemirror_mode": {
    "name": "ipython",
    "version": 3
   },
   "file_extension": ".py",
   "mimetype": "text/x-python",
   "name": "python",
   "nbconvert_exporter": "python",
   "pygments_lexer": "ipython3",
   "version": "3.7.10"
  },
  "toc": {
   "base_numbering": 1,
   "nav_menu": {},
   "number_sections": true,
   "sideBar": true,
   "skip_h1_title": true,
   "title_cell": "Table of Contents",
   "title_sidebar": "Contents",
   "toc_cell": false,
   "toc_position": {
    "height": "calc(100% - 180px)",
    "left": "10px",
    "top": "150px",
    "width": "165px"
   },
   "toc_section_display": true,
   "toc_window_display": true
  }
 },
 "nbformat": 4,
 "nbformat_minor": 2
}
