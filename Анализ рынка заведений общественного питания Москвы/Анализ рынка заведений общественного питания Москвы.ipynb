{
 "cells": [
  {
   "cell_type": "markdown",
   "metadata": {},
   "source": [
    "# Анализ рынка заведений общественного питания Москвы\n",
    "\n",
    "- Вместе с партнерами мы решили открыть небольшое кафе в Москве. Для этого мы решили обратиться к инвесторам. Их интересует, сможет ли наше заведение быть популярным долгое время и стоит ли им вкладывать в наш проект свои деньги. \n",
    "- Задача:\n",
    "  - Для этого мне нужно подготовить анализ рынка заведений общественного питания Москвы.\n",
    "\n",
    "- У меня есть открытые данные о заведениях общественного питания в Москве.\n",
    "  - Описание данных:\n",
    "\n",
    "    - Таблица rest_data:\n",
    "    - id — идентификатор объекта;\n",
    "    - object_name — название объекта общественного питания;\n",
    "    - chain — сетевой ресторан;\n",
    "    - object_type — тип объекта общественного питания;\n",
    "    - address — адрес;\n",
    "    - number — количество посадочных мест.\n",
    "\n",
    "Рекомендации:\n",
    "- Вид заведения - Кафе(около 60% рынка)\n",
    "- Количество посадочных мест - 20-50\n",
    "- Район расположения - Я рекомендовал бы рассмотреть районы ближе к центру, через которые проходят центральные улицы Москвы.\n",
    "- Развитие сети возможно либо в близи крупных торговых и бизнес центров или в новых районах москвы где меньше конкуренция.\n"
   ]
  },
  {
   "cell_type": "markdown",
   "metadata": {},
   "source": [
    "## Загрузка данных и подготовка их к анализу"
   ]
  },
  {
   "cell_type": "code",
   "execution_count": 1,
   "metadata": {},
   "outputs": [],
   "source": [
    "import pandas as pd\n",
    "import matplotlib.pyplot as plt\n",
    "import numpy as np \n",
    "import seaborn as sns\n",
    "from plotly.subplots import make_subplots\n",
    "from io import BytesIO\n",
    "import requests"
   ]
  },
  {
   "cell_type": "code",
   "execution_count": 2,
   "metadata": {
    "scrolled": true
   },
   "outputs": [],
   "source": [
    "rest_data = pd.read_csv('/datasets/rest_data.csv')"
   ]
  },
  {
   "cell_type": "code",
   "execution_count": 3,
   "metadata": {},
   "outputs": [],
   "source": [
    "def df_info(data):\n",
    "    data\n",
    "    print('Общая информация')\n",
    "    print('-'*40)\n",
    "    print(data.info())\n",
    "    print('-'*40)\n",
    "    print('Статистика датафрейма')\n",
    "    print('-'*40)\n",
    "    print(data.describe())\n",
    "    print('-'*40)\n",
    "    print('Наличие дубликатов')\n",
    "    print(data.duplicated().sum())\n",
    "    print('-'*40)\n",
    "    print('Наличие пропусков')\n",
    "    print('-'*40)\n",
    "    print(data.isna().sum())"
   ]
  },
  {
   "cell_type": "code",
   "execution_count": 4,
   "metadata": {},
   "outputs": [
    {
     "data": {
      "text/html": [
       "<div>\n",
       "<style scoped>\n",
       "    .dataframe tbody tr th:only-of-type {\n",
       "        vertical-align: middle;\n",
       "    }\n",
       "\n",
       "    .dataframe tbody tr th {\n",
       "        vertical-align: top;\n",
       "    }\n",
       "\n",
       "    .dataframe thead th {\n",
       "        text-align: right;\n",
       "    }\n",
       "</style>\n",
       "<table border=\"1\" class=\"dataframe\">\n",
       "  <thead>\n",
       "    <tr style=\"text-align: right;\">\n",
       "      <th></th>\n",
       "      <th>id</th>\n",
       "      <th>object_name</th>\n",
       "      <th>chain</th>\n",
       "      <th>object_type</th>\n",
       "      <th>address</th>\n",
       "      <th>number</th>\n",
       "    </tr>\n",
       "  </thead>\n",
       "  <tbody>\n",
       "    <tr>\n",
       "      <td>0</td>\n",
       "      <td>151635</td>\n",
       "      <td>СМЕТАНА</td>\n",
       "      <td>нет</td>\n",
       "      <td>кафе</td>\n",
       "      <td>город Москва, улица Егора Абакумова, дом 9</td>\n",
       "      <td>48</td>\n",
       "    </tr>\n",
       "    <tr>\n",
       "      <td>1</td>\n",
       "      <td>77874</td>\n",
       "      <td>Родник</td>\n",
       "      <td>нет</td>\n",
       "      <td>кафе</td>\n",
       "      <td>город Москва, улица Талалихина, дом 2/1, корпус 1</td>\n",
       "      <td>35</td>\n",
       "    </tr>\n",
       "    <tr>\n",
       "      <td>2</td>\n",
       "      <td>24309</td>\n",
       "      <td>Кафе «Академия»</td>\n",
       "      <td>нет</td>\n",
       "      <td>кафе</td>\n",
       "      <td>город Москва, Абельмановская улица, дом 6</td>\n",
       "      <td>95</td>\n",
       "    </tr>\n",
       "    <tr>\n",
       "      <td>3</td>\n",
       "      <td>21894</td>\n",
       "      <td>ПИЦЦЕТОРИЯ</td>\n",
       "      <td>да</td>\n",
       "      <td>кафе</td>\n",
       "      <td>город Москва, Абрамцевская улица, дом 1</td>\n",
       "      <td>40</td>\n",
       "    </tr>\n",
       "    <tr>\n",
       "      <td>4</td>\n",
       "      <td>119365</td>\n",
       "      <td>Кафе «Вишневая метель»</td>\n",
       "      <td>нет</td>\n",
       "      <td>кафе</td>\n",
       "      <td>город Москва, Абрамцевская улица, дом 9, корпус 1</td>\n",
       "      <td>50</td>\n",
       "    </tr>\n",
       "  </tbody>\n",
       "</table>\n",
       "</div>"
      ],
      "text/plain": [
       "       id             object_name chain object_type  \\\n",
       "0  151635                 СМЕТАНА   нет        кафе   \n",
       "1   77874                  Родник   нет        кафе   \n",
       "2   24309         Кафе «Академия»   нет        кафе   \n",
       "3   21894              ПИЦЦЕТОРИЯ    да        кафе   \n",
       "4  119365  Кафе «Вишневая метель»   нет        кафе   \n",
       "\n",
       "                                             address  number  \n",
       "0         город Москва, улица Егора Абакумова, дом 9      48  \n",
       "1  город Москва, улица Талалихина, дом 2/1, корпус 1      35  \n",
       "2          город Москва, Абельмановская улица, дом 6      95  \n",
       "3            город Москва, Абрамцевская улица, дом 1      40  \n",
       "4  город Москва, Абрамцевская улица, дом 9, корпус 1      50  "
      ]
     },
     "execution_count": 4,
     "metadata": {},
     "output_type": "execute_result"
    }
   ],
   "source": [
    "rest_data.head()"
   ]
  },
  {
   "cell_type": "code",
   "execution_count": 5,
   "metadata": {
    "scrolled": false
   },
   "outputs": [
    {
     "name": "stdout",
     "output_type": "stream",
     "text": [
      "Общая информация\n",
      "----------------------------------------\n",
      "<class 'pandas.core.frame.DataFrame'>\n",
      "RangeIndex: 15366 entries, 0 to 15365\n",
      "Data columns (total 6 columns):\n",
      "id             15366 non-null int64\n",
      "object_name    15366 non-null object\n",
      "chain          15366 non-null object\n",
      "object_type    15366 non-null object\n",
      "address        15366 non-null object\n",
      "number         15366 non-null int64\n",
      "dtypes: int64(2), object(4)\n",
      "memory usage: 720.4+ KB\n",
      "None\n",
      "----------------------------------------\n",
      "Статистика датафрейма\n",
      "----------------------------------------\n",
      "                  id        number\n",
      "count   15366.000000  15366.000000\n",
      "mean   119720.066901     59.547182\n",
      "std     73036.130732     74.736833\n",
      "min       838.000000      0.000000\n",
      "25%     28524.000000     12.000000\n",
      "50%    144974.500000     40.000000\n",
      "75%    184262.250000     80.000000\n",
      "max    223439.000000   1700.000000\n",
      "----------------------------------------\n",
      "Наличие дубликатов\n",
      "0\n",
      "----------------------------------------\n",
      "Наличие пропусков\n",
      "----------------------------------------\n",
      "id             0\n",
      "object_name    0\n",
      "chain          0\n",
      "object_type    0\n",
      "address        0\n",
      "number         0\n",
      "dtype: int64\n"
     ]
    }
   ],
   "source": [
    "df_info(rest_data)"
   ]
  },
  {
   "cell_type": "code",
   "execution_count": 6,
   "metadata": {},
   "outputs": [
    {
     "data": {
      "text/plain": [
       "225"
      ]
     },
     "execution_count": 6,
     "metadata": {},
     "output_type": "execute_result"
    }
   ],
   "source": [
    "rest_data['object_name'] = rest_data['object_name'].str.lower()\n",
    "rest_data.duplicated(subset=['object_name', 'address']).sum()"
   ]
  },
  {
   "cell_type": "code",
   "execution_count": 7,
   "metadata": {},
   "outputs": [],
   "source": [
    "rest_data = rest_data.drop_duplicates(subset=['object_name', 'address'])"
   ]
  },
  {
   "cell_type": "markdown",
   "metadata": {},
   "source": [
    "### Комментарий\n",
    "- Тип данных в каждой колонке — правильный.\n",
    "- Приведем столбцы к нижнему регистру\n",
    "- Проверим на дубликаты методом duplicated() способом subset, нашлось 225 дубликатов, возможно из за ошибки в заполнении данных некоторые названия заведени и их адреса продублировались\n",
    "- Удалим дубликаты методом drop_duplicates()"
   ]
  },
  {
   "cell_type": "markdown",
   "metadata": {},
   "source": [
    "## Анализ данных"
   ]
  },
  {
   "cell_type": "markdown",
   "metadata": {},
   "source": [
    "**Проанализируем соотношение видов объектов общественного питания по количеству**"
   ]
  },
  {
   "cell_type": "code",
   "execution_count": 8,
   "metadata": {},
   "outputs": [
    {
     "data": {
      "image/png": "[encoded data removed]",
      "text/plain": [
       "<Figure size 720x432 with 1 Axes>"
      ]
     },
     "metadata": {
      "needs_background": "light"
     },
     "output_type": "display_data"
    }
   ],
   "source": [
    "rest_data.groupby('object_type')['id'].count().sort_values().plot(kind='barh',figsize=(10,6))\n",
    "plt.style.use('seaborn')\n",
    "plt.title('Cоотношение видов объектов общественного питания по количеству')\n",
    "plt.xlabel('Количество')\n",
    "plt.ylabel('Тип объекта общественного питания')\n",
    "plt.show()"
   ]
  },
  {
   "cell_type": "markdown",
   "metadata": {},
   "source": [
    "### Комментарий\n",
    "- На графике видно, что больше всего в Москве кафе,столовых и ресторанов. "
   ]
  },
  {
   "cell_type": "markdown",
   "metadata": {},
   "source": [
    "**Проанализируем соотношение сетевых и несетевых заведений по количеству**"
   ]
  },
  {
   "cell_type": "code",
   "execution_count": 9,
   "metadata": {},
   "outputs": [
    {
     "data": {
      "image/png": "[encoded data removed]",
      "text/plain": [
       "<Figure size 288x432 with 1 Axes>"
      ]
     },
     "metadata": {},
     "output_type": "display_data"
    }
   ],
   "source": [
    "rest_data.groupby('chain')['id'].count().sort_values().plot(kind='bar',figsize=(4,6))\n",
    "plt.style.use('seaborn')\n",
    "plt.xticks(rotation='horizontal')\n",
    "plt.title('Cоотношение сетевых и несетевых заведений по количеству')\n",
    "plt.xlabel('Сетевой да/нет')\n",
    "plt.ylabel('Количество')\n",
    "plt.show()"
   ]
  },
  {
   "cell_type": "markdown",
   "metadata": {},
   "source": [
    "### Комментарий\n",
    "- На графику видно, что с большим отрывом преобладают не сетевые заведения."
   ]
  },
  {
   "cell_type": "markdown",
   "metadata": {},
   "source": [
    "**Посмотрим для какого вида объекта общественного питания характерно сетевое распространение**"
   ]
  },
  {
   "cell_type": "code",
   "execution_count": 10,
   "metadata": {},
   "outputs": [],
   "source": [
    "rest_data_pivot = rest_data.pivot_table(index='object_type',columns='chain',values='id',aggfunc='count').reset_index()\n",
    "rest_data_pivot['share'] = rest_data_pivot['да']/(rest_data_pivot['да'] + rest_data_pivot['нет'])*100"
   ]
  },
  {
   "cell_type": "code",
   "execution_count": 11,
   "metadata": {},
   "outputs": [
    {
     "data": {
      "image/png": "[encoded data removed]",
      "text/plain": [
       "<Figure size 1080x432 with 1 Axes>"
      ]
     },
     "metadata": {},
     "output_type": "display_data"
    }
   ],
   "source": [
    "plt.figure(figsize=(15, 6))\n",
    "sns.set_style(\"darkgrid\")\n",
    "barplot = sns.barplot(data=rest_data_pivot.sort_values(by='share',ascending=False), x='share', y='object_type',color='blue')\n",
    "barplot.set_title('Распределение доли сетевых заведений', fontweight=\"bold\")\n",
    "barplot.set_xlabel('Доля сетевых заведений в %')\n",
    "barplot.set_ylabel('Тип заведения')\n",
    "plt.show()"
   ]
  },
  {
   "cell_type": "markdown",
   "metadata": {},
   "source": [
    "### Комментарий\n",
    "- На графике видно, что для предприятий быстрого обслуживания(более 40%) характерно сетевое распространение."
   ]
  },
  {
   "cell_type": "markdown",
   "metadata": {},
   "source": [
    "**Проверим что характерно для сетевых заведений: много заведений с небольшим числом посадочных мест в каждом или мало заведений с большим количеством посадочных мест**"
   ]
  },
  {
   "cell_type": "code",
   "execution_count": 12,
   "metadata": {},
   "outputs": [],
   "source": [
    "rest_count_seat = rest_data.query('chain == \"да\"').groupby('object_name').agg({'id':'count', 'number':'mean'})"
   ]
  },
  {
   "cell_type": "code",
   "execution_count": 13,
   "metadata": {},
   "outputs": [
    {
     "data": {
      "image/png": "[encoded data removed]",
      "text/plain": [
       "<Figure size 864x360 with 3 Axes>"
      ]
     },
     "metadata": {},
     "output_type": "display_data"
    }
   ],
   "source": [
    "scatter = sns.jointplot(data=rest_count_seat, x='id', y='number')\n",
    "scatter.fig.set_figwidth(12)\n",
    "scatter.fig.set_figheight(5)\n",
    "scatter.fig.suptitle(\"Распределение количества заведений и посадочных мест\")\n",
    "scatter.fig.subplots_adjust(top=0.90)\n",
    "scatter.ax_joint.set_ylabel('Количество посадочных мест')\n",
    "scatter.ax_joint.set_xlabel('Количество заведений в сети')\n",
    "plt.show()"
   ]
  },
  {
   "cell_type": "markdown",
   "metadata": {},
   "source": [
    "### Комментарий\n",
    "- Для сетевых характерно не большое количество заведений(до 10) с небольшим числом посадочных мест(до 50)"
   ]
  },
  {
   "cell_type": "markdown",
   "metadata": {},
   "source": [
    "**Посмотрим на среднее количество посадочных мест для каждого вида объекта общественного питания**"
   ]
  },
  {
   "cell_type": "code",
   "execution_count": 14,
   "metadata": {},
   "outputs": [],
   "source": [
    "rest_data_mean = rest_data.groupby('object_type')['number'].mean().sort_values(ascending=False).reset_index()"
   ]
  },
  {
   "cell_type": "code",
   "execution_count": 15,
   "metadata": {},
   "outputs": [
    {
     "data": {
      "image/png": "[encoded data removed]",
      "text/plain": [
       "<Figure size 1080x432 with 1 Axes>"
      ]
     },
     "metadata": {},
     "output_type": "display_data"
    }
   ],
   "source": [
    "plt.figure(figsize=(15, 6))\n",
    "sns.set_style('darkgrid')\n",
    "barplot = sns.barplot(data=rest_data_mean, x='number', y='object_type',color='blue')\n",
    "barplot.set_title('Среднее количество посадочных мест для каждого вида объекта общественного питания')\n",
    "barplot.set_xlabel('Среднее количество посадочных мест')\n",
    "barplot.set_ylabel('Виды объектов общественного питания')\n",
    "plt.show()"
   ]
  },
  {
   "cell_type": "markdown",
   "metadata": {},
   "source": [
    "### Комментарий\n",
    "- В среднем наибольшее число посадочных мест в столовых и ресторанах."
   ]
  },
  {
   "cell_type": "markdown",
   "metadata": {},
   "source": [
    "**Выделим в отдельный столбец информацию об улице из столбца address**"
   ]
  },
  {
   "cell_type": "code",
   "execution_count": 16,
   "metadata": {},
   "outputs": [
    {
     "data": {
      "text/html": [
       "<div>\n",
       "<style scoped>\n",
       "    .dataframe tbody tr th:only-of-type {\n",
       "        vertical-align: middle;\n",
       "    }\n",
       "\n",
       "    .dataframe tbody tr th {\n",
       "        vertical-align: top;\n",
       "    }\n",
       "\n",
       "    .dataframe thead th {\n",
       "        text-align: right;\n",
       "    }\n",
       "</style>\n",
       "<table border=\"1\" class=\"dataframe\">\n",
       "  <thead>\n",
       "    <tr style=\"text-align: right;\">\n",
       "      <th></th>\n",
       "      <th>id</th>\n",
       "      <th>object_name</th>\n",
       "      <th>chain</th>\n",
       "      <th>object_type</th>\n",
       "      <th>address</th>\n",
       "      <th>number</th>\n",
       "      <th>street</th>\n",
       "    </tr>\n",
       "  </thead>\n",
       "  <tbody>\n",
       "    <tr>\n",
       "      <td>0</td>\n",
       "      <td>151635</td>\n",
       "      <td>сметана</td>\n",
       "      <td>нет</td>\n",
       "      <td>кафе</td>\n",
       "      <td>город Москва, улица Егора Абакумова, дом 9</td>\n",
       "      <td>48</td>\n",
       "      <td>улица Егора Абакумова</td>\n",
       "    </tr>\n",
       "    <tr>\n",
       "      <td>1</td>\n",
       "      <td>77874</td>\n",
       "      <td>родник</td>\n",
       "      <td>нет</td>\n",
       "      <td>кафе</td>\n",
       "      <td>город Москва, улица Талалихина, дом 2/1, корпус 1</td>\n",
       "      <td>35</td>\n",
       "      <td>улица Талалихина</td>\n",
       "    </tr>\n",
       "    <tr>\n",
       "      <td>2</td>\n",
       "      <td>24309</td>\n",
       "      <td>кафе «академия»</td>\n",
       "      <td>нет</td>\n",
       "      <td>кафе</td>\n",
       "      <td>город Москва, Абельмановская улица, дом 6</td>\n",
       "      <td>95</td>\n",
       "      <td>Абельмановская улица</td>\n",
       "    </tr>\n",
       "    <tr>\n",
       "      <td>3</td>\n",
       "      <td>21894</td>\n",
       "      <td>пиццетория</td>\n",
       "      <td>да</td>\n",
       "      <td>кафе</td>\n",
       "      <td>город Москва, Абрамцевская улица, дом 1</td>\n",
       "      <td>40</td>\n",
       "      <td>Абрамцевская улица</td>\n",
       "    </tr>\n",
       "    <tr>\n",
       "      <td>4</td>\n",
       "      <td>119365</td>\n",
       "      <td>кафе «вишневая метель»</td>\n",
       "      <td>нет</td>\n",
       "      <td>кафе</td>\n",
       "      <td>город Москва, Абрамцевская улица, дом 9, корпус 1</td>\n",
       "      <td>50</td>\n",
       "      <td>Абрамцевская улица</td>\n",
       "    </tr>\n",
       "  </tbody>\n",
       "</table>\n",
       "</div>"
      ],
      "text/plain": [
       "       id             object_name chain object_type  \\\n",
       "0  151635                 сметана   нет        кафе   \n",
       "1   77874                  родник   нет        кафе   \n",
       "2   24309         кафе «академия»   нет        кафе   \n",
       "3   21894              пиццетория    да        кафе   \n",
       "4  119365  кафе «вишневая метель»   нет        кафе   \n",
       "\n",
       "                                             address  number  \\\n",
       "0         город Москва, улица Егора Абакумова, дом 9      48   \n",
       "1  город Москва, улица Талалихина, дом 2/1, корпус 1      35   \n",
       "2          город Москва, Абельмановская улица, дом 6      95   \n",
       "3            город Москва, Абрамцевская улица, дом 1      40   \n",
       "4  город Москва, Абрамцевская улица, дом 9, корпус 1      50   \n",
       "\n",
       "                  street  \n",
       "0  улица Егора Абакумова  \n",
       "1       улица Талалихина  \n",
       "2   Абельмановская улица  \n",
       "3     Абрамцевская улица  \n",
       "4     Абрамцевская улица  "
      ]
     },
     "execution_count": 16,
     "metadata": {},
     "output_type": "execute_result"
    }
   ],
   "source": [
    "words = ['улица','ул','переулок','шоссе','проспект','площадь','проезд',\n",
    "         'село','аллея','бульвар','набережная','тупик','линия','квартал']\n",
    "\n",
    "str_pat = r\".*,\\s*\\b([^,]*?(?:{})\\b[^,]*)[,$]+\".format(\"|\".join(words))\n",
    "\n",
    "rest_data[\"street\"] = rest_data[\"address\"].str.extract(str_pat)\n",
    "rest_data.head()"
   ]
  },
  {
   "cell_type": "markdown",
   "metadata": {},
   "source": [
    "**Построим график топ-10 улиц по количеству объектов общественного питания**"
   ]
  },
  {
   "cell_type": "code",
   "execution_count": 17,
   "metadata": {},
   "outputs": [
    {
     "data": {
      "text/html": [
       "<div>\n",
       "<style scoped>\n",
       "    .dataframe tbody tr th:only-of-type {\n",
       "        vertical-align: middle;\n",
       "    }\n",
       "\n",
       "    .dataframe tbody tr th {\n",
       "        vertical-align: top;\n",
       "    }\n",
       "\n",
       "    .dataframe thead th {\n",
       "        text-align: right;\n",
       "    }\n",
       "</style>\n",
       "<table border=\"1\" class=\"dataframe\">\n",
       "  <thead>\n",
       "    <tr style=\"text-align: right;\">\n",
       "      <th></th>\n",
       "      <th>street</th>\n",
       "      <th>count_object</th>\n",
       "    </tr>\n",
       "  </thead>\n",
       "  <tbody>\n",
       "    <tr>\n",
       "      <td>0</td>\n",
       "      <td>проспект Мира</td>\n",
       "      <td>196</td>\n",
       "    </tr>\n",
       "    <tr>\n",
       "      <td>1</td>\n",
       "      <td>Профсоюзная улица</td>\n",
       "      <td>179</td>\n",
       "    </tr>\n",
       "    <tr>\n",
       "      <td>2</td>\n",
       "      <td>Ленинградский проспект</td>\n",
       "      <td>169</td>\n",
       "    </tr>\n",
       "    <tr>\n",
       "      <td>3</td>\n",
       "      <td>Пресненская набережная</td>\n",
       "      <td>165</td>\n",
       "    </tr>\n",
       "    <tr>\n",
       "      <td>4</td>\n",
       "      <td>Варшавское шоссе</td>\n",
       "      <td>162</td>\n",
       "    </tr>\n",
       "    <tr>\n",
       "      <td>5</td>\n",
       "      <td>Ленинский проспект</td>\n",
       "      <td>147</td>\n",
       "    </tr>\n",
       "    <tr>\n",
       "      <td>6</td>\n",
       "      <td>проспект Вернадского</td>\n",
       "      <td>126</td>\n",
       "    </tr>\n",
       "    <tr>\n",
       "      <td>7</td>\n",
       "      <td>Кутузовский проспект</td>\n",
       "      <td>112</td>\n",
       "    </tr>\n",
       "    <tr>\n",
       "      <td>8</td>\n",
       "      <td>Каширское шоссе</td>\n",
       "      <td>110</td>\n",
       "    </tr>\n",
       "    <tr>\n",
       "      <td>9</td>\n",
       "      <td>Кировоградская улица</td>\n",
       "      <td>106</td>\n",
       "    </tr>\n",
       "  </tbody>\n",
       "</table>\n",
       "</div>"
      ],
      "text/plain": [
       "                   street  count_object\n",
       "0           проспект Мира           196\n",
       "1       Профсоюзная улица           179\n",
       "2  Ленинградский проспект           169\n",
       "3  Пресненская набережная           165\n",
       "4        Варшавское шоссе           162\n",
       "5      Ленинский проспект           147\n",
       "6    проспект Вернадского           126\n",
       "7    Кутузовский проспект           112\n",
       "8         Каширское шоссе           110\n",
       "9    Кировоградская улица           106"
      ]
     },
     "execution_count": 17,
     "metadata": {},
     "output_type": "execute_result"
    }
   ],
   "source": [
    "top_street = rest_data.groupby('street')['id'].count().sort_values(ascending=False).head(10).reset_index()\n",
    "top_street = top_street.rename(columns={'id':'count_object'})\n",
    "top_street"
   ]
  },
  {
   "cell_type": "code",
   "execution_count": 18,
   "metadata": {},
   "outputs": [
    {
     "data": {
      "image/png": "[encoded data removed]",
      "text/plain": [
       "<Figure size 864x360 with 1 Axes>"
      ]
     },
     "metadata": {},
     "output_type": "display_data"
    }
   ],
   "source": [
    "plt.figure(figsize=(12, 5))\n",
    "sns.set_style('darkgrid')\n",
    "barplot = sns.barplot(data=top_street, x='count_object', y='street',color='blue')\n",
    "barplot.set_title('Топ-10 улиц по количеству объектов общественного питания')\n",
    "barplot.set_xlabel('Количество заведений')\n",
    "barplot.set_ylabel('Улица')\n",
    "plt.show()"
   ]
  },
  {
   "cell_type": "code",
   "execution_count": 19,
   "metadata": {},
   "outputs": [],
   "source": [
    "rest_data = rest_data[rest_data['street'].isnull() == False]"
   ]
  },
  {
   "cell_type": "markdown",
   "metadata": {},
   "source": [
    "### Комментарий\n",
    "- Выделим в отдельный столбец информацию об улице из столбца address. В отбор не вошли менее 3% адресов в которых не было указано название улиц, отфильтруем их для дальнейшего анализа.\n",
    "- Построим график топ-10 улиц по количеству объектов общественного питания.\n",
    "- В лидерах проспект Мира и Профсоюзная улица."
   ]
  },
  {
   "cell_type": "markdown",
   "metadata": {},
   "source": [
    "**Воспользуемся источником внешней информацией**"
   ]
  },
  {
   "cell_type": "code",
   "execution_count": 20,
   "metadata": {},
   "outputs": [
    {
     "data": {
      "text/html": [
       "<div>\n",
       "<style scoped>\n",
       "    .dataframe tbody tr th:only-of-type {\n",
       "        vertical-align: middle;\n",
       "    }\n",
       "\n",
       "    .dataframe tbody tr th {\n",
       "        vertical-align: top;\n",
       "    }\n",
       "\n",
       "    .dataframe thead th {\n",
       "        text-align: right;\n",
       "    }\n",
       "</style>\n",
       "<table border=\"1\" class=\"dataframe\">\n",
       "  <thead>\n",
       "    <tr style=\"text-align: right;\">\n",
       "      <th></th>\n",
       "      <th>street</th>\n",
       "      <th>area</th>\n",
       "    </tr>\n",
       "  </thead>\n",
       "  <tbody>\n",
       "    <tr>\n",
       "      <td>0</td>\n",
       "      <td>Выставочный переулок</td>\n",
       "      <td>Пресненский район</td>\n",
       "    </tr>\n",
       "    <tr>\n",
       "      <td>1</td>\n",
       "      <td>улица Гашека</td>\n",
       "      <td>Пресненский район</td>\n",
       "    </tr>\n",
       "    <tr>\n",
       "      <td>2</td>\n",
       "      <td>Большая Никитская улица</td>\n",
       "      <td>Пресненский район</td>\n",
       "    </tr>\n",
       "    <tr>\n",
       "      <td>3</td>\n",
       "      <td>Глубокий переулок</td>\n",
       "      <td>Пресненский район</td>\n",
       "    </tr>\n",
       "    <tr>\n",
       "      <td>4</td>\n",
       "      <td>Большой Гнездниковский переулок</td>\n",
       "      <td>Пресненский район</td>\n",
       "    </tr>\n",
       "    <tr>\n",
       "      <td>...</td>\n",
       "      <td>...</td>\n",
       "      <td>...</td>\n",
       "    </tr>\n",
       "    <tr>\n",
       "      <td>4393</td>\n",
       "      <td>Вознесенский проезд</td>\n",
       "      <td>Пресненский район</td>\n",
       "    </tr>\n",
       "    <tr>\n",
       "      <td>4394</td>\n",
       "      <td>Волков переулок</td>\n",
       "      <td>Пресненский район</td>\n",
       "    </tr>\n",
       "    <tr>\n",
       "      <td>4395</td>\n",
       "      <td>Поварская улица</td>\n",
       "      <td>Пресненский район</td>\n",
       "    </tr>\n",
       "    <tr>\n",
       "      <td>4396</td>\n",
       "      <td>Кудринская площадь</td>\n",
       "      <td>Пресненский район</td>\n",
       "    </tr>\n",
       "    <tr>\n",
       "      <td>4397</td>\n",
       "      <td>Вспольный переулок</td>\n",
       "      <td>Пресненский район</td>\n",
       "    </tr>\n",
       "  </tbody>\n",
       "</table>\n",
       "<p>4398 rows × 2 columns</p>\n",
       "</div>"
      ],
      "text/plain": [
       "                               street               area\n",
       "0                Выставочный переулок  Пресненский район\n",
       "1                        улица Гашека  Пресненский район\n",
       "2             Большая Никитская улица  Пресненский район\n",
       "3                   Глубокий переулок  Пресненский район\n",
       "4     Большой Гнездниковский переулок  Пресненский район\n",
       "...                               ...                ...\n",
       "4393              Вознесенский проезд  Пресненский район\n",
       "4394                  Волков переулок  Пресненский район\n",
       "4395                  Поварская улица  Пресненский район\n",
       "4396               Кудринская площадь  Пресненский район\n",
       "4397               Вспольный переулок  Пресненский район\n",
       "\n",
       "[4398 rows x 2 columns]"
      ]
     },
     "execution_count": 20,
     "metadata": {},
     "output_type": "execute_result"
    }
   ],
   "source": [
    "spreadsheet_id = '1ItWcu2lO3aB6InVGRXx-HwSCMcfkeOVtXM6d4KO3iPk'\n",
    "file_name = 'https://docs.google.com/spreadsheets/d/{}/export?format=csv'.format(spreadsheet_id)\n",
    "r = requests.get(file_name)\n",
    "moskow_street = pd.read_csv(BytesIO(r.content))\n",
    "moskow_street = moskow_street[['streetname', 'area']]\n",
    "moskow_street = moskow_street.rename(columns={'streetname':'street'})\n",
    "moskow_street"
   ]
  },
  {
   "cell_type": "markdown",
   "metadata": {},
   "source": [
    "### Комментарий\n",
    "- Для опеределния райнов, в которых находятся улицы, нужно воспользоваться внешней информацией. Из открытых данных воспльзуемся таблицей moskow_street, оставим в ней только столбца с названием улиц и районов."
   ]
  },
  {
   "cell_type": "code",
   "execution_count": 21,
   "metadata": {},
   "outputs": [
    {
     "data": {
      "text/html": [
       "<div>\n",
       "<style scoped>\n",
       "    .dataframe tbody tr th:only-of-type {\n",
       "        vertical-align: middle;\n",
       "    }\n",
       "\n",
       "    .dataframe tbody tr th {\n",
       "        vertical-align: top;\n",
       "    }\n",
       "\n",
       "    .dataframe thead th {\n",
       "        text-align: right;\n",
       "    }\n",
       "</style>\n",
       "<table border=\"1\" class=\"dataframe\">\n",
       "  <thead>\n",
       "    <tr style=\"text-align: right;\">\n",
       "      <th></th>\n",
       "      <th>street</th>\n",
       "      <th>count_object</th>\n",
       "      <th>area</th>\n",
       "    </tr>\n",
       "  </thead>\n",
       "  <tbody>\n",
       "    <tr>\n",
       "      <td>0</td>\n",
       "      <td>проспект Мира</td>\n",
       "      <td>196</td>\n",
       "      <td>Алексеевский район</td>\n",
       "    </tr>\n",
       "    <tr>\n",
       "      <td>1</td>\n",
       "      <td>проспект Мира</td>\n",
       "      <td>196</td>\n",
       "      <td>Ярославский Район</td>\n",
       "    </tr>\n",
       "    <tr>\n",
       "      <td>2</td>\n",
       "      <td>проспект Мира</td>\n",
       "      <td>196</td>\n",
       "      <td>Район Марьина роща</td>\n",
       "    </tr>\n",
       "    <tr>\n",
       "      <td>3</td>\n",
       "      <td>проспект Мира</td>\n",
       "      <td>196</td>\n",
       "      <td>Останкинский район</td>\n",
       "    </tr>\n",
       "    <tr>\n",
       "      <td>4</td>\n",
       "      <td>проспект Мира</td>\n",
       "      <td>196</td>\n",
       "      <td>Район Ростокино</td>\n",
       "    </tr>\n",
       "    <tr>\n",
       "      <td>5</td>\n",
       "      <td>проспект Мира</td>\n",
       "      <td>196</td>\n",
       "      <td>Район Свиблово</td>\n",
       "    </tr>\n",
       "    <tr>\n",
       "      <td>6</td>\n",
       "      <td>проспект Мира</td>\n",
       "      <td>196</td>\n",
       "      <td>Мещанский район</td>\n",
       "    </tr>\n",
       "    <tr>\n",
       "      <td>7</td>\n",
       "      <td>Профсоюзная улица</td>\n",
       "      <td>179</td>\n",
       "      <td>Академический район</td>\n",
       "    </tr>\n",
       "    <tr>\n",
       "      <td>8</td>\n",
       "      <td>Профсоюзная улица</td>\n",
       "      <td>179</td>\n",
       "      <td>Район Черемушки</td>\n",
       "    </tr>\n",
       "    <tr>\n",
       "      <td>9</td>\n",
       "      <td>Профсоюзная улица</td>\n",
       "      <td>179</td>\n",
       "      <td>Район Ясенево</td>\n",
       "    </tr>\n",
       "    <tr>\n",
       "      <td>10</td>\n",
       "      <td>Профсоюзная улица</td>\n",
       "      <td>179</td>\n",
       "      <td>Район Коньково</td>\n",
       "    </tr>\n",
       "    <tr>\n",
       "      <td>11</td>\n",
       "      <td>Профсоюзная улица</td>\n",
       "      <td>179</td>\n",
       "      <td>Обручевский район</td>\n",
       "    </tr>\n",
       "    <tr>\n",
       "      <td>12</td>\n",
       "      <td>Профсоюзная улица</td>\n",
       "      <td>179</td>\n",
       "      <td>Район Теплый Стан</td>\n",
       "    </tr>\n",
       "    <tr>\n",
       "      <td>13</td>\n",
       "      <td>Ленинградский проспект</td>\n",
       "      <td>169</td>\n",
       "      <td>Район Аэропорт</td>\n",
       "    </tr>\n",
       "    <tr>\n",
       "      <td>14</td>\n",
       "      <td>Ленинградский проспект</td>\n",
       "      <td>169</td>\n",
       "      <td>Район Беговой</td>\n",
       "    </tr>\n",
       "    <tr>\n",
       "      <td>15</td>\n",
       "      <td>Ленинградский проспект</td>\n",
       "      <td>169</td>\n",
       "      <td>Хорошевский район</td>\n",
       "    </tr>\n",
       "    <tr>\n",
       "      <td>16</td>\n",
       "      <td>Ленинградский проспект</td>\n",
       "      <td>169</td>\n",
       "      <td>Район Сокол</td>\n",
       "    </tr>\n",
       "    <tr>\n",
       "      <td>17</td>\n",
       "      <td>Пресненская набережная</td>\n",
       "      <td>165</td>\n",
       "      <td>Пресненский район</td>\n",
       "    </tr>\n",
       "    <tr>\n",
       "      <td>18</td>\n",
       "      <td>Варшавское шоссе</td>\n",
       "      <td>162</td>\n",
       "      <td>Район Чертаново Центральное</td>\n",
       "    </tr>\n",
       "    <tr>\n",
       "      <td>19</td>\n",
       "      <td>Варшавское шоссе</td>\n",
       "      <td>162</td>\n",
       "      <td>Район Чертаново Северное</td>\n",
       "    </tr>\n",
       "    <tr>\n",
       "      <td>20</td>\n",
       "      <td>Варшавское шоссе</td>\n",
       "      <td>162</td>\n",
       "      <td>Район Чертаново Южное</td>\n",
       "    </tr>\n",
       "    <tr>\n",
       "      <td>21</td>\n",
       "      <td>Варшавское шоссе</td>\n",
       "      <td>162</td>\n",
       "      <td>Донской район</td>\n",
       "    </tr>\n",
       "    <tr>\n",
       "      <td>22</td>\n",
       "      <td>Варшавское шоссе</td>\n",
       "      <td>162</td>\n",
       "      <td>Район Нагатино-Садовники</td>\n",
       "    </tr>\n",
       "    <tr>\n",
       "      <td>23</td>\n",
       "      <td>Варшавское шоссе</td>\n",
       "      <td>162</td>\n",
       "      <td>Нагорный район</td>\n",
       "    </tr>\n",
       "    <tr>\n",
       "      <td>24</td>\n",
       "      <td>Варшавское шоссе</td>\n",
       "      <td>162</td>\n",
       "      <td>Район Северное Бутово</td>\n",
       "    </tr>\n",
       "    <tr>\n",
       "      <td>25</td>\n",
       "      <td>Варшавское шоссе</td>\n",
       "      <td>162</td>\n",
       "      <td>Район Южное Бутово</td>\n",
       "    </tr>\n",
       "    <tr>\n",
       "      <td>26</td>\n",
       "      <td>Ленинский проспект</td>\n",
       "      <td>147</td>\n",
       "      <td>Район Проспект Вернадского</td>\n",
       "    </tr>\n",
       "    <tr>\n",
       "      <td>27</td>\n",
       "      <td>Ленинский проспект</td>\n",
       "      <td>147</td>\n",
       "      <td>Район Тропарево-Никулино</td>\n",
       "    </tr>\n",
       "    <tr>\n",
       "      <td>28</td>\n",
       "      <td>Ленинский проспект</td>\n",
       "      <td>147</td>\n",
       "      <td>Донской район</td>\n",
       "    </tr>\n",
       "    <tr>\n",
       "      <td>29</td>\n",
       "      <td>Ленинский проспект</td>\n",
       "      <td>147</td>\n",
       "      <td>Район Гагаринский</td>\n",
       "    </tr>\n",
       "    <tr>\n",
       "      <td>30</td>\n",
       "      <td>Ленинский проспект</td>\n",
       "      <td>147</td>\n",
       "      <td>Ломоносовский район</td>\n",
       "    </tr>\n",
       "    <tr>\n",
       "      <td>31</td>\n",
       "      <td>Ленинский проспект</td>\n",
       "      <td>147</td>\n",
       "      <td>Обручевский район</td>\n",
       "    </tr>\n",
       "    <tr>\n",
       "      <td>32</td>\n",
       "      <td>Ленинский проспект</td>\n",
       "      <td>147</td>\n",
       "      <td>Район Теплый Стан</td>\n",
       "    </tr>\n",
       "    <tr>\n",
       "      <td>33</td>\n",
       "      <td>Ленинский проспект</td>\n",
       "      <td>147</td>\n",
       "      <td>Район Якиманка</td>\n",
       "    </tr>\n",
       "    <tr>\n",
       "      <td>34</td>\n",
       "      <td>проспект Вернадского</td>\n",
       "      <td>126</td>\n",
       "      <td>Район Проспект Вернадского</td>\n",
       "    </tr>\n",
       "    <tr>\n",
       "      <td>35</td>\n",
       "      <td>проспект Вернадского</td>\n",
       "      <td>126</td>\n",
       "      <td>Район Раменки</td>\n",
       "    </tr>\n",
       "    <tr>\n",
       "      <td>36</td>\n",
       "      <td>проспект Вернадского</td>\n",
       "      <td>126</td>\n",
       "      <td>Район Тропарево-Никулино</td>\n",
       "    </tr>\n",
       "    <tr>\n",
       "      <td>37</td>\n",
       "      <td>проспект Вернадского</td>\n",
       "      <td>126</td>\n",
       "      <td>Район Гагаринский</td>\n",
       "    </tr>\n",
       "    <tr>\n",
       "      <td>38</td>\n",
       "      <td>проспект Вернадского</td>\n",
       "      <td>126</td>\n",
       "      <td>Ломоносовский район</td>\n",
       "    </tr>\n",
       "    <tr>\n",
       "      <td>39</td>\n",
       "      <td>Кутузовский проспект</td>\n",
       "      <td>112</td>\n",
       "      <td>Район Дорогомилово</td>\n",
       "    </tr>\n",
       "    <tr>\n",
       "      <td>40</td>\n",
       "      <td>Кутузовский проспект</td>\n",
       "      <td>112</td>\n",
       "      <td>Район Фили-Давыдково</td>\n",
       "    </tr>\n",
       "    <tr>\n",
       "      <td>41</td>\n",
       "      <td>Каширское шоссе</td>\n",
       "      <td>110</td>\n",
       "      <td>Район Москворечье-Сабурово</td>\n",
       "    </tr>\n",
       "    <tr>\n",
       "      <td>42</td>\n",
       "      <td>Каширское шоссе</td>\n",
       "      <td>110</td>\n",
       "      <td>Район Нагатино-Садовники</td>\n",
       "    </tr>\n",
       "    <tr>\n",
       "      <td>43</td>\n",
       "      <td>Каширское шоссе</td>\n",
       "      <td>110</td>\n",
       "      <td>Район Орехово-Борисово Южное</td>\n",
       "    </tr>\n",
       "    <tr>\n",
       "      <td>44</td>\n",
       "      <td>Каширское шоссе</td>\n",
       "      <td>110</td>\n",
       "      <td>Район Орехово-Борисово Северное</td>\n",
       "    </tr>\n",
       "    <tr>\n",
       "      <td>45</td>\n",
       "      <td>Кировоградская улица</td>\n",
       "      <td>106</td>\n",
       "      <td>Район Чертаново Центральное</td>\n",
       "    </tr>\n",
       "    <tr>\n",
       "      <td>46</td>\n",
       "      <td>Кировоградская улица</td>\n",
       "      <td>106</td>\n",
       "      <td>Район Чертаново Северное</td>\n",
       "    </tr>\n",
       "    <tr>\n",
       "      <td>47</td>\n",
       "      <td>Кировоградская улица</td>\n",
       "      <td>106</td>\n",
       "      <td>Район Чертаново Южное</td>\n",
       "    </tr>\n",
       "  </tbody>\n",
       "</table>\n",
       "</div>"
      ],
      "text/plain": [
       "                    street  count_object                             area\n",
       "0            проспект Мира           196               Алексеевский район\n",
       "1            проспект Мира           196                Ярославский Район\n",
       "2            проспект Мира           196               Район Марьина роща\n",
       "3            проспект Мира           196               Останкинский район\n",
       "4            проспект Мира           196                  Район Ростокино\n",
       "5            проспект Мира           196                   Район Свиблово\n",
       "6            проспект Мира           196                  Мещанский район\n",
       "7        Профсоюзная улица           179              Академический район\n",
       "8        Профсоюзная улица           179                  Район Черемушки\n",
       "9        Профсоюзная улица           179                    Район Ясенево\n",
       "10       Профсоюзная улица           179                   Район Коньково\n",
       "11       Профсоюзная улица           179                Обручевский район\n",
       "12       Профсоюзная улица           179                Район Теплый Стан\n",
       "13  Ленинградский проспект           169                   Район Аэропорт\n",
       "14  Ленинградский проспект           169                    Район Беговой\n",
       "15  Ленинградский проспект           169                Хорошевский район\n",
       "16  Ленинградский проспект           169                      Район Сокол\n",
       "17  Пресненская набережная           165                Пресненский район\n",
       "18        Варшавское шоссе           162      Район Чертаново Центральное\n",
       "19        Варшавское шоссе           162         Район Чертаново Северное\n",
       "20        Варшавское шоссе           162            Район Чертаново Южное\n",
       "21        Варшавское шоссе           162                    Донской район\n",
       "22        Варшавское шоссе           162         Район Нагатино-Садовники\n",
       "23        Варшавское шоссе           162                   Нагорный район\n",
       "24        Варшавское шоссе           162            Район Северное Бутово\n",
       "25        Варшавское шоссе           162               Район Южное Бутово\n",
       "26      Ленинский проспект           147       Район Проспект Вернадского\n",
       "27      Ленинский проспект           147         Район Тропарево-Никулино\n",
       "28      Ленинский проспект           147                    Донской район\n",
       "29      Ленинский проспект           147                Район Гагаринский\n",
       "30      Ленинский проспект           147              Ломоносовский район\n",
       "31      Ленинский проспект           147                Обручевский район\n",
       "32      Ленинский проспект           147                Район Теплый Стан\n",
       "33      Ленинский проспект           147                   Район Якиманка\n",
       "34    проспект Вернадского           126       Район Проспект Вернадского\n",
       "35    проспект Вернадского           126                    Район Раменки\n",
       "36    проспект Вернадского           126         Район Тропарево-Никулино\n",
       "37    проспект Вернадского           126                Район Гагаринский\n",
       "38    проспект Вернадского           126              Ломоносовский район\n",
       "39    Кутузовский проспект           112               Район Дорогомилово\n",
       "40    Кутузовский проспект           112             Район Фили-Давыдково\n",
       "41         Каширское шоссе           110       Район Москворечье-Сабурово\n",
       "42         Каширское шоссе           110         Район Нагатино-Садовники\n",
       "43         Каширское шоссе           110     Район Орехово-Борисово Южное\n",
       "44         Каширское шоссе           110  Район Орехово-Борисово Северное\n",
       "45    Кировоградская улица           106      Район Чертаново Центральное\n",
       "46    Кировоградская улица           106         Район Чертаново Северное\n",
       "47    Кировоградская улица           106            Район Чертаново Южное"
      ]
     },
     "execution_count": 21,
     "metadata": {},
     "output_type": "execute_result"
    }
   ],
   "source": [
    "top_street_area = top_street.merge(moskow_street, how='left', on='street')\n",
    "top_street_area"
   ]
  },
  {
   "cell_type": "markdown",
   "metadata": {},
   "source": [
    "### Комментарий\n",
    "- Топовый улицы по количеству заведений довольно протяженные и охватывают все районы Москва которые можно посмотреть в таблице выше."
   ]
  },
  {
   "cell_type": "markdown",
   "metadata": {},
   "source": [
    "**Найдем число улиц с одним объектом общественного питания**"
   ]
  },
  {
   "cell_type": "code",
   "execution_count": 22,
   "metadata": {},
   "outputs": [
    {
     "data": {
      "text/html": [
       "<div>\n",
       "<style scoped>\n",
       "    .dataframe tbody tr th:only-of-type {\n",
       "        vertical-align: middle;\n",
       "    }\n",
       "\n",
       "    .dataframe tbody tr th {\n",
       "        vertical-align: top;\n",
       "    }\n",
       "\n",
       "    .dataframe thead th {\n",
       "        text-align: right;\n",
       "    }\n",
       "</style>\n",
       "<table border=\"1\" class=\"dataframe\">\n",
       "  <thead>\n",
       "    <tr style=\"text-align: right;\">\n",
       "      <th></th>\n",
       "      <th>street</th>\n",
       "      <th>count_object</th>\n",
       "    </tr>\n",
       "  </thead>\n",
       "  <tbody>\n",
       "    <tr>\n",
       "      <td>2</td>\n",
       "      <td>1-й Балтийский переулок</td>\n",
       "      <td>1</td>\n",
       "    </tr>\n",
       "    <tr>\n",
       "      <td>3</td>\n",
       "      <td>1-й Басманный переулок</td>\n",
       "      <td>1</td>\n",
       "    </tr>\n",
       "    <tr>\n",
       "      <td>4</td>\n",
       "      <td>1-й Ботанический проезд</td>\n",
       "      <td>1</td>\n",
       "    </tr>\n",
       "    <tr>\n",
       "      <td>7</td>\n",
       "      <td>1-й Вешняковский проезд</td>\n",
       "      <td>1</td>\n",
       "    </tr>\n",
       "    <tr>\n",
       "      <td>9</td>\n",
       "      <td>1-й Голутвинский переулок</td>\n",
       "      <td>1</td>\n",
       "    </tr>\n",
       "    <tr>\n",
       "      <td>...</td>\n",
       "      <td>...</td>\n",
       "      <td>...</td>\n",
       "    </tr>\n",
       "    <tr>\n",
       "      <td>1889</td>\n",
       "      <td>улица Шумилова</td>\n",
       "      <td>1</td>\n",
       "    </tr>\n",
       "    <tr>\n",
       "      <td>1890</td>\n",
       "      <td>улица Шумкина</td>\n",
       "      <td>1</td>\n",
       "    </tr>\n",
       "    <tr>\n",
       "      <td>1894</td>\n",
       "      <td>улица Щорса</td>\n",
       "      <td>1</td>\n",
       "    </tr>\n",
       "    <tr>\n",
       "      <td>1895</td>\n",
       "      <td>улица Энгельса</td>\n",
       "      <td>1</td>\n",
       "    </tr>\n",
       "    <tr>\n",
       "      <td>1900</td>\n",
       "      <td>шоссе Фрезер</td>\n",
       "      <td>1</td>\n",
       "    </tr>\n",
       "  </tbody>\n",
       "</table>\n",
       "<p>554 rows × 2 columns</p>\n",
       "</div>"
      ],
      "text/plain": [
       "                         street  count_object\n",
       "2       1-й Балтийский переулок             1\n",
       "3        1-й Басманный переулок             1\n",
       "4       1-й Ботанический проезд             1\n",
       "7       1-й Вешняковский проезд             1\n",
       "9     1-й Голутвинский переулок             1\n",
       "...                         ...           ...\n",
       "1889             улица Шумилова             1\n",
       "1890              улица Шумкина             1\n",
       "1894                улица Щорса             1\n",
       "1895             улица Энгельса             1\n",
       "1900               шоссе Фрезер             1\n",
       "\n",
       "[554 rows x 2 columns]"
      ]
     },
     "execution_count": 22,
     "metadata": {},
     "output_type": "execute_result"
    }
   ],
   "source": [
    "rest_data_one = rest_data.groupby('street')['id'].count().reset_index()\n",
    "rest_data_one = rest_data_one.rename(columns={'id':'count_object'})\n",
    "rest_data_one = rest_data_one.query('count_object == 1')\n",
    "rest_data_one"
   ]
  },
  {
   "cell_type": "markdown",
   "metadata": {},
   "source": [
    "### Комментарий\n",
    "- Количество улиц с одним заведением 553"
   ]
  },
  {
   "cell_type": "code",
   "execution_count": 23,
   "metadata": {},
   "outputs": [],
   "source": [
    "rest_data_one = rest_data_one.merge(moskow_street, how='inner', on='street')"
   ]
  },
  {
   "cell_type": "code",
   "execution_count": 24,
   "metadata": {},
   "outputs": [
    {
     "data": {
      "text/html": [
       "<div>\n",
       "<style scoped>\n",
       "    .dataframe tbody tr th:only-of-type {\n",
       "        vertical-align: middle;\n",
       "    }\n",
       "\n",
       "    .dataframe tbody tr th {\n",
       "        vertical-align: top;\n",
       "    }\n",
       "\n",
       "    .dataframe thead th {\n",
       "        text-align: right;\n",
       "    }\n",
       "</style>\n",
       "<table border=\"1\" class=\"dataframe\">\n",
       "  <thead>\n",
       "    <tr style=\"text-align: right;\">\n",
       "      <th></th>\n",
       "      <th>area</th>\n",
       "      <th>street</th>\n",
       "    </tr>\n",
       "  </thead>\n",
       "  <tbody>\n",
       "    <tr>\n",
       "      <td>0</td>\n",
       "      <td>Таганский район</td>\n",
       "      <td>27</td>\n",
       "    </tr>\n",
       "    <tr>\n",
       "      <td>1</td>\n",
       "      <td>Басманный район</td>\n",
       "      <td>26</td>\n",
       "    </tr>\n",
       "    <tr>\n",
       "      <td>2</td>\n",
       "      <td>Район Хамовники</td>\n",
       "      <td>26</td>\n",
       "    </tr>\n",
       "    <tr>\n",
       "      <td>3</td>\n",
       "      <td>Тверской район</td>\n",
       "      <td>20</td>\n",
       "    </tr>\n",
       "    <tr>\n",
       "      <td>4</td>\n",
       "      <td>Пресненский район</td>\n",
       "      <td>19</td>\n",
       "    </tr>\n",
       "    <tr>\n",
       "      <td>...</td>\n",
       "      <td>...</td>\n",
       "      <td>...</td>\n",
       "    </tr>\n",
       "    <tr>\n",
       "      <td>95</td>\n",
       "      <td>Район Строгино</td>\n",
       "      <td>1</td>\n",
       "    </tr>\n",
       "    <tr>\n",
       "      <td>96</td>\n",
       "      <td>Район Марфино</td>\n",
       "      <td>1</td>\n",
       "    </tr>\n",
       "    <tr>\n",
       "      <td>97</td>\n",
       "      <td>Район Марьино</td>\n",
       "      <td>1</td>\n",
       "    </tr>\n",
       "    <tr>\n",
       "      <td>98</td>\n",
       "      <td>Район Чертаново Южное</td>\n",
       "      <td>1</td>\n",
       "    </tr>\n",
       "    <tr>\n",
       "      <td>99</td>\n",
       "      <td>Район Ивановское</td>\n",
       "      <td>1</td>\n",
       "    </tr>\n",
       "  </tbody>\n",
       "</table>\n",
       "<p>100 rows × 2 columns</p>\n",
       "</div>"
      ],
      "text/plain": [
       "                     area  street\n",
       "0         Таганский район      27\n",
       "1         Басманный район      26\n",
       "2         Район Хамовники      26\n",
       "3          Тверской район      20\n",
       "4       Пресненский район      19\n",
       "..                    ...     ...\n",
       "95         Район Строгино       1\n",
       "96          Район Марфино       1\n",
       "97          Район Марьино       1\n",
       "98  Район Чертаново Южное       1\n",
       "99       Район Ивановское       1\n",
       "\n",
       "[100 rows x 2 columns]"
      ]
     },
     "execution_count": 24,
     "metadata": {},
     "output_type": "execute_result"
    }
   ],
   "source": [
    "rest_data_one = rest_data_one.groupby('area')['street'].count().sort_values(ascending=False).reset_index()\n",
    "rest_data_one"
   ]
  },
  {
   "cell_type": "code",
   "execution_count": 25,
   "metadata": {},
   "outputs": [
    {
     "data": {
      "image/png": "[encoded data removed]",
      "text/plain": [
       "<Figure size 1080x432 with 1 Axes>"
      ]
     },
     "metadata": {},
     "output_type": "display_data"
    }
   ],
   "source": [
    "plt.figure(figsize=(15, 6))\n",
    "sns.set_style(\"darkgrid\")\n",
    "barplot = sns.barplot(data=rest_data_one.head(10), x='street', y='area',color='blue')\n",
    "barplot.set_title('Топ-10 районов с улицами, где находится один объект общественного питания', fontweight=\"bold\")\n",
    "barplot.set_xlabel('Количество улиц с одним объектов общественного питания')\n",
    "barplot.set_ylabel('Районы')\n",
    "plt.show()"
   ]
  },
  {
   "cell_type": "markdown",
   "metadata": {},
   "source": [
    "### Комментарий\n",
    "- В лидерах по районам Таганский,Хамовники и Басманный.Предположительно, это короткие переулки или проезды на которых не может поместиться много заведений."
   ]
  },
  {
   "cell_type": "markdown",
   "metadata": {},
   "source": [
    "**Посмотрим на распределение количества посадочных мест для улиц с большим количеством объектов общественного питания**"
   ]
  },
  {
   "cell_type": "code",
   "execution_count": 26,
   "metadata": {},
   "outputs": [],
   "source": [
    "top_street_number = top_street.merge(rest_data,how='left',on='street')"
   ]
  },
  {
   "cell_type": "code",
   "execution_count": 27,
   "metadata": {
    "scrolled": false
   },
   "outputs": [
    {
     "data": {
      "image/png": "[encoded data removed]",
      "text/plain": [
       "<Figure size 1152x720 with 1 Axes>"
      ]
     },
     "metadata": {},
     "output_type": "display_data"
    }
   ],
   "source": [
    "plt.figure(figsize=(16, 10))\n",
    "sns.set_style(\"darkgrid\")\n",
    "barplot = sns.boxplot(y='street', x='number',data=top_street_number,color='white')\n",
    "barplot.set_title('Распределение количества посадочных мест для улиц с большим количеством объектов общественного питания')\n",
    "barplot.set_xlabel('Количество посадочных мест')\n",
    "barplot.set_ylabel('Улицы')\n",
    "plt.show()"
   ]
  },
  {
   "cell_type": "code",
   "execution_count": 28,
   "metadata": {},
   "outputs": [
    {
     "data": {
      "image/png": "[encoded data removed]",
      "text/plain": [
       "<Figure size 1152x720 with 1 Axes>"
      ]
     },
     "metadata": {},
     "output_type": "display_data"
    }
   ],
   "source": [
    "plt.figure(figsize=(16, 10))\n",
    "sns.set_style(\"darkgrid\")\n",
    "barplot = sns.boxplot(y='street', x='number',data=top_street_number.query('number<250'),color='white')\n",
    "barplot.set_title('Распределение количества посадочных мест для улиц с большим количеством объектов общественного питания')\n",
    "barplot.set_xlabel('Количество посадочных мест')\n",
    "barplot.set_ylabel('Улицы')\n",
    "plt.show()"
   ]
  },
  {
   "cell_type": "markdown",
   "metadata": {},
   "source": [
    "### Комментарий\n",
    "- Количество посадочных мест на улицах с большим количеством объектов общественного питания не превышает 250, в основном распределяется в районе 20-50 посадочных мест."
   ]
  },
  {
   "cell_type": "markdown",
   "metadata": {},
   "source": [
    "## Общий вывод\n",
    "- Вывод:\n",
    "  - На этапе предабработки данных, нашлись 225 дубликатов, возможно из за ошибки в заполнении данных некоторые названия заведени и их адреса продублировались. \n",
    "  - Из типов объектов общественного питания, больше всего в Москве, кафе,столовых и ресторанов.\n",
    "  - С большим отрывом преобладают не сетевые заведения, около 80%.\n",
    "  - Для предприятий быстрого обслуживания(более 40%) характерно сетевое распространение.\n",
    "  - Для сетевых характерно не большое количество заведений(до 10) с небольшим числом посадочных мест(до 50)\n",
    "  - В среднем наибольшее число посадочных мест в столовых(128) и ресторанах(98)\n",
    "  - В среднем наибольшеее число посадочных мест в столовых и ресторанах.\n",
    "  - Улицы, на которых расположено много объектов общественного питания, в основной массе - центральные и довольно протяженные.\n",
    "  - Топ-10 улиц по количеству объектов общественного питания:\n",
    "    - проспект Мира(196)\t\n",
    "    - Профсоюзная улица(179)\n",
    "    - Ленинградский проспект(169)\n",
    "    - Пресненская набережная(165)\n",
    "    - Варшавское шоссе(162)\n",
    "    - Ленинский проспект(147)\n",
    "    - проспект Вернадского(126)\n",
    "    - Кутузовский проспект(112)\n",
    "    - Каширское шоссе(110)\n",
    "    - Кировоградская улица(106)\t\n",
    "  - Кол-во улиц с одним объектом общественного питания: 553. Основные районы Таганский,Хамовники и Басманный.\n",
    "- Рекомендации:\n",
    "  - Вид заведения - Кафе(около 60% рынка)\n",
    "  - Количество посадочных мест - 20-50\n",
    "  - Район расположения - Я рекомендовал бы рассмотреть районы ближе к центру, через которые проходят центральные улицы Москвы.\n",
    "  - Развитие сети возможно либо в близи крупных торговых и бизнес центров или в новых районах москвы где меньше конкуренция."
   ]
  },
  {
   "cell_type": "markdown",
   "metadata": {},
   "source": [
    "### Презентация:\n",
    "https://drive.google.com/file/d/1nstnvAzep6dEUK-bzkO1yU5yvSVqY1c6/view?usp=sharing"
   ]
  }
 ],
 "metadata": {
  "ExecuteTimeLog": [
   {
    "duration": 2076,
    "start_time": "2021-09-02T08:55:54.652Z"
   },
   {
    "duration": 6653,
    "start_time": "2021-09-02T08:56:12.683Z"
   },
   {
    "duration": 449,
    "start_time": "2021-09-02T08:56:51.693Z"
   },
   {
    "duration": 16,
    "start_time": "2021-09-02T08:57:09.813Z"
   },
   {
    "duration": 17918,
    "start_time": "2021-09-02T08:58:48.593Z"
   },
   {
    "duration": 388,
    "start_time": "2021-09-02T08:59:40.873Z"
   },
   {
    "duration": 11,
    "start_time": "2021-09-02T08:59:42.633Z"
   },
   {
    "duration": 544,
    "start_time": "2021-09-02T09:12:04.144Z"
   },
   {
    "duration": 10,
    "start_time": "2021-09-02T09:12:08.714Z"
   },
   {
    "duration": 18998,
    "start_time": "2021-09-02T09:14:03.284Z"
   },
   {
    "duration": 640,
    "start_time": "2021-09-02T09:15:10.454Z"
   },
   {
    "duration": 10,
    "start_time": "2021-09-02T09:15:12.894Z"
   },
   {
    "duration": 1716,
    "start_time": "2021-09-02T10:39:20.104Z"
   },
   {
    "duration": 467,
    "start_time": "2021-09-02T10:39:21.822Z"
   },
   {
    "duration": -49,
    "start_time": "2021-09-02T10:39:22.341Z"
   },
   {
    "duration": -50,
    "start_time": "2021-09-02T10:39:22.343Z"
   },
   {
    "duration": -50,
    "start_time": "2021-09-02T10:39:22.345Z"
   },
   {
    "duration": -50,
    "start_time": "2021-09-02T10:39:22.347Z"
   },
   {
    "duration": 353,
    "start_time": "2021-09-02T10:39:46.385Z"
   },
   {
    "duration": 344,
    "start_time": "2021-09-02T10:39:50.204Z"
   },
   {
    "duration": 422,
    "start_time": "2021-09-02T10:39:51.625Z"
   },
   {
    "duration": 308,
    "start_time": "2021-09-02T10:40:00.135Z"
   },
   {
    "duration": 631,
    "start_time": "2021-09-02T10:40:00.675Z"
   },
   {
    "duration": 4,
    "start_time": "2021-09-02T10:40:58.335Z"
   },
   {
    "duration": 316,
    "start_time": "2021-09-02T10:40:58.875Z"
   },
   {
    "duration": 4,
    "start_time": "2021-09-02T10:41:21.105Z"
   },
   {
    "duration": 354,
    "start_time": "2021-09-02T10:41:21.112Z"
   },
   {
    "duration": 291,
    "start_time": "2021-09-02T10:47:41.595Z"
   },
   {
    "duration": 1940,
    "start_time": "2021-09-02T10:48:59.555Z"
   },
   {
    "duration": 384,
    "start_time": "2021-09-02T10:52:10.395Z"
   },
   {
    "duration": 6,
    "start_time": "2021-09-02T10:52:14.155Z"
   },
   {
    "duration": 360,
    "start_time": "2021-09-02T10:52:14.826Z"
   },
   {
    "duration": 2087,
    "start_time": "2021-09-02T10:53:55.535Z"
   },
   {
    "duration": 1862,
    "start_time": "2021-09-02T10:54:42.365Z"
   },
   {
    "duration": 4,
    "start_time": "2021-09-02T10:54:46.435Z"
   },
   {
    "duration": 2024,
    "start_time": "2021-09-02T10:54:47.195Z"
   },
   {
    "duration": 628,
    "start_time": "2021-09-02T10:57:30.336Z"
   },
   {
    "duration": 1868,
    "start_time": "2021-09-02T10:58:30.746Z"
   },
   {
    "duration": 98,
    "start_time": "2021-09-02T11:00:23.275Z"
   },
   {
    "duration": 292,
    "start_time": "2021-09-02T11:00:27.976Z"
   },
   {
    "duration": 2041,
    "start_time": "2021-09-02T17:51:40.509Z"
   },
   {
    "duration": 177,
    "start_time": "2021-09-02T17:51:42.552Z"
   },
   {
    "duration": 1434,
    "start_time": "2021-09-02T18:18:00.770Z"
   },
   {
    "duration": 1998,
    "start_time": "2021-09-06T08:26:39.163Z"
   },
   {
    "duration": 2824,
    "start_time": "2021-09-06T08:27:02.435Z"
   },
   {
    "duration": 57,
    "start_time": "2021-09-06T08:27:38.043Z"
   },
   {
    "duration": 5,
    "start_time": "2021-09-06T08:27:55.133Z"
   },
   {
    "duration": 17,
    "start_time": "2021-09-06T08:28:12.813Z"
   },
   {
    "duration": 53,
    "start_time": "2021-09-06T08:28:31.123Z"
   },
   {
    "duration": 360,
    "start_time": "2021-09-06T08:29:51.593Z"
   },
   {
    "duration": 349,
    "start_time": "2021-09-06T08:30:16.672Z"
   },
   {
    "duration": 222,
    "start_time": "2021-09-06T08:31:16.743Z"
   },
   {
    "duration": 417,
    "start_time": "2021-09-06T08:32:00.623Z"
   },
   {
    "duration": 393,
    "start_time": "2021-09-06T08:33:06.443Z"
   },
   {
    "duration": 14,
    "start_time": "2021-09-06T08:33:32.313Z"
   },
   {
    "duration": 1578,
    "start_time": "2021-09-06T08:33:33.273Z"
   },
   {
    "duration": 10,
    "start_time": "2021-09-06T08:34:29.733Z"
   },
   {
    "duration": 764,
    "start_time": "2021-09-06T08:34:49.383Z"
   },
   {
    "duration": 116,
    "start_time": "2021-09-06T08:35:56.573Z"
   },
   {
    "duration": 100,
    "start_time": "2021-09-06T08:36:08.384Z"
   },
   {
    "duration": 17,
    "start_time": "2021-09-06T08:36:39.573Z"
   },
   {
    "duration": 565,
    "start_time": "2021-09-06T08:37:03.557Z"
   },
   {
    "duration": 9,
    "start_time": "2021-09-06T08:37:17.863Z"
   },
   {
    "duration": 1088,
    "start_time": "2021-09-06T08:38:59.254Z"
   },
   {
    "duration": 21,
    "start_time": "2021-09-06T08:40:18.773Z"
   },
   {
    "duration": 26,
    "start_time": "2021-09-06T08:41:30.044Z"
   },
   {
    "duration": 10,
    "start_time": "2021-09-06T08:42:23.954Z"
   },
   {
    "duration": 17,
    "start_time": "2021-09-06T08:42:25.074Z"
   },
   {
    "duration": 573,
    "start_time": "2021-09-06T08:42:46.414Z"
   },
   {
    "duration": 14,
    "start_time": "2021-09-06T08:43:57.633Z"
   },
   {
    "duration": 950,
    "start_time": "2021-09-06T08:44:07.604Z"
   },
   {
    "duration": 846,
    "start_time": "2021-09-06T08:44:33.514Z"
   },
   {
    "duration": 1999,
    "start_time": "2021-09-06T08:46:46.913Z"
   },
   {
    "duration": 56,
    "start_time": "2021-09-06T08:46:48.914Z"
   },
   {
    "duration": 5,
    "start_time": "2021-09-06T08:46:48.973Z"
   },
   {
    "duration": 21,
    "start_time": "2021-09-06T08:46:48.981Z"
   },
   {
    "duration": 50,
    "start_time": "2021-09-06T08:46:49.005Z"
   },
   {
    "duration": 379,
    "start_time": "2021-09-06T08:46:49.058Z"
   },
   {
    "duration": 229,
    "start_time": "2021-09-06T08:46:49.439Z"
   },
   {
    "duration": 369,
    "start_time": "2021-09-06T08:46:49.671Z"
   },
   {
    "duration": 15,
    "start_time": "2021-09-06T08:46:50.044Z"
   },
   {
    "duration": 1651,
    "start_time": "2021-09-06T08:46:50.063Z"
   },
   {
    "duration": 11,
    "start_time": "2021-09-06T08:46:51.717Z"
   },
   {
    "duration": 608,
    "start_time": "2021-09-06T08:46:51.731Z"
   },
   {
    "duration": 123,
    "start_time": "2021-09-06T08:46:52.342Z"
   },
   {
    "duration": 25,
    "start_time": "2021-09-06T08:46:52.467Z"
   },
   {
    "duration": 588,
    "start_time": "2021-09-06T08:46:52.494Z"
   },
   {
    "duration": 8,
    "start_time": "2021-09-06T08:46:53.085Z"
   },
   {
    "duration": 1043,
    "start_time": "2021-09-06T08:46:53.095Z"
   },
   {
    "duration": 19,
    "start_time": "2021-09-06T08:46:54.140Z"
   },
   {
    "duration": 24,
    "start_time": "2021-09-06T08:46:54.162Z"
   },
   {
    "duration": 8,
    "start_time": "2021-09-06T08:46:54.189Z"
   },
   {
    "duration": 24,
    "start_time": "2021-09-06T08:46:54.199Z"
   },
   {
    "duration": 574,
    "start_time": "2021-09-06T08:46:54.225Z"
   },
   {
    "duration": 13,
    "start_time": "2021-09-06T08:46:54.801Z"
   },
   {
    "duration": 872,
    "start_time": "2021-09-06T08:46:54.817Z"
   },
   {
    "duration": 862,
    "start_time": "2021-09-06T08:46:55.691Z"
   },
   {
    "duration": 1925,
    "start_time": "2021-09-06T08:47:48.445Z"
   },
   {
    "duration": 58,
    "start_time": "2021-09-06T08:47:50.372Z"
   },
   {
    "duration": 6,
    "start_time": "2021-09-06T08:47:50.433Z"
   },
   {
    "duration": 92,
    "start_time": "2021-09-06T08:47:50.441Z"
   },
   {
    "duration": 52,
    "start_time": "2021-09-06T08:47:50.536Z"
   },
   {
    "duration": 366,
    "start_time": "2021-09-06T08:47:50.590Z"
   },
   {
    "duration": 333,
    "start_time": "2021-09-06T08:47:50.959Z"
   },
   {
    "duration": 372,
    "start_time": "2021-09-06T08:47:51.295Z"
   },
   {
    "duration": 21,
    "start_time": "2021-09-06T08:47:51.671Z"
   },
   {
    "duration": 1454,
    "start_time": "2021-09-06T08:47:51.695Z"
   },
   {
    "duration": 9,
    "start_time": "2021-09-06T08:47:53.151Z"
   },
   {
    "duration": 568,
    "start_time": "2021-09-06T08:47:53.162Z"
   },
   {
    "duration": 113,
    "start_time": "2021-09-06T08:47:53.732Z"
   },
   {
    "duration": 15,
    "start_time": "2021-09-06T08:47:53.847Z"
   },
   {
    "duration": 556,
    "start_time": "2021-09-06T08:47:53.864Z"
   },
   {
    "duration": 8,
    "start_time": "2021-09-06T08:47:54.422Z"
   },
   {
    "duration": 722,
    "start_time": "2021-09-06T08:47:54.432Z"
   },
   {
    "duration": 23,
    "start_time": "2021-09-06T08:47:55.157Z"
   },
   {
    "duration": 25,
    "start_time": "2021-09-06T08:47:55.183Z"
   },
   {
    "duration": 16,
    "start_time": "2021-09-06T08:47:55.210Z"
   },
   {
    "duration": 15,
    "start_time": "2021-09-06T08:47:55.228Z"
   },
   {
    "duration": 605,
    "start_time": "2021-09-06T08:47:55.246Z"
   },
   {
    "duration": 30,
    "start_time": "2021-09-06T08:47:55.853Z"
   },
   {
    "duration": 898,
    "start_time": "2021-09-06T08:47:55.886Z"
   },
   {
    "duration": 861,
    "start_time": "2021-09-06T08:47:56.787Z"
   },
   {
    "duration": 19231,
    "start_time": "2021-09-06T15:54:40.492Z"
   },
   {
    "duration": 51,
    "start_time": "2021-09-06T15:54:59.726Z"
   },
   {
    "duration": 5,
    "start_time": "2021-09-06T15:54:59.780Z"
   },
   {
    "duration": 15,
    "start_time": "2021-09-06T15:54:59.787Z"
   },
   {
    "duration": 43,
    "start_time": "2021-09-06T15:54:59.804Z"
   },
   {
    "duration": 295,
    "start_time": "2021-09-06T15:54:59.849Z"
   },
   {
    "duration": 173,
    "start_time": "2021-09-06T15:55:00.146Z"
   },
   {
    "duration": 264,
    "start_time": "2021-09-06T15:55:00.321Z"
   },
   {
    "duration": 11,
    "start_time": "2021-09-06T15:55:00.588Z"
   },
   {
    "duration": 1167,
    "start_time": "2021-09-06T15:55:00.601Z"
   },
   {
    "duration": 7,
    "start_time": "2021-09-06T15:55:01.770Z"
   },
   {
    "duration": 400,
    "start_time": "2021-09-06T15:55:01.779Z"
   },
   {
    "duration": 97,
    "start_time": "2021-09-06T15:55:02.181Z"
   },
   {
    "duration": 14,
    "start_time": "2021-09-06T15:55:02.280Z"
   },
   {
    "duration": 387,
    "start_time": "2021-09-06T15:55:02.296Z"
   },
   {
    "duration": 9,
    "start_time": "2021-09-06T15:55:02.686Z"
   },
   {
    "duration": 1341,
    "start_time": "2021-09-06T15:55:02.697Z"
   },
   {
    "duration": 16,
    "start_time": "2021-09-06T15:55:04.040Z"
   },
   {
    "duration": 20,
    "start_time": "2021-09-06T15:55:04.058Z"
   },
   {
    "duration": 8,
    "start_time": "2021-09-06T15:55:04.080Z"
   },
   {
    "duration": 14,
    "start_time": "2021-09-06T15:55:04.090Z"
   },
   {
    "duration": 418,
    "start_time": "2021-09-06T15:55:04.105Z"
   },
   {
    "duration": 11,
    "start_time": "2021-09-06T15:55:04.524Z"
   },
   {
    "duration": 715,
    "start_time": "2021-09-06T15:55:04.537Z"
   },
   {
    "duration": 608,
    "start_time": "2021-09-06T15:55:05.254Z"
   },
   {
    "duration": 88,
    "start_time": "2021-09-06T16:07:53.265Z"
   },
   {
    "duration": 96,
    "start_time": "2021-09-06T16:10:24.325Z"
   },
   {
    "duration": 104,
    "start_time": "2021-09-06T16:11:19.312Z"
   },
   {
    "duration": 297,
    "start_time": "2021-09-07T07:38:59.153Z"
   },
   {
    "duration": 1514,
    "start_time": "2021-09-07T07:39:03.872Z"
   },
   {
    "duration": 47,
    "start_time": "2021-09-07T07:39:05.388Z"
   },
   {
    "duration": 4,
    "start_time": "2021-09-07T07:39:05.436Z"
   },
   {
    "duration": 14,
    "start_time": "2021-09-07T07:39:05.442Z"
   },
   {
    "duration": 38,
    "start_time": "2021-09-07T07:39:05.457Z"
   },
   {
    "duration": 223,
    "start_time": "2021-09-07T07:39:05.497Z"
   },
   {
    "duration": 143,
    "start_time": "2021-09-07T07:39:05.721Z"
   },
   {
    "duration": 217,
    "start_time": "2021-09-07T07:39:05.867Z"
   },
   {
    "duration": 9,
    "start_time": "2021-09-07T07:39:06.086Z"
   },
   {
    "duration": 1482,
    "start_time": "2021-09-07T07:39:06.096Z"
   },
   {
    "duration": -59,
    "start_time": "2021-09-07T07:39:07.639Z"
   },
   {
    "duration": -62,
    "start_time": "2021-09-07T07:39:07.643Z"
   },
   {
    "duration": -70,
    "start_time": "2021-09-07T07:39:07.652Z"
   },
   {
    "duration": -72,
    "start_time": "2021-09-07T07:39:07.655Z"
   },
   {
    "duration": -75,
    "start_time": "2021-09-07T07:39:07.659Z"
   },
   {
    "duration": -78,
    "start_time": "2021-09-07T07:39:07.663Z"
   },
   {
    "duration": -87,
    "start_time": "2021-09-07T07:39:07.673Z"
   },
   {
    "duration": -92,
    "start_time": "2021-09-07T07:39:07.679Z"
   },
   {
    "duration": -94,
    "start_time": "2021-09-07T07:39:07.682Z"
   },
   {
    "duration": -137,
    "start_time": "2021-09-07T07:39:07.725Z"
   },
   {
    "duration": -140,
    "start_time": "2021-09-07T07:39:07.729Z"
   },
   {
    "duration": -147,
    "start_time": "2021-09-07T07:39:07.737Z"
   },
   {
    "duration": -150,
    "start_time": "2021-09-07T07:39:07.741Z"
   },
   {
    "duration": -153,
    "start_time": "2021-09-07T07:39:07.745Z"
   },
   {
    "duration": -160,
    "start_time": "2021-09-07T07:39:07.753Z"
   },
   {
    "duration": 1136,
    "start_time": "2021-09-07T07:39:22.263Z"
   },
   {
    "duration": 1024,
    "start_time": "2021-09-07T07:39:41.522Z"
   },
   {
    "duration": 972,
    "start_time": "2021-09-07T07:40:44.883Z"
   },
   {
    "duration": 1072,
    "start_time": "2021-09-07T07:41:35.002Z"
   },
   {
    "duration": 917,
    "start_time": "2021-09-07T07:41:58.742Z"
   },
   {
    "duration": 1139,
    "start_time": "2021-09-07T07:42:12.053Z"
   },
   {
    "duration": 902,
    "start_time": "2021-09-07T07:42:51.723Z"
   },
   {
    "duration": 1037,
    "start_time": "2021-09-07T07:44:29.642Z"
   },
   {
    "duration": 954,
    "start_time": "2021-09-07T07:45:44.012Z"
   },
   {
    "duration": 948,
    "start_time": "2021-09-07T07:46:08.023Z"
   },
   {
    "duration": 408,
    "start_time": "2021-09-07T07:47:25.243Z"
   },
   {
    "duration": 993,
    "start_time": "2021-09-07T07:47:39.853Z"
   },
   {
    "duration": 1230,
    "start_time": "2021-09-07T07:51:05.363Z"
   },
   {
    "duration": 1143,
    "start_time": "2021-09-07T07:51:17.723Z"
   },
   {
    "duration": 1167,
    "start_time": "2021-09-07T07:51:28.204Z"
   },
   {
    "duration": 1342,
    "start_time": "2021-09-07T07:51:34.763Z"
   },
   {
    "duration": 4,
    "start_time": "2021-09-07T08:14:57.234Z"
   },
   {
    "duration": 48,
    "start_time": "2021-09-07T08:14:57.240Z"
   },
   {
    "duration": 4,
    "start_time": "2021-09-07T08:14:57.290Z"
   },
   {
    "duration": 11,
    "start_time": "2021-09-07T08:14:57.296Z"
   },
   {
    "duration": 42,
    "start_time": "2021-09-07T08:14:57.309Z"
   },
   {
    "duration": 216,
    "start_time": "2021-09-07T08:14:57.352Z"
   },
   {
    "duration": 141,
    "start_time": "2021-09-07T08:14:57.570Z"
   },
   {
    "duration": 212,
    "start_time": "2021-09-07T08:14:57.713Z"
   },
   {
    "duration": 17,
    "start_time": "2021-09-07T08:14:57.928Z"
   },
   {
    "duration": 1226,
    "start_time": "2021-09-07T08:14:57.947Z"
   },
   {
    "duration": 6,
    "start_time": "2021-09-07T08:14:59.175Z"
   },
   {
    "duration": 339,
    "start_time": "2021-09-07T08:14:59.183Z"
   },
   {
    "duration": 181,
    "start_time": "2021-09-07T08:14:59.524Z"
   },
   {
    "duration": 11,
    "start_time": "2021-09-07T08:14:59.706Z"
   },
   {
    "duration": 328,
    "start_time": "2021-09-07T08:14:59.718Z"
   },
   {
    "duration": 7,
    "start_time": "2021-09-07T08:15:00.048Z"
   },
   {
    "duration": 1150,
    "start_time": "2021-09-07T08:15:00.056Z"
   },
   {
    "duration": 13,
    "start_time": "2021-09-07T08:15:01.208Z"
   },
   {
    "duration": 29,
    "start_time": "2021-09-07T08:15:01.222Z"
   },
   {
    "duration": 7,
    "start_time": "2021-09-07T08:15:01.252Z"
   },
   {
    "duration": 23,
    "start_time": "2021-09-07T08:15:01.260Z"
   },
   {
    "duration": 368,
    "start_time": "2021-09-07T08:15:01.285Z"
   },
   {
    "duration": 9,
    "start_time": "2021-09-07T08:15:01.655Z"
   },
   {
    "duration": 526,
    "start_time": "2021-09-07T08:15:01.666Z"
   },
   {
    "duration": 502,
    "start_time": "2021-09-07T08:15:02.193Z"
   },
   {
    "duration": 15,
    "start_time": "2021-09-07T08:24:27.125Z"
   },
   {
    "duration": 15,
    "start_time": "2021-09-07T08:25:05.756Z"
   },
   {
    "duration": 332,
    "start_time": "2021-09-07T08:25:06.415Z"
   },
   {
    "duration": 85,
    "start_time": "2021-09-07T08:28:46.775Z"
   },
   {
    "duration": 4,
    "start_time": "2021-09-07T08:28:59.736Z"
   },
   {
    "duration": 48,
    "start_time": "2021-09-07T08:28:59.742Z"
   },
   {
    "duration": 4,
    "start_time": "2021-09-07T08:28:59.792Z"
   },
   {
    "duration": 11,
    "start_time": "2021-09-07T08:28:59.797Z"
   },
   {
    "duration": 37,
    "start_time": "2021-09-07T08:28:59.810Z"
   },
   {
    "duration": 306,
    "start_time": "2021-09-07T08:28:59.849Z"
   },
   {
    "duration": 151,
    "start_time": "2021-09-07T08:29:00.157Z"
   },
   {
    "duration": 16,
    "start_time": "2021-09-07T08:29:00.309Z"
   },
   {
    "duration": 354,
    "start_time": "2021-09-07T08:29:00.328Z"
   },
   {
    "duration": 10,
    "start_time": "2021-09-07T08:29:00.684Z"
   },
   {
    "duration": 1382,
    "start_time": "2021-09-07T08:29:00.696Z"
   },
   {
    "duration": 6,
    "start_time": "2021-09-07T08:29:02.079Z"
   },
   {
    "duration": 348,
    "start_time": "2021-09-07T08:29:02.087Z"
   },
   {
    "duration": 69,
    "start_time": "2021-09-07T08:29:02.440Z"
   },
   {
    "duration": 11,
    "start_time": "2021-09-07T08:29:02.511Z"
   },
   {
    "duration": 340,
    "start_time": "2021-09-07T08:29:02.524Z"
   },
   {
    "duration": 7,
    "start_time": "2021-09-07T08:29:02.865Z"
   },
   {
    "duration": 973,
    "start_time": "2021-09-07T08:29:02.873Z"
   },
   {
    "duration": 14,
    "start_time": "2021-09-07T08:29:03.847Z"
   },
   {
    "duration": 28,
    "start_time": "2021-09-07T08:29:03.862Z"
   },
   {
    "duration": 7,
    "start_time": "2021-09-07T08:29:03.891Z"
   },
   {
    "duration": 16,
    "start_time": "2021-09-07T08:29:03.899Z"
   },
   {
    "duration": 375,
    "start_time": "2021-09-07T08:29:03.917Z"
   },
   {
    "duration": 9,
    "start_time": "2021-09-07T08:29:04.294Z"
   },
   {
    "duration": 524,
    "start_time": "2021-09-07T08:29:04.305Z"
   },
   {
    "duration": 509,
    "start_time": "2021-09-07T08:29:04.831Z"
   },
   {
    "duration": 21,
    "start_time": "2021-09-07T08:54:17.836Z"
   },
   {
    "duration": 15,
    "start_time": "2021-09-07T08:57:31.777Z"
   },
   {
    "duration": 26,
    "start_time": "2021-09-07T08:58:08.506Z"
   },
   {
    "duration": 3,
    "start_time": "2021-09-07T08:58:20.598Z"
   },
   {
    "duration": 76,
    "start_time": "2021-09-07T08:58:20.603Z"
   },
   {
    "duration": 4,
    "start_time": "2021-09-07T08:58:20.681Z"
   },
   {
    "duration": 26,
    "start_time": "2021-09-07T08:58:20.687Z"
   },
   {
    "duration": 54,
    "start_time": "2021-09-07T08:58:20.716Z"
   },
   {
    "duration": 22,
    "start_time": "2021-09-07T08:58:20.772Z"
   },
   {
    "duration": 40,
    "start_time": "2021-09-07T08:58:20.796Z"
   },
   {
    "duration": 312,
    "start_time": "2021-09-07T08:58:20.837Z"
   },
   {
    "duration": 165,
    "start_time": "2021-09-07T08:58:21.151Z"
   },
   {
    "duration": 25,
    "start_time": "2021-09-07T08:58:21.318Z"
   },
   {
    "duration": 353,
    "start_time": "2021-09-07T08:58:21.345Z"
   },
   {
    "duration": 9,
    "start_time": "2021-09-07T08:58:21.699Z"
   },
   {
    "duration": 1365,
    "start_time": "2021-09-07T08:58:21.710Z"
   },
   {
    "duration": 7,
    "start_time": "2021-09-07T08:58:23.076Z"
   },
   {
    "duration": 352,
    "start_time": "2021-09-07T08:58:23.085Z"
   },
   {
    "duration": 69,
    "start_time": "2021-09-07T08:58:23.441Z"
   },
   {
    "duration": 11,
    "start_time": "2021-09-07T08:58:23.511Z"
   },
   {
    "duration": 323,
    "start_time": "2021-09-07T08:58:23.540Z"
   },
   {
    "duration": 8,
    "start_time": "2021-09-07T08:58:23.866Z"
   },
   {
    "duration": 1215,
    "start_time": "2021-09-07T08:58:23.876Z"
   },
   {
    "duration": 14,
    "start_time": "2021-09-07T08:58:25.092Z"
   },
   {
    "duration": 93,
    "start_time": "2021-09-07T08:58:25.107Z"
   },
   {
    "duration": -51,
    "start_time": "2021-09-07T08:58:25.253Z"
   },
   {
    "duration": -58,
    "start_time": "2021-09-07T08:58:25.261Z"
   },
   {
    "duration": -61,
    "start_time": "2021-09-07T08:58:25.264Z"
   },
   {
    "duration": -63,
    "start_time": "2021-09-07T08:58:25.268Z"
   },
   {
    "duration": -64,
    "start_time": "2021-09-07T08:58:25.270Z"
   },
   {
    "duration": -67,
    "start_time": "2021-09-07T08:58:25.274Z"
   },
   {
    "duration": -69,
    "start_time": "2021-09-07T08:58:25.277Z"
   },
   {
    "duration": 24,
    "start_time": "2021-09-07T08:59:00.776Z"
   },
   {
    "duration": 3,
    "start_time": "2021-09-07T08:59:54.802Z"
   },
   {
    "duration": 48,
    "start_time": "2021-09-07T08:59:54.807Z"
   },
   {
    "duration": 4,
    "start_time": "2021-09-07T08:59:54.857Z"
   },
   {
    "duration": 18,
    "start_time": "2021-09-07T08:59:54.863Z"
   },
   {
    "duration": 39,
    "start_time": "2021-09-07T08:59:54.882Z"
   },
   {
    "duration": 30,
    "start_time": "2021-09-07T08:59:54.923Z"
   },
   {
    "duration": 26,
    "start_time": "2021-09-07T08:59:54.955Z"
   },
   {
    "duration": 303,
    "start_time": "2021-09-07T08:59:54.983Z"
   },
   {
    "duration": 155,
    "start_time": "2021-09-07T08:59:55.288Z"
   },
   {
    "duration": 15,
    "start_time": "2021-09-07T08:59:55.445Z"
   },
   {
    "duration": 358,
    "start_time": "2021-09-07T08:59:55.462Z"
   },
   {
    "duration": 19,
    "start_time": "2021-09-07T08:59:55.822Z"
   },
   {
    "duration": 1434,
    "start_time": "2021-09-07T08:59:55.842Z"
   },
   {
    "duration": 6,
    "start_time": "2021-09-07T08:59:57.278Z"
   },
   {
    "duration": 449,
    "start_time": "2021-09-07T08:59:57.286Z"
   },
   {
    "duration": 70,
    "start_time": "2021-09-07T08:59:57.737Z"
   },
   {
    "duration": 11,
    "start_time": "2021-09-07T08:59:57.809Z"
   },
   {
    "duration": 342,
    "start_time": "2021-09-07T08:59:57.822Z"
   },
   {
    "duration": 5,
    "start_time": "2021-09-07T08:59:58.166Z"
   },
   {
    "duration": 787,
    "start_time": "2021-09-07T08:59:58.173Z"
   },
   {
    "duration": 14,
    "start_time": "2021-09-07T08:59:58.962Z"
   },
   {
    "duration": 92,
    "start_time": "2021-09-07T08:59:58.978Z"
   },
   {
    "duration": -79,
    "start_time": "2021-09-07T08:59:59.151Z"
   },
   {
    "duration": -81,
    "start_time": "2021-09-07T08:59:59.154Z"
   },
   {
    "duration": -84,
    "start_time": "2021-09-07T08:59:59.157Z"
   },
   {
    "duration": -86,
    "start_time": "2021-09-07T08:59:59.160Z"
   },
   {
    "duration": -89,
    "start_time": "2021-09-07T08:59:59.164Z"
   },
   {
    "duration": -91,
    "start_time": "2021-09-07T08:59:59.167Z"
   },
   {
    "duration": -94,
    "start_time": "2021-09-07T08:59:59.170Z"
   },
   {
    "duration": 3,
    "start_time": "2021-09-07T09:00:17.588Z"
   },
   {
    "duration": 68,
    "start_time": "2021-09-07T09:00:17.593Z"
   },
   {
    "duration": 4,
    "start_time": "2021-09-07T09:00:17.663Z"
   },
   {
    "duration": 28,
    "start_time": "2021-09-07T09:00:17.669Z"
   },
   {
    "duration": 49,
    "start_time": "2021-09-07T09:00:17.698Z"
   },
   {
    "duration": 20,
    "start_time": "2021-09-07T09:00:17.749Z"
   },
   {
    "duration": 25,
    "start_time": "2021-09-07T09:00:17.771Z"
   },
   {
    "duration": 309,
    "start_time": "2021-09-07T09:00:17.798Z"
   },
   {
    "duration": 150,
    "start_time": "2021-09-07T09:00:18.110Z"
   },
   {
    "duration": 16,
    "start_time": "2021-09-07T09:00:18.262Z"
   },
   {
    "duration": 353,
    "start_time": "2021-09-07T09:00:18.279Z"
   },
   {
    "duration": 13,
    "start_time": "2021-09-07T09:00:18.634Z"
   },
   {
    "duration": 1330,
    "start_time": "2021-09-07T09:00:18.649Z"
   },
   {
    "duration": 6,
    "start_time": "2021-09-07T09:00:19.981Z"
   },
   {
    "duration": 352,
    "start_time": "2021-09-07T09:00:19.989Z"
   },
   {
    "duration": 181,
    "start_time": "2021-09-07T09:00:20.343Z"
   },
   {
    "duration": 19,
    "start_time": "2021-09-07T09:00:20.526Z"
   },
   {
    "duration": 332,
    "start_time": "2021-09-07T09:00:20.547Z"
   },
   {
    "duration": 7,
    "start_time": "2021-09-07T09:00:20.881Z"
   },
   {
    "duration": 799,
    "start_time": "2021-09-07T09:00:20.890Z"
   },
   {
    "duration": 13,
    "start_time": "2021-09-07T09:00:21.690Z"
   },
   {
    "duration": 19,
    "start_time": "2021-09-07T09:00:21.705Z"
   },
   {
    "duration": 7,
    "start_time": "2021-09-07T09:00:21.725Z"
   },
   {
    "duration": 15,
    "start_time": "2021-09-07T09:00:21.733Z"
   },
   {
    "duration": 330,
    "start_time": "2021-09-07T09:00:21.749Z"
   },
   {
    "duration": 10,
    "start_time": "2021-09-07T09:00:22.080Z"
   },
   {
    "duration": 520,
    "start_time": "2021-09-07T09:00:22.093Z"
   },
   {
    "duration": 517,
    "start_time": "2021-09-07T09:00:22.615Z"
   },
   {
    "duration": 1276,
    "start_time": "2021-09-07T09:00:43.317Z"
   },
   {
    "duration": 9,
    "start_time": "2021-09-07T09:01:46.067Z"
   },
   {
    "duration": 1363,
    "start_time": "2021-09-07T09:01:46.787Z"
   },
   {
    "duration": 1035,
    "start_time": "2021-09-07T09:02:17.157Z"
   },
   {
    "duration": 3,
    "start_time": "2021-09-07T09:02:25.948Z"
   },
   {
    "duration": 59,
    "start_time": "2021-09-07T09:02:25.953Z"
   },
   {
    "duration": 4,
    "start_time": "2021-09-07T09:02:26.014Z"
   },
   {
    "duration": 14,
    "start_time": "2021-09-07T09:02:26.020Z"
   },
   {
    "duration": 38,
    "start_time": "2021-09-07T09:02:26.035Z"
   },
   {
    "duration": 22,
    "start_time": "2021-09-07T09:02:26.075Z"
   },
   {
    "duration": 22,
    "start_time": "2021-09-07T09:02:26.099Z"
   },
   {
    "duration": 316,
    "start_time": "2021-09-07T09:02:26.122Z"
   },
   {
    "duration": 149,
    "start_time": "2021-09-07T09:02:26.440Z"
   },
   {
    "duration": 17,
    "start_time": "2021-09-07T09:02:26.592Z"
   },
   {
    "duration": 363,
    "start_time": "2021-09-07T09:02:26.611Z"
   },
   {
    "duration": 9,
    "start_time": "2021-09-07T09:02:26.976Z"
   },
   {
    "duration": 1024,
    "start_time": "2021-09-07T09:02:26.986Z"
   },
   {
    "duration": 7,
    "start_time": "2021-09-07T09:02:28.011Z"
   },
   {
    "duration": 348,
    "start_time": "2021-09-07T09:02:28.020Z"
   },
   {
    "duration": 187,
    "start_time": "2021-09-07T09:02:28.370Z"
   },
   {
    "duration": 12,
    "start_time": "2021-09-07T09:02:28.559Z"
   },
   {
    "duration": 333,
    "start_time": "2021-09-07T09:02:28.573Z"
   },
   {
    "duration": 7,
    "start_time": "2021-09-07T09:02:28.908Z"
   },
   {
    "duration": 709,
    "start_time": "2021-09-07T09:02:28.916Z"
   },
   {
    "duration": 14,
    "start_time": "2021-09-07T09:02:29.627Z"
   },
   {
    "duration": 19,
    "start_time": "2021-09-07T09:02:29.642Z"
   },
   {
    "duration": 19,
    "start_time": "2021-09-07T09:02:29.663Z"
   },
   {
    "duration": 21,
    "start_time": "2021-09-07T09:02:29.684Z"
   },
   {
    "duration": 340,
    "start_time": "2021-09-07T09:02:29.707Z"
   },
   {
    "duration": 11,
    "start_time": "2021-09-07T09:02:30.049Z"
   },
   {
    "duration": 539,
    "start_time": "2021-09-07T09:02:30.063Z"
   },
   {
    "duration": 515,
    "start_time": "2021-09-07T09:02:30.603Z"
   },
   {
    "duration": 15,
    "start_time": "2021-09-07T09:04:03.287Z"
   },
   {
    "duration": 3,
    "start_time": "2021-09-07T09:08:42.719Z"
   },
   {
    "duration": 50,
    "start_time": "2021-09-07T09:08:42.723Z"
   },
   {
    "duration": 4,
    "start_time": "2021-09-07T09:08:42.775Z"
   },
   {
    "duration": 41,
    "start_time": "2021-09-07T09:08:42.781Z"
   },
   {
    "duration": 56,
    "start_time": "2021-09-07T09:08:42.824Z"
   },
   {
    "duration": 21,
    "start_time": "2021-09-07T09:08:42.881Z"
   },
   {
    "duration": 17,
    "start_time": "2021-09-07T09:08:42.903Z"
   },
   {
    "duration": 293,
    "start_time": "2021-09-07T09:08:42.922Z"
   },
   {
    "duration": 159,
    "start_time": "2021-09-07T09:08:43.218Z"
   },
   {
    "duration": 21,
    "start_time": "2021-09-07T09:08:43.379Z"
   },
   {
    "duration": 354,
    "start_time": "2021-09-07T09:08:43.402Z"
   },
   {
    "duration": 10,
    "start_time": "2021-09-07T09:08:43.758Z"
   },
   {
    "duration": 1042,
    "start_time": "2021-09-07T09:08:43.770Z"
   },
   {
    "duration": 7,
    "start_time": "2021-09-07T09:08:44.814Z"
   },
   {
    "duration": 340,
    "start_time": "2021-09-07T09:08:44.823Z"
   },
   {
    "duration": 197,
    "start_time": "2021-09-07T09:08:45.165Z"
   },
   {
    "duration": 12,
    "start_time": "2021-09-07T09:08:45.364Z"
   },
   {
    "duration": 341,
    "start_time": "2021-09-07T09:08:45.378Z"
   },
   {
    "duration": 7,
    "start_time": "2021-09-07T09:08:45.720Z"
   },
   {
    "duration": 1252,
    "start_time": "2021-09-07T09:08:45.728Z"
   },
   {
    "duration": 13,
    "start_time": "2021-09-07T09:08:46.982Z"
   },
   {
    "duration": 17,
    "start_time": "2021-09-07T09:08:46.996Z"
   },
   {
    "duration": 6,
    "start_time": "2021-09-07T09:08:47.015Z"
   },
   {
    "duration": 11,
    "start_time": "2021-09-07T09:08:47.022Z"
   },
   {
    "duration": 331,
    "start_time": "2021-09-07T09:08:47.040Z"
   },
   {
    "duration": 11,
    "start_time": "2021-09-07T09:08:47.372Z"
   },
   {
    "duration": 571,
    "start_time": "2021-09-07T09:08:47.384Z"
   },
   {
    "duration": 589,
    "start_time": "2021-09-07T09:08:47.957Z"
   },
   {
    "duration": 328,
    "start_time": "2021-09-07T11:22:38.557Z"
   },
   {
    "duration": 2014,
    "start_time": "2021-09-07T11:22:44.037Z"
   },
   {
    "duration": 55,
    "start_time": "2021-09-07T11:22:46.053Z"
   },
   {
    "duration": 6,
    "start_time": "2021-09-07T11:22:46.111Z"
   },
   {
    "duration": 35,
    "start_time": "2021-09-07T11:22:46.119Z"
   },
   {
    "duration": 58,
    "start_time": "2021-09-07T11:22:46.157Z"
   },
   {
    "duration": 43,
    "start_time": "2021-09-07T11:22:46.217Z"
   },
   {
    "duration": 16,
    "start_time": "2021-09-07T11:22:46.263Z"
   },
   {
    "duration": 380,
    "start_time": "2021-09-07T11:22:46.283Z"
   },
   {
    "duration": 244,
    "start_time": "2021-09-07T11:22:46.666Z"
   },
   {
    "duration": 28,
    "start_time": "2021-09-07T11:22:46.913Z"
   },
   {
    "duration": 612,
    "start_time": "2021-09-07T11:22:46.955Z"
   },
   {
    "duration": 16,
    "start_time": "2021-09-07T11:22:47.569Z"
   },
   {
    "duration": 1697,
    "start_time": "2021-09-07T11:22:47.587Z"
   },
   {
    "duration": 10,
    "start_time": "2021-09-07T11:22:49.286Z"
   },
   {
    "duration": 590,
    "start_time": "2021-09-07T11:22:49.299Z"
   },
   {
    "duration": 118,
    "start_time": "2021-09-07T11:22:49.892Z"
   },
   {
    "duration": 21,
    "start_time": "2021-09-07T11:22:50.012Z"
   },
   {
    "duration": 557,
    "start_time": "2021-09-07T11:22:50.054Z"
   },
   {
    "duration": 7,
    "start_time": "2021-09-07T11:22:50.613Z"
   },
   {
    "duration": 1293,
    "start_time": "2021-09-07T11:22:50.623Z"
   },
   {
    "duration": 21,
    "start_time": "2021-09-07T11:22:51.919Z"
   },
   {
    "duration": 42,
    "start_time": "2021-09-07T11:22:51.942Z"
   },
   {
    "duration": 9,
    "start_time": "2021-09-07T11:22:51.988Z"
   },
   {
    "duration": 23,
    "start_time": "2021-09-07T11:22:52.000Z"
   },
   {
    "duration": 581,
    "start_time": "2021-09-07T11:22:52.026Z"
   },
   {
    "duration": 14,
    "start_time": "2021-09-07T11:22:52.610Z"
   },
   {
    "duration": 882,
    "start_time": "2021-09-07T11:22:52.626Z"
   },
   {
    "duration": 890,
    "start_time": "2021-09-07T11:22:53.510Z"
   },
   {
    "duration": 4,
    "start_time": "2021-09-07T11:46:02.769Z"
   },
   {
    "duration": 61,
    "start_time": "2021-09-07T11:46:02.776Z"
   },
   {
    "duration": 5,
    "start_time": "2021-09-07T11:46:02.840Z"
   },
   {
    "duration": 22,
    "start_time": "2021-09-07T11:46:02.847Z"
   },
   {
    "duration": 59,
    "start_time": "2021-09-07T11:46:02.871Z"
   },
   {
    "duration": 40,
    "start_time": "2021-09-07T11:46:02.932Z"
   },
   {
    "duration": 17,
    "start_time": "2021-09-07T11:46:02.974Z"
   },
   {
    "duration": 529,
    "start_time": "2021-09-07T11:46:02.994Z"
   },
   {
    "duration": 354,
    "start_time": "2021-09-07T11:46:03.526Z"
   },
   {
    "duration": 24,
    "start_time": "2021-09-07T11:46:03.883Z"
   },
   {
    "duration": 660,
    "start_time": "2021-09-07T11:46:03.909Z"
   },
   {
    "duration": 16,
    "start_time": "2021-09-07T11:46:04.572Z"
   },
   {
    "duration": 1635,
    "start_time": "2021-09-07T11:46:04.591Z"
   },
   {
    "duration": 9,
    "start_time": "2021-09-07T11:46:06.228Z"
   },
   {
    "duration": 591,
    "start_time": "2021-09-07T11:46:06.255Z"
   },
   {
    "duration": 113,
    "start_time": "2021-09-07T11:46:06.855Z"
   },
   {
    "duration": 23,
    "start_time": "2021-09-07T11:46:06.970Z"
   },
   {
    "duration": 570,
    "start_time": "2021-09-07T11:46:06.995Z"
   },
   {
    "duration": 8,
    "start_time": "2021-09-07T11:46:07.568Z"
   },
   {
    "duration": 1189,
    "start_time": "2021-09-07T11:46:07.579Z"
   },
   {
    "duration": 21,
    "start_time": "2021-09-07T11:46:08.770Z"
   },
   {
    "duration": 25,
    "start_time": "2021-09-07T11:46:08.793Z"
   },
   {
    "duration": 8,
    "start_time": "2021-09-07T11:46:08.821Z"
   },
   {
    "duration": 27,
    "start_time": "2021-09-07T11:46:08.855Z"
   },
   {
    "duration": 614,
    "start_time": "2021-09-07T11:46:08.885Z"
   },
   {
    "duration": 13,
    "start_time": "2021-09-07T11:46:09.501Z"
   },
   {
    "duration": 1003,
    "start_time": "2021-09-07T11:46:09.517Z"
   },
   {
    "duration": 875,
    "start_time": "2021-09-07T11:46:10.522Z"
   },
   {
    "duration": 1919,
    "start_time": "2021-09-07T11:53:22.300Z"
   },
   {
    "duration": 60,
    "start_time": "2021-09-07T11:53:24.222Z"
   },
   {
    "duration": 6,
    "start_time": "2021-09-07T11:53:24.285Z"
   },
   {
    "duration": 28,
    "start_time": "2021-09-07T11:53:24.293Z"
   },
   {
    "duration": 67,
    "start_time": "2021-09-07T11:53:24.324Z"
   },
   {
    "duration": 29,
    "start_time": "2021-09-07T11:53:24.394Z"
   },
   {
    "duration": 39,
    "start_time": "2021-09-07T11:53:24.425Z"
   },
   {
    "duration": 364,
    "start_time": "2021-09-07T11:53:24.466Z"
   },
   {
    "duration": 236,
    "start_time": "2021-09-07T11:53:24.833Z"
   },
   {
    "duration": 30,
    "start_time": "2021-09-07T11:53:25.072Z"
   },
   {
    "duration": 595,
    "start_time": "2021-09-07T11:53:25.105Z"
   },
   {
    "duration": 13,
    "start_time": "2021-09-07T11:53:25.702Z"
   },
   {
    "duration": 1693,
    "start_time": "2021-09-07T11:53:25.717Z"
   },
   {
    "duration": 9,
    "start_time": "2021-09-07T11:53:27.413Z"
   },
   {
    "duration": 591,
    "start_time": "2021-09-07T11:53:27.424Z"
   },
   {
    "duration": 116,
    "start_time": "2021-09-07T11:53:28.017Z"
   },
   {
    "duration": 33,
    "start_time": "2021-09-07T11:53:28.136Z"
   },
   {
    "duration": 556,
    "start_time": "2021-09-07T11:53:28.172Z"
   },
   {
    "duration": 8,
    "start_time": "2021-09-07T11:53:28.731Z"
   },
   {
    "duration": 1069,
    "start_time": "2021-09-07T11:53:28.741Z"
   },
   {
    "duration": 22,
    "start_time": "2021-09-07T11:53:29.812Z"
   },
   {
    "duration": 42,
    "start_time": "2021-09-07T11:53:29.836Z"
   },
   {
    "duration": 9,
    "start_time": "2021-09-07T11:53:29.881Z"
   },
   {
    "duration": 29,
    "start_time": "2021-09-07T11:53:29.892Z"
   },
   {
    "duration": 593,
    "start_time": "2021-09-07T11:53:29.924Z"
   },
   {
    "duration": 12,
    "start_time": "2021-09-07T11:53:30.519Z"
   },
   {
    "duration": 1003,
    "start_time": "2021-09-07T11:53:30.536Z"
   },
   {
    "duration": 972,
    "start_time": "2021-09-07T11:53:31.541Z"
   },
   {
    "duration": 116,
    "start_time": "2021-09-07T20:46:45.755Z"
   },
   {
    "duration": 111,
    "start_time": "2021-09-07T20:51:37.620Z"
   }
  ],
  "kernelspec": {
   "display_name": "Python 3",
   "language": "python",
   "name": "python3"
  },
  "language_info": {
   "codemirror_mode": {
    "name": "ipython",
    "version": 3
   },
   "file_extension": ".py",
   "mimetype": "text/x-python",
   "name": "python",
   "nbconvert_exporter": "python",
   "pygments_lexer": "ipython3",
   "version": "3.7.10"
  },
  "toc": {
   "base_numbering": 1,
   "nav_menu": {},
   "number_sections": true,
   "sideBar": true,
   "skip_h1_title": true,
   "title_cell": "Table of Contents",
   "title_sidebar": "Contents",
   "toc_cell": false,
   "toc_position": {},
   "toc_section_display": true,
   "toc_window_display": false
  }
 },
 "nbformat": 4,
 "nbformat_minor": 2
}
