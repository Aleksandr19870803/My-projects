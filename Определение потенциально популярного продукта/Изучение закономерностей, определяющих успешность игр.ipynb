{
 "cells": [
  {
   "cell_type": "markdown",
   "metadata": {},
   "source": [
    "# Определение потенциально популярного продукта. Спланировать рекламные компании.\n",
    "Нужно выявить определяющие успешность игры закономерности\n"
   ]
  },
  {
   "cell_type": "markdown",
   "metadata": {},
   "source": [
    "## Шаг 1. Открыть файл с данными и изучить общую информацию\n"
   ]
  },
  {
   "cell_type": "code",
   "execution_count": 5,
   "metadata": {
    "scrolled": true
   },
   "outputs": [
    {
     "data": {
      "text/html": [
       "<div>\n",
       "<style scoped>\n",
       "    .dataframe tbody tr th:only-of-type {\n",
       "        vertical-align: middle;\n",
       "    }\n",
       "\n",
       "    .dataframe tbody tr th {\n",
       "        vertical-align: top;\n",
       "    }\n",
       "\n",
       "    .dataframe thead th {\n",
       "        text-align: right;\n",
       "    }\n",
       "</style>\n",
       "<table border=\"1\" class=\"dataframe\">\n",
       "  <thead>\n",
       "    <tr style=\"text-align: right;\">\n",
       "      <th></th>\n",
       "      <th>Name</th>\n",
       "      <th>Platform</th>\n",
       "      <th>Year_of_Release</th>\n",
       "      <th>Genre</th>\n",
       "      <th>NA_sales</th>\n",
       "      <th>EU_sales</th>\n",
       "      <th>JP_sales</th>\n",
       "      <th>Other_sales</th>\n",
       "      <th>Critic_Score</th>\n",
       "      <th>User_Score</th>\n",
       "      <th>Rating</th>\n",
       "    </tr>\n",
       "  </thead>\n",
       "  <tbody>\n",
       "    <tr>\n",
       "      <td>0</td>\n",
       "      <td>Wii Sports</td>\n",
       "      <td>Wii</td>\n",
       "      <td>2006.0</td>\n",
       "      <td>Sports</td>\n",
       "      <td>41.36</td>\n",
       "      <td>28.96</td>\n",
       "      <td>3.77</td>\n",
       "      <td>8.45</td>\n",
       "      <td>76.0</td>\n",
       "      <td>8</td>\n",
       "      <td>E</td>\n",
       "    </tr>\n",
       "    <tr>\n",
       "      <td>1</td>\n",
       "      <td>Super Mario Bros.</td>\n",
       "      <td>NES</td>\n",
       "      <td>1985.0</td>\n",
       "      <td>Platform</td>\n",
       "      <td>29.08</td>\n",
       "      <td>3.58</td>\n",
       "      <td>6.81</td>\n",
       "      <td>0.77</td>\n",
       "      <td>NaN</td>\n",
       "      <td>NaN</td>\n",
       "      <td>NaN</td>\n",
       "    </tr>\n",
       "    <tr>\n",
       "      <td>2</td>\n",
       "      <td>Mario Kart Wii</td>\n",
       "      <td>Wii</td>\n",
       "      <td>2008.0</td>\n",
       "      <td>Racing</td>\n",
       "      <td>15.68</td>\n",
       "      <td>12.76</td>\n",
       "      <td>3.79</td>\n",
       "      <td>3.29</td>\n",
       "      <td>82.0</td>\n",
       "      <td>8.3</td>\n",
       "      <td>E</td>\n",
       "    </tr>\n",
       "    <tr>\n",
       "      <td>3</td>\n",
       "      <td>Wii Sports Resort</td>\n",
       "      <td>Wii</td>\n",
       "      <td>2009.0</td>\n",
       "      <td>Sports</td>\n",
       "      <td>15.61</td>\n",
       "      <td>10.93</td>\n",
       "      <td>3.28</td>\n",
       "      <td>2.95</td>\n",
       "      <td>80.0</td>\n",
       "      <td>8</td>\n",
       "      <td>E</td>\n",
       "    </tr>\n",
       "    <tr>\n",
       "      <td>4</td>\n",
       "      <td>Pokemon Red/Pokemon Blue</td>\n",
       "      <td>GB</td>\n",
       "      <td>1996.0</td>\n",
       "      <td>Role-Playing</td>\n",
       "      <td>11.27</td>\n",
       "      <td>8.89</td>\n",
       "      <td>10.22</td>\n",
       "      <td>1.00</td>\n",
       "      <td>NaN</td>\n",
       "      <td>NaN</td>\n",
       "      <td>NaN</td>\n",
       "    </tr>\n",
       "    <tr>\n",
       "      <td>...</td>\n",
       "      <td>...</td>\n",
       "      <td>...</td>\n",
       "      <td>...</td>\n",
       "      <td>...</td>\n",
       "      <td>...</td>\n",
       "      <td>...</td>\n",
       "      <td>...</td>\n",
       "      <td>...</td>\n",
       "      <td>...</td>\n",
       "      <td>...</td>\n",
       "      <td>...</td>\n",
       "    </tr>\n",
       "    <tr>\n",
       "      <td>16710</td>\n",
       "      <td>Samurai Warriors: Sanada Maru</td>\n",
       "      <td>PS3</td>\n",
       "      <td>2016.0</td>\n",
       "      <td>Action</td>\n",
       "      <td>0.00</td>\n",
       "      <td>0.00</td>\n",
       "      <td>0.01</td>\n",
       "      <td>0.00</td>\n",
       "      <td>NaN</td>\n",
       "      <td>NaN</td>\n",
       "      <td>NaN</td>\n",
       "    </tr>\n",
       "    <tr>\n",
       "      <td>16711</td>\n",
       "      <td>LMA Manager 2007</td>\n",
       "      <td>X360</td>\n",
       "      <td>2006.0</td>\n",
       "      <td>Sports</td>\n",
       "      <td>0.00</td>\n",
       "      <td>0.01</td>\n",
       "      <td>0.00</td>\n",
       "      <td>0.00</td>\n",
       "      <td>NaN</td>\n",
       "      <td>NaN</td>\n",
       "      <td>NaN</td>\n",
       "    </tr>\n",
       "    <tr>\n",
       "      <td>16712</td>\n",
       "      <td>Haitaka no Psychedelica</td>\n",
       "      <td>PSV</td>\n",
       "      <td>2016.0</td>\n",
       "      <td>Adventure</td>\n",
       "      <td>0.00</td>\n",
       "      <td>0.00</td>\n",
       "      <td>0.01</td>\n",
       "      <td>0.00</td>\n",
       "      <td>NaN</td>\n",
       "      <td>NaN</td>\n",
       "      <td>NaN</td>\n",
       "    </tr>\n",
       "    <tr>\n",
       "      <td>16713</td>\n",
       "      <td>Spirits &amp; Spells</td>\n",
       "      <td>GBA</td>\n",
       "      <td>2003.0</td>\n",
       "      <td>Platform</td>\n",
       "      <td>0.01</td>\n",
       "      <td>0.00</td>\n",
       "      <td>0.00</td>\n",
       "      <td>0.00</td>\n",
       "      <td>NaN</td>\n",
       "      <td>NaN</td>\n",
       "      <td>NaN</td>\n",
       "    </tr>\n",
       "    <tr>\n",
       "      <td>16714</td>\n",
       "      <td>Winning Post 8 2016</td>\n",
       "      <td>PSV</td>\n",
       "      <td>2016.0</td>\n",
       "      <td>Simulation</td>\n",
       "      <td>0.00</td>\n",
       "      <td>0.00</td>\n",
       "      <td>0.01</td>\n",
       "      <td>0.00</td>\n",
       "      <td>NaN</td>\n",
       "      <td>NaN</td>\n",
       "      <td>NaN</td>\n",
       "    </tr>\n",
       "  </tbody>\n",
       "</table>\n",
       "<p>16715 rows × 11 columns</p>\n",
       "</div>"
      ],
      "text/plain": [
       "                                Name Platform  Year_of_Release         Genre  \\\n",
       "0                         Wii Sports      Wii           2006.0        Sports   \n",
       "1                  Super Mario Bros.      NES           1985.0      Platform   \n",
       "2                     Mario Kart Wii      Wii           2008.0        Racing   \n",
       "3                  Wii Sports Resort      Wii           2009.0        Sports   \n",
       "4           Pokemon Red/Pokemon Blue       GB           1996.0  Role-Playing   \n",
       "...                              ...      ...              ...           ...   \n",
       "16710  Samurai Warriors: Sanada Maru      PS3           2016.0        Action   \n",
       "16711               LMA Manager 2007     X360           2006.0        Sports   \n",
       "16712        Haitaka no Psychedelica      PSV           2016.0     Adventure   \n",
       "16713               Spirits & Spells      GBA           2003.0      Platform   \n",
       "16714            Winning Post 8 2016      PSV           2016.0    Simulation   \n",
       "\n",
       "       NA_sales  EU_sales  JP_sales  Other_sales  Critic_Score User_Score  \\\n",
       "0         41.36     28.96      3.77         8.45          76.0          8   \n",
       "1         29.08      3.58      6.81         0.77           NaN        NaN   \n",
       "2         15.68     12.76      3.79         3.29          82.0        8.3   \n",
       "3         15.61     10.93      3.28         2.95          80.0          8   \n",
       "4         11.27      8.89     10.22         1.00           NaN        NaN   \n",
       "...         ...       ...       ...          ...           ...        ...   \n",
       "16710      0.00      0.00      0.01         0.00           NaN        NaN   \n",
       "16711      0.00      0.01      0.00         0.00           NaN        NaN   \n",
       "16712      0.00      0.00      0.01         0.00           NaN        NaN   \n",
       "16713      0.01      0.00      0.00         0.00           NaN        NaN   \n",
       "16714      0.00      0.00      0.01         0.00           NaN        NaN   \n",
       "\n",
       "      Rating  \n",
       "0          E  \n",
       "1        NaN  \n",
       "2          E  \n",
       "3          E  \n",
       "4        NaN  \n",
       "...      ...  \n",
       "16710    NaN  \n",
       "16711    NaN  \n",
       "16712    NaN  \n",
       "16713    NaN  \n",
       "16714    NaN  \n",
       "\n",
       "[16715 rows x 11 columns]"
      ]
     },
     "execution_count": 5,
     "metadata": {},
     "output_type": "execute_result"
    }
   ],
   "source": [
    "import pandas as pd\n",
    "import numpy as np\n",
    "import matplotlib.pyplot as plt\n",
    "from scipy import stats as st\n",
    "try:\n",
    "    data = pd.read_csv('/Users/AleksandrKlukin/Desktop/Сборный проект 1/games.csv')\n",
    "\n",
    "except:    \n",
    "    \n",
    "    data = pd.read_csv('/datasets/games.csv')\n",
    "\n",
    " \n",
    "\n",
    "data"
   ]
  },
  {
   "cell_type": "code",
   "execution_count": 7,
   "metadata": {},
   "outputs": [
    {
     "name": "stdout",
     "output_type": "stream",
     "text": [
      "<class 'pandas.core.frame.DataFrame'>\n",
      "RangeIndex: 16715 entries, 0 to 16714\n",
      "Data columns (total 11 columns):\n",
      "Name               16713 non-null object\n",
      "Platform           16715 non-null object\n",
      "Year_of_Release    16446 non-null float64\n",
      "Genre              16713 non-null object\n",
      "NA_sales           16715 non-null float64\n",
      "EU_sales           16715 non-null float64\n",
      "JP_sales           16715 non-null float64\n",
      "Other_sales        16715 non-null float64\n",
      "Critic_Score       8137 non-null float64\n",
      "User_Score         10014 non-null object\n",
      "Rating             9949 non-null object\n",
      "dtypes: float64(6), object(5)\n",
      "memory usage: 1.4+ MB\n"
     ]
    }
   ],
   "source": [
    "data.info()"
   ]
  },
  {
   "cell_type": "code",
   "execution_count": 8,
   "metadata": {},
   "outputs": [
    {
     "data": {
      "text/html": [
       "<style  type=\"text/css\" >\n",
       "    #T_844c9cb6_e239_11eb_b984_02420a3982farow0_col0 {\n",
       "            background-color:  #3b4cc0;\n",
       "            color:  #f1f1f1;\n",
       "        }    #T_844c9cb6_e239_11eb_b984_02420a3982farow1_col0 {\n",
       "            background-color:  #3b4cc0;\n",
       "            color:  #f1f1f1;\n",
       "        }    #T_844c9cb6_e239_11eb_b984_02420a3982farow2_col0 {\n",
       "            background-color:  #445acc;\n",
       "            color:  #f1f1f1;\n",
       "        }    #T_844c9cb6_e239_11eb_b984_02420a3982farow3_col0 {\n",
       "            background-color:  #3b4cc0;\n",
       "            color:  #f1f1f1;\n",
       "        }    #T_844c9cb6_e239_11eb_b984_02420a3982farow4_col0 {\n",
       "            background-color:  #3b4cc0;\n",
       "            color:  #f1f1f1;\n",
       "        }    #T_844c9cb6_e239_11eb_b984_02420a3982farow5_col0 {\n",
       "            background-color:  #3b4cc0;\n",
       "            color:  #f1f1f1;\n",
       "        }    #T_844c9cb6_e239_11eb_b984_02420a3982farow6_col0 {\n",
       "            background-color:  #3b4cc0;\n",
       "            color:  #f1f1f1;\n",
       "        }    #T_844c9cb6_e239_11eb_b984_02420a3982farow7_col0 {\n",
       "            background-color:  #3b4cc0;\n",
       "            color:  #f1f1f1;\n",
       "        }    #T_844c9cb6_e239_11eb_b984_02420a3982farow8_col0 {\n",
       "            background-color:  #b40426;\n",
       "            color:  #f1f1f1;\n",
       "        }    #T_844c9cb6_e239_11eb_b984_02420a3982farow9_col0 {\n",
       "            background-color:  #f18d6f;\n",
       "            color:  #000000;\n",
       "        }    #T_844c9cb6_e239_11eb_b984_02420a3982farow10_col0 {\n",
       "            background-color:  #f08a6c;\n",
       "            color:  #000000;\n",
       "        }</style><table id=\"T_844c9cb6_e239_11eb_b984_02420a3982fa\" ><thead>    <tr>        <th class=\"blank level0\" ></th>        <th class=\"col_heading level0 col0\" >0</th>    </tr></thead><tbody>\n",
       "                <tr>\n",
       "                        <th id=\"T_844c9cb6_e239_11eb_b984_02420a3982falevel0_row0\" class=\"row_heading level0 row0\" >Name</th>\n",
       "                        <td id=\"T_844c9cb6_e239_11eb_b984_02420a3982farow0_col0\" class=\"data row0 col0\" >0.01</td>\n",
       "            </tr>\n",
       "            <tr>\n",
       "                        <th id=\"T_844c9cb6_e239_11eb_b984_02420a3982falevel0_row1\" class=\"row_heading level0 row1\" >Platform</th>\n",
       "                        <td id=\"T_844c9cb6_e239_11eb_b984_02420a3982farow1_col0\" class=\"data row1 col0\" >0</td>\n",
       "            </tr>\n",
       "            <tr>\n",
       "                        <th id=\"T_844c9cb6_e239_11eb_b984_02420a3982falevel0_row2\" class=\"row_heading level0 row2\" >Year_of_Release</th>\n",
       "                        <td id=\"T_844c9cb6_e239_11eb_b984_02420a3982farow2_col0\" class=\"data row2 col0\" >1.61</td>\n",
       "            </tr>\n",
       "            <tr>\n",
       "                        <th id=\"T_844c9cb6_e239_11eb_b984_02420a3982falevel0_row3\" class=\"row_heading level0 row3\" >Genre</th>\n",
       "                        <td id=\"T_844c9cb6_e239_11eb_b984_02420a3982farow3_col0\" class=\"data row3 col0\" >0.01</td>\n",
       "            </tr>\n",
       "            <tr>\n",
       "                        <th id=\"T_844c9cb6_e239_11eb_b984_02420a3982falevel0_row4\" class=\"row_heading level0 row4\" >NA_sales</th>\n",
       "                        <td id=\"T_844c9cb6_e239_11eb_b984_02420a3982farow4_col0\" class=\"data row4 col0\" >0</td>\n",
       "            </tr>\n",
       "            <tr>\n",
       "                        <th id=\"T_844c9cb6_e239_11eb_b984_02420a3982falevel0_row5\" class=\"row_heading level0 row5\" >EU_sales</th>\n",
       "                        <td id=\"T_844c9cb6_e239_11eb_b984_02420a3982farow5_col0\" class=\"data row5 col0\" >0</td>\n",
       "            </tr>\n",
       "            <tr>\n",
       "                        <th id=\"T_844c9cb6_e239_11eb_b984_02420a3982falevel0_row6\" class=\"row_heading level0 row6\" >JP_sales</th>\n",
       "                        <td id=\"T_844c9cb6_e239_11eb_b984_02420a3982farow6_col0\" class=\"data row6 col0\" >0</td>\n",
       "            </tr>\n",
       "            <tr>\n",
       "                        <th id=\"T_844c9cb6_e239_11eb_b984_02420a3982falevel0_row7\" class=\"row_heading level0 row7\" >Other_sales</th>\n",
       "                        <td id=\"T_844c9cb6_e239_11eb_b984_02420a3982farow7_col0\" class=\"data row7 col0\" >0</td>\n",
       "            </tr>\n",
       "            <tr>\n",
       "                        <th id=\"T_844c9cb6_e239_11eb_b984_02420a3982falevel0_row8\" class=\"row_heading level0 row8\" >Critic_Score</th>\n",
       "                        <td id=\"T_844c9cb6_e239_11eb_b984_02420a3982farow8_col0\" class=\"data row8 col0\" >51.32</td>\n",
       "            </tr>\n",
       "            <tr>\n",
       "                        <th id=\"T_844c9cb6_e239_11eb_b984_02420a3982falevel0_row9\" class=\"row_heading level0 row9\" >User_Score</th>\n",
       "                        <td id=\"T_844c9cb6_e239_11eb_b984_02420a3982farow9_col0\" class=\"data row9 col0\" >40.09</td>\n",
       "            </tr>\n",
       "            <tr>\n",
       "                        <th id=\"T_844c9cb6_e239_11eb_b984_02420a3982falevel0_row10\" class=\"row_heading level0 row10\" >Rating</th>\n",
       "                        <td id=\"T_844c9cb6_e239_11eb_b984_02420a3982farow10_col0\" class=\"data row10 col0\" >40.48</td>\n",
       "            </tr>\n",
       "    </tbody></table>"
      ],
      "text/plain": [
       "<pandas.io.formats.style.Styler at 0x7faf240b3ad0>"
      ]
     },
     "execution_count": 8,
     "metadata": {},
     "output_type": "execute_result"
    }
   ],
   "source": [
    "pd.DataFrame(round((data.isna().mean()*100),2)).style.background_gradient('coolwarm')"
   ]
  },
  {
   "cell_type": "markdown",
   "metadata": {},
   "source": [
    "### Вывод"
   ]
  },
  {
   "cell_type": "markdown",
   "metadata": {},
   "source": [
    "В нашем распроряжении данные до 2016 года о продажах игр, оценки пользователей и экспертов, жанры и платформы, а так же сборы по регионам.При первом взгляде на данные из таблиц можно заметить неверные форматы некоторых данных и ошибки:\n",
    "- В некотрых столбцах имеются пропуски\n",
    "- В стоблце User_Score неверно указан тип данных"
   ]
  },
  {
   "cell_type": "markdown",
   "metadata": {},
   "source": [
    "## Шаг 2. Подготовка данных\n"
   ]
  },
  {
   "cell_type": "code",
   "execution_count": 9,
   "metadata": {},
   "outputs": [],
   "source": [
    "data.columns = data.columns.str.lower()\n",
    "data = data.replace('K-A','E')\n",
    "data['year_of_release'] = data['year_of_release'].fillna(data.groupby('name')['year_of_release'].transform('max'))\n",
    "data['year_of_release'] = data['year_of_release'].fillna(1900).astype(int)\n",
    "data = data.replace('tbd',np.nan)\n",
    "data['user_score'] = data['user_score'].astype(float)\n",
    "data['rating'] = data['rating'].fillna('undefined')"
   ]
  },
  {
   "cell_type": "code",
   "execution_count": 10,
   "metadata": {},
   "outputs": [],
   "source": [
    "data['sum_sales_all'] = data['na_sales']+data['eu_sales']+data['jp_sales']+data['other_sales']"
   ]
  },
  {
   "cell_type": "markdown",
   "metadata": {},
   "source": [
    "### Вывод"
   ]
  },
  {
   "cell_type": "markdown",
   "metadata": {},
   "source": [
    "- Заменим названия столбцов (приведем к нижнему регистру)\n",
    "- Заменим рейтинг K-A(устаревшее) на E так как это один и тот же рейтинг\n",
    "- В столбце с годом выхода игры встречаются пропущенные значения, они могут быть связаны с ошибкой в данных,но есть одинаковые игры у которых дата выхода надругих платформах есть, поэтому заменим пропущенные значения года на то же год выхода той же игры, но на другой платформе. Для этого сгрупперуем данные по названию игры и году выпуска и применим метод transform. В остальных случаях сделаем замену на маркер-1900 (так как пропусков останется меньше 1%) и изменим тип данных в столбце на int\n",
    "- В столбцах с названием игры и рейтингом тоже есть пропущенные значения(но их всего 2), скорее всего связано с переносом данных, оставим их\n",
    "- В столбце с оценкой пользователя встречается аббревиатура 'tbd', применительно к играм скорее всего это значит To Be Determined, что оценка еще не определена, поэтому заменю это значение на NaN то есть оценки еще нет\n",
    "- Пропуски в столбцах с оценками скорее всего связаны с тем что игра на рынке особо не освещалась или не привлекла достаточно внимания пользователей/критиков\n",
    "- Создадим столбец sum_sales_all в котором посчитаем суммарные продажи во всех регионах"
   ]
  },
  {
   "cell_type": "markdown",
   "metadata": {},
   "source": [
    "## Шаг 3. Исследовательский анализ данных"
   ]
  },
  {
   "cell_type": "code",
   "execution_count": 11,
   "metadata": {},
   "outputs": [
    {
     "data": {
      "image/png": "[encoded data removed]",
      "text/plain": [
       "<Figure size 1008x432 with 1 Axes>"
      ]
     },
     "metadata": {
      "needs_background": "light"
     },
     "output_type": "display_data"
    }
   ],
   "source": [
    "data.pivot_table(index='year_of_release',values='name',aggfunc='count').plot(kind='bar',legend=False,figsize=(14,6),grid=True,title='Количество игр/Год')\n",
    "plt.xlabel('Год')\n",
    "plt.ylabel('Количество игр')\n",
    "plt.show()\n",
    "data = data.query('year_of_release>=1995')"
   ]
  },
  {
   "cell_type": "markdown",
   "metadata": {},
   "source": [
    "### Комментарий\n",
    "- Построим график что бы посмотреть сколько игр выпускалось в разные годы.График сильно скошен влево.Пик выпуска игр пришелся на 2008-2009 годы. Из графика видно, что большая часть игр выпускалась с 1995 года, для дальнейшего анализа возьмем период с 1995 по 2016."
   ]
  },
  {
   "cell_type": "code",
   "execution_count": 12,
   "metadata": {},
   "outputs": [
    {
     "data": {
      "text/html": [
       "<div>\n",
       "<style scoped>\n",
       "    .dataframe tbody tr th:only-of-type {\n",
       "        vertical-align: middle;\n",
       "    }\n",
       "\n",
       "    .dataframe tbody tr th {\n",
       "        vertical-align: top;\n",
       "    }\n",
       "\n",
       "    .dataframe thead th {\n",
       "        text-align: right;\n",
       "    }\n",
       "</style>\n",
       "<table border=\"1\" class=\"dataframe\">\n",
       "  <thead>\n",
       "    <tr style=\"text-align: right;\">\n",
       "      <th></th>\n",
       "      <th></th>\n",
       "      <th>sum_sales_all</th>\n",
       "    </tr>\n",
       "    <tr>\n",
       "      <th>platform</th>\n",
       "      <th>year_of_release</th>\n",
       "      <th></th>\n",
       "    </tr>\n",
       "  </thead>\n",
       "  <tbody>\n",
       "    <tr>\n",
       "      <td rowspan=\"5\" valign=\"top\">DS</td>\n",
       "      <td>2005</td>\n",
       "      <td>130.14</td>\n",
       "    </tr>\n",
       "    <tr>\n",
       "      <td>2006</td>\n",
       "      <td>119.81</td>\n",
       "    </tr>\n",
       "    <tr>\n",
       "      <td>2007</td>\n",
       "      <td>147.23</td>\n",
       "    </tr>\n",
       "    <tr>\n",
       "      <td>2008</td>\n",
       "      <td>145.36</td>\n",
       "    </tr>\n",
       "    <tr>\n",
       "      <td>2009</td>\n",
       "      <td>119.56</td>\n",
       "    </tr>\n",
       "    <tr>\n",
       "      <td rowspan=\"3\" valign=\"top\">PS</td>\n",
       "      <td>1997</td>\n",
       "      <td>136.17</td>\n",
       "    </tr>\n",
       "    <tr>\n",
       "      <td>1998</td>\n",
       "      <td>169.49</td>\n",
       "    </tr>\n",
       "    <tr>\n",
       "      <td>1999</td>\n",
       "      <td>144.53</td>\n",
       "    </tr>\n",
       "    <tr>\n",
       "      <td rowspan=\"6\" valign=\"top\">PS2</td>\n",
       "      <td>2001</td>\n",
       "      <td>166.43</td>\n",
       "    </tr>\n",
       "    <tr>\n",
       "      <td>2002</td>\n",
       "      <td>208.36</td>\n",
       "    </tr>\n",
       "    <tr>\n",
       "      <td>2003</td>\n",
       "      <td>193.05</td>\n",
       "    </tr>\n",
       "    <tr>\n",
       "      <td>2004</td>\n",
       "      <td>211.81</td>\n",
       "    </tr>\n",
       "    <tr>\n",
       "      <td>2005</td>\n",
       "      <td>160.66</td>\n",
       "    </tr>\n",
       "    <tr>\n",
       "      <td>2006</td>\n",
       "      <td>104.24</td>\n",
       "    </tr>\n",
       "    <tr>\n",
       "      <td rowspan=\"6\" valign=\"top\">PS3</td>\n",
       "      <td>2008</td>\n",
       "      <td>118.79</td>\n",
       "    </tr>\n",
       "    <tr>\n",
       "      <td>2009</td>\n",
       "      <td>130.93</td>\n",
       "    </tr>\n",
       "    <tr>\n",
       "      <td>2010</td>\n",
       "      <td>142.96</td>\n",
       "    </tr>\n",
       "    <tr>\n",
       "      <td>2011</td>\n",
       "      <td>157.98</td>\n",
       "    </tr>\n",
       "    <tr>\n",
       "      <td>2012</td>\n",
       "      <td>108.28</td>\n",
       "    </tr>\n",
       "    <tr>\n",
       "      <td>2013</td>\n",
       "      <td>113.25</td>\n",
       "    </tr>\n",
       "    <tr>\n",
       "      <td>PS4</td>\n",
       "      <td>2015</td>\n",
       "      <td>118.90</td>\n",
       "    </tr>\n",
       "    <tr>\n",
       "      <td rowspan=\"5\" valign=\"top\">Wii</td>\n",
       "      <td>2006</td>\n",
       "      <td>140.19</td>\n",
       "    </tr>\n",
       "    <tr>\n",
       "      <td>2007</td>\n",
       "      <td>153.41</td>\n",
       "    </tr>\n",
       "    <tr>\n",
       "      <td>2008</td>\n",
       "      <td>177.68</td>\n",
       "    </tr>\n",
       "    <tr>\n",
       "      <td>2009</td>\n",
       "      <td>206.97</td>\n",
       "    </tr>\n",
       "    <tr>\n",
       "      <td>2010</td>\n",
       "      <td>128.67</td>\n",
       "    </tr>\n",
       "    <tr>\n",
       "      <td rowspan=\"5\" valign=\"top\">X360</td>\n",
       "      <td>2008</td>\n",
       "      <td>136.07</td>\n",
       "    </tr>\n",
       "    <tr>\n",
       "      <td>2009</td>\n",
       "      <td>120.82</td>\n",
       "    </tr>\n",
       "    <tr>\n",
       "      <td>2010</td>\n",
       "      <td>170.55</td>\n",
       "    </tr>\n",
       "    <tr>\n",
       "      <td>2011</td>\n",
       "      <td>145.23</td>\n",
       "    </tr>\n",
       "    <tr>\n",
       "      <td>2012</td>\n",
       "      <td>100.72</td>\n",
       "    </tr>\n",
       "  </tbody>\n",
       "</table>\n",
       "</div>"
      ],
      "text/plain": [
       "                          sum_sales_all\n",
       "platform year_of_release               \n",
       "DS       2005                    130.14\n",
       "         2006                    119.81\n",
       "         2007                    147.23\n",
       "         2008                    145.36\n",
       "         2009                    119.56\n",
       "PS       1997                    136.17\n",
       "         1998                    169.49\n",
       "         1999                    144.53\n",
       "PS2      2001                    166.43\n",
       "         2002                    208.36\n",
       "         2003                    193.05\n",
       "         2004                    211.81\n",
       "         2005                    160.66\n",
       "         2006                    104.24\n",
       "PS3      2008                    118.79\n",
       "         2009                    130.93\n",
       "         2010                    142.96\n",
       "         2011                    157.98\n",
       "         2012                    108.28\n",
       "         2013                    113.25\n",
       "PS4      2015                    118.90\n",
       "Wii      2006                    140.19\n",
       "         2007                    153.41\n",
       "         2008                    177.68\n",
       "         2009                    206.97\n",
       "         2010                    128.67\n",
       "X360     2008                    136.07\n",
       "         2009                    120.82\n",
       "         2010                    170.55\n",
       "         2011                    145.23\n",
       "         2012                    100.72"
      ]
     },
     "execution_count": 12,
     "metadata": {},
     "output_type": "execute_result"
    }
   ],
   "source": [
    "top_platform = data.pivot_table(index=['platform','year_of_release'],values='sum_sales_all',aggfunc='sum').sort_values(['sum_sales_all'],ascending=False)\n",
    "top_platform = top_platform.query('sum_sales_all>100').sort_values(['platform','year_of_release'],ascending=True)\n",
    "top_platform"
   ]
  },
  {
   "cell_type": "markdown",
   "metadata": {},
   "source": [
    "### Комментарий \n",
    "-Выберем платформы с наибольшими суммарными продажами по годам, возьмем только у которых суммарные продажи превышают 100 мил. копий"
   ]
  },
  {
   "cell_type": "code",
   "execution_count": 13,
   "metadata": {},
   "outputs": [
    {
     "data": {
      "image/png": "[encoded data removed]",
      "text/plain": [
       "<Figure size 1296x432 with 1 Axes>"
      ]
     },
     "metadata": {
      "needs_background": "light"
     },
     "output_type": "display_data"
    }
   ],
   "source": [
    "top_platform.plot(kind='bar',legend=False,figsize=(18,6),grid=True,title='Распределение продаж по платфомам и годам')\n",
    "plt.xlabel(\"Платформа/Год\")\n",
    "plt.ylabel(\"Продажи\")\n",
    "plt.show()"
   ]
  },
  {
   "cell_type": "markdown",
   "metadata": {},
   "source": [
    "### Комментерий\n",
    "- Из графика видно что жизненый цикл платформы 3-5 лет, пик продаж игр приходится примерно на середину жизненного цикла, потом она обновляется, появляется новая, а интерес к старой платформе постепенно теряется."
   ]
  },
  {
   "cell_type": "markdown",
   "metadata": {},
   "source": [
    "### Для дальнейшего анализа нам потребуются данные только за 2015-2016 год, так как мы планируем компанию на 2017 год, нам нужны наиболее свежие данные по актульным играм и платфомам"
   ]
  },
  {
   "cell_type": "code",
   "execution_count": 14,
   "metadata": {},
   "outputs": [
    {
     "data": {
      "text/html": [
       "<div>\n",
       "<style scoped>\n",
       "    .dataframe tbody tr th:only-of-type {\n",
       "        vertical-align: middle;\n",
       "    }\n",
       "\n",
       "    .dataframe tbody tr th {\n",
       "        vertical-align: top;\n",
       "    }\n",
       "\n",
       "    .dataframe thead th {\n",
       "        text-align: right;\n",
       "    }\n",
       "</style>\n",
       "<table border=\"1\" class=\"dataframe\">\n",
       "  <thead>\n",
       "    <tr style=\"text-align: right;\">\n",
       "      <th></th>\n",
       "      <th></th>\n",
       "      <th>sum_sales_all</th>\n",
       "    </tr>\n",
       "    <tr>\n",
       "      <th>platform</th>\n",
       "      <th>year_of_release</th>\n",
       "      <th></th>\n",
       "    </tr>\n",
       "  </thead>\n",
       "  <tbody>\n",
       "    <tr>\n",
       "      <td rowspan=\"2\" valign=\"top\">PS4</td>\n",
       "      <td>2015</td>\n",
       "      <td>118.90</td>\n",
       "    </tr>\n",
       "    <tr>\n",
       "      <td>2016</td>\n",
       "      <td>69.25</td>\n",
       "    </tr>\n",
       "    <tr>\n",
       "      <td>XOne</td>\n",
       "      <td>2015</td>\n",
       "      <td>60.14</td>\n",
       "    </tr>\n",
       "    <tr>\n",
       "      <td>3DS</td>\n",
       "      <td>2015</td>\n",
       "      <td>27.78</td>\n",
       "    </tr>\n",
       "    <tr>\n",
       "      <td>XOne</td>\n",
       "      <td>2016</td>\n",
       "      <td>26.15</td>\n",
       "    </tr>\n",
       "    <tr>\n",
       "      <td>PS3</td>\n",
       "      <td>2015</td>\n",
       "      <td>16.82</td>\n",
       "    </tr>\n",
       "    <tr>\n",
       "      <td>WiiU</td>\n",
       "      <td>2015</td>\n",
       "      <td>16.35</td>\n",
       "    </tr>\n",
       "    <tr>\n",
       "      <td>3DS</td>\n",
       "      <td>2016</td>\n",
       "      <td>15.14</td>\n",
       "    </tr>\n",
       "    <tr>\n",
       "      <td>X360</td>\n",
       "      <td>2015</td>\n",
       "      <td>11.96</td>\n",
       "    </tr>\n",
       "    <tr>\n",
       "      <td>PC</td>\n",
       "      <td>2015</td>\n",
       "      <td>8.52</td>\n",
       "    </tr>\n",
       "    <tr>\n",
       "      <td>PSV</td>\n",
       "      <td>2015</td>\n",
       "      <td>6.25</td>\n",
       "    </tr>\n",
       "    <tr>\n",
       "      <td>PC</td>\n",
       "      <td>2016</td>\n",
       "      <td>5.25</td>\n",
       "    </tr>\n",
       "    <tr>\n",
       "      <td>WiiU</td>\n",
       "      <td>2016</td>\n",
       "      <td>4.60</td>\n",
       "    </tr>\n",
       "    <tr>\n",
       "      <td>PSV</td>\n",
       "      <td>2016</td>\n",
       "      <td>4.25</td>\n",
       "    </tr>\n",
       "    <tr>\n",
       "      <td>PS3</td>\n",
       "      <td>2016</td>\n",
       "      <td>3.60</td>\n",
       "    </tr>\n",
       "    <tr>\n",
       "      <td>X360</td>\n",
       "      <td>2016</td>\n",
       "      <td>1.52</td>\n",
       "    </tr>\n",
       "    <tr>\n",
       "      <td rowspan=\"2\" valign=\"top\">Wii</td>\n",
       "      <td>2015</td>\n",
       "      <td>1.14</td>\n",
       "    </tr>\n",
       "    <tr>\n",
       "      <td>2016</td>\n",
       "      <td>0.18</td>\n",
       "    </tr>\n",
       "    <tr>\n",
       "      <td>PSP</td>\n",
       "      <td>2015</td>\n",
       "      <td>0.12</td>\n",
       "    </tr>\n",
       "  </tbody>\n",
       "</table>\n",
       "</div>"
      ],
      "text/plain": [
       "                          sum_sales_all\n",
       "platform year_of_release               \n",
       "PS4      2015                    118.90\n",
       "         2016                     69.25\n",
       "XOne     2015                     60.14\n",
       "3DS      2015                     27.78\n",
       "XOne     2016                     26.15\n",
       "PS3      2015                     16.82\n",
       "WiiU     2015                     16.35\n",
       "3DS      2016                     15.14\n",
       "X360     2015                     11.96\n",
       "PC       2015                      8.52\n",
       "PSV      2015                      6.25\n",
       "PC       2016                      5.25\n",
       "WiiU     2016                      4.60\n",
       "PSV      2016                      4.25\n",
       "PS3      2016                      3.60\n",
       "X360     2016                      1.52\n",
       "Wii      2015                      1.14\n",
       "         2016                      0.18\n",
       "PSP      2015                      0.12"
      ]
     },
     "execution_count": 14,
     "metadata": {},
     "output_type": "execute_result"
    }
   ],
   "source": [
    "data_current_period = data.query('year_of_release >= 2015')\n",
    "data_current_period_pivot = data_current_period.pivot_table(index=['platform','year_of_release'],values='sum_sales_all',aggfunc='sum').sort_values('sum_sales_all',ascending=False)\n",
    "data_current_period_pivot"
   ]
  },
  {
   "cell_type": "code",
   "execution_count": 15,
   "metadata": {},
   "outputs": [
    {
     "data": {
      "image/png": "[encoded data removed]",
      "text/plain": [
       "<Figure size 1008x432 with 1 Axes>"
      ]
     },
     "metadata": {
      "needs_background": "light"
     },
     "output_type": "display_data"
    }
   ],
   "source": [
    "data_current_period_pivot.plot(kind='bar',legend=False,figsize=(14,6),grid=True,title='Распределение продаж по платфомам за 2015-2016 годы')\n",
    "plt.xlabel('Платформа/Год')\n",
    "plt.ylabel('Продажи')\n",
    "plt.show()"
   ]
  },
  {
   "cell_type": "markdown",
   "metadata": {},
   "source": [
    "### Комментарий\n",
    "- На графике видно, что с большим отрывом лидируют в 2016 году по продажам PS4,XOne и 3DS, действительно это самые популярные приставки, у остальных платформ продажи в разы меньше. Хотя продажи по сравнению с 2015 годом упали у всех платформ, сильнее всего у PS4"
   ]
  },
  {
   "cell_type": "code",
   "execution_count": 16,
   "metadata": {},
   "outputs": [
    {
     "data": {
      "text/html": [
       "<div>\n",
       "<style scoped>\n",
       "    .dataframe tbody tr th:only-of-type {\n",
       "        vertical-align: middle;\n",
       "    }\n",
       "\n",
       "    .dataframe tbody tr th {\n",
       "        vertical-align: top;\n",
       "    }\n",
       "\n",
       "    .dataframe thead th {\n",
       "        text-align: right;\n",
       "    }\n",
       "</style>\n",
       "<table border=\"1\" class=\"dataframe\">\n",
       "  <thead>\n",
       "    <tr style=\"text-align: right;\">\n",
       "      <th></th>\n",
       "      <th>sum_sales_all</th>\n",
       "    </tr>\n",
       "    <tr>\n",
       "      <th>platform</th>\n",
       "      <th></th>\n",
       "    </tr>\n",
       "  </thead>\n",
       "  <tbody>\n",
       "    <tr>\n",
       "      <td>PS4</td>\n",
       "      <td>188.15</td>\n",
       "    </tr>\n",
       "    <tr>\n",
       "      <td>XOne</td>\n",
       "      <td>86.29</td>\n",
       "    </tr>\n",
       "    <tr>\n",
       "      <td>3DS</td>\n",
       "      <td>42.92</td>\n",
       "    </tr>\n",
       "    <tr>\n",
       "      <td>WiiU</td>\n",
       "      <td>20.95</td>\n",
       "    </tr>\n",
       "    <tr>\n",
       "      <td>PS3</td>\n",
       "      <td>20.42</td>\n",
       "    </tr>\n",
       "    <tr>\n",
       "      <td>PC</td>\n",
       "      <td>13.77</td>\n",
       "    </tr>\n",
       "    <tr>\n",
       "      <td>X360</td>\n",
       "      <td>13.48</td>\n",
       "    </tr>\n",
       "    <tr>\n",
       "      <td>PSV</td>\n",
       "      <td>10.50</td>\n",
       "    </tr>\n",
       "    <tr>\n",
       "      <td>Wii</td>\n",
       "      <td>1.32</td>\n",
       "    </tr>\n",
       "    <tr>\n",
       "      <td>PSP</td>\n",
       "      <td>0.12</td>\n",
       "    </tr>\n",
       "  </tbody>\n",
       "</table>\n",
       "</div>"
      ],
      "text/plain": [
       "          sum_sales_all\n",
       "platform               \n",
       "PS4              188.15\n",
       "XOne              86.29\n",
       "3DS               42.92\n",
       "WiiU              20.95\n",
       "PS3               20.42\n",
       "PC                13.77\n",
       "X360              13.48\n",
       "PSV               10.50\n",
       "Wii                1.32\n",
       "PSP                0.12"
      ]
     },
     "execution_count": 16,
     "metadata": {},
     "output_type": "execute_result"
    }
   ],
   "source": [
    "data_current_period_top = data_current_period.pivot_table(index='platform',values='sum_sales_all',aggfunc='sum')\n",
    "data_current_period_top_3 = data_current_period_top.sort_values('sum_sales_all',ascending=False)\n",
    "data_current_period_top_3"
   ]
  },
  {
   "cell_type": "markdown",
   "metadata": {},
   "source": [
    "### Комментарий\n",
    "- Три самые потенциально выгодные платформы PS4,XOne и 3DS, у них больше всего общих продаж игр"
   ]
  },
  {
   "cell_type": "code",
   "execution_count": 17,
   "metadata": {
    "scrolled": true
   },
   "outputs": [
    {
     "name": "stderr",
     "output_type": "stream",
     "text": [
      "/opt/conda/lib/python3.7/site-packages/numpy/core/_asarray.py:83: VisibleDeprecationWarning: Creating an ndarray from ragged nested sequences (which is a list-or-tuple of lists-or-tuples-or ndarrays with different lengths or shapes) is deprecated. If you meant to do this, you must specify 'dtype=object' when creating the ndarray\n",
      "  return array(a, dtype, copy=False, order=order)\n"
     ]
    },
    {
     "data": {
      "text/plain": [
       "(0, 3)"
      ]
     },
     "execution_count": 17,
     "metadata": {},
     "output_type": "execute_result"
    },
    {
     "data": {
      "image/png": "[encoded data removed]",
      "text/plain": [
       "<Figure size 1080x720 with 1 Axes>"
      ]
     },
     "metadata": {
      "needs_background": "light"
     },
     "output_type": "display_data"
    }
   ],
   "source": [
    "data_current_period.boxplot('sum_sales_all', by='platform', figsize=(15,10),showfliers = False).set_ylim(0, 3)"
   ]
  },
  {
   "cell_type": "markdown",
   "metadata": {},
   "source": [
    "### Комментарий\n",
    "- В данном случае выбросы говорят о том что есть большое количество игр продажи которых сильно выделяются на фоне общей массы игр, на каких то платформах их больше PS4, PS3, 3DS на каких то меньше xone,x360,wiiU"
   ]
  },
  {
   "cell_type": "code",
   "execution_count": 18,
   "metadata": {},
   "outputs": [],
   "source": [
    "data_current_period_PS4 = data_current_period.query('platform == \"PS4\"')"
   ]
  },
  {
   "cell_type": "code",
   "execution_count": 19,
   "metadata": {
    "scrolled": true
   },
   "outputs": [
    {
     "data": {
      "image/png": "[encoded data removed]",
      "text/plain": [
       "<Figure size 1008x432 with 2 Axes>"
      ]
     },
     "metadata": {
      "needs_background": "light"
     },
     "output_type": "display_data"
    },
    {
     "name": "stdout",
     "output_type": "stream",
     "text": [
      "Коэффицент корреляции между отзывами критиков и продажами : 0.3928485555130601\n",
      "Коэффицент корреляции между отзывами пользователей и продажами : -0.05973845712638215\n"
     ]
    }
   ],
   "source": [
    "fig, (ax1, ax2) = plt.subplots(1, 2, figsize=(14, 6))\n",
    "\n",
    "fig.suptitle('Распределение зависимости оценки от количества продаж игр на PS4')\n",
    "\n",
    "ax1.scatter(data_current_period_PS4['critic_score'],data_current_period_PS4['sum_sales_all'])\n",
    "ax1.set_title('Оценки критиков/продажи')\n",
    "ax1.set_xlabel('Оценки')\n",
    "ax1.set_ylabel('Количество продаж млн.')\n",
    "\n",
    "ax2.scatter(data_current_period_PS4['user_score'],data_current_period_PS4['sum_sales_all'])\n",
    "ax2.set_title('Оценки пользователей/продажи')\n",
    "ax2.set_xlabel('Оценки')\n",
    "ax2.set_ylabel('Количество продаж млн.')\n",
    "plt.show()\n",
    "print('Коэффицент корреляции между отзывами критиков и продажами :',data_current_period_PS4['critic_score'].corr(data_current_period_PS4['sum_sales_all']))\n",
    "print('Коэффицент корреляции между отзывами пользователей и продажами :',data_current_period_PS4['user_score'].corr(data_current_period_PS4['sum_sales_all']))"
   ]
  },
  {
   "cell_type": "markdown",
   "metadata": {},
   "source": [
    "### Комментарий\n",
    "- Связь между отзывами критиков и продажами прослеживается, но она слабая.Коэффицент корреляции между отзывами критиков и продажами 0.39\n",
    "- Связь между отзывами пользователей отсутствует, так как коэффицент корреляции между отзывами пользователей и продажами равен -0.06\n",
    "- Из этого можно сделать вывод что отзывы критиков на продажи влияют больше чем отзывы пользователей"
   ]
  },
  {
   "cell_type": "code",
   "execution_count": 20,
   "metadata": {},
   "outputs": [
    {
     "name": "stdout",
     "output_type": "stream",
     "text": [
      "Для XOne\n",
      "Коэффицент корреляции между отзывами критиков и продажами : 0.43088874582136805\n",
      "Коэффицент корреляции между отзывами пользователей и продажами : -0.04146733387366271\n",
      "Для 3DS\n",
      "Коэффицент корреляции между отзывами критиков и продажами : 0.17757455046092874\n",
      "Коэффицент корреляции между отзывами пользователей и продажами : 0.19879627008102982\n",
      "Для WiiU\n",
      "Коэффицент корреляции между отзывами критиков и продажами : 0.317045711769622\n",
      "Коэффицент корреляции между отзывами пользователей и продажами : 0.3635185724809445\n",
      "Для X360\n",
      "Коэффицент корреляции между отзывами критиков и продажами : nan\n",
      "Коэффицент корреляции между отзывами пользователей и продажами : -0.2813082274094897\n",
      "Для PC\n",
      "Коэффицент корреляции между отзывами критиков и продажами : 0.3773317477241351\n",
      "Коэффицент корреляции между отзывами пользователей и продажами : 0.15038053045029076\n",
      "Для PSV\n",
      "Коэффицент корреляции между отзывами критиков и продажами : 0.0036040833609397678\n",
      "Коэффицент корреляции между отзывами пользователей и продажами : 0.07833473556248864\n"
     ]
    }
   ],
   "source": [
    "print('Для XOne')\n",
    "print('Коэффицент корреляции между отзывами критиков и продажами :',\n",
    "      data_current_period.query('platform==\"XOne\"')['critic_score'].corr(data_current_period['sum_sales_all']))\n",
    "print('Коэффицент корреляции между отзывами пользователей и продажами :',\n",
    "      data_current_period.query('platform==\"XOne\"')['user_score'].corr(data_current_period['sum_sales_all']))\n",
    "\n",
    "print('Для 3DS')\n",
    "print('Коэффицент корреляции между отзывами критиков и продажами :',\n",
    "      data_current_period.query('platform==\"3DS\"')['critic_score'].corr(data_current_period['sum_sales_all']))\n",
    "print('Коэффицент корреляции между отзывами пользователей и продажами :',\n",
    "      data_current_period.query('platform==\"3DS\"')['user_score'].corr(data_current_period['sum_sales_all']))\n",
    "\n",
    "print('Для WiiU')\n",
    "print('Коэффицент корреляции между отзывами критиков и продажами :',\n",
    "      data_current_period.query('platform==\"WiiU\"')['critic_score'].corr(data_current_period['sum_sales_all']))\n",
    "print('Коэффицент корреляции между отзывами пользователей и продажами :',\n",
    "      data_current_period.query('platform==\"WiiU\"')['user_score'].corr(data_current_period['sum_sales_all']))\n",
    "\n",
    "print('Для X360')\n",
    "print('Коэффицент корреляции между отзывами критиков и продажами :',\n",
    "      data_current_period.query('platform==\"X360\" & critic_score != \"NaN\"')['critic_score'].corr(data_current_period['sum_sales_all']))\n",
    "print('Коэффицент корреляции между отзывами пользователей и продажами :',\n",
    "      data_current_period.query('platform==\"X360\"')['user_score'].corr(data_current_period['sum_sales_all']))\n",
    "\n",
    "print('Для PC')\n",
    "print('Коэффицент корреляции между отзывами критиков и продажами :',\n",
    "      data_current_period.query('platform==\"PC\"')['critic_score'].corr(data_current_period['sum_sales_all']))\n",
    "print('Коэффицент корреляции между отзывами пользователей и продажами :',\n",
    "      data_current_period.query('platform==\"PC\"')['user_score'].corr(data_current_period['sum_sales_all']))\n",
    "\n",
    "print('Для PSV')\n",
    "print('Коэффицент корреляции между отзывами критиков и продажами :',\n",
    "      data_current_period.query('platform==\"PSV\"')['critic_score'].corr(data_current_period['sum_sales_all']))\n",
    "print('Коэффицент корреляции между отзывами пользователей и продажами :',\n",
    "      data_current_period.query('platform==\"PSV\"')['user_score'].corr(data_current_period['sum_sales_all']))"
   ]
  },
  {
   "cell_type": "markdown",
   "metadata": {},
   "source": [
    "### Комментарий\n",
    "- На других платфомах связи разные, например на XOne она похожа на PS4, но на платформах 3DS,WiiU,PC связь между отзывами пользователей и продажами слабая но есть, а на PSV оценки не влияют на продажи. В некоторых случаях коэффицент корреляции посчитать не удается, так как полностью отсутствуют оценки"
   ]
  },
  {
   "cell_type": "code",
   "execution_count": 21,
   "metadata": {},
   "outputs": [
    {
     "data": {
      "text/html": [
       "<div>\n",
       "<style scoped>\n",
       "    .dataframe tbody tr th:only-of-type {\n",
       "        vertical-align: middle;\n",
       "    }\n",
       "\n",
       "    .dataframe tbody tr th {\n",
       "        vertical-align: top;\n",
       "    }\n",
       "\n",
       "    .dataframe thead th {\n",
       "        text-align: right;\n",
       "    }\n",
       "</style>\n",
       "<table border=\"1\" class=\"dataframe\">\n",
       "  <thead>\n",
       "    <tr style=\"text-align: right;\">\n",
       "      <th></th>\n",
       "      <th>count</th>\n",
       "      <th>sum_sales_all</th>\n",
       "      <th>mean</th>\n",
       "    </tr>\n",
       "    <tr>\n",
       "      <th>genre</th>\n",
       "      <th></th>\n",
       "      <th></th>\n",
       "      <th></th>\n",
       "    </tr>\n",
       "  </thead>\n",
       "  <tbody>\n",
       "    <tr>\n",
       "      <td>Shooter</td>\n",
       "      <td>81</td>\n",
       "      <td>105.73</td>\n",
       "      <td>1.305309</td>\n",
       "    </tr>\n",
       "    <tr>\n",
       "      <td>Action</td>\n",
       "      <td>431</td>\n",
       "      <td>102.13</td>\n",
       "      <td>0.236961</td>\n",
       "    </tr>\n",
       "    <tr>\n",
       "      <td>Sports</td>\n",
       "      <td>107</td>\n",
       "      <td>64.33</td>\n",
       "      <td>0.601215</td>\n",
       "    </tr>\n",
       "    <tr>\n",
       "      <td>Role-Playing</td>\n",
       "      <td>132</td>\n",
       "      <td>55.82</td>\n",
       "      <td>0.422879</td>\n",
       "    </tr>\n",
       "    <tr>\n",
       "      <td>Misc</td>\n",
       "      <td>71</td>\n",
       "      <td>14.17</td>\n",
       "      <td>0.199577</td>\n",
       "    </tr>\n",
       "    <tr>\n",
       "      <td>Fighting</td>\n",
       "      <td>37</td>\n",
       "      <td>12.37</td>\n",
       "      <td>0.334324</td>\n",
       "    </tr>\n",
       "    <tr>\n",
       "      <td>Adventure</td>\n",
       "      <td>110</td>\n",
       "      <td>11.98</td>\n",
       "      <td>0.108909</td>\n",
       "    </tr>\n",
       "    <tr>\n",
       "      <td>Racing</td>\n",
       "      <td>42</td>\n",
       "      <td>10.86</td>\n",
       "      <td>0.258571</td>\n",
       "    </tr>\n",
       "    <tr>\n",
       "      <td>Platform</td>\n",
       "      <td>28</td>\n",
       "      <td>9.28</td>\n",
       "      <td>0.331429</td>\n",
       "    </tr>\n",
       "    <tr>\n",
       "      <td>Simulation</td>\n",
       "      <td>33</td>\n",
       "      <td>7.55</td>\n",
       "      <td>0.228788</td>\n",
       "    </tr>\n",
       "    <tr>\n",
       "      <td>Strategy</td>\n",
       "      <td>29</td>\n",
       "      <td>2.98</td>\n",
       "      <td>0.102759</td>\n",
       "    </tr>\n",
       "    <tr>\n",
       "      <td>Puzzle</td>\n",
       "      <td>7</td>\n",
       "      <td>0.72</td>\n",
       "      <td>0.102857</td>\n",
       "    </tr>\n",
       "  </tbody>\n",
       "</table>\n",
       "</div>"
      ],
      "text/plain": [
       "              count  sum_sales_all      mean\n",
       "genre                                       \n",
       "Shooter          81         105.73  1.305309\n",
       "Action          431         102.13  0.236961\n",
       "Sports          107          64.33  0.601215\n",
       "Role-Playing    132          55.82  0.422879\n",
       "Misc             71          14.17  0.199577\n",
       "Fighting         37          12.37  0.334324\n",
       "Adventure       110          11.98  0.108909\n",
       "Racing           42          10.86  0.258571\n",
       "Platform         28           9.28  0.331429\n",
       "Simulation       33           7.55  0.228788\n",
       "Strategy         29           2.98  0.102759\n",
       "Puzzle            7           0.72  0.102857"
      ]
     },
     "execution_count": 21,
     "metadata": {},
     "output_type": "execute_result"
    }
   ],
   "source": [
    "data_current_period_genre = data_current_period.pivot_table(index=['genre'],values='sum_sales_all',aggfunc=['count','sum','mean'])\n",
    "data_current_period_genre.columns = ['count','sum_sales_all','mean']\n",
    "data_current_period_genre.sort_values('sum_sales_all',ascending=False)"
   ]
  },
  {
   "cell_type": "code",
   "execution_count": 22,
   "metadata": {},
   "outputs": [
    {
     "data": {
      "image/png": "[encoded data removed]",
      "text/plain": [
       "<Figure size 1008x432 with 1 Axes>"
      ]
     },
     "metadata": {
      "needs_background": "light"
     },
     "output_type": "display_data"
    }
   ],
   "source": [
    "data_current_period.pivot_table(index='genre',values='sum_sales_all',aggfunc='sum').sort_values('sum_sales_all',ascending=False).plot(kind='bar',legend = False,figsize=(14,6),grid=True,title='Распределение игр по жанрам')\n",
    "plt.xlabel('Жанр')\n",
    "plt.ylabel('Продажи')\n",
    "plt.show()"
   ]
  },
  {
   "cell_type": "markdown",
   "metadata": {},
   "source": [
    "### Комметнарий\n",
    "- Больше всего игр по количеству проданно в жанрах Action,Role-Playing,Adventure и Sports. Но больше всего прибыли принесли Shooter и Action. Из этого можно сделать вывод что в жанре Action игр продается больше и они приносят отличную прибыль\n",
    "- Самые низкие суммы и количество продажи у Strategy и Puzzle их не выгодно продавать"
   ]
  },
  {
   "cell_type": "markdown",
   "metadata": {},
   "source": [
    "## Шаг 4.  Портрет пользователя каждого региона"
   ]
  },
  {
   "cell_type": "code",
   "execution_count": 23,
   "metadata": {},
   "outputs": [
    {
     "data": {
      "text/html": [
       "<div>\n",
       "<style scoped>\n",
       "    .dataframe tbody tr th:only-of-type {\n",
       "        vertical-align: middle;\n",
       "    }\n",
       "\n",
       "    .dataframe tbody tr th {\n",
       "        vertical-align: top;\n",
       "    }\n",
       "\n",
       "    .dataframe thead th {\n",
       "        text-align: right;\n",
       "    }\n",
       "</style>\n",
       "<table border=\"1\" class=\"dataframe\">\n",
       "  <thead>\n",
       "    <tr style=\"text-align: right;\">\n",
       "      <th></th>\n",
       "      <th>eu_sales</th>\n",
       "      <th>jp_sales</th>\n",
       "      <th>na_sales</th>\n",
       "      <th>sum_sales_all</th>\n",
       "      <th>part_eu</th>\n",
       "      <th>part_jp</th>\n",
       "      <th>part_na</th>\n",
       "    </tr>\n",
       "    <tr>\n",
       "      <th>platform</th>\n",
       "      <th></th>\n",
       "      <th></th>\n",
       "      <th></th>\n",
       "      <th></th>\n",
       "      <th></th>\n",
       "      <th></th>\n",
       "      <th></th>\n",
       "    </tr>\n",
       "  </thead>\n",
       "  <tbody>\n",
       "    <tr>\n",
       "      <td>PS4</td>\n",
       "      <td>83.54</td>\n",
       "      <td>12.05</td>\n",
       "      <td>63.86</td>\n",
       "      <td>188.15</td>\n",
       "      <td>62.9</td>\n",
       "      <td>26.9</td>\n",
       "      <td>45.9</td>\n",
       "    </tr>\n",
       "    <tr>\n",
       "      <td>XOne</td>\n",
       "      <td>28.10</td>\n",
       "      <td>0.18</td>\n",
       "      <td>50.30</td>\n",
       "      <td>86.29</td>\n",
       "      <td>21.2</td>\n",
       "      <td>0.4</td>\n",
       "      <td>36.2</td>\n",
       "    </tr>\n",
       "    <tr>\n",
       "      <td>3DS</td>\n",
       "      <td>7.39</td>\n",
       "      <td>23.55</td>\n",
       "      <td>10.31</td>\n",
       "      <td>42.92</td>\n",
       "      <td>5.6</td>\n",
       "      <td>52.5</td>\n",
       "      <td>7.4</td>\n",
       "    </tr>\n",
       "    <tr>\n",
       "      <td>WiiU</td>\n",
       "      <td>6.49</td>\n",
       "      <td>4.12</td>\n",
       "      <td>8.86</td>\n",
       "      <td>20.95</td>\n",
       "      <td>4.9</td>\n",
       "      <td>9.2</td>\n",
       "      <td>6.4</td>\n",
       "    </tr>\n",
       "    <tr>\n",
       "      <td>PS3</td>\n",
       "      <td>7.30</td>\n",
       "      <td>4.97</td>\n",
       "      <td>5.66</td>\n",
       "      <td>20.42</td>\n",
       "      <td>5.5</td>\n",
       "      <td>11.1</td>\n",
       "      <td>4.1</td>\n",
       "    </tr>\n",
       "  </tbody>\n",
       "</table>\n",
       "</div>"
      ],
      "text/plain": [
       "          eu_sales  jp_sales  na_sales  sum_sales_all  part_eu  part_jp  \\\n",
       "platform                                                                  \n",
       "PS4          83.54     12.05     63.86         188.15     62.9     26.9   \n",
       "XOne         28.10      0.18     50.30          86.29     21.2      0.4   \n",
       "3DS           7.39     23.55     10.31          42.92      5.6     52.5   \n",
       "WiiU          6.49      4.12      8.86          20.95      4.9      9.2   \n",
       "PS3           7.30      4.97      5.66          20.42      5.5     11.1   \n",
       "\n",
       "          part_na  \n",
       "platform           \n",
       "PS4          45.9  \n",
       "XOne         36.2  \n",
       "3DS           7.4  \n",
       "WiiU          6.4  \n",
       "PS3           4.1  "
      ]
     },
     "execution_count": 23,
     "metadata": {},
     "output_type": "execute_result"
    }
   ],
   "source": [
    "top_platform = data_current_period.pivot_table(index='platform',values=['na_sales','eu_sales','jp_sales','sum_sales_all'],aggfunc='sum').sort_values('sum_sales_all',ascending=False).head()\n",
    "top_platform['part_eu'] = round(top_platform['eu_sales']*100/top_platform['eu_sales'].sum(),1)\n",
    "top_platform['part_jp'] = round(top_platform['jp_sales']*100/top_platform['jp_sales'].sum(),1)\n",
    "top_platform['part_na'] = round(top_platform['na_sales']*100/top_platform['na_sales'].sum(),1)\n",
    "top_platform"
   ]
  },
  {
   "cell_type": "markdown",
   "metadata": {},
   "source": [
    "### Комментарий\n",
    "- Выведем отдельные столбцы по каждому региону в которых укажем долю продаж по каждой платформе в процентах \n",
    "- В Европе самой большой популярностью пользуются игры для PS4 ее доля почти 63%, на втором месте XOne с долей 21% остальное делят между собой 3DS,WiiU и PS3\n",
    "- В Японии же лидирует 3DS ее доля 52.5% на втором месте PS4 26.9% на третьем PS3 11.1%\n",
    "- В Северной Америке основные продажи приходятся на PS4 и XOne по 45,9% и 36.2% соответственно\n",
    "- PS4 в каждом регионе показывает отличные результаты по продажам игр"
   ]
  },
  {
   "cell_type": "code",
   "execution_count": 24,
   "metadata": {},
   "outputs": [
    {
     "data": {
      "text/html": [
       "<div>\n",
       "<style scoped>\n",
       "    .dataframe tbody tr th:only-of-type {\n",
       "        vertical-align: middle;\n",
       "    }\n",
       "\n",
       "    .dataframe tbody tr th {\n",
       "        vertical-align: top;\n",
       "    }\n",
       "\n",
       "    .dataframe thead th {\n",
       "        text-align: right;\n",
       "    }\n",
       "</style>\n",
       "<table border=\"1\" class=\"dataframe\">\n",
       "  <thead>\n",
       "    <tr style=\"text-align: right;\">\n",
       "      <th></th>\n",
       "      <th>eu_sales</th>\n",
       "      <th>jp_sales</th>\n",
       "      <th>na_sales</th>\n",
       "      <th>sum_sales_all</th>\n",
       "      <th>part_eu</th>\n",
       "      <th>part_jp</th>\n",
       "      <th>part_na</th>\n",
       "    </tr>\n",
       "    <tr>\n",
       "      <th>genre</th>\n",
       "      <th></th>\n",
       "      <th></th>\n",
       "      <th></th>\n",
       "      <th></th>\n",
       "      <th></th>\n",
       "      <th></th>\n",
       "      <th></th>\n",
       "    </tr>\n",
       "  </thead>\n",
       "  <tbody>\n",
       "    <tr>\n",
       "      <td>Shooter</td>\n",
       "      <td>40.28</td>\n",
       "      <td>3.79</td>\n",
       "      <td>48.18</td>\n",
       "      <td>105.73</td>\n",
       "      <td>32.4</td>\n",
       "      <td>8.4</td>\n",
       "      <td>36.1</td>\n",
       "    </tr>\n",
       "    <tr>\n",
       "      <td>Action</td>\n",
       "      <td>34.82</td>\n",
       "      <td>23.05</td>\n",
       "      <td>33.68</td>\n",
       "      <td>102.13</td>\n",
       "      <td>28.0</td>\n",
       "      <td>51.1</td>\n",
       "      <td>25.2</td>\n",
       "    </tr>\n",
       "    <tr>\n",
       "      <td>Sports</td>\n",
       "      <td>27.82</td>\n",
       "      <td>1.65</td>\n",
       "      <td>26.31</td>\n",
       "      <td>64.33</td>\n",
       "      <td>22.4</td>\n",
       "      <td>3.7</td>\n",
       "      <td>19.7</td>\n",
       "    </tr>\n",
       "    <tr>\n",
       "      <td>Role-Playing</td>\n",
       "      <td>17.21</td>\n",
       "      <td>13.41</td>\n",
       "      <td>19.82</td>\n",
       "      <td>55.82</td>\n",
       "      <td>13.8</td>\n",
       "      <td>29.7</td>\n",
       "      <td>14.8</td>\n",
       "    </tr>\n",
       "    <tr>\n",
       "      <td>Misc</td>\n",
       "      <td>4.26</td>\n",
       "      <td>3.19</td>\n",
       "      <td>5.58</td>\n",
       "      <td>14.17</td>\n",
       "      <td>3.4</td>\n",
       "      <td>7.1</td>\n",
       "      <td>4.2</td>\n",
       "    </tr>\n",
       "  </tbody>\n",
       "</table>\n",
       "</div>"
      ],
      "text/plain": [
       "              eu_sales  jp_sales  na_sales  sum_sales_all  part_eu  part_jp  \\\n",
       "genre                                                                         \n",
       "Shooter          40.28      3.79     48.18         105.73     32.4      8.4   \n",
       "Action           34.82     23.05     33.68         102.13     28.0     51.1   \n",
       "Sports           27.82      1.65     26.31          64.33     22.4      3.7   \n",
       "Role-Playing     17.21     13.41     19.82          55.82     13.8     29.7   \n",
       "Misc              4.26      3.19      5.58          14.17      3.4      7.1   \n",
       "\n",
       "              part_na  \n",
       "genre                  \n",
       "Shooter          36.1  \n",
       "Action           25.2  \n",
       "Sports           19.7  \n",
       "Role-Playing     14.8  \n",
       "Misc              4.2  "
      ]
     },
     "execution_count": 24,
     "metadata": {},
     "output_type": "execute_result"
    }
   ],
   "source": [
    "top_genre = data_current_period.pivot_table(index='genre',values=['na_sales','eu_sales','jp_sales','sum_sales_all'],aggfunc='sum').sort_values('sum_sales_all',ascending=False).head()\n",
    "top_genre['part_eu'] = round(top_genre['eu_sales']*100/top_genre['eu_sales'].sum(),1)\n",
    "top_genre['part_jp'] = round(top_genre['jp_sales']*100/top_genre['jp_sales'].sum(),1)\n",
    "top_genre['part_na'] = round(top_genre['na_sales']*100/top_genre['na_sales'].sum(),1)\n",
    "\n",
    "top_genre"
   ]
  },
  {
   "cell_type": "markdown",
   "metadata": {},
   "source": [
    "### Комментарий\n",
    "- В Европе преобладают жанры Shooter,Action,Sports, 32.4,28.0,22.4 процентов соответственно\n",
    "- В Японии же лидируют Action и Role-Playing 51.1 и 29.7 процентов соответственно\n",
    "- В Северной Америке лидируют те же жанры что и в Европе\n",
    "- Жанр Action показывает отличные результаты по продажам игр в каждом регионе"
   ]
  },
  {
   "cell_type": "code",
   "execution_count": 25,
   "metadata": {},
   "outputs": [
    {
     "data": {
      "text/html": [
       "<div>\n",
       "<style scoped>\n",
       "    .dataframe tbody tr th:only-of-type {\n",
       "        vertical-align: middle;\n",
       "    }\n",
       "\n",
       "    .dataframe tbody tr th {\n",
       "        vertical-align: top;\n",
       "    }\n",
       "\n",
       "    .dataframe thead th {\n",
       "        text-align: right;\n",
       "    }\n",
       "</style>\n",
       "<table border=\"1\" class=\"dataframe\">\n",
       "  <thead>\n",
       "    <tr style=\"text-align: right;\">\n",
       "      <th></th>\n",
       "      <th>eu_sales</th>\n",
       "      <th>jp_sales</th>\n",
       "      <th>na_sales</th>\n",
       "    </tr>\n",
       "    <tr>\n",
       "      <th>rating</th>\n",
       "      <th></th>\n",
       "      <th></th>\n",
       "      <th></th>\n",
       "    </tr>\n",
       "  </thead>\n",
       "  <tbody>\n",
       "    <tr>\n",
       "      <td>E</td>\n",
       "      <td>34.83</td>\n",
       "      <td>5.25</td>\n",
       "      <td>26.59</td>\n",
       "    </tr>\n",
       "    <tr>\n",
       "      <td>E10+</td>\n",
       "      <td>11.54</td>\n",
       "      <td>3.27</td>\n",
       "      <td>17.87</td>\n",
       "    </tr>\n",
       "    <tr>\n",
       "      <td>M</td>\n",
       "      <td>45.54</td>\n",
       "      <td>4.29</td>\n",
       "      <td>47.03</td>\n",
       "    </tr>\n",
       "    <tr>\n",
       "      <td>T</td>\n",
       "      <td>20.32</td>\n",
       "      <td>7.70</td>\n",
       "      <td>22.86</td>\n",
       "    </tr>\n",
       "    <tr>\n",
       "      <td>undefined</td>\n",
       "      <td>35.71</td>\n",
       "      <td>32.89</td>\n",
       "      <td>37.44</td>\n",
       "    </tr>\n",
       "  </tbody>\n",
       "</table>\n",
       "</div>"
      ],
      "text/plain": [
       "           eu_sales  jp_sales  na_sales\n",
       "rating                                 \n",
       "E             34.83      5.25     26.59\n",
       "E10+          11.54      3.27     17.87\n",
       "M             45.54      4.29     47.03\n",
       "T             20.32      7.70     22.86\n",
       "undefined     35.71     32.89     37.44"
      ]
     },
     "execution_count": 25,
     "metadata": {},
     "output_type": "execute_result"
    }
   ],
   "source": [
    "data_current_period.pivot_table(index='rating',values=['na_sales','eu_sales','jp_sales'],aggfunc='sum')"
   ]
  },
  {
   "cell_type": "markdown",
   "metadata": {},
   "source": [
    "### Комментарий\n",
    "- В Европе и Северной Америке преобладают продажи игр с рейтингом М - «Для взрослых»: Материалы игры не подходят для подростков младше 17 лет и E - «Для всех», меньше с рейтингом E10+ - «Для всех от 10 лет и старше»\n",
    "- В Японии связь меньше там преобладает рейтинг Т - «Подросткам»: Игра подходит для лиц от 13 лет\n",
    "- Игры не имеющие рейтинг занимают существенную долю продаж в каждом из регионов, распределение по регонам примерно одинаково"
   ]
  },
  {
   "cell_type": "markdown",
   "metadata": {},
   "source": [
    "## Шаг 5. Проверим гипотезы"
   ]
  },
  {
   "cell_type": "markdown",
   "metadata": {},
   "source": [
    "Нужно проверить две гипотизы:\n",
    "- Средние пользовательские рейтинги платформ Xbox One и PC одинаковые\n",
    "- Средние пользовательские рейтинги жанров Action и Sports разные\n",
    "\n",
    "- Для проверки гипотизы выбираем Критерий Стьюдента, так как он позволяет сравнивать средние значения двух выборок и на основе результатов теста делать заключение о том, различаются ли они друг от друга статистически или нет."
   ]
  },
  {
   "cell_type": "markdown",
   "metadata": {},
   "source": [
    "Проверим первую гипотизу.Сформулируем нулевую гипотезу,средние пользовательские рейтинги платформ Xbox One и PC **НЕ одинаковые**, тогда альтернативная гипотеза и будет та что мы проверяем, то есть средние пользовательские рейтинги платформ Xbox One и PC **одинаковые**. Чтобы проверить гипотезу о равенстве среднего двух генеральных совокупностей по взятым из них выборкам, примените метод scipy.stats.ttest_ind.  "
   ]
  },
  {
   "cell_type": "code",
   "execution_count": 26,
   "metadata": {},
   "outputs": [
    {
     "name": "stdout",
     "output_type": "stream",
     "text": [
      "p-значение: 0.2778542084733873\n",
      "Не получилось отвергнуть нулевую гипотезу\n"
     ]
    }
   ],
   "source": [
    "xone = data_current_period.query('platform == \"XOne\"')['user_score']\n",
    "pc = data_current_period.query('platform == \"PC\"')['user_score']\n",
    "\n",
    "alpha = 0.05\n",
    "\n",
    "results = st.ttest_ind(xone,pc,nan_policy='omit')\n",
    "\n",
    "print('p-значение:', results.pvalue)\n",
    "\n",
    "if results.pvalue < alpha:\n",
    "    print('Отвергаем нулевую гипотезу')\n",
    "else:\n",
    "    print('Не получилось отвергнуть нулевую гипотезу') "
   ]
  },
  {
   "cell_type": "markdown",
   "metadata": {},
   "source": [
    "### Вывод\n",
    "-Полученное значение p-value говорит нам о том что средние пользовательские рейтинги платформ Xbox One и PC  разные.Не получилось отвергнуть нулевую гипотезу"
   ]
  },
  {
   "cell_type": "markdown",
   "metadata": {},
   "source": [
    "Проверим вторую гипотизу.Сформулируем нулевую гипотезу,средние пользовательские рейтинги жанров Action и Sports **одинаковые**, тогда альтернативная гипотеза и будет та что мы проверяем, то есть средние пользовательские рейтинги жанров Action и Sports **разные**. Чтобы проверить гипотезу о равенстве среднего двух генеральных совокупностей по взятым из них выборкам, примените метод scipy.stats.ttest_ind.  "
   ]
  },
  {
   "cell_type": "code",
   "execution_count": 27,
   "metadata": {},
   "outputs": [
    {
     "name": "stdout",
     "output_type": "stream",
     "text": [
      "p-значение: 1.0012846807938715e-13\n",
      "Отвергаем нулевую гипотезу\n"
     ]
    }
   ],
   "source": [
    "sports = data_current_period.query('genre == \"Sports\"')['user_score']\n",
    "action = data_current_period.query('genre == \"Action\"')['user_score']\n",
    "\n",
    "alpha = 0.05\n",
    "\n",
    "results = st.ttest_ind(sports,action,nan_policy='omit')\n",
    "\n",
    "print('p-значение:', results.pvalue)\n",
    "\n",
    "if results.pvalue < alpha:\n",
    "    print('Отвергаем нулевую гипотезу')\n",
    "else:\n",
    "    print('Не получилось отвергнуть нулевую гипотезу') "
   ]
  },
  {
   "cell_type": "markdown",
   "metadata": {},
   "source": [
    "### Вывод\n",
    "- Полученное значение p-value говорит нам о том что ссредние пользовательские рейтинги жанров Action и Sports разные.Отвергаем нулевую гипотезу"
   ]
  },
  {
   "cell_type": "markdown",
   "metadata": {},
   "source": [
    "## Шаг 6. Общий вывод"
   ]
  },
  {
   "cell_type": "markdown",
   "metadata": {},
   "source": [
    "На основе анализа данных о продажах игр можно сделать вывод что для разных регионов(Европа,Япония и Северная Америка) потенциально популярный продукт может отличаться, так в 2017 году:\n",
    "- На рынке Японии ставку лучше сделать на игры для платформы 3DS и PS4 и на игры в жанре Action и Role-Playing, так как они самые популярные в этой стране и приносят больше прибыли\n",
    "- На рынке Европы ставку лучше сделать на игры для платформы PS4 и XOne и на игры в жанре Shooter,Action,Sports, так как они самые популярные в этой стране и приносят больше прибыли\n",
    "- На рынке Северной Америки ставку лучше сделать так же как и в Европе на игры для платформы PS4 и XOne и на игры в том же жанре, так как они самые популярные в этой стране и приносят больше прибыли\n",
    "- Общее у рынков этих стран это то что везде очень популярна PS4 и игры в жанре Action\n",
    "\n",
    "**На успешность игры влияет платформа, для которой она выпущена, жанр и рейтинг.\n",
    "На основе анализа данных за 2015-2016 гг. для отдела маркетинга я бы рекомендовал сделать ставку в рекламной кампании на 2017 г. на самые популярные платформы: PS4, 3DS и XOne, и на жанры игр Action, Shooter. Также следует обратить внимание на рейтинг ESRB: он влияет на продажи по регионам.**"
   ]
  }
 ],
 "metadata": {
  "ExecuteTimeLog": [
   {
    "duration": 1407,
    "start_time": "2021-07-08T22:19:03.724Z"
   },
   {
    "duration": 17,
    "start_time": "2021-07-08T22:19:05.133Z"
   },
   {
    "duration": 104,
    "start_time": "2021-07-08T22:19:05.153Z"
   },
   {
    "duration": 7,
    "start_time": "2021-07-08T22:19:05.260Z"
   },
   {
    "duration": 782,
    "start_time": "2021-07-08T22:19:05.269Z"
   },
   {
    "duration": 31013,
    "start_time": "2021-07-08T22:18:35.043Z"
   },
   {
    "duration": 31012,
    "start_time": "2021-07-08T22:18:35.046Z"
   },
   {
    "duration": 31011,
    "start_time": "2021-07-08T22:18:35.049Z"
   },
   {
    "duration": 31010,
    "start_time": "2021-07-08T22:18:35.052Z"
   },
   {
    "duration": 31008,
    "start_time": "2021-07-08T22:18:35.057Z"
   },
   {
    "duration": 31007,
    "start_time": "2021-07-08T22:18:35.060Z"
   },
   {
    "duration": 31020,
    "start_time": "2021-07-08T22:18:35.065Z"
   },
   {
    "duration": 31011,
    "start_time": "2021-07-08T22:18:35.077Z"
   },
   {
    "duration": 31008,
    "start_time": "2021-07-08T22:18:35.082Z"
   },
   {
    "duration": 31006,
    "start_time": "2021-07-08T22:18:35.086Z"
   },
   {
    "duration": 31006,
    "start_time": "2021-07-08T22:18:35.088Z"
   },
   {
    "duration": 31006,
    "start_time": "2021-07-08T22:18:35.091Z"
   },
   {
    "duration": 31005,
    "start_time": "2021-07-08T22:18:35.094Z"
   },
   {
    "duration": 31004,
    "start_time": "2021-07-08T22:18:35.097Z"
   },
   {
    "duration": 30999,
    "start_time": "2021-07-08T22:18:35.104Z"
   },
   {
    "duration": 30999,
    "start_time": "2021-07-08T22:18:35.107Z"
   },
   {
    "duration": 35,
    "start_time": "2021-07-08T22:19:18.063Z"
   },
   {
    "duration": 688,
    "start_time": "2021-07-08T22:19:21.632Z"
   },
   {
    "duration": 30,
    "start_time": "2021-07-08T22:19:25.391Z"
   },
   {
    "duration": 623,
    "start_time": "2021-07-08T22:19:27.968Z"
   },
   {
    "duration": 23,
    "start_time": "2021-07-08T22:19:31.464Z"
   },
   {
    "duration": 722,
    "start_time": "2021-07-08T22:19:33.576Z"
   },
   {
    "duration": 7,
    "start_time": "2021-07-08T22:19:38.024Z"
   },
   {
    "duration": 747,
    "start_time": "2021-07-08T22:19:38.840Z"
   },
   {
    "duration": 68,
    "start_time": "2021-07-08T22:19:43.336Z"
   },
   {
    "duration": 32,
    "start_time": "2021-07-08T22:19:47.256Z"
   },
   {
    "duration": 662,
    "start_time": "2021-07-08T22:19:49.569Z"
   },
   {
    "duration": 35,
    "start_time": "2021-07-08T22:19:53.560Z"
   },
   {
    "duration": 35,
    "start_time": "2021-07-08T22:20:00.433Z"
   },
   {
    "duration": 22,
    "start_time": "2021-07-08T22:20:04.313Z"
   },
   {
    "duration": 17,
    "start_time": "2021-07-08T22:20:07.889Z"
   },
   {
    "duration": 18,
    "start_time": "2021-07-08T22:20:09.840Z"
   },
   {
    "duration": 1120,
    "start_time": "2021-07-09T06:01:39.384Z"
   },
   {
    "duration": 10,
    "start_time": "2021-07-09T06:01:40.505Z"
   },
   {
    "duration": 55,
    "start_time": "2021-07-09T06:01:40.517Z"
   },
   {
    "duration": 14,
    "start_time": "2021-07-09T06:01:40.573Z"
   },
   {
    "duration": 440,
    "start_time": "2021-07-09T06:01:40.589Z"
   },
   {
    "duration": 22,
    "start_time": "2021-07-09T06:01:41.030Z"
   },
   {
    "duration": 510,
    "start_time": "2021-07-09T06:01:41.054Z"
   },
   {
    "duration": 49,
    "start_time": "2021-07-09T06:01:41.517Z"
   },
   {
    "duration": 45,
    "start_time": "2021-07-09T06:01:41.522Z"
   },
   {
    "duration": 37,
    "start_time": "2021-07-09T06:01:41.531Z"
   },
   {
    "duration": 34,
    "start_time": "2021-07-09T06:01:41.535Z"
   },
   {
    "duration": 31,
    "start_time": "2021-07-09T06:01:41.539Z"
   },
   {
    "duration": 28,
    "start_time": "2021-07-09T06:01:41.543Z"
   },
   {
    "duration": 38,
    "start_time": "2021-07-09T06:01:41.546Z"
   },
   {
    "duration": 9,
    "start_time": "2021-07-09T06:01:41.576Z"
   },
   {
    "duration": 6,
    "start_time": "2021-07-09T06:01:41.580Z"
   },
   {
    "duration": -3,
    "start_time": "2021-07-09T06:01:41.590Z"
   },
   {
    "duration": -6,
    "start_time": "2021-07-09T06:01:41.594Z"
   },
   {
    "duration": -9,
    "start_time": "2021-07-09T06:01:41.598Z"
   },
   {
    "duration": -12,
    "start_time": "2021-07-09T06:01:41.602Z"
   },
   {
    "duration": -15,
    "start_time": "2021-07-09T06:01:41.606Z"
   },
   {
    "duration": 451,
    "start_time": "2021-07-09T06:20:20.416Z"
   },
   {
    "duration": 25,
    "start_time": "2021-07-09T06:22:25.705Z"
   },
   {
    "duration": 2741,
    "start_time": "2021-07-09T06:22:45.975Z"
   },
   {
    "duration": 22,
    "start_time": "2021-07-09T06:23:29.935Z"
   },
   {
    "duration": 448,
    "start_time": "2021-07-09T06:23:31.976Z"
   },
   {
    "duration": 206,
    "start_time": "2021-07-09T06:25:14.855Z"
   },
   {
    "duration": 19,
    "start_time": "2021-07-09T06:25:45.956Z"
   },
   {
    "duration": 380,
    "start_time": "2021-07-09T06:25:52.586Z"
   },
   {
    "duration": 335,
    "start_time": "2021-07-09T06:26:01.186Z"
   },
   {
    "duration": 13,
    "start_time": "2021-07-09T06:26:13.196Z"
   },
   {
    "duration": 14,
    "start_time": "2021-07-09T06:26:32.366Z"
   },
   {
    "duration": 14,
    "start_time": "2021-07-09T06:26:41.326Z"
   },
   {
    "duration": 14,
    "start_time": "2021-07-09T06:27:09.045Z"
   },
   {
    "duration": 450,
    "start_time": "2021-07-09T06:27:22.736Z"
   },
   {
    "duration": 400,
    "start_time": "2021-07-09T06:28:45.915Z"
   },
   {
    "duration": 8,
    "start_time": "2021-07-09T06:29:10.276Z"
   },
   {
    "duration": 495,
    "start_time": "2021-07-09T06:29:12.366Z"
   },
   {
    "duration": 20,
    "start_time": "2021-07-09T06:29:34.417Z"
   },
   {
    "duration": 501,
    "start_time": "2021-07-09T06:29:49.486Z"
   },
   {
    "duration": 283,
    "start_time": "2021-07-09T06:29:59.326Z"
   },
   {
    "duration": 22,
    "start_time": "2021-07-09T06:30:26.576Z"
   },
   {
    "duration": 22,
    "start_time": "2021-07-09T06:30:32.495Z"
   },
   {
    "duration": 15,
    "start_time": "2021-07-09T06:30:39.196Z"
   },
   {
    "duration": 11,
    "start_time": "2021-07-09T06:31:47.307Z"
   },
   {
    "duration": 55,
    "start_time": "2021-07-09T06:42:26.677Z"
   },
   {
    "duration": 8,
    "start_time": "2021-07-09T06:42:26.734Z"
   },
   {
    "duration": 79,
    "start_time": "2021-07-09T06:42:26.745Z"
   },
   {
    "duration": 5,
    "start_time": "2021-07-09T06:42:26.826Z"
   },
   {
    "duration": 489,
    "start_time": "2021-07-09T06:42:26.832Z"
   },
   {
    "duration": 22,
    "start_time": "2021-07-09T06:42:27.323Z"
   },
   {
    "duration": 503,
    "start_time": "2021-07-09T06:42:27.346Z"
   },
   {
    "duration": 18,
    "start_time": "2021-07-09T06:42:27.851Z"
   },
   {
    "duration": 399,
    "start_time": "2021-07-09T06:42:27.872Z"
   },
   {
    "duration": 19,
    "start_time": "2021-07-09T06:42:28.273Z"
   },
   {
    "duration": 454,
    "start_time": "2021-07-09T06:42:28.294Z"
   },
   {
    "duration": 6,
    "start_time": "2021-07-09T06:42:28.750Z"
   },
   {
    "duration": 543,
    "start_time": "2021-07-09T06:42:28.757Z"
   },
   {
    "duration": 40,
    "start_time": "2021-07-09T06:42:29.302Z"
   },
   {
    "duration": 19,
    "start_time": "2021-07-09T06:42:29.343Z"
   },
   {
    "duration": 310,
    "start_time": "2021-07-09T06:42:29.385Z"
   },
   {
    "duration": 23,
    "start_time": "2021-07-09T06:42:29.697Z"
   },
   {
    "duration": 20,
    "start_time": "2021-07-09T06:42:29.721Z"
   },
   {
    "duration": 13,
    "start_time": "2021-07-09T06:42:29.743Z"
   },
   {
    "duration": 148,
    "start_time": "2021-07-09T06:42:29.758Z"
   },
   {
    "duration": 17,
    "start_time": "2021-07-09T06:42:29.908Z"
   },
   {
    "duration": 692,
    "start_time": "2021-07-09T06:54:25.818Z"
   },
   {
    "duration": 699,
    "start_time": "2021-07-09T06:54:47.438Z"
   },
   {
    "duration": 20,
    "start_time": "2021-07-09T06:55:02.758Z"
   },
   {
    "duration": 208,
    "start_time": "2021-07-09T06:56:08.899Z"
   },
   {
    "duration": 52,
    "start_time": "2021-07-09T06:56:25.679Z"
   },
   {
    "duration": 10,
    "start_time": "2021-07-09T06:56:25.732Z"
   },
   {
    "duration": 72,
    "start_time": "2021-07-09T06:56:25.744Z"
   },
   {
    "duration": 4,
    "start_time": "2021-07-09T06:56:25.818Z"
   },
   {
    "duration": 462,
    "start_time": "2021-07-09T06:56:25.824Z"
   },
   {
    "duration": 23,
    "start_time": "2021-07-09T06:56:26.288Z"
   },
   {
    "duration": 481,
    "start_time": "2021-07-09T06:56:26.313Z"
   },
   {
    "duration": 19,
    "start_time": "2021-07-09T06:56:26.795Z"
   },
   {
    "duration": 367,
    "start_time": "2021-07-09T06:56:26.817Z"
   },
   {
    "duration": 14,
    "start_time": "2021-07-09T06:56:27.187Z"
   },
   {
    "duration": 433,
    "start_time": "2021-07-09T06:56:27.202Z"
   },
   {
    "duration": 5,
    "start_time": "2021-07-09T06:56:27.637Z"
   },
   {
    "duration": 512,
    "start_time": "2021-07-09T06:56:27.644Z"
   },
   {
    "duration": 46,
    "start_time": "2021-07-09T06:56:28.158Z"
   },
   {
    "duration": 206,
    "start_time": "2021-07-09T06:56:28.206Z"
   },
   {
    "duration": 77,
    "start_time": "2021-07-09T06:56:28.336Z"
   },
   {
    "duration": 75,
    "start_time": "2021-07-09T06:56:28.339Z"
   },
   {
    "duration": 72,
    "start_time": "2021-07-09T06:56:28.343Z"
   },
   {
    "duration": 69,
    "start_time": "2021-07-09T06:56:28.347Z"
   },
   {
    "duration": 67,
    "start_time": "2021-07-09T06:56:28.350Z"
   },
   {
    "duration": 64,
    "start_time": "2021-07-09T06:56:28.354Z"
   },
   {
    "duration": 22,
    "start_time": "2021-07-09T06:56:51.568Z"
   },
   {
    "duration": 22,
    "start_time": "2021-07-09T06:56:54.578Z"
   },
   {
    "duration": 30,
    "start_time": "2021-07-09T06:57:02.858Z"
   },
   {
    "duration": 31,
    "start_time": "2021-07-09T06:58:03.098Z"
   },
   {
    "duration": 30,
    "start_time": "2021-07-09T06:59:35.039Z"
   },
   {
    "duration": 26,
    "start_time": "2021-07-09T07:00:10.238Z"
   },
   {
    "duration": 9,
    "start_time": "2021-07-09T07:08:42.650Z"
   },
   {
    "duration": 201,
    "start_time": "2021-07-09T07:09:05.799Z"
   },
   {
    "duration": 12,
    "start_time": "2021-07-09T07:09:13.610Z"
   },
   {
    "duration": 207,
    "start_time": "2021-07-09T07:09:35.660Z"
   },
   {
    "duration": 185,
    "start_time": "2021-07-09T07:09:49.180Z"
   },
   {
    "duration": 295,
    "start_time": "2021-07-09T07:10:33.080Z"
   },
   {
    "duration": 20,
    "start_time": "2021-07-09T07:15:21.460Z"
   },
   {
    "duration": 61,
    "start_time": "2021-07-09T07:33:45.963Z"
   },
   {
    "duration": 10,
    "start_time": "2021-07-09T07:33:46.026Z"
   },
   {
    "duration": 17,
    "start_time": "2021-07-09T07:33:46.039Z"
   },
   {
    "duration": 60,
    "start_time": "2021-07-09T07:33:46.092Z"
   },
   {
    "duration": 5,
    "start_time": "2021-07-09T07:33:46.154Z"
   },
   {
    "duration": 614,
    "start_time": "2021-07-09T07:33:46.161Z"
   },
   {
    "duration": 32,
    "start_time": "2021-07-09T07:33:46.777Z"
   },
   {
    "duration": 495,
    "start_time": "2021-07-09T07:33:46.811Z"
   },
   {
    "duration": 27,
    "start_time": "2021-07-09T07:33:47.309Z"
   },
   {
    "duration": 406,
    "start_time": "2021-07-09T07:33:47.338Z"
   },
   {
    "duration": 16,
    "start_time": "2021-07-09T07:33:47.746Z"
   },
   {
    "duration": 444,
    "start_time": "2021-07-09T07:33:47.764Z"
   },
   {
    "duration": 6,
    "start_time": "2021-07-09T07:33:48.210Z"
   },
   {
    "duration": 607,
    "start_time": "2021-07-09T07:33:48.217Z"
   },
   {
    "duration": 43,
    "start_time": "2021-07-09T07:33:48.826Z"
   },
   {
    "duration": 36,
    "start_time": "2021-07-09T07:33:48.889Z"
   },
   {
    "duration": 340,
    "start_time": "2021-07-09T07:33:48.927Z"
   },
   {
    "duration": 43,
    "start_time": "2021-07-09T07:33:49.269Z"
   },
   {
    "duration": 31,
    "start_time": "2021-07-09T07:33:49.314Z"
   },
   {
    "duration": 15,
    "start_time": "2021-07-09T07:33:49.347Z"
   },
   {
    "duration": 15,
    "start_time": "2021-07-09T07:33:49.393Z"
   },
   {
    "duration": 11,
    "start_time": "2021-07-09T07:33:49.410Z"
   },
   {
    "duration": 60,
    "start_time": "2021-07-09T08:02:43.346Z"
   },
   {
    "duration": 57,
    "start_time": "2021-07-09T08:02:53.936Z"
   },
   {
    "duration": 1059,
    "start_time": "2021-07-09T08:02:56.676Z"
   },
   {
    "duration": 1070,
    "start_time": "2021-07-09T08:03:11.286Z"
   },
   {
    "duration": 11,
    "start_time": "2021-07-09T08:10:15.077Z"
   },
   {
    "duration": 10,
    "start_time": "2021-07-09T08:10:17.787Z"
   },
   {
    "duration": 10,
    "start_time": "2021-07-09T08:12:31.087Z"
   },
   {
    "duration": 51,
    "start_time": "2021-07-09T08:13:08.357Z"
   },
   {
    "duration": 10,
    "start_time": "2021-07-09T08:13:08.411Z"
   },
   {
    "duration": 14,
    "start_time": "2021-07-09T08:13:08.422Z"
   },
   {
    "duration": 72,
    "start_time": "2021-07-09T08:13:08.438Z"
   },
   {
    "duration": 4,
    "start_time": "2021-07-09T08:13:08.512Z"
   },
   {
    "duration": 460,
    "start_time": "2021-07-09T08:13:08.517Z"
   },
   {
    "duration": 24,
    "start_time": "2021-07-09T08:13:08.978Z"
   },
   {
    "duration": 473,
    "start_time": "2021-07-09T08:13:09.004Z"
   },
   {
    "duration": 23,
    "start_time": "2021-07-09T08:13:09.479Z"
   },
   {
    "duration": 476,
    "start_time": "2021-07-09T08:13:09.503Z"
   },
   {
    "duration": 14,
    "start_time": "2021-07-09T08:13:09.984Z"
   },
   {
    "duration": 415,
    "start_time": "2021-07-09T08:13:10.000Z"
   },
   {
    "duration": 5,
    "start_time": "2021-07-09T08:13:10.416Z"
   },
   {
    "duration": 469,
    "start_time": "2021-07-09T08:13:10.423Z"
   },
   {
    "duration": 38,
    "start_time": "2021-07-09T08:13:10.893Z"
   },
   {
    "duration": 24,
    "start_time": "2021-07-09T08:13:10.933Z"
   },
   {
    "duration": 296,
    "start_time": "2021-07-09T08:13:10.959Z"
   },
   {
    "duration": 29,
    "start_time": "2021-07-09T08:13:11.257Z"
   },
   {
    "duration": 19,
    "start_time": "2021-07-09T08:13:11.288Z"
   },
   {
    "duration": 13,
    "start_time": "2021-07-09T08:13:11.309Z"
   },
   {
    "duration": 9,
    "start_time": "2021-07-09T08:13:11.323Z"
   },
   {
    "duration": 11,
    "start_time": "2021-07-09T08:13:11.334Z"
   },
   {
    "duration": 1220,
    "start_time": "2021-07-09T08:48:15.794Z"
   },
   {
    "duration": 13,
    "start_time": "2021-07-09T08:48:17.017Z"
   },
   {
    "duration": 299,
    "start_time": "2021-07-09T08:48:17.033Z"
   },
   {
    "duration": 76,
    "start_time": "2021-07-09T08:48:17.335Z"
   },
   {
    "duration": 6,
    "start_time": "2021-07-09T08:48:17.414Z"
   },
   {
    "duration": 465,
    "start_time": "2021-07-09T08:48:17.422Z"
   },
   {
    "duration": 21,
    "start_time": "2021-07-09T08:48:17.890Z"
   },
   {
    "duration": 491,
    "start_time": "2021-07-09T08:48:17.913Z"
   },
   {
    "duration": 20,
    "start_time": "2021-07-09T08:48:18.407Z"
   },
   {
    "duration": 387,
    "start_time": "2021-07-09T08:48:18.429Z"
   },
   {
    "duration": 19,
    "start_time": "2021-07-09T08:48:18.818Z"
   },
   {
    "duration": 447,
    "start_time": "2021-07-09T08:48:18.839Z"
   },
   {
    "duration": 6,
    "start_time": "2021-07-09T08:48:19.288Z"
   },
   {
    "duration": 670,
    "start_time": "2021-07-09T08:48:19.296Z"
   },
   {
    "duration": 58,
    "start_time": "2021-07-09T08:48:19.968Z"
   },
   {
    "duration": 27,
    "start_time": "2021-07-09T08:48:20.028Z"
   },
   {
    "duration": 330,
    "start_time": "2021-07-09T08:48:20.057Z"
   },
   {
    "duration": 25,
    "start_time": "2021-07-09T08:48:20.389Z"
   },
   {
    "duration": 23,
    "start_time": "2021-07-09T08:48:20.416Z"
   },
   {
    "duration": 50,
    "start_time": "2021-07-09T08:48:20.442Z"
   },
   {
    "duration": 14,
    "start_time": "2021-07-09T08:48:20.494Z"
   },
   {
    "duration": 13,
    "start_time": "2021-07-09T08:48:20.511Z"
   },
   {
    "duration": 1486,
    "start_time": "2021-07-09T12:09:30.860Z"
   },
   {
    "duration": 14,
    "start_time": "2021-07-09T12:09:32.349Z"
   },
   {
    "duration": 3684,
    "start_time": "2021-07-09T12:09:32.368Z"
   },
   {
    "duration": 100,
    "start_time": "2021-07-09T12:09:36.055Z"
   },
   {
    "duration": 6,
    "start_time": "2021-07-09T12:09:36.168Z"
   },
   {
    "duration": 806,
    "start_time": "2021-07-09T12:09:36.176Z"
   },
   {
    "duration": 50,
    "start_time": "2021-07-09T12:09:36.984Z"
   },
   {
    "duration": 833,
    "start_time": "2021-07-09T12:09:37.039Z"
   },
   {
    "duration": 31,
    "start_time": "2021-07-09T12:09:37.875Z"
   },
   {
    "duration": 593,
    "start_time": "2021-07-09T12:09:37.909Z"
   },
   {
    "duration": 19,
    "start_time": "2021-07-09T12:09:38.505Z"
   },
   {
    "duration": 719,
    "start_time": "2021-07-09T12:09:38.527Z"
   },
   {
    "duration": 18,
    "start_time": "2021-07-09T12:09:39.249Z"
   },
   {
    "duration": 928,
    "start_time": "2021-07-09T12:09:39.270Z"
   },
   {
    "duration": 89,
    "start_time": "2021-07-09T12:09:40.200Z"
   },
   {
    "duration": 45,
    "start_time": "2021-07-09T12:09:40.291Z"
   },
   {
    "duration": 496,
    "start_time": "2021-07-09T12:09:40.339Z"
   },
   {
    "duration": 49,
    "start_time": "2021-07-09T12:09:40.838Z"
   },
   {
    "duration": 32,
    "start_time": "2021-07-09T12:09:40.890Z"
   },
   {
    "duration": 49,
    "start_time": "2021-07-09T12:09:40.924Z"
   },
   {
    "duration": 15,
    "start_time": "2021-07-09T12:09:40.976Z"
   },
   {
    "duration": 19,
    "start_time": "2021-07-09T12:09:40.993Z"
   },
   {
    "duration": 313,
    "start_time": "2021-07-09T13:11:39.183Z"
   },
   {
    "duration": 1396,
    "start_time": "2021-07-09T13:11:48.213Z"
   },
   {
    "duration": 14,
    "start_time": "2021-07-09T13:11:49.612Z"
   },
   {
    "duration": 653,
    "start_time": "2021-07-09T13:11:49.629Z"
   },
   {
    "duration": 105,
    "start_time": "2021-07-09T13:11:50.285Z"
   },
   {
    "duration": 7,
    "start_time": "2021-07-09T13:11:50.392Z"
   },
   {
    "duration": 711,
    "start_time": "2021-07-09T13:11:50.402Z"
   },
   {
    "duration": 50,
    "start_time": "2021-07-09T13:11:51.115Z"
   },
   {
    "duration": 755,
    "start_time": "2021-07-09T13:11:51.169Z"
   },
   {
    "duration": 51,
    "start_time": "2021-07-09T13:11:51.927Z"
   },
   {
    "duration": 588,
    "start_time": "2021-07-09T13:11:51.980Z"
   },
   {
    "duration": 21,
    "start_time": "2021-07-09T13:11:52.571Z"
   },
   {
    "duration": 708,
    "start_time": "2021-07-09T13:11:52.595Z"
   },
   {
    "duration": 8,
    "start_time": "2021-07-09T13:11:53.305Z"
   },
   {
    "duration": 867,
    "start_time": "2021-07-09T13:11:53.316Z"
   },
   {
    "duration": 89,
    "start_time": "2021-07-09T13:11:54.186Z"
   },
   {
    "duration": 45,
    "start_time": "2021-07-09T13:11:54.277Z"
   },
   {
    "duration": 492,
    "start_time": "2021-07-09T13:11:54.324Z"
   },
   {
    "duration": 51,
    "start_time": "2021-07-09T13:11:54.818Z"
   },
   {
    "duration": 34,
    "start_time": "2021-07-09T13:11:54.873Z"
   },
   {
    "duration": 57,
    "start_time": "2021-07-09T13:11:54.911Z"
   },
   {
    "duration": 30,
    "start_time": "2021-07-09T13:11:54.971Z"
   },
   {
    "duration": 25,
    "start_time": "2021-07-09T13:11:55.004Z"
   },
   {
    "duration": 569,
    "start_time": "2021-07-09T13:16:44.174Z"
   },
   {
    "duration": 568,
    "start_time": "2021-07-09T13:17:17.473Z"
   },
   {
    "duration": 580,
    "start_time": "2021-07-09T13:17:59.183Z"
   },
   {
    "duration": 595,
    "start_time": "2021-07-09T13:18:22.843Z"
   },
   {
    "duration": 620,
    "start_time": "2021-07-09T13:18:30.903Z"
   },
   {
    "duration": 71,
    "start_time": "2021-07-09T13:18:51.083Z"
   },
   {
    "duration": 20,
    "start_time": "2021-07-09T13:18:51.163Z"
   },
   {
    "duration": 26,
    "start_time": "2021-07-09T13:18:51.186Z"
   },
   {
    "duration": 119,
    "start_time": "2021-07-09T13:18:51.215Z"
   },
   {
    "duration": 6,
    "start_time": "2021-07-09T13:18:51.337Z"
   },
   {
    "duration": 745,
    "start_time": "2021-07-09T13:18:51.362Z"
   },
   {
    "duration": 47,
    "start_time": "2021-07-09T13:18:52.109Z"
   },
   {
    "duration": 739,
    "start_time": "2021-07-09T13:18:52.159Z"
   },
   {
    "duration": 31,
    "start_time": "2021-07-09T13:18:52.900Z"
   },
   {
    "duration": 647,
    "start_time": "2021-07-09T13:18:52.961Z"
   },
   {
    "duration": 20,
    "start_time": "2021-07-09T13:18:53.611Z"
   },
   {
    "duration": 715,
    "start_time": "2021-07-09T13:18:53.633Z"
   },
   {
    "duration": 13,
    "start_time": "2021-07-09T13:18:54.350Z"
   },
   {
    "duration": 716,
    "start_time": "2021-07-09T13:18:54.366Z"
   },
   {
    "duration": 86,
    "start_time": "2021-07-09T13:18:55.084Z"
   },
   {
    "duration": 43,
    "start_time": "2021-07-09T13:18:55.172Z"
   },
   {
    "duration": 508,
    "start_time": "2021-07-09T13:18:55.217Z"
   },
   {
    "duration": 64,
    "start_time": "2021-07-09T13:18:55.728Z"
   },
   {
    "duration": 67,
    "start_time": "2021-07-09T13:18:55.795Z"
   },
   {
    "duration": 29,
    "start_time": "2021-07-09T13:18:55.866Z"
   },
   {
    "duration": 16,
    "start_time": "2021-07-09T13:18:55.898Z"
   },
   {
    "duration": 60,
    "start_time": "2021-07-09T13:18:55.917Z"
   },
   {
    "duration": 470,
    "start_time": "2021-07-09T13:19:16.623Z"
   },
   {
    "duration": 552,
    "start_time": "2021-07-09T13:24:47.185Z"
   },
   {
    "duration": 570,
    "start_time": "2021-07-09T13:24:58.074Z"
   },
   {
    "duration": 720,
    "start_time": "2021-07-09T13:25:36.974Z"
   },
   {
    "duration": 652,
    "start_time": "2021-07-09T13:25:48.344Z"
   },
   {
    "duration": 78,
    "start_time": "2021-07-09T13:26:03.084Z"
   },
   {
    "duration": 16,
    "start_time": "2021-07-09T13:26:03.165Z"
   },
   {
    "duration": 25,
    "start_time": "2021-07-09T13:26:03.184Z"
   },
   {
    "duration": 120,
    "start_time": "2021-07-09T13:26:03.211Z"
   },
   {
    "duration": 7,
    "start_time": "2021-07-09T13:26:03.334Z"
   },
   {
    "duration": 859,
    "start_time": "2021-07-09T13:26:03.343Z"
   },
   {
    "duration": 34,
    "start_time": "2021-07-09T13:26:04.204Z"
   },
   {
    "duration": 709,
    "start_time": "2021-07-09T13:26:04.257Z"
   },
   {
    "duration": 52,
    "start_time": "2021-07-09T13:26:04.973Z"
   },
   {
    "duration": 590,
    "start_time": "2021-07-09T13:26:05.028Z"
   },
   {
    "duration": 39,
    "start_time": "2021-07-09T13:26:05.622Z"
   },
   {
    "duration": 681,
    "start_time": "2021-07-09T13:26:05.665Z"
   },
   {
    "duration": 10,
    "start_time": "2021-07-09T13:26:06.349Z"
   },
   {
    "duration": 727,
    "start_time": "2021-07-09T13:26:06.362Z"
   },
   {
    "duration": 90,
    "start_time": "2021-07-09T13:26:07.091Z"
   },
   {
    "duration": 39,
    "start_time": "2021-07-09T13:26:07.184Z"
   },
   {
    "duration": 472,
    "start_time": "2021-07-09T13:26:07.226Z"
   },
   {
    "duration": 55,
    "start_time": "2021-07-09T13:26:07.700Z"
   },
   {
    "duration": 40,
    "start_time": "2021-07-09T13:26:07.758Z"
   },
   {
    "duration": 22,
    "start_time": "2021-07-09T13:26:07.800Z"
   },
   {
    "duration": 51,
    "start_time": "2021-07-09T13:26:07.824Z"
   },
   {
    "duration": 14,
    "start_time": "2021-07-09T13:26:07.878Z"
   },
   {
    "duration": 494,
    "start_time": "2021-07-09T13:27:24.805Z"
   },
   {
    "duration": 599,
    "start_time": "2021-07-09T13:31:34.566Z"
   },
   {
    "duration": 82,
    "start_time": "2021-07-09T13:31:39.905Z"
   },
   {
    "duration": 14,
    "start_time": "2021-07-09T13:31:39.990Z"
   },
   {
    "duration": 52,
    "start_time": "2021-07-09T13:31:40.006Z"
   },
   {
    "duration": 94,
    "start_time": "2021-07-09T13:31:40.062Z"
   },
   {
    "duration": 11,
    "start_time": "2021-07-09T13:31:40.160Z"
   },
   {
    "duration": 812,
    "start_time": "2021-07-09T13:31:40.174Z"
   },
   {
    "duration": 31,
    "start_time": "2021-07-09T13:31:40.989Z"
   },
   {
    "duration": 715,
    "start_time": "2021-07-09T13:31:41.023Z"
   },
   {
    "duration": 43,
    "start_time": "2021-07-09T13:31:41.741Z"
   },
   {
    "duration": 582,
    "start_time": "2021-07-09T13:31:41.786Z"
   },
   {
    "duration": 23,
    "start_time": "2021-07-09T13:31:42.372Z"
   },
   {
    "duration": 693,
    "start_time": "2021-07-09T13:31:42.398Z"
   },
   {
    "duration": 6,
    "start_time": "2021-07-09T13:31:43.094Z"
   },
   {
    "duration": 755,
    "start_time": "2021-07-09T13:31:43.103Z"
   },
   {
    "duration": 94,
    "start_time": "2021-07-09T13:31:43.863Z"
   },
   {
    "duration": 44,
    "start_time": "2021-07-09T13:31:43.963Z"
   },
   {
    "duration": 494,
    "start_time": "2021-07-09T13:31:44.010Z"
   },
   {
    "duration": 57,
    "start_time": "2021-07-09T13:31:44.506Z"
   },
   {
    "duration": 38,
    "start_time": "2021-07-09T13:31:44.566Z"
   },
   {
    "duration": 23,
    "start_time": "2021-07-09T13:31:44.606Z"
   },
   {
    "duration": 42,
    "start_time": "2021-07-09T13:31:44.632Z"
   },
   {
    "duration": 16,
    "start_time": "2021-07-09T13:31:44.677Z"
   },
   {
    "duration": 785,
    "start_time": "2021-07-09T13:32:20.635Z"
   },
   {
    "duration": 637,
    "start_time": "2021-07-09T13:32:39.315Z"
   },
   {
    "duration": 499,
    "start_time": "2021-07-09T13:33:36.115Z"
   },
   {
    "duration": 495,
    "start_time": "2021-07-09T13:37:01.045Z"
   },
   {
    "duration": 73,
    "start_time": "2021-07-09T13:38:05.296Z"
   },
   {
    "duration": 15,
    "start_time": "2021-07-09T13:38:05.372Z"
   },
   {
    "duration": 26,
    "start_time": "2021-07-09T13:38:05.390Z"
   },
   {
    "duration": 116,
    "start_time": "2021-07-09T13:38:05.419Z"
   },
   {
    "duration": 6,
    "start_time": "2021-07-09T13:38:05.537Z"
   },
   {
    "duration": 734,
    "start_time": "2021-07-09T13:38:05.557Z"
   },
   {
    "duration": 33,
    "start_time": "2021-07-09T13:38:06.294Z"
   },
   {
    "duration": 739,
    "start_time": "2021-07-09T13:38:06.329Z"
   },
   {
    "duration": 29,
    "start_time": "2021-07-09T13:38:07.075Z"
   },
   {
    "duration": 599,
    "start_time": "2021-07-09T13:38:07.107Z"
   },
   {
    "duration": 21,
    "start_time": "2021-07-09T13:38:07.709Z"
   },
   {
    "duration": 751,
    "start_time": "2021-07-09T13:38:07.732Z"
   },
   {
    "duration": 8,
    "start_time": "2021-07-09T13:38:08.485Z"
   },
   {
    "duration": 880,
    "start_time": "2021-07-09T13:38:08.495Z"
   },
   {
    "duration": 88,
    "start_time": "2021-07-09T13:38:09.378Z"
   },
   {
    "duration": 41,
    "start_time": "2021-07-09T13:38:09.469Z"
   },
   {
    "duration": 490,
    "start_time": "2021-07-09T13:38:09.512Z"
   },
   {
    "duration": 34,
    "start_time": "2021-07-09T13:38:10.004Z"
   },
   {
    "duration": 36,
    "start_time": "2021-07-09T13:38:10.066Z"
   },
   {
    "duration": 21,
    "start_time": "2021-07-09T13:38:10.105Z"
   },
   {
    "duration": 49,
    "start_time": "2021-07-09T13:38:10.128Z"
   },
   {
    "duration": 18,
    "start_time": "2021-07-09T13:38:10.179Z"
   },
   {
    "duration": 540,
    "start_time": "2021-07-09T13:40:06.245Z"
   },
   {
    "duration": 76,
    "start_time": "2021-07-09T13:40:26.216Z"
   },
   {
    "duration": 14,
    "start_time": "2021-07-09T13:40:26.295Z"
   },
   {
    "duration": 58,
    "start_time": "2021-07-09T13:40:26.312Z"
   },
   {
    "duration": 90,
    "start_time": "2021-07-09T13:40:26.372Z"
   },
   {
    "duration": 8,
    "start_time": "2021-07-09T13:40:26.467Z"
   },
   {
    "duration": 690,
    "start_time": "2021-07-09T13:40:26.477Z"
   },
   {
    "duration": 36,
    "start_time": "2021-07-09T13:40:27.172Z"
   },
   {
    "duration": 718,
    "start_time": "2021-07-09T13:40:27.210Z"
   },
   {
    "duration": 49,
    "start_time": "2021-07-09T13:40:27.932Z"
   },
   {
    "duration": 543,
    "start_time": "2021-07-09T13:40:27.985Z"
   },
   {
    "duration": 29,
    "start_time": "2021-07-09T13:40:28.530Z"
   },
   {
    "duration": 707,
    "start_time": "2021-07-09T13:40:28.562Z"
   },
   {
    "duration": 8,
    "start_time": "2021-07-09T13:40:29.273Z"
   },
   {
    "duration": 795,
    "start_time": "2021-07-09T13:40:29.284Z"
   },
   {
    "duration": 219,
    "start_time": "2021-07-09T13:40:30.082Z"
   },
   {
    "duration": 65,
    "start_time": "2021-07-09T13:40:30.303Z"
   },
   {
    "duration": 500,
    "start_time": "2021-07-09T13:40:30.372Z"
   },
   {
    "duration": 34,
    "start_time": "2021-07-09T13:40:30.874Z"
   },
   {
    "duration": 65,
    "start_time": "2021-07-09T13:40:30.910Z"
   },
   {
    "duration": 22,
    "start_time": "2021-07-09T13:40:30.978Z"
   },
   {
    "duration": 27,
    "start_time": "2021-07-09T13:40:31.003Z"
   },
   {
    "duration": 37,
    "start_time": "2021-07-09T13:40:31.032Z"
   },
   {
    "duration": 519,
    "start_time": "2021-07-09T13:40:50.025Z"
   },
   {
    "duration": 73,
    "start_time": "2021-07-09T13:40:56.595Z"
   },
   {
    "duration": 14,
    "start_time": "2021-07-09T13:40:56.671Z"
   },
   {
    "duration": 30,
    "start_time": "2021-07-09T13:40:56.688Z"
   },
   {
    "duration": 108,
    "start_time": "2021-07-09T13:40:56.721Z"
   },
   {
    "duration": 6,
    "start_time": "2021-07-09T13:40:56.831Z"
   },
   {
    "duration": 731,
    "start_time": "2021-07-09T13:40:56.839Z"
   },
   {
    "duration": 33,
    "start_time": "2021-07-09T13:40:57.575Z"
   },
   {
    "duration": 757,
    "start_time": "2021-07-09T13:40:57.612Z"
   },
   {
    "duration": 29,
    "start_time": "2021-07-09T13:40:58.372Z"
   },
   {
    "duration": 586,
    "start_time": "2021-07-09T13:40:58.404Z"
   },
   {
    "duration": 19,
    "start_time": "2021-07-09T13:40:58.993Z"
   },
   {
    "duration": 722,
    "start_time": "2021-07-09T13:40:59.015Z"
   },
   {
    "duration": 7,
    "start_time": "2021-07-09T13:40:59.739Z"
   },
   {
    "duration": 745,
    "start_time": "2021-07-09T13:40:59.756Z"
   },
   {
    "duration": 82,
    "start_time": "2021-07-09T13:41:00.504Z"
   },
   {
    "duration": 43,
    "start_time": "2021-07-09T13:41:00.588Z"
   },
   {
    "duration": 476,
    "start_time": "2021-07-09T13:41:00.634Z"
   },
   {
    "duration": 50,
    "start_time": "2021-07-09T13:41:01.112Z"
   },
   {
    "duration": 37,
    "start_time": "2021-07-09T13:41:01.165Z"
   },
   {
    "duration": 23,
    "start_time": "2021-07-09T13:41:01.205Z"
   },
   {
    "duration": 20,
    "start_time": "2021-07-09T13:41:01.256Z"
   },
   {
    "duration": 163,
    "start_time": "2021-07-09T13:41:01.278Z"
   },
   {
    "duration": 523,
    "start_time": "2021-07-09T13:45:27.546Z"
   },
   {
    "duration": 733,
    "start_time": "2021-07-09T13:46:21.666Z"
   },
   {
    "duration": 507,
    "start_time": "2021-07-09T13:46:59.477Z"
   },
   {
    "duration": 508,
    "start_time": "2021-07-09T13:47:18.936Z"
   },
   {
    "duration": 498,
    "start_time": "2021-07-09T13:47:46.446Z"
   },
   {
    "duration": 267,
    "start_time": "2021-07-09T13:49:44.287Z"
   },
   {
    "duration": 666,
    "start_time": "2021-07-09T13:50:13.947Z"
   },
   {
    "duration": 70,
    "start_time": "2021-07-09T13:50:35.167Z"
   },
   {
    "duration": 13,
    "start_time": "2021-07-09T13:50:35.240Z"
   },
   {
    "duration": 25,
    "start_time": "2021-07-09T13:50:35.256Z"
   },
   {
    "duration": 98,
    "start_time": "2021-07-09T13:50:35.284Z"
   },
   {
    "duration": 6,
    "start_time": "2021-07-09T13:50:35.385Z"
   },
   {
    "duration": 643,
    "start_time": "2021-07-09T13:50:35.393Z"
   },
   {
    "duration": 43,
    "start_time": "2021-07-09T13:50:36.038Z"
   },
   {
    "duration": 694,
    "start_time": "2021-07-09T13:50:36.084Z"
   },
   {
    "duration": 28,
    "start_time": "2021-07-09T13:50:36.783Z"
   },
   {
    "duration": 509,
    "start_time": "2021-07-09T13:50:36.813Z"
   },
   {
    "duration": 33,
    "start_time": "2021-07-09T13:50:37.325Z"
   },
   {
    "duration": 764,
    "start_time": "2021-07-09T13:50:37.360Z"
   },
   {
    "duration": 7,
    "start_time": "2021-07-09T13:50:38.127Z"
   },
   {
    "duration": 712,
    "start_time": "2021-07-09T13:50:38.136Z"
   },
   {
    "duration": 66,
    "start_time": "2021-07-09T13:50:38.850Z"
   },
   {
    "duration": 70,
    "start_time": "2021-07-09T13:50:38.919Z"
   },
   {
    "duration": 695,
    "start_time": "2021-07-09T13:50:38.991Z"
   },
   {
    "duration": -5,
    "start_time": "2021-07-09T13:50:39.694Z"
   },
   {
    "duration": -7,
    "start_time": "2021-07-09T13:50:39.697Z"
   },
   {
    "duration": -9,
    "start_time": "2021-07-09T13:50:39.701Z"
   },
   {
    "duration": -10,
    "start_time": "2021-07-09T13:50:39.704Z"
   },
   {
    "duration": -13,
    "start_time": "2021-07-09T13:50:39.708Z"
   },
   {
    "duration": 791,
    "start_time": "2021-07-09T13:51:37.207Z"
   },
   {
    "duration": 422,
    "start_time": "2021-07-09T13:52:05.717Z"
   },
   {
    "duration": 1345,
    "start_time": "2021-07-09T13:55:12.527Z"
   },
   {
    "duration": 14,
    "start_time": "2021-07-09T13:55:13.875Z"
   },
   {
    "duration": 1140,
    "start_time": "2021-07-09T13:55:13.892Z"
   },
   {
    "duration": 92,
    "start_time": "2021-07-09T13:55:15.035Z"
   },
   {
    "duration": 6,
    "start_time": "2021-07-09T13:55:15.129Z"
   },
   {
    "duration": 657,
    "start_time": "2021-07-09T13:55:15.137Z"
   },
   {
    "duration": 31,
    "start_time": "2021-07-09T13:55:15.796Z"
   },
   {
    "duration": 675,
    "start_time": "2021-07-09T13:55:15.829Z"
   },
   {
    "duration": 51,
    "start_time": "2021-07-09T13:55:16.508Z"
   },
   {
    "duration": 493,
    "start_time": "2021-07-09T13:55:16.563Z"
   },
   {
    "duration": 22,
    "start_time": "2021-07-09T13:55:17.058Z"
   },
   {
    "duration": 704,
    "start_time": "2021-07-09T13:55:17.083Z"
   },
   {
    "duration": 8,
    "start_time": "2021-07-09T13:55:17.790Z"
   },
   {
    "duration": 858,
    "start_time": "2021-07-09T13:55:17.801Z"
   },
   {
    "duration": 94,
    "start_time": "2021-07-09T13:55:18.662Z"
   },
   {
    "duration": 44,
    "start_time": "2021-07-09T13:55:18.758Z"
   },
   {
    "duration": 418,
    "start_time": "2021-07-09T13:55:18.805Z"
   },
   {
    "duration": 48,
    "start_time": "2021-07-09T13:55:19.225Z"
   },
   {
    "duration": 32,
    "start_time": "2021-07-09T13:55:19.276Z"
   },
   {
    "duration": 51,
    "start_time": "2021-07-09T13:55:19.310Z"
   },
   {
    "duration": 24,
    "start_time": "2021-07-09T13:55:19.364Z"
   },
   {
    "duration": 26,
    "start_time": "2021-07-09T13:55:19.391Z"
   },
   {
    "duration": 394,
    "start_time": "2021-07-09T14:02:00.808Z"
   },
   {
    "duration": 1342,
    "start_time": "2021-07-09T14:02:46.369Z"
   },
   {
    "duration": 14,
    "start_time": "2021-07-09T14:02:47.714Z"
   },
   {
    "duration": 545,
    "start_time": "2021-07-09T14:02:47.732Z"
   },
   {
    "duration": 99,
    "start_time": "2021-07-09T14:02:48.279Z"
   },
   {
    "duration": 6,
    "start_time": "2021-07-09T14:02:48.381Z"
   },
   {
    "duration": 654,
    "start_time": "2021-07-09T14:02:48.390Z"
   },
   {
    "duration": 37,
    "start_time": "2021-07-09T14:02:49.046Z"
   },
   {
    "duration": 666,
    "start_time": "2021-07-09T14:02:49.086Z"
   },
   {
    "duration": 32,
    "start_time": "2021-07-09T14:02:49.759Z"
   },
   {
    "duration": 500,
    "start_time": "2021-07-09T14:02:49.794Z"
   },
   {
    "duration": 20,
    "start_time": "2021-07-09T14:02:50.296Z"
   },
   {
    "duration": 684,
    "start_time": "2021-07-09T14:02:50.318Z"
   },
   {
    "duration": 10,
    "start_time": "2021-07-09T14:02:51.006Z"
   },
   {
    "duration": 964,
    "start_time": "2021-07-09T14:02:51.020Z"
   },
   {
    "duration": 86,
    "start_time": "2021-07-09T14:02:51.987Z"
   },
   {
    "duration": 40,
    "start_time": "2021-07-09T14:02:52.076Z"
   },
   {
    "duration": 482,
    "start_time": "2021-07-09T14:02:52.119Z"
   },
   {
    "duration": 56,
    "start_time": "2021-07-09T14:02:52.604Z"
   },
   {
    "duration": 33,
    "start_time": "2021-07-09T14:02:52.663Z"
   },
   {
    "duration": 57,
    "start_time": "2021-07-09T14:02:52.699Z"
   },
   {
    "duration": 22,
    "start_time": "2021-07-09T14:02:52.759Z"
   },
   {
    "duration": 25,
    "start_time": "2021-07-09T14:02:52.784Z"
   },
   {
    "duration": 836,
    "start_time": "2021-07-11T11:13:18.740Z"
   },
   {
    "duration": 1830,
    "start_time": "2021-07-11T11:13:22.710Z"
   },
   {
    "duration": 41,
    "start_time": "2021-07-11T11:13:25.520Z"
   },
   {
    "duration": 15,
    "start_time": "2021-07-11T11:13:32.900Z"
   },
   {
    "duration": 108,
    "start_time": "2021-07-11T11:17:01.500Z"
   },
   {
    "duration": 21,
    "start_time": "2021-07-11T11:17:01.612Z"
   },
   {
    "duration": 29,
    "start_time": "2021-07-11T11:17:01.637Z"
   },
   {
    "duration": 881,
    "start_time": "2021-07-11T11:17:01.686Z"
   },
   {
    "duration": 98,
    "start_time": "2021-07-11T11:17:02.571Z"
   },
   {
    "duration": 19,
    "start_time": "2021-07-11T11:17:02.672Z"
   },
   {
    "duration": 696,
    "start_time": "2021-07-11T11:17:02.694Z"
   },
   {
    "duration": 54,
    "start_time": "2021-07-11T11:17:03.393Z"
   },
   {
    "duration": 1021,
    "start_time": "2021-07-11T11:17:03.453Z"
   },
   {
    "duration": 50,
    "start_time": "2021-07-11T11:17:04.478Z"
   },
   {
    "duration": 761,
    "start_time": "2021-07-11T11:17:04.531Z"
   },
   {
    "duration": 32,
    "start_time": "2021-07-11T11:17:05.296Z"
   },
   {
    "duration": 956,
    "start_time": "2021-07-11T11:17:05.332Z"
   },
   {
    "duration": 10,
    "start_time": "2021-07-11T11:17:06.291Z"
   },
   {
    "duration": 900,
    "start_time": "2021-07-11T11:17:06.304Z"
   },
   {
    "duration": 89,
    "start_time": "2021-07-11T11:17:07.207Z"
   },
   {
    "duration": 41,
    "start_time": "2021-07-11T11:17:07.299Z"
   },
   {
    "duration": 451,
    "start_time": "2021-07-11T11:17:07.343Z"
   },
   {
    "duration": 35,
    "start_time": "2021-07-11T11:17:07.796Z"
   },
   {
    "duration": 63,
    "start_time": "2021-07-11T11:17:07.834Z"
   },
   {
    "duration": 21,
    "start_time": "2021-07-11T11:17:07.899Z"
   },
   {
    "duration": 16,
    "start_time": "2021-07-11T11:17:07.923Z"
   },
   {
    "duration": 49,
    "start_time": "2021-07-11T11:17:07.941Z"
   }
  ],
  "kernelspec": {
   "display_name": "Python 3",
   "language": "python",
   "name": "python3"
  },
  "language_info": {
   "codemirror_mode": {
    "name": "ipython",
    "version": 3
   },
   "file_extension": ".py",
   "mimetype": "text/x-python",
   "name": "python",
   "nbconvert_exporter": "python",
   "pygments_lexer": "ipython3",
   "version": "3.7.10"
  },
  "toc": {
   "base_numbering": 1,
   "nav_menu": {},
   "number_sections": true,
   "sideBar": true,
   "skip_h1_title": true,
   "title_cell": "Table of Contents",
   "title_sidebar": "Contents",
   "toc_cell": false,
   "toc_position": {},
   "toc_section_display": true,
   "toc_window_display": false
  }
 },
 "nbformat": 4,
 "nbformat_minor": 4
}
